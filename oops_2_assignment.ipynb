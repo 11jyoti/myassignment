{
 "cells": [
  {
   "cell_type": "code",
   "execution_count": 1,
   "id": "38d0c1b9-9c50-41b5-a486-81b75c5e6dbb",
   "metadata": {},
   "outputs": [],
   "source": [
    "#Constructor:\n",
    "#1. What is a constructor in Python? Explain its purpose and usage.\n",
    "\"\"\"A constructor in Python is a special method used for initializing the attributes of an object when it is created. It has the same name as the class and is defined using the def keyword. The purpose of a constructor is to set up the initial state of the object by assigning values to its attributes. Constructors are automatically called when an object is created from a class.\"\"\"\n",
    "class MyClass:\n",
    "    def __init__(self, parameter1, parameter2):\n",
    "        self.attribute1 = parameter1\n",
    "        self.attribute2 = parameter2\n",
    "\n",
    "# Example usage:\n",
    "obj = MyClass(\"value1\", \"value2\")"
   ]
  },
  {
   "cell_type": "code",
   "execution_count": 1,
   "id": "b561d643-2b5f-4d8b-ab24-7e448234c78f",
   "metadata": {},
   "outputs": [
    {
     "name": "stdout",
     "output_type": "stream",
     "text": [
      "Name: John, Age: 25\n"
     ]
    }
   ],
   "source": [
    "#2. Differentiate between a parameterless constructor and a parameterized constructor in Python.\n",
    "\"\"\"Parameterless Constructor: A parameterless constructor is a constructor that takes no parameters. It initializes the object with default values or performs basic setup without requiring any additional information.\n",
    "\n",
    "Parameterized Constructor: A parameterized constructor takes one or more parameters. It allows the caller to provide specific values for initializing the object's attributes, providing more flexibility and customization during object creation.\"\"\"\n",
    "class ParameterizedConstructorExample:\n",
    "    def __init__(self, name, age):\n",
    "        self.name = name\n",
    "        self.age = age\n",
    "\n",
    "    def display_info(self):\n",
    "        print(f\"Name: {self.name}, Age: {self.age}\")\n",
    "\n",
    "# Creating an object with parameters\n",
    "obj = ParameterizedConstructorExample(\"John\", 25)\n",
    "\n",
    "# Accessing attributes and calling a method\n",
    "obj.display_info()"
   ]
  },
  {
   "cell_type": "code",
   "execution_count": 2,
   "id": "abe777ef-958e-480e-b39f-ea9c1c7e17bf",
   "metadata": {},
   "outputs": [
    {
     "name": "stdout",
     "output_type": "stream",
     "text": [
      "value1\n",
      "value2\n"
     ]
    }
   ],
   "source": [
    "#3. How do you define a constructor in a Python class? Provide an example.\n",
    "class MyClass:\n",
    "    # Constructor\n",
    "    def __init__(self, parameter1, parameter2):\n",
    "        # Initializing attributes\n",
    "        self.parameter1 = parameter1\n",
    "        self.parameter2 = parameter2\n",
    "\n",
    "    # Other methods can be defined here\n",
    "\n",
    "# Creating an object of MyClass with parameters\n",
    "obj = MyClass(\"value1\", \"value2\")\n",
    "\n",
    "# Accessing attributes of the object\n",
    "print(obj.parameter1)\n",
    "print(obj.parameter2)\n"
   ]
  },
  {
   "cell_type": "code",
   "execution_count": 3,
   "id": "c5a51d5b-3caa-4db1-b7dd-07b30c836794",
   "metadata": {},
   "outputs": [
    {
     "name": "stdout",
     "output_type": "stream",
     "text": [
      "value1\n",
      "value2\n"
     ]
    }
   ],
   "source": [
    "#4. Explain the `__init__` method in Python and its role in constructors.\n",
    "class MyClass:\n",
    "    def __init__(self, param1, param2):\n",
    "        # Initialization of attributes\n",
    "        self.attribute1 = param1\n",
    "        self.attribute2 = param2\n",
    "\n",
    "# Creating an object of MyClass\n",
    "obj = MyClass(\"value1\", \"value2\")\n",
    "\n",
    "# Accessing attributes of the object\n",
    "print(obj.attribute1)  \n",
    "print(obj.attribute2)  \n"
   ]
  },
  {
   "cell_type": "code",
   "execution_count": 5,
   "id": "0988a1fb-d2e4-4468-96c3-0c783247717d",
   "metadata": {},
   "outputs": [
    {
     "name": "stdout",
     "output_type": "stream",
     "text": [
      "Name: John Doe\n",
      "Age: 25\n"
     ]
    }
   ],
   "source": [
    "#5. In a class named `Person`, create a constructor that initializes the `name` and `age` attributes. Provide anexample of creating an object of this class.\n",
    "class Person:\n",
    "    def __init__(self, name, age):\n",
    "        # Initialize attributes\n",
    "        self.name = name\n",
    "        self.age = age\n",
    "\n",
    "# Creating an object of the Person class\n",
    "person1 = Person(\"John Doe\", 25)\n",
    "\n",
    "# Accessing attributes of the object\n",
    "print(\"Name:\", person1.name)\n",
    "print(\"Age:\", person1.age)\n"
   ]
  },
  {
   "cell_type": "code",
   "execution_count": 7,
   "id": "e2452902-6849-4d8a-9205-608c01ffd84b",
   "metadata": {},
   "outputs": [
    {
     "name": "stdout",
     "output_type": "stream",
     "text": [
      "Constructor called with param: class\n",
      "Constructor called with param: example\n"
     ]
    }
   ],
   "source": [
    "#6. How can you call a constructor explicitly in Python? Give an example.\n",
    "class MyClass:\n",
    "    def __init__(self, param):\n",
    "        self.param = param\n",
    "        print(f\"Constructor called with param: {param}\")\n",
    "\n",
    "# Explicitly calling the constructor\n",
    "obj = MyClass.__init__(MyClass(\"class\"), \"example\")\n"
   ]
  },
  {
   "cell_type": "code",
   "execution_count": 8,
   "id": "0d4012b6-b2f9-40aa-8368-966c2ad4db20",
   "metadata": {},
   "outputs": [
    {
     "name": "stdout",
     "output_type": "stream",
     "text": [
      "Name: John Doe, Age: 25\n"
     ]
    }
   ],
   "source": [
    "#7. What is the significance of the `self` parameter in Python constructors? Explain with an example.\n",
    "class Person:\n",
    "    def __init__(self, name, age):\n",
    "        # Initialize attributes using 'self'\n",
    "        self.name = name\n",
    "        self.age = age\n",
    "\n",
    "    def display_info(self):\n",
    "        # Access attributes using 'self'\n",
    "        print(f\"Name: {self.name}, Age: {self.age}\")\n",
    "\n",
    "# Creating an object of the Person class\n",
    "person1 = Person(\"John Doe\", 25)\n",
    "\n",
    "# Accessing attributes and calling a method using 'self'\n",
    "person1.display_info()\n"
   ]
  },
  {
   "cell_type": "code",
   "execution_count": 9,
   "id": "f6a74fa8-6e7c-4729-b28c-4b2e1a4e19f8",
   "metadata": {},
   "outputs": [
    {
     "name": "stdout",
     "output_type": "stream",
     "text": [
      "Default constructor called\n"
     ]
    }
   ],
   "source": [
    "#8. Discuss the concept of default constructors in Python. When are they used?\n",
    "class MyClass:\n",
    "    def __init__(self):\n",
    "        print(\"Default constructor called\")\n",
    "\n",
    "# Creating an object of MyClass\n",
    "obj = MyClass()\n"
   ]
  },
  {
   "cell_type": "code",
   "execution_count": 10,
   "id": "5b3a59ca-49d6-4e32-b424-16d673ec1d63",
   "metadata": {},
   "outputs": [
    {
     "name": "stdout",
     "output_type": "stream",
     "text": [
      "Width: 5\n",
      "Height: 8\n",
      "Area: 40\n"
     ]
    }
   ],
   "source": [
    "#9. Create a Python class called `Rectangle` with a constructor that initializes the `width` and `height`attributes. Provide a method to calculate the area of the rectangle.\n",
    "class Rectangle:\n",
    "    def __init__(self, width, height):\n",
    "        # Initialize attributes\n",
    "        self.width = width\n",
    "        self.height = height\n",
    "\n",
    "    def calculate_area(self):\n",
    "        # Calculate and return the area\n",
    "        area = self.width * self.height\n",
    "        return area\n",
    "\n",
    "# Creating an object of the Rectangle class\n",
    "rectangle1 = Rectangle(width=5, height=8)\n",
    "\n",
    "# Accessing attributes and calling the method\n",
    "print(\"Width:\", rectangle1.width)\n",
    "print(\"Height:\", rectangle1.height)\n",
    "print(\"Area:\", rectangle1.calculate_area())\n",
    "\n"
   ]
  },
  {
   "cell_type": "code",
   "execution_count": 11,
   "id": "5585a33d-ef77-4505-92fd-53994574e02e",
   "metadata": {},
   "outputs": [
    {
     "name": "stdout",
     "output_type": "stream",
     "text": [
      "Rectangle 1 Area: 0\n",
      "Rectangle 2 Area: 0\n",
      "Rectangle 3 Area: 21\n"
     ]
    }
   ],
   "source": [
    "#10. How can you have multiple constructors in a Python class? Explain with an example.\n",
    "class Rectangle:\n",
    "    def __init__(self, width=None, height=None):\n",
    "        # Initialize attributes with default values or provided values\n",
    "        self.width = width or 0\n",
    "        self.height = height or 0\n",
    "\n",
    "    def calculate_area(self):\n",
    "        # Calculate and return the area\n",
    "        area = self.width * self.height\n",
    "        return area\n",
    "\n",
    "# Creating objects of the Rectangle class with different constructors\n",
    "rectangle1 = Rectangle()            # Default width and height (0)\n",
    "rectangle2 = Rectangle(5)           # Custom width, default height (0)\n",
    "rectangle3 = Rectangle(3, 7)        # Custom width and height\n",
    "\n",
    "# Accessing attributes and calling the method\n",
    "print(\"Rectangle 1 Area:\", rectangle1.calculate_area())  # Output: 0\n",
    "print(\"Rectangle 2 Area:\", rectangle2.calculate_area())  # Output: 0\n",
    "print(\"Rectangle 3 Area:\", rectangle3.calculate_area())  # Output: 21\n"
   ]
  },
  {
   "cell_type": "code",
   "execution_count": 12,
   "id": "9dbda91a-3c17-42b8-9817-d6aff84973b4",
   "metadata": {},
   "outputs": [
    {
     "name": "stdout",
     "output_type": "stream",
     "text": [
      "Constructor with one parameter called\n",
      "Constructor with two parameters called\n"
     ]
    }
   ],
   "source": [
    "#11. What is method overloading, and how is it related to constructors in Python?\n",
    "class MyClass:\n",
    "    def __init__(self, param1, param2=None):\n",
    "        if param2 is None:\n",
    "            # Constructor with one parameter\n",
    "            print(\"Constructor with one parameter called\")\n",
    "        else:\n",
    "            # Constructor with two parameters\n",
    "            print(\"Constructor with two parameters called\")\n",
    "\n",
    "# Creating objects with different constructor signatures\n",
    "obj1 = MyClass(\"Value1\")          # Constructor with one parameter called\n",
    "obj2 = MyClass(\"Value1\", \"Value2\")  # Constructor with two parameters called\n"
   ]
  },
  {
   "cell_type": "code",
   "execution_count": 13,
   "id": "a5e6fc06-3423-4d6d-9ce0-1c0ef44f388b",
   "metadata": {},
   "outputs": [
    {
     "name": "stdout",
     "output_type": "stream",
     "text": [
      "Parent constructor called with name: John\n",
      "Child constructor called with age: 25\n"
     ]
    }
   ],
   "source": [
    "#12. Explain the use of the `super()` function in Python constructors. Provide an example.\n",
    "class Parent:\n",
    "    def __init__(self, name):\n",
    "        self.name = name\n",
    "        print(f\"Parent constructor called with name: {self.name}\")\n",
    "\n",
    "class Child(Parent):\n",
    "    def __init__(self, name, age):\n",
    "        # Call the constructor of the parent class using super()\n",
    "        super().__init__(name)\n",
    "        \n",
    "        # Initialize additional attribute specific to the child class\n",
    "        self.age = age\n",
    "        print(f\"Child constructor called with age: {self.age}\")\n",
    "\n",
    "# Creating an object of the Child class\n",
    "child_obj = Child(\"John\", 25)\n"
   ]
  },
  {
   "cell_type": "code",
   "execution_count": 22,
   "id": "b7d620f7-c5ce-4c05-9372-b0901edc8b6f",
   "metadata": {},
   "outputs": [
    {
     "name": "stdout",
     "output_type": "stream",
     "text": [
      "Title: The Great Gatsby\n",
      "Author: F. Scott Fitzgerald\n",
      "Published Year: 1925\n"
     ]
    }
   ],
   "source": [
    "#13. Create a class called `Book` with a constructor that initializes the `title`, `author`, and `published_year`attributes. Provide a method to display book details.\n",
    "class Book:\n",
    "    def __init__(self, title, author, published_year):\n",
    "        # Initialize attributes\n",
    "        self.title = title\n",
    "        self.author = author\n",
    "        self.published_year = published_year\n",
    "\n",
    "    def display_details(self):\n",
    "        # Display book details\n",
    "        print(f\"Title: {self.title}\")\n",
    "        print(f\"Author: {self.author}\")\n",
    "        print(f\"Published Year: {self.published_year}\")\n",
    "\n",
    "# Creating an object of the Book class\n",
    "book1 = Book(\"The Great Gatsby\", \"F. Scott Fitzgerald\", 1925)\n",
    "\n",
    "# Accessing attributes and calling the method\n",
    "book1.display_details()\n",
    "\n"
   ]
  },
  {
   "cell_type": "code",
   "execution_count": 21,
   "id": "dd896e46-2e47-45c5-8603-0b53d8453d94",
   "metadata": {},
   "outputs": [
    {
     "name": "stdout",
     "output_type": "stream",
     "text": [
      "Hello\n",
      "Hello World\n"
     ]
    }
   ],
   "source": [
    "#14. Discuss the differences between constructors and regular methods in Python classes.\n",
    "class ExampleClass:\n",
    "    def __init__(self, attribute):\n",
    "        self.attribute = attribute\n",
    "\n",
    "    def regular_method(self, value):\n",
    "        return self.attribute + value\n",
    "\n",
    "# Creating an object and using the constructor\n",
    "obj = ExampleClass(\"Hello\")\n",
    "print(obj.attribute)  # Output: Hello\n",
    "\n",
    "# Using a regular method\n",
    "result = obj.regular_method(\" World\")\n",
    "print(result)  # Output: Hello World\n"
   ]
  },
  {
   "cell_type": "code",
   "execution_count": 20,
   "id": "ebff1a98-4ff1-4f63-a284-f6bbb9e6c8ba",
   "metadata": {},
   "outputs": [
    {
     "name": "stdout",
     "output_type": "stream",
     "text": [
      "My variable: 10\n",
      "My variable: 20\n"
     ]
    }
   ],
   "source": [
    "#15. Explain the role of the `self` parameter in instance variable initialization within a constructor.\n",
    "class MyClass:\n",
    "    def __init__(self, initial_value):\n",
    "        # Using 'self' to initialize an instance variable\n",
    "        self.my_variable = initial_value\n",
    "\n",
    "    def display_variable(self):\n",
    "        # Accessing the instance variable using 'self'\n",
    "        print(\"My variable:\", self.my_variable)\n",
    "\n",
    "# Creating objects of MyClass\n",
    "obj1 = MyClass(10)\n",
    "obj2 = MyClass(20)\n",
    "\n",
    "# Accessing and displaying instance variables using methods\n",
    "obj1.display_variable()  # Output: My variable: 10\n",
    "obj2.display_variable()  # Output: My variable: 20\n"
   ]
  },
  {
   "cell_type": "code",
   "execution_count": 19,
   "id": "e8180151-947a-4762-98b4-49de8f233749",
   "metadata": {},
   "outputs": [
    {
     "name": "stdout",
     "output_type": "stream",
     "text": [
      "True\n"
     ]
    }
   ],
   "source": [
    "#16. How do you prevent a class from having multiple instances by using constructors in Python? Provide anexample.\n",
    "class SingletonClass:\n",
    "    _instance = None  # Class attribute to store the single instance\n",
    "\n",
    "    def __new__(cls, *args, **kwargs):\n",
    "        if not cls._instance:\n",
    "            # Create an instance only if it doesn't exist\n",
    "            cls._instance = super(SingletonClass, cls).__new__(cls)\n",
    "        return cls._instance\n",
    "\n",
    "    def __init__(self, data):\n",
    "        # The constructor will be called only if the instance doesn't exist\n",
    "        if not hasattr(self, 'initialized'):\n",
    "            self.data = data\n",
    "            self.initialized = True\n",
    "\n",
    "# Creating objects of the SingletonClass\n",
    "singleton1 = SingletonClass(\"Instance 1\")\n",
    "singleton2 = SingletonClass(\"Instance 2\")\n",
    "\n",
    "# Checking if both objects are the same instance\n",
    "print(singleton1 is singleton2)  \n"
   ]
  },
  {
   "cell_type": "code",
   "execution_count": 17,
   "id": "4a25d8c7-80a8-41f0-9bcf-6d307ca95ff7",
   "metadata": {},
   "outputs": [
    {
     "name": "stdout",
     "output_type": "stream",
     "text": [
      "Student 1 Subjects: ['Math', 'Physics', 'Chemistry', 'History']\n"
     ]
    }
   ],
   "source": [
    "#17. Create a Python class called `Student` with a constructor that takes a list of subjects as a parameter andinitializes the `subjects` attribute.\n",
    "class Student:\n",
    "    def __init__(self, subjects):\n",
    "        # Initialize the 'subjects' attribute with the provided list\n",
    "        self.subjects = subjects\n",
    "\n",
    "# Creating an object of the Student class\n",
    "student1 = Student([\"Math\", \"Physics\", \"Chemistry\", \"History\"])\n",
    "\n",
    "# Accessing the 'subjects' attribute\n",
    "print(\"Student 1 Subjects:\", student1.subjects)\n"
   ]
  },
  {
   "cell_type": "code",
   "execution_count": 16,
   "id": "a975b1fe-b23b-4b23-82c9-2f4140b08869",
   "metadata": {},
   "outputs": [
    {
     "name": "stdout",
     "output_type": "stream",
     "text": [
      "Object A created\n",
      "Object B created\n",
      "Object A is about to be destroyed\n",
      "Object B is about to be destroyed\n"
     ]
    }
   ],
   "source": [
    "#18. What is the purpose of the `__del__` method in Python classes, and how does it relate to constructors?\n",
    "class MyClass:\n",
    "    def __init__(self, name):\n",
    "        self.name = name\n",
    "        print(f\"Object {self.name} created\")\n",
    "\n",
    "    def __del__(self):\n",
    "        print(f\"Object {self.name} is about to be destroyed\")\n",
    "\n",
    "# Creating objects of the MyClass class\n",
    "obj1 = MyClass(\"A\")\n",
    "obj2 = MyClass(\"B\")\n",
    "\n",
    "# Explicitly deleting objects (not usually necessary)\n",
    "del obj1\n",
    "del obj2\n"
   ]
  },
  {
   "cell_type": "code",
   "execution_count": 15,
   "id": "9d5504a2-41ac-4baa-adb8-eb8b1dfb95a8",
   "metadata": {},
   "outputs": [
    {
     "name": "stdout",
     "output_type": "stream",
     "text": [
      "Make: Toyota, Model: Camry, Year: 2022\n"
     ]
    }
   ],
   "source": [
    "#19. Explain the use of constructor chaining in Python. Provide a practical example.\n",
    "class Vehicle:\n",
    "    def __init__(self, make, model):\n",
    "        self.make = make\n",
    "        self.model = model\n",
    "\n",
    "class Car(Vehicle):\n",
    "    def __init__(self, make, model, year):\n",
    "        # Call the constructor of the parent class using super()\n",
    "        super().__init__(make, model)\n",
    "        \n",
    "        # Initialize additional attribute specific to the Car class\n",
    "        self.year = year\n",
    "\n",
    "    def display_info(self):\n",
    "        print(f\"Make: {self.make}, Model: {self.model}, Year: {self.year}\")\n",
    "\n",
    "# Creating an object of the Car class\n",
    "car = Car(\"Toyota\", \"Camry\", 2022)\n",
    "\n",
    "# Accessing attributes and calling the method\n",
    "car.display_info()\n"
   ]
  },
  {
   "cell_type": "code",
   "execution_count": 14,
   "id": "7cf142ad-3a76-4333-a888-c29df854948b",
   "metadata": {},
   "outputs": [
    {
     "name": "stdout",
     "output_type": "stream",
     "text": [
      "Make: Toyota, Model: Camry\n"
     ]
    }
   ],
   "source": [
    "#20. Create a Python class called `Car` with a default constructor that initializes the `make` and `model` attributes. Provide a method to display car information\n",
    "class Car:\n",
    "    def __init__(self, make, model):\n",
    "        # Initialize attributes\n",
    "        self.make = make\n",
    "        self.model = model\n",
    "\n",
    "    def display_info(self):\n",
    "        # Display car information\n",
    "        print(f\"Make: {self.make}, Model: {self.model}\")\n",
    "\n",
    "# Creating an object of the Car class\n",
    "car1 = Car(\"Toyota\", \"Camry\")\n",
    "\n",
    "# Accessing attributes and calling the method\n",
    "car1.display_info()\n"
   ]
  },
  {
   "cell_type": "code",
   "execution_count": 23,
   "id": "73d84c71-f22b-4ed6-b9b3-f2fd280805ae",
   "metadata": {},
   "outputs": [
    {
     "name": "stdout",
     "output_type": "stream",
     "text": [
      "Animal speaks\n",
      "Dog barks\n"
     ]
    }
   ],
   "source": [
    "#Inheritance:\n",
    "#1. What is inheritance in Python? Explain its significance in object-oriented programming.\n",
    "\"\"\"Inheritance in Python:\n",
    "Inheritance is a fundamental concept in object-oriented programming (OOP) that allows a class (subclass or derived class) to inherit the properties and behaviors of another class (superclass or base class). The subclass can extend or modify the functionality of the superclass, promoting code reuse and enhancing the structure and organization of code\"\"\"\n",
    "class Animal:\n",
    "    def speak(self):\n",
    "        print(\"Animal speaks\")\n",
    "\n",
    "class Dog(Animal):\n",
    "    def bark(self):\n",
    "        print(\"Dog barks\")\n",
    "\n",
    "# Example usage\n",
    "dog = Dog()\n",
    "dog.speak()  # Inherited from Animal\n",
    "dog.bark()   # Specific to Dog\n"
   ]
  },
  {
   "cell_type": "code",
   "execution_count": 25,
   "id": "ac3f86be-7881-45a8-a3f7-e3393defc93f",
   "metadata": {},
   "outputs": [
    {
     "name": "stdout",
     "output_type": "stream",
     "text": [
      "Animal speaks\n",
      "Dog barks\n",
      "Can fly\n",
      "Can swim\n",
      "Bird chirps\n"
     ]
    }
   ],
   "source": [
    "#2. Differentiate between single inheritance and multiple inheritance in Python. Provide examples for each.\n",
    "class Animal:\n",
    "    def speak(self):\n",
    "        print(\"Animal speaks\")\n",
    "\n",
    "class Dog(Animal):\n",
    "    def bark(self):\n",
    "        print(\"Dog barks\")\n",
    "\n",
    "# Example usage\n",
    "dog = Dog()\n",
    "dog.speak()  # Inherited from Animal\n",
    "dog.bark()   # Specific to Dog\n",
    "\n",
    "#multiple inheritence\n",
    "class Flyable:\n",
    "    def fly(self):\n",
    "        print(\"Can fly\")\n",
    "\n",
    "class Swimable:\n",
    "    def swim(self):\n",
    "        print(\"Can swim\")\n",
    "\n",
    "class Bird(Flyable, Swimable):\n",
    "    def chirp(self):\n",
    "        print(\"Bird chirps\")\n",
    "\n",
    "# Example usage\n",
    "bird = Bird()\n",
    "bird.fly()    # Inherited from Flyable\n",
    "bird.swim()   # Inherited from Swimable\n",
    "bird.chirp()  # Specific to Bird"
   ]
  },
  {
   "cell_type": "code",
   "execution_count": 26,
   "id": "0b48293c-6faa-4467-8b07-998a9381002a",
   "metadata": {},
   "outputs": [
    {
     "name": "stdout",
     "output_type": "stream",
     "text": [
      "Color: Blue, Speed: 60, Brand: Toyota\n"
     ]
    }
   ],
   "source": [
    "#3. Create a Python class called `Vehicle` with attributes `color` and `speed`. Then, create a child class called `Car` that inherits from `Vehicle` and adds a `brand` attribute. Provide an example of creating a `Car` object.\n",
    "class Vehicle:\n",
    "    def __init__(self, color, speed):\n",
    "        self.color = color\n",
    "        self.speed = speed\n",
    "\n",
    "class Car(Vehicle):\n",
    "    def __init__(self, color, speed, brand):\n",
    "        # Call the constructor of the parent class using super()\n",
    "        super().__init__(color, speed)\n",
    "        self.brand = brand\n",
    "\n",
    "# Example usage\n",
    "car = Car(\"Blue\", 60, \"Toyota\")\n",
    "print(f\"Color: {car.color}, Speed: {car.speed}, Brand: {car.brand}\")\n"
   ]
  },
  {
   "cell_type": "code",
   "execution_count": 27,
   "id": "cf148c71-4f79-47a5-ad96-c0073221ea6f",
   "metadata": {},
   "outputs": [
    {
     "name": "stdout",
     "output_type": "stream",
     "text": [
      "Woof! Woof!\n"
     ]
    }
   ],
   "source": [
    "#4. Explain the concept of method overriding in inheritance. Provide a practical example.\n",
    "class Animal:\n",
    "    def speak(self):\n",
    "        print(\"Generic animal sound\")\n",
    "\n",
    "class Dog(Animal):\n",
    "    def speak(self):\n",
    "        print(\"Woof! Woof!\")\n",
    "\n",
    "# Example usage\n",
    "dog = Dog()\n",
    "dog.speak()  # Overrides the speak method in Animal\n"
   ]
  },
  {
   "cell_type": "code",
   "execution_count": 28,
   "id": "bd0187b8-dd0d-420a-abeb-dabc4742c44f",
   "metadata": {},
   "outputs": [
    {
     "name": "stdout",
     "output_type": "stream",
     "text": [
      "Simba is eating\n",
      "Simba the golden lion roars\n"
     ]
    }
   ],
   "source": [
    "\n",
    "#5. How can you access the methods and attributes of a parent class from a child class in Python? Give an example.\n",
    "class Animal:\n",
    "    def __init__(self, name):\n",
    "        self.name = name\n",
    "\n",
    "    def eat(self):\n",
    "        print(f\"{self.name} is eating\")\n",
    "\n",
    "class Lion(Animal):\n",
    "    def __init__(self, name, color):\n",
    "        super().__init__(name)\n",
    "        self.color = color\n",
    "\n",
    "    def roar(self):\n",
    "        print(f\"{self.name} the {self.color} lion roars\")\n",
    "\n",
    "# Example usage\n",
    "lion = Lion(\"Simba\", \"golden\")\n",
    "lion.eat()   # Calls the eat method from the Animal class\n",
    "lion.roar()  # Calls the roar method from the Lion class\n"
   ]
  },
  {
   "cell_type": "code",
   "execution_count": 29,
   "id": "67fc6224-15fb-4f87-8d38-593812a0528f",
   "metadata": {},
   "outputs": [
    {
     "name": "stdout",
     "output_type": "stream",
     "text": [
      "Species: Canine, Breed: Labrador\n"
     ]
    }
   ],
   "source": [
    "#6. Discuss the use of the `super()` function in Python inheritance. When and why is it used? Provide an example.\n",
    "class Animal:\n",
    "    def __init__(self, species):\n",
    "        self.species = species\n",
    "\n",
    "class Dog(Animal):\n",
    "    def __init__(self, species, breed):\n",
    "        super().__init__(species)\n",
    "        self.breed = breed\n",
    "\n",
    "# Example usage\n",
    "dog = Dog(\"Canine\", \"Labrador\")\n",
    "print(f\"Species: {dog.species}, Breed: {dog.breed}\")\n",
    "\n"
   ]
  },
  {
   "cell_type": "code",
   "execution_count": 30,
   "id": "fa0401a0-017a-4a66-a9d5-639b94ff6afd",
   "metadata": {},
   "outputs": [
    {
     "name": "stdout",
     "output_type": "stream",
     "text": [
      "Woof! Woof!\n",
      "Meow!\n"
     ]
    }
   ],
   "source": [
    "#7. Create a Python class called `Animal` with a method `speak()`. Then, create child classes `Dog` and `Cat` that inherit from `Animal` and override the `speak()` method. Provide an example of using these classes.\n",
    "class Animal:\n",
    "    def speak(self):\n",
    "        print(\"Generic animal sound\")\n",
    "\n",
    "class Dog(Animal):\n",
    "    def speak(self):\n",
    "        print(\"Woof! Woof!\")\n",
    "\n",
    "class Cat(Animal):\n",
    "    def speak(self):\n",
    "        print(\"Meow!\")\n",
    "\n",
    "# Example usage\n",
    "dog = Dog()\n",
    "cat = Cat()\n",
    "\n",
    "dog.speak()  # Overrides the speak method in Animal\n",
    "cat.speak()  # Overrides the speak method in Animal\n"
   ]
  },
  {
   "cell_type": "code",
   "execution_count": 31,
   "id": "e504057b-f753-4500-aa9a-6934a8b9f1ca",
   "metadata": {},
   "outputs": [
    {
     "name": "stdout",
     "output_type": "stream",
     "text": [
      "True\n",
      "True\n",
      "True\n",
      "False\n"
     ]
    }
   ],
   "source": [
    "#8. Explain the role of the `isinstance()` function in Python and how it relates to inheritance.\n",
    "class Animal:\n",
    "    pass\n",
    "\n",
    "class Dog(Animal):\n",
    "    pass\n",
    "\n",
    "dog = Dog()\n",
    "\n",
    "# Checking if an object is an instance of a specific class or its subclass\n",
    "print(isinstance(dog, Dog))      # True\n",
    "print(isinstance(dog, Animal))   # True\n",
    "print(isinstance(dog, object))   # True (all classes inherit from 'object')\n",
    "print(isinstance(dog, int))      # False\n"
   ]
  },
  {
   "cell_type": "code",
   "execution_count": 32,
   "id": "c19f6e49-e6e0-4ccc-97cc-c0c6955fa4ad",
   "metadata": {},
   "outputs": [
    {
     "name": "stdout",
     "output_type": "stream",
     "text": [
      "True\n",
      "True\n",
      "False\n"
     ]
    }
   ],
   "source": [
    "#9. What is the purpose of the `issubclass()` function in Python? Provide an example.\n",
    "class Animal:\n",
    "    pass\n",
    "\n",
    "class Dog(Animal):\n",
    "    pass\n",
    "\n",
    "# Checking if a class is a subclass of another class\n",
    "print(issubclass(Dog, Animal))   # True\n",
    "print(issubclass(Animal, object)) # True (all classes inherit from 'object')\n",
    "print(issubclass(Dog, int))       # False\n"
   ]
  },
  {
   "cell_type": "code",
   "execution_count": 33,
   "id": "8de8ec61-580f-4321-8d2e-a49c8726db47",
   "metadata": {},
   "outputs": [
    {
     "name": "stdout",
     "output_type": "stream",
     "text": [
      "Name: John, Age: 25\n"
     ]
    }
   ],
   "source": [
    "#10. Discuss the concept of constructor inheritance in Python. How are constructors inherited in child classes?\n",
    "class Parent:\n",
    "    def __init__(self, name):\n",
    "        self.name = name\n",
    "\n",
    "class Child(Parent):\n",
    "    def __init__(self, name, age):\n",
    "        super().__init__(name)\n",
    "        self.age = age\n",
    "\n",
    "# Example usage\n",
    "child = Child(\"John\", 25)\n",
    "print(f\"Name: {child.name}, Age: {child.age}\")\n"
   ]
  },
  {
   "cell_type": "code",
   "execution_count": 34,
   "id": "f313fa93-a13a-4c87-8cb2-356101998702",
   "metadata": {},
   "outputs": [
    {
     "name": "stdout",
     "output_type": "stream",
     "text": [
      "Circle Area: 78.5\n",
      "Rectangle Area: 24\n"
     ]
    }
   ],
   "source": [
    "#11. Create a Python class called `Shape` with a method `area()` that calculates the area of a shape. Then, create child classes `Circle` and `Rectangle` that inherit from `Shape` and implement the `area()` method accordingly. Provide an example.\n",
    "class Shape:\n",
    "    def area(self):\n",
    "        pass  # To be implemented by subclasses\n",
    "\n",
    "class Circle(Shape):\n",
    "    def __init__(self, radius):\n",
    "        self.radius = radius\n",
    "\n",
    "    def area(self):\n",
    "        return 3.14 * self.radius**2\n",
    "\n",
    "class Rectangle(Shape):\n",
    "    def __init__(self, length, width):\n",
    "        self.length = length\n",
    "        self.width = width\n",
    "\n",
    "    def area(self):\n",
    "        return self.length * self.width\n",
    "\n",
    "# Example usage\n",
    "circle = Circle(5)\n",
    "rectangle = Rectangle(4, 6)\n",
    "\n",
    "print(f\"Circle Area: {circle.area()}\")\n",
    "print(f\"Rectangle Area: {rectangle.area()}\")\n"
   ]
  },
  {
   "cell_type": "code",
   "execution_count": 35,
   "id": "c4c914e4-210e-40fc-b53e-fe2cd07c4cac",
   "metadata": {},
   "outputs": [
    {
     "name": "stdout",
     "output_type": "stream",
     "text": [
      "Circle Area: 78.5\n"
     ]
    }
   ],
   "source": [
    "#12. Explain the use of abstract base classes (ABCs) in Python and how they relate to inheritance. Provide an example using the `abc` module.\n",
    "from abc import ABC, abstractmethod\n",
    "\n",
    "class Shape(ABC):\n",
    "    @abstractmethod\n",
    "    def area(self):\n",
    "        pass\n",
    "\n",
    "class Circle(Shape):\n",
    "    def __init__(self, radius):\n",
    "        self.radius = radius\n",
    "\n",
    "    def area(self):\n",
    "        return 3.14 * self.radius**2\n",
    "\n",
    "# Example usage\n",
    "# Trying to instantiate an object of an abstract class will raise an error\n",
    "# shape = Shape()  # This would raise TypeError\n",
    "\n",
    "# Creating an object of the Circle class, which is a concrete implementation\n",
    "circle = Circle(5)\n",
    "print(f\"Circle Area: {circle.area()}\")\n"
   ]
  },
  {
   "cell_type": "code",
   "execution_count": 42,
   "id": "fb58a977-8b6e-4200-9ec3-297ddb8c97d7",
   "metadata": {},
   "outputs": [
    {
     "name": "stdout",
     "output_type": "stream",
     "text": [
      "10\n",
      "Private method\n",
      "10\n",
      "Private method\n"
     ]
    }
   ],
   "source": [
    "#13. How can you prevent a child class from modifying certain attributes or methods inherited from a parent class in Python?\n",
    "class Parent:\n",
    "    def __init__(self):\n",
    "        self.__private_attribute = 10  # Private attribute\n",
    "\n",
    "    def __private_method(self):\n",
    "        print(\"Private method\")\n",
    "\n",
    "class Child(Parent):\n",
    "    def access_parent_data(self):\n",
    "        # Accessing the private attribute and method from the parent class\n",
    "        print(self._Parent__private_attribute)  # Correct way to access private attribute\n",
    "        self._Parent__private_method()  # Correct way to access private method\n",
    "\n",
    "# Example usage\n",
    "parent = Parent()\n",
    "child = Child()\n",
    "\n",
    "# Accessing private members from the parent class is allowed\n",
    "print(parent._Parent__private_attribute)  # Not recommended, but possible\n",
    "parent._Parent__private_method()  # Not recommended, but possible\n",
    "\n",
    "# Accessing private members from the child class\n",
    "child.access_parent_data()\n",
    "\n",
    "\n",
    "\n"
   ]
  },
  {
   "cell_type": "code",
   "execution_count": 43,
   "id": "d0337beb-1f71-4010-bb2b-a1fb7d3915ed",
   "metadata": {},
   "outputs": [
    {
     "name": "stdout",
     "output_type": "stream",
     "text": [
      "Name: John Doe\n",
      "Salary: 50000\n",
      "Department: HR\n"
     ]
    }
   ],
   "source": [
    "#14. Create a Python class called `Employee` with attributes `name` and `salary`. Then, create a child class `Manager` that inherits from `Employee` and adds an attribute `department`. Provide an example.\n",
    "class Employee:\n",
    "    def __init__(self, name, salary):\n",
    "        self.name = name\n",
    "        self.salary = salary\n",
    "\n",
    "class Manager(Employee):\n",
    "    def __init__(self, name, salary, department):\n",
    "        # Call the constructor of the parent class (Employee)\n",
    "        super().__init__(name, salary)\n",
    "        # Initialize the additional attribute specific to Manager\n",
    "        self.department = department\n",
    "\n",
    "# Example usage\n",
    "manager = Manager(\"John Doe\", 50000, \"HR\")\n",
    "print(\"Name:\", manager.name)\n",
    "print(\"Salary:\", manager.salary)\n",
    "print(\"Department:\", manager.department)\n"
   ]
  },
  {
   "cell_type": "code",
   "execution_count": 49,
   "id": "e80ae5ed-858f-4cfa-a484-4fb559e82e2b",
   "metadata": {},
   "outputs": [
    {
     "data": {
      "text/plain": [
       "__main__.Dog"
      ]
     },
     "execution_count": 49,
     "metadata": {},
     "output_type": "execute_result"
    }
   ],
   "source": [
    "#15. Discuss the concept of method overloading in Python inheritance. How does it differ from method overriding?\n",
    "class Animal:\n",
    "    def speak(self):\n",
    "        print(\"Animal speaks\")\n",
    "\n",
    "class Dog(Animal):\n",
    "    def speak(self):\n",
    "        print(\"Dog barks\")\n",
    "\n",
    "Dog\n"
   ]
  },
  {
   "cell_type": "code",
   "execution_count": 2,
   "id": "e12d542a-3a58-4de7-b6d9-13461ee5f5df",
   "metadata": {},
   "outputs": [
    {
     "name": "stdout",
     "output_type": "stream",
     "text": [
      "Buddy is a Golden Retriever (Dog)\n",
      "Buddy, the Golden Retriever, barks: bark\n"
     ]
    }
   ],
   "source": [
    "#16. Explain the purpose of the `__init__()` method in Python inheritance and how it is utilized in child classes.\n",
    "class Animal:\n",
    "    def __init__(self, species, sound):\n",
    "        self.species = species\n",
    "        self.sound = sound\n",
    "\n",
    "    def make_sound(self):\n",
    "        print(f\"The {self.species} makes a {self.sound} sound.\")\n",
    "\n",
    "\n",
    "class Dog(Animal):\n",
    "    def __init__(self, name, breed):\n",
    "        # Call the parent class's __init__ method\n",
    "        super().__init__(\"Dog\", \"bark\")\n",
    "        # Initialize attributes specific to the Dog class\n",
    "        self.name = name\n",
    "        self.breed = breed\n",
    "\n",
    "    # Override the make_sound method to include the dog's name\n",
    "    def make_sound(self):\n",
    "        print(f\"{self.name}, the {self.breed}, barks: {self.sound}\")\n",
    "\n",
    "\n",
    "# Example usage\n",
    "if __name__ == \"__main__\":\n",
    "    # Create an instance of the Dog class\n",
    "    my_dog = Dog(name=\"Buddy\", breed=\"Golden Retriever\")\n",
    "\n",
    "    # Access attributes from both parent and child classes\n",
    "    print(f\"{my_dog.name} is a {my_dog.breed} ({my_dog.species})\")\n",
    "\n",
    "    # Call the overridden make_sound method\n",
    "    my_dog.make_sound()\n"
   ]
  },
  {
   "cell_type": "code",
   "execution_count": 3,
   "id": "f3a51ae1-6c94-4e60-9c39-34e5eda66adf",
   "metadata": {},
   "outputs": [
    {
     "name": "stdout",
     "output_type": "stream",
     "text": [
      "The eagle soars high in the sky.\n",
      "The sparrow flutters its wings and takes flight.\n"
     ]
    }
   ],
   "source": [
    "#17. Create a Python class called `Bird` with a method `fly()`. Then, create child classes `Eagle` and `Sparrow` that inherit from `Bird` and implement the `fly()` method differently. Provide an example of using these classes.\n",
    "class Bird:\n",
    "    def fly(self):\n",
    "        print(\"The bird is flying.\")\n",
    "\n",
    "\n",
    "class Eagle(Bird):\n",
    "    def fly(self):\n",
    "        print(\"The eagle soars high in the sky.\")\n",
    "\n",
    "\n",
    "class Sparrow(Bird):\n",
    "    def fly(self):\n",
    "        print(\"The sparrow flutters its wings and takes flight.\")\n",
    "\n",
    "\n",
    "# Example usage\n",
    "if __name__ == \"__main__\":\n",
    "    # Create instances of the child classes\n",
    "    eagle = Eagle()\n",
    "    sparrow = Sparrow()\n",
    "\n",
    "    # Call the fly() method for each bird\n",
    "    eagle.fly()\n",
    "    sparrow.fly()\n"
   ]
  },
  {
   "cell_type": "code",
   "execution_count": 5,
   "id": "25f621ba-720d-4744-8ea8-1f2080d5a35b",
   "metadata": {},
   "outputs": [
    {
     "name": "stdout",
     "output_type": "stream",
     "text": [
      "Method in class B\n",
      "[<class '__main__.D'>, <class '__main__.B'>, <class '__main__.C'>, <class '__main__.A'>, <class 'object'>]\n"
     ]
    }
   ],
   "source": [
    "#18. What is the \"diamond problem\" in multiple inheritance, and how does Python address it?\n",
    "class A:\n",
    "    def method(self):\n",
    "        print(\"Method in class A\")\n",
    "\n",
    "class B(A):\n",
    "    def method(self):\n",
    "        print(\"Method in class B\")\n",
    "\n",
    "class C(A):\n",
    "    def method(self):\n",
    "        print(\"Method in class C\")\n",
    "\n",
    "class D(B, C):\n",
    "    pass\n",
    "\n",
    "# Example usage\n",
    "if __name__ == \"__main__\":\n",
    "    obj_d = D()\n",
    "\n",
    "    # Calls method in class B, as B is the first in the MRO\n",
    "    obj_d.method()\n",
    "\n",
    "    # Print the Method Resolution Order\n",
    "    print(D.mro())\n"
   ]
  },
  {
   "cell_type": "code",
   "execution_count": 6,
   "id": "69b617a2-c943-4a8c-a686-24c8c16559c2",
   "metadata": {},
   "outputs": [
    {
     "name": "stdout",
     "output_type": "stream",
     "text": [
      "Animal speaks\n",
      "Dog barks\n"
     ]
    }
   ],
   "source": [
    "#19. Discuss the concept of \"is-a\" and \"has-a\" relationships in inheritance, and provide examples of each.\n",
    "class Animal:\n",
    "    def speak(self):\n",
    "        print(\"Animal speaks\")\n",
    "\n",
    "class Dog(Animal):\n",
    "    def bark(self):\n",
    "        print(\"Dog barks\")\n",
    "\n",
    "# Dog is a kind of Animal\n",
    "my_dog = Dog()\n",
    "my_dog.speak()  # Inherits the speak method from Animal\n",
    "my_dog.bark()   # Has its own method specific to Dog\n",
    "\n"
   ]
  },
  {
   "cell_type": "code",
   "execution_count": 1,
   "id": "7c8f09eb-3a19-4dda-8677-f031e8b617b2",
   "metadata": {},
   "outputs": [
    {
     "name": "stdout",
     "output_type": "stream",
     "text": [
      "Car details: Toyota Camry 2022\n",
      "Car is driving. Fuel level: 95.0%\n",
      "Car has been refueled.\n"
     ]
    }
   ],
   "source": [
    "#Encapsulation:\n",
    "#1. Explain the concept of encapsulation in Python. What is its role in object-oriented programming?\n",
    "\n",
    "\"\"\"Encapsulation in Python:\n",
    "Encapsulation is a fundamental concept in object-oriented programming that involves bundling the data (attributes) and methods (functions) that operate on the data into a single unit known as a class. The primary role of encapsulation is to hide the internal details of an object and restrict direct access to some of its components.\"\"\"\n",
    "class Car:\n",
    "    def __init__(self, make, model, year):\n",
    "        self._make = make  # protected attribute\n",
    "        self._model = model  # protected attribute\n",
    "        self._year = year  # protected attribute\n",
    "        self.__fuel_level = 100  # private attribute\n",
    "\n",
    "    def drive(self, distance):\n",
    "        fuel_needed = distance / 10  # Assuming 10 km per liter\n",
    "        if fuel_needed <= self.__fuel_level:\n",
    "            self.__fuel_level -= fuel_needed\n",
    "            print(f\"Car is driving. Fuel level: {self.__fuel_level}%\")\n",
    "        else:\n",
    "            print(\"Not enough fuel to cover the distance.\")\n",
    "\n",
    "    def refuel(self):\n",
    "        self.__fuel_level = 100\n",
    "        print(\"Car has been refueled.\")\n",
    "\n",
    "# Creating an instance of the Car class\n",
    "my_car = Car(\"Toyota\", \"Camry\", 2022)\n",
    "\n",
    "# Accessing protected attributes\n",
    "print(f\"Car details: {my_car._make} {my_car._model} {my_car._year}\")\n",
    "\n",
    "# Attempting to access private attribute directly would raise an AttributeError\n",
    "# print(my_car.__fuel_level)  # Uncommenting this line would result in an error\n",
    "\n",
    "# Using public methods to interact with the object\n",
    "my_car.drive(50)\n",
    "my_car.refuel()\n",
    "\n",
    "\n"
   ]
  },
  {
   "cell_type": "code",
   "execution_count": 2,
   "id": "4d0433d7-a0c7-4634-b540-d771ab160f96",
   "metadata": {},
   "outputs": [
    {
     "name": "stdout",
     "output_type": "stream",
     "text": [
      "Account Number: 123456\n",
      "Withdrawal successful. Remaining balance: 500\n"
     ]
    }
   ],
   "source": [
    "#2. Describe the key principles of encapsulation, including access control and data hiding.\n",
    "class BankAccount:\n",
    "    def __init__(self, account_number):\n",
    "        self._account_number = account_number  # protected attribute\n",
    "        self.__balance = 0  # private attribute\n",
    "\n",
    "    def deposit(self, amount):\n",
    "        self.__balance += amount\n",
    "\n",
    "    def withdraw(self, amount):\n",
    "        if amount <= self.__balance:\n",
    "            self.__balance -= amount\n",
    "            print(f\"Withdrawal successful. Remaining balance: {self.__balance}\")\n",
    "        else:\n",
    "            print(\"Insufficient funds.\")\n",
    "\n",
    "# Creating an instance of the BankAccount class\n",
    "account = BankAccount(\"123456\")\n",
    "\n",
    "# Accessing protected attribute\n",
    "print(f\"Account Number: {account._account_number}\")\n",
    "\n",
    "# Attempting to access private attribute directly would raise an AttributeError\n",
    "# print(account.__balance)  # Uncommenting this line would result in an error\n",
    "\n",
    "# Using public methods to interact with the object\n",
    "account.deposit(1000)\n",
    "account.withdraw(500)\n"
   ]
  },
  {
   "cell_type": "code",
   "execution_count": null,
   "id": "22921898-9aea-430f-a0c5-0fe02b50d8c1",
   "metadata": {},
   "outputs": [],
   "source": [
    "#3. How can you achieve encapsulation in Python classes? Provide an example.\n",
    "class Student:\n",
    "    def __init__(self, name, age):\n",
    "        self._name = name  # protected attribute\n",
    "        self.__age = age    # private attribute\n",
    "\n",
    "    def get_name(self):\n",
    "        return self._name\n",
    "\n",
    "    def set_name(self, new_name):\n",
    "        self._name = new_name\n",
    "\n",
    "    def get_age(self):\n",
    "        return self.__age\n",
    "\n",
    "    def set_age(self, new_age):\n",
    "        if 0 <= new_age <= 150:  # Simple age validation\n",
    "            self.__age = new_age\n",
    "        else:\n",
    "            print(\"Invalid age value.\")\n",
    "\n",
    "# Creating an instance of the Student class\n",
    "student = Student(\"Alice\", 20)\n",
    "\n",
    "# Accessing protected attribute\n",
    "print(f\"Student Name: {student.get_name()}\")\n",
    "\n",
    "# Attempting to access private attribute directly would raise an AttributeError\n",
    "# print(student.__age)  # Uncommenting this line would result in an error\n",
    "\n",
    "# Using public methods to interact with the object\n",
    "student.set_name(\"Bob\")\n",
    "student.set_age(25)\n",
    "\n",
    "# Displaying updated information\n",
    "print(f\"Updated Student Information: Name - {student.get_name()}, Age - {student.get_age()}\")\n"
   ]
  },
  {
   "cell_type": "code",
   "execution_count": 3,
   "id": "81ea010d-430e-4995-880c-8409046874a7",
   "metadata": {},
   "outputs": [
    {
     "name": "stdout",
     "output_type": "stream",
     "text": [
      "I am public\n",
      "This is a public method\n",
      "I am protected\n",
      "This is a protected method\n"
     ]
    }
   ],
   "source": [
    "#4. Discuss the difference between public, private, and protected access modifiers in Python.\n",
    "class MyClass:\n",
    "    def __init__(self):\n",
    "        self.public_attribute = \"I am public\"  # Public attribute\n",
    "        self._protected_attribute = \"I am protected\"  # Protected attribute\n",
    "        self.__private_attribute = \"I am private\"  # Private attribute\n",
    "\n",
    "    def public_method(self):\n",
    "        print(\"This is a public method\")\n",
    "\n",
    "    def _protected_method(self):\n",
    "        print(\"This is a protected method\")\n",
    "\n",
    "    def __private_method(self):\n",
    "        print(\"This is a private method\")\n",
    "\n",
    "\n",
    "# Creating an instance of MyClass\n",
    "obj = MyClass()\n",
    "\n",
    "# Accessing public attributes and methods\n",
    "print(obj.public_attribute)  # Output: I am public\n",
    "obj.public_method()           # Output: This is a public method\n",
    "\n",
    "# Accessing protected attributes and methods\n",
    "print(obj._protected_attribute)  # Output: I am protected\n",
    "obj._protected_method()           # Output: This is a protected method\n",
    "\n",
    "# Attempting to access private attributes and methods directly would raise an AttributeError\n",
    "# print(obj.__private_attribute)  # Uncommenting this line would result in an error\n",
    "# obj.__private_method()           # Uncommenting this line would result in an error\n"
   ]
  },
  {
   "cell_type": "code",
   "execution_count": 4,
   "id": "7a224433-de03-4970-aab1-dfe354a185f8",
   "metadata": {},
   "outputs": [
    {
     "name": "stdout",
     "output_type": "stream",
     "text": [
      "Current Name: John Doe\n",
      "Updated Name: Jane Doe\n"
     ]
    }
   ],
   "source": [
    "#5. Create a Python class called `Person` with a private attribute `__name`. Provide methods to get and set the name attribute.\n",
    "class Person:\n",
    "    def __init__(self, name):\n",
    "        self.__name = name  # private attribute\n",
    "\n",
    "    def get_name(self):\n",
    "        return self.__name\n",
    "\n",
    "    def set_name(self, new_name):\n",
    "        self.__name = new_name\n",
    "\n",
    "\n",
    "# Creating an instance of the Person class\n",
    "person = Person(\"John Doe\")\n",
    "\n",
    "# Accessing the private attribute using the getter method\n",
    "current_name = person.get_name()\n",
    "print(f\"Current Name: {current_name}\")\n",
    "\n",
    "# Using the setter method to update the name\n",
    "person.set_name(\"Jane Doe\")\n",
    "\n",
    "# Accessing the private attribute after updating\n",
    "updated_name = person.get_name()\n",
    "print(f\"Updated Name: {updated_name}\")\n"
   ]
  },
  {
   "cell_type": "code",
   "execution_count": 5,
   "id": "18b3a447-1abf-4f97-9e47-dfbd6f9ec5bf",
   "metadata": {},
   "outputs": [
    {
     "name": "stdout",
     "output_type": "stream",
     "text": [
      "Current Name: John Doe\n",
      "Current Age: 30\n",
      "Updated Name: Jane Doe\n",
      "Updated Age: 25\n"
     ]
    }
   ],
   "source": [
    "#6. Explain the purpose of getter and setter methods in encapsulation. Provide examples.\n",
    "class Person:\n",
    "    def __init__(self, name, age):\n",
    "        self.__name = name  # private attribute\n",
    "        self.__age = age    # private attribute\n",
    "\n",
    "    def get_name(self):\n",
    "        return self.__name\n",
    "\n",
    "    def set_name(self, new_name):\n",
    "        # Additional logic or validation can be added here\n",
    "        self.__name = new_name\n",
    "\n",
    "    def get_age(self):\n",
    "        return self.__age\n",
    "\n",
    "    def set_age(self, new_age):\n",
    "        # Validation: Ensuring age is within a reasonable range\n",
    "        if 0 <= new_age <= 150:\n",
    "            self.__age = new_age\n",
    "        else:\n",
    "            print(\"Invalid age value.\")\n",
    "\n",
    "\n",
    "# Creating an instance of the Person class\n",
    "person = Person(\"John Doe\", 30)\n",
    "\n",
    "# Using getter methods to access private attributes\n",
    "current_name = person.get_name()\n",
    "current_age = person.get_age()\n",
    "\n",
    "print(f\"Current Name: {current_name}\")\n",
    "print(f\"Current Age: {current_age}\")\n",
    "\n",
    "# Using setter methods to modify private attributes\n",
    "person.set_name(\"Jane Doe\")\n",
    "person.set_age(25)\n",
    "\n",
    "# Accessing the updated information\n",
    "updated_name = person.get_name()\n",
    "updated_age = person.get_age()\n",
    "\n",
    "print(f\"Updated Name: {updated_name}\")\n",
    "print(f\"Updated Age: {updated_age}\")\n"
   ]
  },
  {
   "cell_type": "code",
   "execution_count": 6,
   "id": "3467e1a8-e44b-4f29-b674-2b0eb9ccaab0",
   "metadata": {},
   "outputs": [
    {
     "name": "stdout",
     "output_type": "stream",
     "text": [
      "42\n",
      "99\n",
      "99\n"
     ]
    }
   ],
   "source": [
    "#7. What is name mangling in Python, and how does it affect encapsulation?\n",
    "class MyClass:\n",
    "    def __init__(self):\n",
    "        self.__private_attribute = 42  # private attribute\n",
    "\n",
    "    def get_private_attribute(self):\n",
    "        return self.__private_attribute\n",
    "\n",
    "    def set_private_attribute(self, value):\n",
    "        self.__private_attribute = value\n",
    "\n",
    "\n",
    "# Creating an instance of MyClass\n",
    "obj = MyClass()\n",
    "\n",
    "# Accessing private attribute using getter method\n",
    "print(obj.get_private_attribute())  # Output: 42\n",
    "\n",
    "# Attempting to access private attribute directly would raise an AttributeError\n",
    "# print(obj.__private_attribute)  # Uncommenting this line would result in an error\n",
    "\n",
    "# Using setter method to modify private attribute\n",
    "obj.set_private_attribute(99)\n",
    "\n",
    "# Accessing the private attribute using the getter method after modification\n",
    "print(obj.get_private_attribute())  # Output: 99\n",
    "\n",
    "# Accessing private attribute using name mangling (not recommended)\n",
    "print(obj._MyClass__private_attribute)  # Output: 99\n"
   ]
  },
  {
   "cell_type": "code",
   "execution_count": 7,
   "id": "03a53392-b7ea-4a9c-8bcb-62324e9d953c",
   "metadata": {},
   "outputs": [
    {
     "name": "stdout",
     "output_type": "stream",
     "text": [
      "Current Balance: $1000\n",
      "Deposited $500. New balance: $1500\n",
      "Withdrew $200. New balance: $1300\n",
      "Updated Balance: $1300\n"
     ]
    }
   ],
   "source": [
    "#8. Create a Python class called `BankAccount` with private attributes for the account balance (`__balance`) and account number (`__account_number`). Provide methods for depositing and withdrawing money.\n",
    "class BankAccount:\n",
    "    def __init__(self, account_number, initial_balance=0):\n",
    "        self.__account_number = account_number  # private attribute\n",
    "        self.__balance = initial_balance  # private attribute\n",
    "\n",
    "    def get_balance(self):\n",
    "        return self.__balance\n",
    "\n",
    "    def deposit(self, amount):\n",
    "        if amount > 0:\n",
    "            self.__balance += amount\n",
    "            print(f\"Deposited ${amount}. New balance: ${self.__balance}\")\n",
    "        else:\n",
    "            print(\"Invalid deposit amount.\")\n",
    "\n",
    "    def withdraw(self, amount):\n",
    "        if amount > 0 and amount <= self.__balance:\n",
    "            self.__balance -= amount\n",
    "            print(f\"Withdrew ${amount}. New balance: ${self.__balance}\")\n",
    "        else:\n",
    "            print(\"Invalid withdrawal amount or insufficient funds.\")\n",
    "\n",
    "# Creating an instance of BankAccount\n",
    "account = BankAccount(\"123456\", 1000)\n",
    "\n",
    "# Accessing private attributes using getter method\n",
    "current_balance = account.get_balance()\n",
    "print(f\"Current Balance: ${current_balance}\")\n",
    "\n",
    "# Depositing and withdrawing money using public methods\n",
    "account.deposit(500)\n",
    "account.withdraw(200)\n",
    "\n",
    "# Accessing updated balance\n",
    "updated_balance = account.get_balance()\n",
    "print(f\"Updated Balance: ${updated_balance}\")\n"
   ]
  },
  {
   "cell_type": "code",
   "execution_count": 9,
   "id": "8dbcea70-2805-4fe4-88b3-b2aab27f7c8d",
   "metadata": {},
   "outputs": [
    {
     "name": "stdout",
     "output_type": "stream",
     "text": [
      "Current Name: John Doe\n",
      "Current Age: 20\n",
      "Updated Name: Jane Doe\n",
      "Updated Age: 25\n"
     ]
    }
   ],
   "source": [
    "#9. Discuss the advantages of encapsulation in terms of code maintainability and security.\n",
    "class Student:\n",
    "    def __init__(self, name, age):\n",
    "        self.__name = name  # private attribute\n",
    "        self.__age = age    # private attribute\n",
    "\n",
    "    def get_name(self):\n",
    "        return self.__name\n",
    "\n",
    "    def set_name(self, new_name):\n",
    "        # Additional logic or validation can be added here\n",
    "        self.__name = new_name\n",
    "\n",
    "    def get_age(self):\n",
    "        return self.__age\n",
    "\n",
    "    def set_age(self, new_age):\n",
    "        # Validation: Ensuring age is within a reasonable range\n",
    "        if 0 <= new_age <= 150:\n",
    "            self.__age = new_age\n",
    "        else:\n",
    "            print(\"Invalid age value.\")\n",
    "# Creating an instance of the Student class\n",
    "student = Student(\"John Doe\", 20)\n",
    "\n",
    "# Accessing the private attributes using getter methods\n",
    "current_name = student.get_name()\n",
    "current_age = student.get_age()\n",
    "\n",
    "print(f\"Current Name: {current_name}\")\n",
    "print(f\"Current Age: {current_age}\")\n",
    "\n",
    "# Using setter methods to modify private attributes\n",
    "student.set_name(\"Jane Doe\")\n",
    "student.set_age(25)\n",
    "\n",
    "# Accessing the updated information\n",
    "updated_name = student.get_name()\n",
    "updated_age = student.get_age()\n",
    "\n",
    "print(f\"Updated Name: {updated_name}\")\n",
    "print(f\"Updated Age: {updated_age}\")\n"
   ]
  },
  {
   "cell_type": "code",
   "execution_count": 10,
   "id": "17fa5728-ca5f-46df-9e90-0ce223c4562a",
   "metadata": {},
   "outputs": [
    {
     "name": "stdout",
     "output_type": "stream",
     "text": [
      "42\n"
     ]
    }
   ],
   "source": [
    "#10. How can you access private attributes in Python? Provide an example demonstrating the use of name mangling.\n",
    "class MyClass:\n",
    "    def __init__(self):\n",
    "        self.__private_attr = 42  # private attribute\n",
    "\n",
    "# Creating an instance of MyClass\n",
    "obj = MyClass()\n",
    "\n",
    "# Accessing private attribute using name mangling\n",
    "value = obj._MyClass__private_attr\n",
    "\n",
    "# Displaying the value of the private attribute\n",
    "print(value)  \n"
   ]
  },
  {
   "cell_type": "code",
   "execution_count": 11,
   "id": "53fd5bf1-2522-4a0b-83b4-cf87def7e031",
   "metadata": {},
   "outputs": [
    {
     "name": "stdout",
     "output_type": "stream",
     "text": [
      "Student: Alice, ID: S12345\n",
      "Teacher: Mr. Smith, ID: T98765\n",
      "Course: Mathematics, Code: MATH101\n",
      "Updated Student: Bob, ID: S12345\n",
      "Updated Teacher: Mr. Smith, ID: T54321\n",
      "Updated Course: Physics, Code: MATH101\n"
     ]
    }
   ],
   "source": [
    "#11. Create a Python class hierarchy for a school system, including classes for students, teachers, and courses,and implement encapsulation principles to protect sensitive information.\n",
    "class Person:\n",
    "    def __init__(self, name, age):\n",
    "        self.__name = name  # private attribute\n",
    "        self.__age = age    # private attribute\n",
    "\n",
    "    def get_name(self):\n",
    "        return self.__name\n",
    "\n",
    "    def set_name(self, new_name):\n",
    "        # Additional logic or validation can be added here\n",
    "        self.__name = new_name\n",
    "\n",
    "    def get_age(self):\n",
    "        return self.__age\n",
    "\n",
    "    def set_age(self, new_age):\n",
    "        # Validation: Ensuring age is within a reasonable range\n",
    "        if 0 <= new_age <= 150:\n",
    "            self.__age = new_age\n",
    "        else:\n",
    "            print(\"Invalid age value.\")\n",
    "\n",
    "\n",
    "class Student(Person):\n",
    "    def __init__(self, name, age, student_id):\n",
    "        super().__init__(name, age)\n",
    "        self.__student_id = student_id  # private attribute\n",
    "\n",
    "    def get_student_id(self):\n",
    "        return self.__student_id\n",
    "\n",
    "    def set_student_id(self, new_student_id):\n",
    "        # Additional logic or validation can be added here\n",
    "        self.__student_id = new_student_id\n",
    "\n",
    "\n",
    "class Teacher(Person):\n",
    "    def __init__(self, name, age, employee_id):\n",
    "        super().__init__(name, age)\n",
    "        self.__employee_id = employee_id  # private attribute\n",
    "\n",
    "    def get_employee_id(self):\n",
    "        return self.__employee_id\n",
    "\n",
    "    def set_employee_id(self, new_employee_id):\n",
    "        # Additional logic or validation can be added here\n",
    "        self.__employee_id = new_employee_id\n",
    "\n",
    "\n",
    "class Course:\n",
    "    def __init__(self, course_name, course_code):\n",
    "        self.__course_name = course_name  # private attribute\n",
    "        self.__course_code = course_code  # private attribute\n",
    "\n",
    "    def get_course_name(self):\n",
    "        return self.__course_name\n",
    "\n",
    "    def set_course_name(self, new_course_name):\n",
    "        # Additional logic or validation can be added here\n",
    "        self.__course_name = new_course_name\n",
    "\n",
    "    def get_course_code(self):\n",
    "        return self.__course_code\n",
    "\n",
    "    def set_course_code(self, new_course_code):\n",
    "        # Additional logic or validation can be added here\n",
    "        self.__course_code = new_course_code\n",
    "\n",
    "\n",
    "# Example usage:\n",
    "\n",
    "# Creating instances of Student, Teacher, and Course\n",
    "student = Student(\"Alice\", 18, \"S12345\")\n",
    "teacher = Teacher(\"Mr. Smith\", 35, \"T98765\")\n",
    "course = Course(\"Mathematics\", \"MATH101\")\n",
    "\n",
    "# Accessing and modifying information using encapsulation principles\n",
    "print(f\"Student: {student.get_name()}, ID: {student.get_student_id()}\")\n",
    "print(f\"Teacher: {teacher.get_name()}, ID: {teacher.get_employee_id()}\")\n",
    "print(f\"Course: {course.get_course_name()}, Code: {course.get_course_code()}\")\n",
    "\n",
    "# Modifying information using setter methods\n",
    "student.set_name(\"Bob\")\n",
    "teacher.set_employee_id(\"T54321\")\n",
    "course.set_course_name(\"Physics\")\n",
    "\n",
    "# Accessing updated information\n",
    "print(f\"Updated Student: {student.get_name()}, ID: {student.get_student_id()}\")\n",
    "print(f\"Updated Teacher: {teacher.get_name()}, ID: {teacher.get_employee_id()}\")\n",
    "print(f\"Updated Course: {course.get_course_name()}, Code: {course.get_course_code()}\")\n"
   ]
  },
  {
   "cell_type": "code",
   "execution_count": 12,
   "id": "187b68f2-71f7-4133-95b1-67cea9f71698",
   "metadata": {},
   "outputs": [
    {
     "name": "stdout",
     "output_type": "stream",
     "text": [
      "Celsius: 25°C\n",
      "Updated Celsius: 30°C\n",
      "Fahrenheit: 86.0°F\n",
      "Deleting the temperature.\n"
     ]
    }
   ],
   "source": [
    "#12. Explain the concept of property decorators in Python and how they relate to encapsulation.\n",
    "class Temperature:\n",
    "    def __init__(self, celsius):\n",
    "        self._celsius = celsius  # protected attribute\n",
    "\n",
    "    @property\n",
    "    def celsius(self):\n",
    "        return self._celsius\n",
    "\n",
    "    @celsius.setter\n",
    "    def celsius(self, value):\n",
    "        if value < -273.15:\n",
    "            print(\"Temperature below absolute zero is not possible.\")\n",
    "        else:\n",
    "            self._celsius = value\n",
    "\n",
    "    @celsius.deleter\n",
    "    def celsius(self):\n",
    "        print(\"Deleting the temperature.\")\n",
    "        del self._celsius\n",
    "\n",
    "    @property\n",
    "    def fahrenheit(self):\n",
    "        return self._celsius * 9/5 + 32\n",
    "\n",
    "# Example usage:\n",
    "\n",
    "# Creating an instance of Temperature\n",
    "temperature = Temperature(25)\n",
    "\n",
    "# Accessing the property using the getter method\n",
    "print(f\"Celsius: {temperature.celsius}°C\")\n",
    "\n",
    "# Modifying the property using the setter method\n",
    "temperature.celsius = 30\n",
    "print(f\"Updated Celsius: {temperature.celsius}°C\")\n",
    "\n",
    "# Accessing a derived property (fahrenheit)\n",
    "print(f\"Fahrenheit: {temperature.fahrenheit}°F\")\n",
    "\n",
    "# Deleting the property using the deleter method\n",
    "del temperature.celsius\n",
    "# Accessing the property after deletion would raise an AttributeError\n",
    "# print(temperature.celsius)  # Uncommenting this line would result in an error\n"
   ]
  },
  {
   "cell_type": "code",
   "execution_count": 13,
   "id": "9203e3d8-6c6d-4f54-a7fe-61dfdc71794f",
   "metadata": {},
   "outputs": [
    {
     "name": "stdout",
     "output_type": "stream",
     "text": [
      "Person Name: Alice\n",
      "Updated Person Age: 30\n"
     ]
    }
   ],
   "source": [
    "#13. What is data hiding, and why is it important in encapsulation? Provide examples.\n",
    "class Person:\n",
    "    def __init__(self, name, age):\n",
    "        self.__name = name  # public attribute\n",
    "        self.__age = age    # private attribute\n",
    "\n",
    "    def get_name(self):\n",
    "        return self.__name\n",
    "\n",
    "    def set_name(self, new_name):\n",
    "        # Additional logic or validation can be added here\n",
    "        self.__name = new_name\n",
    "\n",
    "    def get_age(self):\n",
    "        return self.__age\n",
    "\n",
    "    def set_age(self, new_age):\n",
    "        # Validation: Ensuring age is within a reasonable range\n",
    "        if 0 <= new_age <= 150:\n",
    "            self.__age = new_age\n",
    "        else:\n",
    "            print(\"Invalid age value.\")\n",
    "\n",
    "# Example usage:\n",
    "\n",
    "# Creating an instance of the Person class\n",
    "person = Person(\"Alice\", 25)\n",
    "\n",
    "# Accessing the public attribute using getter method\n",
    "print(f\"Person Name: {person.get_name()}\")\n",
    "\n",
    "# Attempting to access the private attribute directly would raise an AttributeError\n",
    "# print(person.__age)  # Uncommenting this line would result in an error\n",
    "\n",
    "# Using setter method to modify the private attribute\n",
    "person.set_age(30)\n",
    "\n",
    "# Accessing the updated information\n",
    "print(f\"Updated Person Age: {person.get_age()}\")\n"
   ]
  },
  {
   "cell_type": "code",
   "execution_count": 14,
   "id": "5ad452c7-0093-42c8-9272-1781b641a45c",
   "metadata": {},
   "outputs": [
    {
     "name": "stdout",
     "output_type": "stream",
     "text": [
      "Employee ID: E12345\n",
      "Current Salary: $50000\n",
      "Updated Employee ID: E54321\n",
      "Updated Salary: $60000\n",
      "Yearly Bonus: $6000.0\n"
     ]
    }
   ],
   "source": [
    "#14. Create a Python class called `Employee` with private attributes for salary (`__salary`) and employee ID (`__employee_id`). Provide a method to calculate yearly bonuses.\n",
    "class Employee:\n",
    "    def __init__(self, employee_id, salary):\n",
    "        self.__employee_id = employee_id  # private attribute\n",
    "        self.__salary = salary            # private attribute\n",
    "\n",
    "    def get_employee_id(self):\n",
    "        return self.__employee_id\n",
    "\n",
    "    def set_employee_id(self, new_employee_id):\n",
    "        # Additional logic or validation can be added here\n",
    "        self.__employee_id = new_employee_id\n",
    "\n",
    "    def get_salary(self):\n",
    "        return self.__salary\n",
    "\n",
    "    def set_salary(self, new_salary):\n",
    "        # Additional logic or validation can be added here\n",
    "        self.__salary = new_salary\n",
    "\n",
    "    def calculate_yearly_bonus(self, bonus_percentage):\n",
    "        bonus_amount = (bonus_percentage / 100) * self.__salary\n",
    "        return bonus_amount\n",
    "\n",
    "# Example usage:\n",
    "\n",
    "# Creating an instance of the Employee class\n",
    "employee = Employee(\"E12345\", 50000)\n",
    "\n",
    "# Accessing and modifying information using encapsulation principles\n",
    "print(f\"Employee ID: {employee.get_employee_id()}\")\n",
    "print(f\"Current Salary: ${employee.get_salary()}\")\n",
    "\n",
    "# Modifying information using setter methods\n",
    "employee.set_employee_id(\"E54321\")\n",
    "employee.set_salary(60000)\n",
    "\n",
    "# Accessing updated information\n",
    "print(f\"Updated Employee ID: {employee.get_employee_id()}\")\n",
    "print(f\"Updated Salary: ${employee.get_salary()}\")\n",
    "\n",
    "# Calculating yearly bonus\n",
    "bonus_percentage = 10  # 10% bonus\n",
    "yearly_bonus = employee.calculate_yearly_bonus(bonus_percentage)\n",
    "print(f\"Yearly Bonus: ${yearly_bonus}\")\n"
   ]
  },
  {
   "cell_type": "code",
   "execution_count": 15,
   "id": "854d5ce8-4855-44e8-909f-651370ed65aa",
   "metadata": {},
   "outputs": [
    {
     "name": "stdout",
     "output_type": "stream",
     "text": [
      "Title: The Great Gatsby\n",
      "Author: F. Scott Fitzgerald\n",
      "Number of Pages: 200\n",
      "Updated Title: To Kill a Mockingbird\n",
      "Updated Author: Harper Lee\n",
      "Updated Number of Pages: 300\n"
     ]
    }
   ],
   "source": [
    "#15. Discuss the use of accessors and mutators in encapsulation. How do they help maintain control over attribute access?\n",
    "class Book:\n",
    "    def __init__(self, title, author, num_pages):\n",
    "        self.__title = title      # private attribute\n",
    "        self.__author = author    # private attribute\n",
    "        self.__num_pages = num_pages  # private attribute\n",
    "\n",
    "    # Accessors (Getter Methods)\n",
    "    def get_title(self):\n",
    "        return self.__title\n",
    "\n",
    "    def get_author(self):\n",
    "        return self.__author\n",
    "\n",
    "    def get_num_pages(self):\n",
    "        return self.__num_pages\n",
    "\n",
    "    # Mutators (Setter Methods)\n",
    "    def set_title(self, new_title):\n",
    "        # Additional logic or validation can be added here\n",
    "        self.__title = new_title\n",
    "\n",
    "    def set_author(self, new_author):\n",
    "        # Additional logic or validation can be added here\n",
    "        self.__author = new_author\n",
    "\n",
    "    def set_num_pages(self, new_num_pages):\n",
    "        # Validation: Ensuring num_pages is a positive integer\n",
    "        if isinstance(new_num_pages, int) and new_num_pages > 0:\n",
    "            self.__num_pages = new_num_pages\n",
    "        else:\n",
    "            print(\"Invalid value for num_pages.\")\n",
    "\n",
    "# Example usage:\n",
    "\n",
    "# Creating an instance of the Book class\n",
    "book = Book(\"The Great Gatsby\", \"F. Scott Fitzgerald\", 200)\n",
    "\n",
    "# Accessing information using accessors\n",
    "print(f\"Title: {book.get_title()}\")\n",
    "print(f\"Author: {book.get_author()}\")\n",
    "print(f\"Number of Pages: {book.get_num_pages()}\")\n",
    "\n",
    "# Modifying information using mutators\n",
    "book.set_title(\"To Kill a Mockingbird\")\n",
    "book.set_author(\"Harper Lee\")\n",
    "book.set_num_pages(300)\n",
    "\n",
    "# Accessing updated information\n",
    "print(f\"Updated Title: {book.get_title()}\")\n",
    "print(f\"Updated Author: {book.get_author()}\")\n",
    "print(f\"Updated Number of Pages: {book.get_num_pages()}\")\n"
   ]
  },
  {
   "cell_type": "code",
   "execution_count": 16,
   "id": "64223a07-ce86-4602-a0a2-69f86b4040b2",
   "metadata": {},
   "outputs": [
    {
     "name": "stdout",
     "output_type": "stream",
     "text": [
      "Radius (via getter): 5\n",
      "Modified Radius (direct access): 10\n",
      "Updated Radius (via getter): 8\n"
     ]
    }
   ],
   "source": [
    "#16. What are the potential drawbacks or disadvantages of using encapsulation in Python?\n",
    "class Circle:\n",
    "    def __init__(self, radius):\n",
    "        self.__radius = radius  # private attribute\n",
    "\n",
    "    def get_radius(self):\n",
    "        return self.__radius\n",
    "\n",
    "    def set_radius(self, new_radius):\n",
    "        # Additional logic or validation can be added here\n",
    "        self.__radius = new_radius\n",
    "\n",
    "# Example usage:\n",
    "\n",
    "circle = Circle(5)\n",
    "\n",
    "# Direct attribute access without using encapsulation\n",
    "circle.__radius = 10\n",
    "\n",
    "# Accessing the attribute using the getter method\n",
    "print(f\"Radius (via getter): {circle.get_radius()}\")  # Output: 5\n",
    "\n",
    "# Attempting to modify the attribute directly (ignoring encapsulation)\n",
    "print(f\"Modified Radius (direct access): {circle.__radius}\")  # Output: 10\n",
    "\n",
    "# Modifying the attribute using the setter method\n",
    "circle.set_radius(8)\n",
    "\n",
    "# Accessing the updated attribute\n",
    "print(f\"Updated Radius (via getter): {circle.get_radius()}\")  # Output: 8\n"
   ]
  },
  {
   "cell_type": "code",
   "execution_count": 17,
   "id": "1e2df733-6d90-414d-a5b8-aa2a3db83c95",
   "metadata": {},
   "outputs": [
    {
     "name": "stdout",
     "output_type": "stream",
     "text": [
      "Book 1: 'The Great Gatsby' by F. Scott Fitzgerald, Available: True\n",
      "Book 2: 'To Kill a Mockingbird' by Harper Lee, Available: True\n",
      "Book 'The Great Gatsby' by F. Scott Fitzgerald is borrowed.\n",
      "Book 'To Kill a Mockingbird' by Harper Lee is borrowed.\n",
      "Book 'The Great Gatsby' is returned. Thank you!\n",
      "Book 'To Kill a Mockingbird' is returned. Thank you!\n"
     ]
    }
   ],
   "source": [
    "#17. Create a Python class for a library system that encapsulates book information, including titles, authors,and availability status.\n",
    "class Book:\n",
    "    def __init__(self, title, author, available=True):\n",
    "        self.__title = title        # private attribute\n",
    "        self.__author = author      # private attribute\n",
    "        self.__available = available  # private attribute\n",
    "\n",
    "    def get_title(self):\n",
    "        return self.__title\n",
    "\n",
    "    def get_author(self):\n",
    "        return self.__author\n",
    "\n",
    "    def is_available(self):\n",
    "        return self.__available\n",
    "\n",
    "    def borrow_book(self):\n",
    "        if self.__available:\n",
    "            print(f\"Book '{self.__title}' by {self.__author} is borrowed.\")\n",
    "            self.__available = False\n",
    "        else:\n",
    "            print(f\"Book '{self.__title}' is currently not available.\")\n",
    "\n",
    "    def return_book(self):\n",
    "        if not self.__available:\n",
    "            print(f\"Book '{self.__title}' is returned. Thank you!\")\n",
    "            self.__available = True\n",
    "        else:\n",
    "            print(f\"Book '{self.__title}' is already available.\")\n",
    "\n",
    "# Example usage:\n",
    "\n",
    "# Creating instances of the Book class\n",
    "book1 = Book(\"The Great Gatsby\", \"F. Scott Fitzgerald\")\n",
    "book2 = Book(\"To Kill a Mockingbird\", \"Harper Lee\")\n",
    "\n",
    "# Accessing book information using accessors\n",
    "print(f\"Book 1: '{book1.get_title()}' by {book1.get_author()}, Available: {book1.is_available()}\")\n",
    "print(f\"Book 2: '{book2.get_title()}' by {book2.get_author()}, Available: {book2.is_available()}\")\n",
    "\n",
    "# Borrowing and returning books using methods\n",
    "book1.borrow_book()\n",
    "book2.borrow_book()\n",
    "\n",
    "book1.return_book()\n",
    "book2.return_book()\n"
   ]
  },
  {
   "cell_type": "code",
   "execution_count": 18,
   "id": "79ca6ac6-e654-4af2-8c51-e35007c33876",
   "metadata": {},
   "outputs": [
    {
     "name": "stdout",
     "output_type": "stream",
     "text": [
      "Rectangle Area: 40\n",
      "Rectangle Perimeter: 26\n",
      "Circle Area: 50.26548245743669\n",
      "Circle Circumference: 25.132741228718345\n"
     ]
    }
   ],
   "source": [
    "#18. Explain how encapsulation enhances code reusability and modularity in Python programs.\n",
    "import math\n",
    "\n",
    "class Rectangle:\n",
    "    def __init__(self, length, width):\n",
    "        self.__length = length  # private attribute\n",
    "        self.__width = width    # private attribute\n",
    "\n",
    "    def get_area(self):\n",
    "        return self.__length * self.__width\n",
    "\n",
    "    def get_perimeter(self):\n",
    "        return 2 * (self.__length + self.__width)\n",
    "\n",
    "class Circle:\n",
    "    def __init__(self, radius):\n",
    "        self.__radius = radius  # private attribute\n",
    "\n",
    "    def get_area(self):\n",
    "        return math.pi * self.__radius**2\n",
    "\n",
    "    def get_circumference(self):\n",
    "        return 2 * math.pi * self.__radius\n",
    "\n",
    "# Example usage:\n",
    "\n",
    "# Creating instances of the Rectangle and Circle classes\n",
    "rectangle = Rectangle(5, 8)\n",
    "circle = Circle(4)\n",
    "\n",
    "# Accessing the area and perimeter of the rectangle\n",
    "print(f\"Rectangle Area: {rectangle.get_area()}\")\n",
    "print(f\"Rectangle Perimeter: {rectangle.get_perimeter()}\")\n",
    "\n",
    "# Accessing the area and circumference of the circle\n",
    "print(f\"Circle Area: {circle.get_area()}\")\n",
    "print(f\"Circle Circumference: {circle.get_circumference()}\")\n"
   ]
  },
  {
   "cell_type": "code",
   "execution_count": 19,
   "id": "e6bce623-29f6-47cb-a210-c2497afb709c",
   "metadata": {},
   "outputs": [
    {
     "name": "stdout",
     "output_type": "stream",
     "text": [
      "Initial Balance: $1000\n",
      "Withdrawal successful. Remaining balance: $1300\n",
      "Updated Balance: $1300\n"
     ]
    }
   ],
   "source": [
    "#19. Describe the concept of information hiding in encapsulation. Why is it essential in software development?\n",
    "class BankAccount:\n",
    "    def __init__(self, initial_balance):\n",
    "        self.__balance = initial_balance  # private attribute\n",
    "\n",
    "    def deposit(self, amount):\n",
    "        # Additional logic or validation can be added here\n",
    "        self.__balance += amount\n",
    "\n",
    "    def withdraw(self, amount):\n",
    "        # Validation: Ensuring sufficient balance before withdrawal\n",
    "        if amount <= self.__balance:\n",
    "            self.__balance -= amount\n",
    "            print(f\"Withdrawal successful. Remaining balance: ${self.__balance}\")\n",
    "        else:\n",
    "            print(\"Insufficient funds for withdrawal.\")\n",
    "\n",
    "    def get_balance(self):\n",
    "        return self.__balance\n",
    "\n",
    "# Example usage:\n",
    "\n",
    "# Creating an instance of the BankAccount class\n",
    "account = BankAccount(initial_balance=1000)\n",
    "\n",
    "# Accessing the balance using the public interface (get_balance)\n",
    "print(f\"Initial Balance: ${account.get_balance()}\")\n",
    "\n",
    "# Depositing and withdrawing money using public methods\n",
    "account.deposit(500)\n",
    "account.withdraw(200)\n",
    "\n",
    "# Accessing the updated balance\n",
    "print(f\"Updated Balance: ${account.get_balance()}\")\n"
   ]
  },
  {
   "cell_type": "code",
   "execution_count": 20,
   "id": "1fce304a-efea-4941-92b8-555504727ea5",
   "metadata": {},
   "outputs": [
    {
     "name": "stdout",
     "output_type": "stream",
     "text": [
      "Customer Name: John Doe\n",
      "Customer Address: 123 Main St\n",
      "Customer Contact Info: john@example.com\n",
      "Updated Customer Name: Jane Smith\n",
      "Updated Customer Address: 456 Oak St\n",
      "Updated Customer Contact Info: jane@example.com\n"
     ]
    }
   ],
   "source": [
    "#20. Create a Python class called `Customer` with private attributes for customer details like name, address,and contact information. Implement encapsulation to ensure data integrity and security.\n",
    "class Customer:\n",
    "    def __init__(self, name, address, contact_info):\n",
    "        self.__name = name            # private attribute\n",
    "        self.__address = address      # private attribute\n",
    "        self.__contact_info = contact_info  # private attribute\n",
    "\n",
    "    def get_name(self):\n",
    "        return self.__name\n",
    "\n",
    "    def set_name(self, new_name):\n",
    "        # Additional logic or validation can be added here\n",
    "        self.__name = new_name\n",
    "\n",
    "    def get_address(self):\n",
    "        return self.__address\n",
    "\n",
    "    def set_address(self, new_address):\n",
    "        # Additional logic or validation can be added here\n",
    "        self.__address = new_address\n",
    "\n",
    "    def get_contact_info(self):\n",
    "        return self.__contact_info\n",
    "\n",
    "    def set_contact_info(self, new_contact_info):\n",
    "        # Additional logic or validation can be added here\n",
    "        self.__contact_info = new_contact_info\n",
    "\n",
    "# Example usage:\n",
    "\n",
    "# Creating an instance of the Customer class\n",
    "customer = Customer(name=\"John Doe\", address=\"123 Main St\", contact_info=\"john@example.com\")\n",
    "\n",
    "# Accessing customer information using accessors\n",
    "print(f\"Customer Name: {customer.get_name()}\")\n",
    "print(f\"Customer Address: {customer.get_address()}\")\n",
    "print(f\"Customer Contact Info: {customer.get_contact_info()}\")\n",
    "\n",
    "# Modifying customer information using mutators\n",
    "customer.set_name(\"Jane Smith\")\n",
    "customer.set_address(\"456 Oak St\")\n",
    "customer.set_contact_info(\"jane@example.com\")\n",
    "\n",
    "# Accessing updated customer information\n",
    "print(f\"Updated Customer Name: {customer.get_name()}\")\n",
    "print(f\"Updated Customer Address: {customer.get_address()}\")\n",
    "print(f\"Updated Customer Contact Info: {customer.get_contact_info()}\")\n",
    "\n",
    "\n",
    "\n",
    "\n",
    "\n",
    "\n",
    "\n",
    "\n",
    "\n",
    "\n",
    "\n",
    "\n",
    "\n",
    "\n",
    "\n",
    "\n",
    "\n"
   ]
  },
  {
   "cell_type": "code",
   "execution_count": 21,
   "id": "d6c46a3c-e3e8-425b-88df-53f12e20ae0b",
   "metadata": {},
   "outputs": [
    {
     "name": "stdout",
     "output_type": "stream",
     "text": [
      "Woof!\n",
      "Meow!\n",
      "Chirp!\n"
     ]
    }
   ],
   "source": [
    "#Polymorphism:\n",
    "#1. What is polymorphism in Python? Explain how it is related to object-oriented programming.\n",
    "class Animal:\n",
    "    def speak(self):\n",
    "        return \"Generic animal sound\"\n",
    "\n",
    "class Dog(Animal):\n",
    "    def speak(self):\n",
    "        return \"Woof!\"\n",
    "\n",
    "class Cat(Animal):\n",
    "    def speak(self):\n",
    "        return \"Meow!\"\n",
    "\n",
    "class Bird(Animal):\n",
    "    def speak(self):\n",
    "        return \"Chirp!\"\n",
    "\n",
    "# Polymorphic behavior\n",
    "def animal_sound(animal):\n",
    "    return animal.speak()\n",
    "\n",
    "# Example usage:\n",
    "dog = Dog()\n",
    "cat = Cat()\n",
    "bird = Bird()\n",
    "\n",
    "print(animal_sound(dog))   # Output: Woof!\n",
    "print(animal_sound(cat))   # Output: Meow!\n",
    "print(animal_sound(bird))  # Output: Chirp!\n"
   ]
  },
  {
   "cell_type": "code",
   "execution_count": 22,
   "id": "feccbf79-3967-44c0-8318-89e039a8d57d",
   "metadata": {},
   "outputs": [
    {
     "name": "stdout",
     "output_type": "stream",
     "text": [
      "Woof!\n",
      "Meow!\n"
     ]
    }
   ],
   "source": [
    "#2. Describe the difference between compile-time polymorphism and runtime polymorphism in Python.\n",
    "class Animal:\n",
    "    def speak(self):\n",
    "        return \"Generic animal sound\"\n",
    "\n",
    "class Dog(Animal):\n",
    "    def speak(self):\n",
    "        return \"Woof!\"\n",
    "\n",
    "class Cat(Animal):\n",
    "    def speak(self):\n",
    "        return \"Meow!\"\n",
    "\n",
    "def animal_sound(animal):\n",
    "    return animal.speak()  # Runtime polymorphism\n",
    "\n",
    "dog = Dog()\n",
    "cat = Cat()\n",
    "\n",
    "print(animal_sound(dog))  # Output: Woof!\n",
    "print(animal_sound(cat))  # Output: Meow!\n"
   ]
  },
  {
   "cell_type": "code",
   "execution_count": 24,
   "id": "d3cfb362-5645-4e2e-b58f-8ec9bc580263",
   "metadata": {},
   "outputs": [
    {
     "name": "stdout",
     "output_type": "stream",
     "text": [
      "Area of Circle: 78.5\n",
      "Area of Square: 16\n",
      "Area of Triangle: 9.0\n"
     ]
    }
   ],
   "source": [
    "#3. Create a Python class hierarchy for shapes (e.g., circle, square, triangle) and demonstrate polymorphism through a common method, such as `calculate_area()`\n",
    "from abc import ABC, abstractmethod\n",
    "\n",
    "class Shape(ABC):\n",
    "    @abstractmethod\n",
    "    def calculate_area(self):\n",
    "        pass\n",
    "\n",
    "class Circle(Shape):\n",
    "    def __init__(self, radius):\n",
    "        self.radius = radius\n",
    "\n",
    "    def calculate_area(self):\n",
    "        return 3.14 * self.radius ** 2\n",
    "\n",
    "class Square(Shape):\n",
    "    def __init__(self, side_length):\n",
    "        self.side_length = side_length\n",
    "\n",
    "    def calculate_area(self):\n",
    "        return self.side_length ** 2\n",
    "\n",
    "class Triangle(Shape):\n",
    "    def __init__(self, base, height):\n",
    "        self.base = base\n",
    "        self.height = height\n",
    "\n",
    "    def calculate_area(self):\n",
    "        return 0.5 * self.base * self.height\n",
    "\n",
    "# Example usage:\n",
    "\n",
    "circle = Circle(radius=5)\n",
    "square = Square(side_length=4)\n",
    "triangle = Triangle(base=6, height=3)\n",
    "\n",
    "shapes = [circle, square, triangle]\n",
    "\n",
    "for shape in shapes:\n",
    "    print(f\"Area of {type(shape).__name__}: {shape.calculate_area()}\")\n"
   ]
  },
  {
   "cell_type": "code",
   "execution_count": 23,
   "id": "0263b3b4-446b-444d-bf74-d90d8faca973",
   "metadata": {},
   "outputs": [
    {
     "name": "stdout",
     "output_type": "stream",
     "text": [
      "Woof!\n",
      "Meow!\n"
     ]
    }
   ],
   "source": [
    "#4. Explain the concept of method overriding in polymorphism. Provide an example.\n",
    "code\n",
    "class Animal:\n",
    "    def speak(self):\n",
    "        return \"Generic animal sound\"\n",
    "\n",
    "class Dog(Animal):\n",
    "    def speak(self):\n",
    "        return \"Woof!\"\n",
    "\n",
    "class Cat(Animal):\n",
    "    def speak(self):\n",
    "        return \"Meow!\"\n",
    "\n",
    "# Example usage:\n",
    "dog = Dog()\n",
    "cat = Cat()\n",
    "\n",
    "# Calling the overridden speak method for objects of different types\n",
    "print(dog.speak())  # Output: Woof!\n",
    "print(cat.speak())  # Output: Meow!\n"
   ]
  },
  {
   "cell_type": "code",
   "execution_count": 25,
   "id": "54b47a53-570e-470f-b8b4-f2bb9d3580b5",
   "metadata": {},
   "outputs": [
    {
     "name": "stdout",
     "output_type": "stream",
     "text": [
      "Woof!\n",
      "Meow!\n"
     ]
    }
   ],
   "source": [
    "#5. How is polymorphism different from method overloading in Python? Provide examples for both.\n",
    "class Animal:\n",
    "    def speak(self):\n",
    "        return \"Generic animal sound\"\n",
    "\n",
    "class Dog(Animal):\n",
    "    def speak(self):\n",
    "        return \"Woof!\"\n",
    "\n",
    "class Cat(Animal):\n",
    "    def speak(self):\n",
    "        return \"Meow!\"\n",
    "\n",
    "def animal_sound(animal):\n",
    "    return animal.speak()  # Polymorphism\n",
    "\n",
    "dog = Dog()\n",
    "cat = Cat()\n",
    "\n",
    "print(animal_sound(dog))  # Output: Woof!\n",
    "print(animal_sound(cat))  # Output: Meow!\n",
    "\n"
   ]
  },
  {
   "cell_type": "code",
   "execution_count": 28,
   "id": "4f1f469f-14ca-4c4b-906d-16b955113904",
   "metadata": {},
   "outputs": [
    {
     "name": "stdout",
     "output_type": "stream",
     "text": [
      "5\n",
      "10\n"
     ]
    }
   ],
   "source": [
    "class MathOperations:\n",
    "    def add(self, a, b, c=None):\n",
    "        if c is not None:\n",
    "            return a + b + c\n",
    "        else:\n",
    "            return a + b\n",
    "\n",
    "math_obj = MathOperations()\n",
    "\n",
    "# Calls the first add method\n",
    "result1 = math_obj.add(2, 3)\n",
    "\n",
    "# Calls the second add method\n",
    "result2 = math_obj.add(2, 3, 5)\n",
    "\n",
    "print(result1)  \n",
    "print(result2)  \n",
    "\n"
   ]
  },
  {
   "cell_type": "code",
   "execution_count": 29,
   "id": "974585d6-9b69-4a04-bc33-64c869170a67",
   "metadata": {},
   "outputs": [
    {
     "name": "stdout",
     "output_type": "stream",
     "text": [
      "Woof!\n",
      "Meow!\n",
      "Chirp!\n"
     ]
    }
   ],
   "source": [
    "#6. Create a Python class called `Animal` with a method `speak()`. Then, create child classes like `Dog`, `Cat`, and `Bird`, each with their own `speak()` method. Demonstrate polymorphism by calling the `speak()` method on objects of different subclasses.\n",
    "class Animal:\n",
    "    def speak(self):\n",
    "        return \"Generic animal sound\"\n",
    "\n",
    "class Dog(Animal):\n",
    "    def speak(self):\n",
    "        return \"Woof!\"\n",
    "\n",
    "class Cat(Animal):\n",
    "    def speak(self):\n",
    "        return \"Meow!\"\n",
    "\n",
    "class Bird(Animal):\n",
    "    def speak(self):\n",
    "        return \"Chirp!\"\n",
    "\n",
    "# Demonstrate polymorphism\n",
    "def animal_sound(animal):\n",
    "    return animal.speak()\n",
    "\n",
    "# Create instances of different subclasses\n",
    "dog = Dog()\n",
    "cat = Cat()\n",
    "bird = Bird()\n",
    "\n",
    "# Call the speak() method on objects of different subclasses\n",
    "print(animal_sound(dog))   # Output: Woof!\n",
    "print(animal_sound(cat))   # Output: Meow!\n",
    "print(animal_sound(bird))  # Output: Chirp!\n"
   ]
  },
  {
   "cell_type": "code",
   "execution_count": null,
   "id": "eb3359d0-da57-4e1c-995a-75f27a11d0d7",
   "metadata": {},
   "outputs": [],
   "source": [
    "User\n",
    "#7. Discuss the use of abstract methods and classes in achieving polymorphism in Python. Provide an example using the `abc` module.\n",
    "from abc import ABC, abstractmethod\n",
    "\n",
    "# Abstract base class\n",
    "class Animal(ABC):\n",
    "    @abstractmethod\n",
    "    def speak(self):\n",
    "        pass\n",
    "\n",
    "# Concrete subclasses\n",
    "class Dog(Animal):\n",
    "    def speak(self):\n",
    "        return \"Woof!\"\n",
    "\n",
    "class Cat(Animal):\n",
    "    def speak(self):\n",
    "        return \"Meow!\"\n",
    "\n",
    "class Bird(Animal):\n",
    "    def speak(self):\n",
    "        return \"Chirp!\"\n",
    "\n",
    "# Function demonstrating polymorphism\n",
    "def animal_sound(animal):\n",
    "    return animal.speak()\n",
    "\n",
    "# Create instances of different subclasses\n",
    "dog = Dog()\n",
    "cat = Cat()\n",
    "bird = Bird()\n",
    "\n",
    "# Call the speak() method on objects of different subclasses\n",
    "print(animal_sound(dog))   # Output: Woof!\n",
    "print(animal_sound(cat))   # Output: Meow!\n",
    "print(animal_sound(bird))  # Output: Chirp!\n"
   ]
  },
  {
   "cell_type": "code",
   "execution_count": 30,
   "id": "9eef8775-a55f-4c66-b330-4ee99ef1dbb6",
   "metadata": {},
   "outputs": [
    {
     "name": "stdout",
     "output_type": "stream",
     "text": [
      "Toyota Camry - Engine started. Ready to drive.\n",
      "Schwinn Mountain Bike - Pedaling started. Ready to ride.\n",
      "Sea Ray Speedboat - Engine started. Ready to sail.\n"
     ]
    }
   ],
   "source": [
    "#8. Create a Python class hierarchy for a vehicle system (e.g., car, bicycle, boat) and implement a polymorphic `start()` method that prints a message specific to each vehicle type.\n",
    "from abc import ABC, abstractmethod\n",
    "\n",
    "# Abstract base class for vehicles\n",
    "class Vehicle(ABC):\n",
    "    def __init__(self, brand, model):\n",
    "        self.brand = brand\n",
    "        self.model = model\n",
    "\n",
    "    @abstractmethod\n",
    "    def start(self):\n",
    "        pass\n",
    "\n",
    "# Concrete subclasses\n",
    "class Car(Vehicle):\n",
    "    def start(self):\n",
    "        return f\"{self.brand} {self.model} - Engine started. Ready to drive.\"\n",
    "\n",
    "class Bicycle(Vehicle):\n",
    "    def start(self):\n",
    "        return f\"{self.brand} {self.model} - Pedaling started. Ready to ride.\"\n",
    "\n",
    "class Boat(Vehicle):\n",
    "    def start(self):\n",
    "        return f\"{self.brand} {self.model} - Engine started. Ready to sail.\"\n",
    "\n",
    "# Function demonstrating polymorphism\n",
    "def start_vehicle(vehicle):\n",
    "    return vehicle.start()\n",
    "\n",
    "# Create instances of different vehicle types\n",
    "car = Car(brand=\"Toyota\", model=\"Camry\")\n",
    "bicycle = Bicycle(brand=\"Schwinn\", model=\"Mountain Bike\")\n",
    "boat = Boat(brand=\"Sea Ray\", model=\"Speedboat\")\n",
    "\n",
    "# Call the start() method on objects of different vehicle types\n",
    "print(start_vehicle(car))      # Output: Toyota Camry - Engine started. Ready to drive.\n",
    "print(start_vehicle(bicycle))  # Output: Schwinn Mountain Bike - Pedaling started. Ready to ride.\n",
    "print(start_vehicle(boat))      # Output: Sea Ray Speedboat - Engine started. Ready to sail.\n"
   ]
  },
  {
   "cell_type": "code",
   "execution_count": 1,
   "id": "b72193ba-5033-4c90-b828-0ec9150f7894",
   "metadata": {},
   "outputs": [
    {
     "name": "stdout",
     "output_type": "stream",
     "text": [
      "Area of the shape: 20\n",
      "Area of the shape: 28.259999999999998\n"
     ]
    }
   ],
   "source": [
    "#10. What is the role of the `@abstractmethod` decorator in achieving polymorphism in Python? Provide an example.\n",
    "from abc import ABC, abstractmethod\n",
    "\n",
    "# Abstract base class with an abstract method\n",
    "class Shape(ABC):\n",
    "    @abstractmethod\n",
    "    def area(self):\n",
    "        pass\n",
    "\n",
    "# Concrete subclass 1: Rectangle\n",
    "class Rectangle(Shape):\n",
    "    def __init__(self, width, height):\n",
    "        self.width = width\n",
    "        self.height = height\n",
    "\n",
    "    def area(self):\n",
    "        return self.width * self.height\n",
    "\n",
    "# Concrete subclass 2: Circle\n",
    "class Circle(Shape):\n",
    "    def __init__(self, radius):\n",
    "        self.radius = radius\n",
    "\n",
    "    def area(self):\n",
    "        return 3.14 * self.radius * self.radius\n",
    "\n",
    "# Using polymorphism with the abstract base class\n",
    "shapes = [Rectangle(4, 5), Circle(3)]\n",
    "\n",
    "for shape in shapes:\n",
    "    print(f\"Area of the shape: {shape.area()}\")\n"
   ]
  },
  {
   "cell_type": "code",
   "execution_count": 2,
   "id": "1ca4ec75-5801-4419-b8a4-26ea0d09a35c",
   "metadata": {},
   "outputs": [
    {
     "name": "stdout",
     "output_type": "stream",
     "text": [
      "Area of the shape: 20\n",
      "Area of the shape: 28.274333882308138\n",
      "Area of the shape: 24.0\n"
     ]
    }
   ],
   "source": [
    "#11. Create a Python class called `Shape` with a polymorphic method `area()` that calculates the area of different shapes (e.g., circle, rectangle, triangle).\n",
    "from abc import ABC, abstractmethod\n",
    "import math\n",
    "\n",
    "class Shape(ABC):\n",
    "    @abstractmethod\n",
    "    def area(self):\n",
    "        pass\n",
    "\n",
    "class Rectangle(Shape):\n",
    "    def __init__(self, width, height):\n",
    "        self.width = width\n",
    "        self.height = height\n",
    "\n",
    "    def area(self):\n",
    "        return self.width * self.height\n",
    "\n",
    "class Circle(Shape):\n",
    "    def __init__(self, radius):\n",
    "        self.radius = radius\n",
    "\n",
    "    def area(self):\n",
    "        return math.pi * self.radius * self.radius\n",
    "\n",
    "class Triangle(Shape):\n",
    "    def __init__(self, base, height):\n",
    "        self.base = base\n",
    "        self.height = height\n",
    "\n",
    "    def area(self):\n",
    "        return 0.5 * self.base * self.height\n",
    "\n",
    "# Using polymorphism with the Shape class\n",
    "shapes = [Rectangle(4, 5), Circle(3), Triangle(6, 8)]\n",
    "\n",
    "for shape in shapes:\n",
    "    print(f\"Area of the shape: {shape.area()}\")"
   ]
  },
  {
   "cell_type": "code",
   "execution_count": 7,
   "id": "3330ed8c-4559-4a76-a7c8-7923f7dda0ec",
   "metadata": {},
   "outputs": [
    {
     "name": "stdout",
     "output_type": "stream",
     "text": [
      "Area of the shape: 20\n",
      "Area of the shape: 28.274333882308138\n",
      "Area of the shape: 9\n",
      "Area: 20\n",
      "Area: 28.274333882308138\n"
     ]
    }
   ],
   "source": [
    "##12. Discuss the benefits of polymorphism in terms of code reusability and flexibility in Python programs.\n",
    "\n",
    "# Example: Generic function using polymorphism\n",
    "def print_area(shape):\n",
    "    print(f\"Area of the shape: {shape.area()}\")\n",
    "\n",
    "# Usage\n",
    "rectangle = Rectangle(4, 5)\n",
    "circle = Circle(3)\n",
    "\n",
    "print_area(rectangle)  # Reused for Rectangle\n",
    "print_area(circle)     # Reused for Circle\n",
    "\n",
    "\n",
    "# Example: Introducing a new shape without modifying existing code\n",
    "class Square(Shape):\n",
    "    def __init__(self, side):\n",
    "        self.side = side\n",
    "\n",
    "    def area(self):\n",
    "        return self.side * self.side\n",
    "\n",
    "# Usage without modifying print_area function\n",
    "square = Square(3)\n",
    "print_area(square)  # Reused for Square without modifying the function\n",
    "\n",
    "\n",
    "# Example: Users interact with the common Shape interface\n",
    "def print_area_info(shape):\n",
    "    print(f\"Area: {shape.area()}\")\n",
    "\n",
    "# Usage without knowing the specific shape implementations\n",
    "rectangle = Rectangle(4, 5)\n",
    "circle = Circle(3)\n",
    "\n",
    "print_area_info(rectangle)\n",
    "print_area_info(circle)"
   ]
  },
  {
   "cell_type": "code",
   "execution_count": 12,
   "id": "b8a9afcb-a4f3-4970-90f9-cbab0c110582",
   "metadata": {},
   "outputs": [
    {
     "name": "stdout",
     "output_type": "stream",
     "text": [
      "Generic animal sound\n",
      "Woof\n"
     ]
    }
   ],
   "source": [
    "##13. Explain the use of the `super()` function in Python polymorphism. How does it help call methods of parent classes?\n",
    "class Animal:\n",
    "    def speak(self):\n",
    "        print(\"Generic animal sound\")\n",
    "\n",
    "class Dog(Animal):\n",
    "    def speak(self):\n",
    "        super().speak()  # Calling the parent class method\n",
    "        print(\"Woof\")\n",
    "\n",
    "dog_instance = Dog()\n",
    "dog_instance.speak()\n"
   ]
  },
  {
   "cell_type": "code",
   "execution_count": 1,
   "id": "a7aa0785-2720-4986-b093-61cd0641c140",
   "metadata": {},
   "outputs": [
    {
     "name": "stdout",
     "output_type": "stream",
     "text": [
      "Withdrawal of 500 successful. Remaining balance: 500\n",
      "Withdrawal of 500 successful. Remaining balance: 1000\n",
      "Withdrawal of 500 successful. Remaining balance: 1500\n"
     ]
    }
   ],
   "source": [
    "##14. Create a Python class hierarchy for a banking system with various account types (e.g., savings, checking, credit card) and demonstrate polymorphism by implementing a common `withdraw()` method.\n",
    "class Account:\n",
    "    def __init__(self, account_number, balance):\n",
    "        self.account_number = account_number\n",
    "        self.balance = balance\n",
    "\n",
    "    def withdraw(self, amount):\n",
    "        if amount > 0 and self.balance >= amount:\n",
    "            self.balance -= amount\n",
    "            print(f'Withdrawal of {amount} successful. Remaining balance: {self.balance}')\n",
    "        else:\n",
    "            print('Insufficient funds or invalid amount for withdrawal.')\n",
    "\n",
    "\n",
    "class SavingsAccount(Account):\n",
    "    def __init__(self, account_number, balance, interest_rate):\n",
    "        super().__init__(account_number, balance)\n",
    "        self.interest_rate = interest_rate\n",
    "\n",
    "    def apply_interest(self):\n",
    "        self.balance += self.balance * self.interest_rate\n",
    "\n",
    "\n",
    "class CheckingAccount(Account):\n",
    "    def __init__(self, account_number, balance, overdraft_limit):\n",
    "        super().__init__(account_number, balance)\n",
    "        self.overdraft_limit = overdraft_limit\n",
    "\n",
    "    def withdraw(self, amount):\n",
    "        if amount > 0 and self.balance + self.overdraft_limit >= amount:\n",
    "            self.balance -= amount\n",
    "            print(f'Withdrawal of {amount} successful. Remaining balance: {self.balance}')\n",
    "        else:\n",
    "            print('Insufficient funds or invalid amount for withdrawal.')\n",
    "\n",
    "\n",
    "class CreditCardAccount(Account):\n",
    "    def __init__(self, account_number, balance, credit_limit):\n",
    "        super().__init__(account_number, balance)\n",
    "        self.credit_limit = credit_limit\n",
    "\n",
    "    def withdraw(self, amount):\n",
    "        if amount > 0 and self.balance + self.credit_limit >= amount:\n",
    "            self.balance -= amount\n",
    "            print(f'Withdrawal of {amount} successful. Remaining balance: {self.balance}')\n",
    "        else:\n",
    "            print('Insufficient funds or invalid amount for withdrawal.')\n",
    "\n",
    "\n",
    "# Demonstration\n",
    "def main():\n",
    "    savings_acc = SavingsAccount(\"SAV123\", 1000, 0.05)\n",
    "    checking_acc = CheckingAccount(\"CHK456\", 1500, 500)\n",
    "    credit_card_acc = CreditCardAccount(\"CCR789\", 2000, 1000)\n",
    "\n",
    "    accounts = [savings_acc, checking_acc, credit_card_acc]\n",
    "\n",
    "    for acc in accounts:\n",
    "        acc.withdraw(500)\n",
    "\n",
    "\n",
    "if __name__ == \"__main__\":\n",
    "    main()"
   ]
  },
  {
   "cell_type": "code",
   "execution_count": 2,
   "id": "0e8255c3-31c1-4d8a-8689-8ede8f7657b0",
   "metadata": {},
   "outputs": [
    {
     "name": "stdout",
     "output_type": "stream",
     "text": [
      "Sum of vectors: Vector(4, 6)\n",
      "Scalar multiplication: Vector(2, 4)\n",
      "Equality check: False\n"
     ]
    }
   ],
   "source": [
    "#15. Describe the concept of operator overloading in Python and how it relates to polymorphism. Provide examples using operators like `+` and `*`.\n",
    "class Vector:\n",
    "    def __init__(self, x, y):\n",
    "        self.x = x\n",
    "        self.y = y\n",
    "\n",
    "    # Overloading the addition operator (+)\n",
    "    def __add__(self, other):\n",
    "        return Vector(self.x + other.x, self.y + other.y)\n",
    "\n",
    "    # Overloading the multiplication operator (*)\n",
    "    def __mul__(self, scalar):\n",
    "        return Vector(self.x * scalar, self.y * scalar)\n",
    "\n",
    "    # Overloading the equality operator (==)\n",
    "    def __eq__(self, other):\n",
    "        return self.x == other.x and self.y == other.y\n",
    "\n",
    "    def __repr__(self):\n",
    "        return f\"Vector({self.x}, {self.y})\"\n",
    "\n",
    "\n",
    "# Example usage\n",
    "v1 = Vector(1, 2)\n",
    "v2 = Vector(3, 4)\n",
    "\n",
    "# Adding two vectors\n",
    "v3 = v1 + v2\n",
    "print(\"Sum of vectors:\", v3)  # Output: Sum of vectors: Vector(4, 6)\n",
    "\n",
    "# Multiplying a vector by a scalar\n",
    "v4 = v1 * 2\n",
    "print(\"Scalar multiplication:\", v4)  # Output: Scalar multiplication: Vector(2, 4)\n",
    "\n",
    "# Checking equality of vectors\n",
    "print(\"Equality check:\", v1 == v2)"
   ]
  },
  {
   "cell_type": "code",
   "execution_count": 3,
   "id": "08035de0-8d59-4845-a518-405a541a03bf",
   "metadata": {},
   "outputs": [
    {
     "name": "stdout",
     "output_type": "stream",
     "text": [
      "Woof!\n",
      "Meow!\n",
      "Moo!\n"
     ]
    }
   ],
   "source": [
    "#16. What is dynamic polymorphism, and how is it achieved in Python?\n",
    "class Animal:\n",
    "    def speak(self):\n",
    "        raise NotImplementedError(\"Subclass must implement abstract method\")\n",
    "\n",
    "\n",
    "class Dog(Animal):\n",
    "    def speak(self):\n",
    "        return \"Woof!\"\n",
    "\n",
    "\n",
    "class Cat(Animal):\n",
    "    def speak(self):\n",
    "        return \"Meow!\"\n",
    "\n",
    "\n",
    "class Cow(Animal):\n",
    "    def speak(self):\n",
    "        return \"Moo!\"\n",
    "\n",
    "\n",
    "# Example usage\n",
    "animals = [Dog(), Cat(), Cow()]\n",
    "\n",
    "for animal in animals:\n",
    "    print(animal.speak())"
   ]
  },
  {
   "cell_type": "code",
   "execution_count": 4,
   "id": "6b7f6ab7-016f-4b65-b99e-6385cbc52d08",
   "metadata": {},
   "outputs": [
    {
     "name": "stdout",
     "output_type": "stream",
     "text": [
      "Alice's salary: $5000\n",
      "Bob's salary: $8000\n",
      "Charlie's salary: $5000\n"
     ]
    }
   ],
   "source": [
    "#17. Create a Python class hierarchy for employees in a company (e.g., manager, developer, designer) and implement polymorphism through a common `calculate_salary()` method.\n",
    "class Employee:\n",
    "    def __init__(self, name, role):\n",
    "        self.name = name\n",
    "        self.role = role\n",
    "\n",
    "    def calculate_salary(self):\n",
    "        raise NotImplementedError(\"Subclass must implement abstract method\")\n",
    "\n",
    "\n",
    "class Manager(Employee):\n",
    "    def __init__(self, name, salary):\n",
    "        super().__init__(name, \"Manager\")\n",
    "        self.salary = salary\n",
    "\n",
    "    def calculate_salary(self):\n",
    "        return self.salary\n",
    "\n",
    "\n",
    "class Developer(Employee):\n",
    "    def __init__(self, name, hourly_rate, hours_worked):\n",
    "        super().__init__(name, \"Developer\")\n",
    "        self.hourly_rate = hourly_rate\n",
    "        self.hours_worked = hours_worked\n",
    "\n",
    "    def calculate_salary(self):\n",
    "        return self.hourly_rate * self.hours_worked\n",
    "\n",
    "\n",
    "class Designer(Employee):\n",
    "    def __init__(self, name, monthly_salary, bonus):\n",
    "        super().__init__(name, \"Designer\")\n",
    "        self.monthly_salary = monthly_salary\n",
    "        self.bonus = bonus\n",
    "\n",
    "    def calculate_salary(self):\n",
    "        return self.monthly_salary + self.bonus\n",
    "\n",
    "\n",
    "# Example usage\n",
    "manager = Manager(\"Alice\", 5000)\n",
    "developer = Developer(\"Bob\", 50, 160)\n",
    "designer = Designer(\"Charlie\", 4000, 1000)\n",
    "\n",
    "employees = [manager, developer, designer]\n",
    "\n",
    "for employee in employees:\n",
    "    print(f\"{employee.name}'s salary: ${employee.calculate_salary()}\")"
   ]
  },
  {
   "cell_type": "code",
   "execution_count": 6,
   "id": "3573d2cd-26ce-400a-a414-3333b1162ba6",
   "metadata": {},
   "outputs": [
    {
     "name": "stdout",
     "output_type": "stream",
     "text": [
      "Result of operation: 8\n",
      "Result of operation: 2\n",
      "Result of operation: 15\n"
     ]
    }
   ],
   "source": [
    "#18. Discuss the concept of function pointers and how they can be used to achieve polymorphism in Python.\n",
    "def add(x, y):\n",
    "    return x + y\n",
    "\n",
    "def subtract(x, y):\n",
    "    return x - y\n",
    "\n",
    "def multiply(x, y):\n",
    "    return x * y\n",
    "\n",
    "# Function pointer\n",
    "operation = add\n",
    "\n",
    "result = operation(5, 3)\n",
    "print(\"Result of operation:\", result)  # Output: Result of operation: 8\n",
    "\n",
    "# Change function pointer to subtract\n",
    "operation = subtract\n",
    "\n",
    "result = operation(5, 3)\n",
    "print(\"Result of operation:\", result)  # Output: Result of operation: 2\n",
    "\n",
    "# Change function pointer to multiply\n",
    "operation = multiply\n",
    "\n",
    "result = operation(5, 3)\n",
    "print(\"Result of operation:\", result)  # Output: Result of operation: 15"
   ]
  },
  {
   "cell_type": "code",
   "execution_count": 7,
   "id": "af1c2b6b-aaba-4fde-b11a-31d761ca7e82",
   "metadata": {},
   "outputs": [
    {
     "name": "stdout",
     "output_type": "stream",
     "text": [
      "Area: 25\n",
      "Perimeter: 20\n"
     ]
    }
   ],
   "source": [
    "#19. Explain the role of interfaces and abstract classes in polymorphism, drawing comparisons between them.\n",
    "from abc import ABC, abstractmethod\n",
    "\n",
    "class Shape(ABC):\n",
    "    @abstractmethod\n",
    "    def area(self):\n",
    "        pass\n",
    "\n",
    "    @abstractmethod\n",
    "    def perimeter(self):\n",
    "        pass\n",
    "\n",
    "class Square(Shape):\n",
    "    def __init__(self, side):\n",
    "        self.side = side\n",
    "\n",
    "    def area(self):\n",
    "        return self.side ** 2\n",
    "\n",
    "    def perimeter(self):\n",
    "        return 4 * self.side\n",
    "\n",
    "square = Square(5)\n",
    "print(\"Area:\", square.area())  # Output: Area: 25\n",
    "print(\"Perimeter:\", square.perimeter())  # Output: Perimeter: 20"
   ]
  },
  {
   "cell_type": "code",
   "execution_count": 8,
   "id": "ec50bfdf-ca94-462e-b5bb-799ab6267d6e",
   "metadata": {},
   "outputs": [
    {
     "name": "stdout",
     "output_type": "stream",
     "text": [
      "Lion the mammal is eating.\n",
      "Lion the mammal is sleeping.\n",
      "Lion the mammal makes a sound.\n",
      "\n",
      "Elephant the mammal is eating.\n",
      "Elephant the mammal is sleeping.\n",
      "Elephant the mammal makes a sound.\n",
      "\n",
      "Parrot the bird is eating.\n",
      "Parrot the bird is sleeping.\n",
      "Parrot the bird makes a sound.\n",
      "\n",
      "Eagle the bird is eating.\n",
      "Eagle the bird is sleeping.\n",
      "Eagle the bird makes a sound.\n",
      "\n",
      "Snake the reptile is eating.\n",
      "Snake the reptile is sleeping.\n",
      "Snake the reptile makes a sound.\n",
      "\n",
      "Turtle the reptile is eating.\n",
      "Turtle the reptile is sleeping.\n",
      "Turtle the reptile makes a sound.\n",
      "\n"
     ]
    }
   ],
   "source": [
    "#20. Create a Python class for a zoo simulation, demonstrating polymorphism with different animal types (e.g., mammals, birds, reptiles) and their behavior (e.g., eating, sleeping, making sounds).\n",
    "class Animal:\n",
    "    def __init__(self, name):\n",
    "        self.name = name\n",
    "\n",
    "    def eat(self):\n",
    "        pass\n",
    "\n",
    "    def sleep(self):\n",
    "        pass\n",
    "\n",
    "    def make_sound(self):\n",
    "        pass\n",
    "\n",
    "\n",
    "class Mammal(Animal):\n",
    "    def eat(self):\n",
    "        return f\"{self.name} the mammal is eating.\"\n",
    "\n",
    "    def sleep(self):\n",
    "        return f\"{self.name} the mammal is sleeping.\"\n",
    "\n",
    "    def make_sound(self):\n",
    "        return f\"{self.name} the mammal makes a sound.\"\n",
    "\n",
    "\n",
    "class Bird(Animal):\n",
    "    def eat(self):\n",
    "        return f\"{self.name} the bird is eating.\"\n",
    "\n",
    "    def sleep(self):\n",
    "        return f\"{self.name} the bird is sleeping.\"\n",
    "\n",
    "    def make_sound(self):\n",
    "        return f\"{self.name} the bird makes a sound.\"\n",
    "\n",
    "\n",
    "class Reptile(Animal):\n",
    "    def eat(self):\n",
    "        return f\"{self.name} the reptile is eating.\"\n",
    "\n",
    "    def sleep(self):\n",
    "        return f\"{self.name} the reptile is sleeping.\"\n",
    "\n",
    "    def make_sound(self):\n",
    "        return f\"{self.name} the reptile makes a sound.\"\n",
    "\n",
    "\n",
    "# Zoo simulation\n",
    "def main():\n",
    "    animals = [\n",
    "        Mammal(\"Lion\"),\n",
    "        Mammal(\"Elephant\"),\n",
    "        Bird(\"Parrot\"),\n",
    "        Bird(\"Eagle\"),\n",
    "        Reptile(\"Snake\"),\n",
    "        Reptile(\"Turtle\")\n",
    "    ]\n",
    "\n",
    "    for animal in animals:\n",
    "        print(animal.eat())\n",
    "        print(animal.sleep())\n",
    "        print(animal.make_sound())\n",
    "        print()\n",
    "\n",
    "\n",
    "if __name__ == \"__main__\":\n",
    "    main()"
   ]
  },
  {
   "cell_type": "code",
   "execution_count": 9,
   "id": "738d31d8-6e93-46c7-8e21-f6c23b80a5a8",
   "metadata": {},
   "outputs": [
    {
     "name": "stdout",
     "output_type": "stream",
     "text": [
      "Rectangle\n",
      "Area: 20\n",
      "Perimeter: 18\n",
      "Circle\n",
      "Area: 28.26\n",
      "Perimeter: 18.84\n"
     ]
    }
   ],
   "source": [
    "#Abstraction:\n",
    "#1. What is abstraction in Python, and how does it relate to object-oriented programming?\n",
    "class Shape:\n",
    "    def __init__(self, name):\n",
    "        self.name = name\n",
    "\n",
    "    def area(self):\n",
    "        pass\n",
    "\n",
    "    def perimeter(self):\n",
    "        pass\n",
    "\n",
    "class Rectangle(Shape):\n",
    "    def __init__(self, name, width, height):\n",
    "        super().__init__(name)\n",
    "        self.width = width\n",
    "        self.height = height\n",
    "\n",
    "    def area(self):\n",
    "        return self.width * self.height\n",
    "\n",
    "    def perimeter(self):\n",
    "        return 2 * (self.width + self.height)\n",
    "\n",
    "class Circle(Shape):\n",
    "    def __init__(self, name, radius):\n",
    "        super().__init__(name)\n",
    "        self.radius = radius\n",
    "\n",
    "    def area(self):\n",
    "        return 3.14 * self.radius ** 2\n",
    "\n",
    "    def perimeter(self):\n",
    "        return 2 * 3.14 * self.radius\n",
    "\n",
    "# Usage\n",
    "rectangle = Rectangle(\"Rectangle\", 5, 4)\n",
    "circle = Circle(\"Circle\", 3)\n",
    "\n",
    "print(rectangle.name)\n",
    "print(\"Area:\", rectangle.area())\n",
    "print(\"Perimeter:\", rectangle.perimeter())\n",
    "\n",
    "print(circle.name)\n",
    "print(\"Area:\", circle.area())\n",
    "print(\"Perimeter:\", circle.perimeter())"
   ]
  },
  {
   "cell_type": "code",
   "execution_count": 10,
   "id": "8ae64d63-24df-4175-9297-14ebb4c7f525",
   "metadata": {},
   "outputs": [
    {
     "name": "stdout",
     "output_type": "stream",
     "text": [
      "Buddy says: Woof!\n",
      "Whiskers says: Meow!\n",
      "Daffy says: Quack!\n"
     ]
    }
   ],
   "source": [
    "#2. Describe the benefits of abstraction in terms of code organization and complexity reduction.\n",
    "class Animal:\n",
    "    def __init__(self, name):\n",
    "        self.name = name\n",
    "\n",
    "    def make_sound(self):\n",
    "        pass\n",
    "\n",
    "class Dog(Animal):\n",
    "    def make_sound(self):\n",
    "        return \"Woof!\"\n",
    "\n",
    "class Cat(Animal):\n",
    "    def make_sound(self):\n",
    "        return \"Meow!\"\n",
    "\n",
    "class Duck(Animal):\n",
    "    def make_sound(self):\n",
    "        return \"Quack!\"\n",
    "\n",
    "# Usage\n",
    "dog = Dog(\"Buddy\")\n",
    "cat = Cat(\"Whiskers\")\n",
    "duck = Duck(\"Daffy\")\n",
    "\n",
    "print(dog.name, \"says:\", dog.make_sound())  # Output: Buddy says: Woof!\n",
    "print(cat.name, \"says:\", cat.make_sound())  # Output: Whiskers says: Meow!\n",
    "print(duck.name, \"says:\", duck.make_sound())  # Output: Daffy says: Quack!"
   ]
  },
  {
   "cell_type": "code",
   "execution_count": 1,
   "id": "16884cfc-515f-4f60-8fac-d854ef011dde",
   "metadata": {},
   "outputs": [
    {
     "name": "stdout",
     "output_type": "stream",
     "text": [
      "Area of circle: 78.5\n",
      "Area of rectangle: 24\n"
     ]
    }
   ],
   "source": [
    "#3. Create a Python class called `Shape` with an abstract method `calculate_area()`. Then, create child classes (e.g., `Circle`, `Rectangle`) that implement the `calculate_area()` method. Provide an example of using these classes.\n",
    "from abc import ABC, abstractmethod\n",
    "\n",
    "class Shape(ABC):\n",
    "    @abstractmethod\n",
    "    def calculate_area(self):\n",
    "        pass\n",
    "\n",
    "class Circle(Shape):\n",
    "    def __init__(self, radius):\n",
    "        self.radius = radius\n",
    "\n",
    "    def calculate_area(self):\n",
    "        return 3.14 * self.radius ** 2\n",
    "\n",
    "class Rectangle(Shape):\n",
    "    def __init__(self, width, height):\n",
    "        self.width = width\n",
    "        self.height = height\n",
    "\n",
    "    def calculate_area(self):\n",
    "        return self.width * self.height\n",
    "\n",
    "# Example usage\n",
    "circle = Circle(5)\n",
    "print(\"Area of circle:\", circle.calculate_area())\n",
    "\n",
    "rectangle = Rectangle(4, 6)\n",
    "print(\"Area of rectangle:\", rectangle.calculate_area())"
   ]
  },
  {
   "cell_type": "code",
   "execution_count": 3,
   "id": "8d1e512c-2e0f-4b46-847d-1eaf76c34e8b",
   "metadata": {},
   "outputs": [
    {
     "name": "stdout",
     "output_type": "stream",
     "text": [
      "Woof\n",
      "Meow\n"
     ]
    }
   ],
   "source": [
    "#4. Explain the concept of abstract classes in Python and how they are defined using the `abc` module. Provide an example.\n",
    "from abc import ABC, abstractmethod\n",
    "\n",
    "class Animal(ABC):\n",
    "    @abstractmethod\n",
    "    def sound(self):\n",
    "        pass\n",
    "\n",
    "class Dog(Animal):\n",
    "    def sound(self):\n",
    "        return \"Woof\"\n",
    "\n",
    "class Cat(Animal):\n",
    "    def sound(self):\n",
    "        return \"Meow\"\n",
    "\n",
    "# Instantiate concrete subclasses\n",
    "dog = Dog()\n",
    "cat = Cat()\n",
    "\n",
    "# Call the sound method on instances of concrete subclasses\n",
    "print(dog.sound())  # Output: Woof\n",
    "print(cat.sound())  # Output: Meow"
   ]
  },
  {
   "cell_type": "code",
   "execution_count": 4,
   "id": "f980c71e-56ef-4828-b52e-68563a827c66",
   "metadata": {},
   "outputs": [
    {
     "name": "stdout",
     "output_type": "stream",
     "text": [
      "Area of circle: 78.5\n",
      "Area of rectangle: 24\n",
      "Area of triangle: 6.0\n"
     ]
    }
   ],
   "source": [
    "#5. How do abstract classes differ from regular classes in Python? Discuss their use cases.\n",
    "from abc import ABC, abstractmethod\n",
    "\n",
    "# Abstract class\n",
    "class Shape(ABC):\n",
    "    @abstractmethod\n",
    "    def calculate_area(self):\n",
    "        pass\n",
    "\n",
    "# Concrete subclasses\n",
    "class Circle(Shape):\n",
    "    def __init__(self, radius):\n",
    "        self.radius = radius\n",
    "\n",
    "    def calculate_area(self):\n",
    "        return 3.14 * self.radius ** 2\n",
    "\n",
    "class Rectangle(Shape):\n",
    "    def __init__(self, width, height):\n",
    "        self.width = width\n",
    "        self.height = height\n",
    "\n",
    "    def calculate_area(self):\n",
    "        return self.width * self.height\n",
    "\n",
    "# Regular class\n",
    "class Triangle:\n",
    "    def __init__(self, base, height):\n",
    "        self.base = base\n",
    "        self.height = height\n",
    "\n",
    "    def calculate_area(self):\n",
    "        return 0.5 * self.base * self.height\n",
    "\n",
    "# Usage\n",
    "circle = Circle(5)\n",
    "print(\"Area of circle:\", circle.calculate_area())\n",
    "\n",
    "rectangle = Rectangle(4, 6)\n",
    "print(\"Area of rectangle:\", rectangle.calculate_area())\n",
    "\n",
    "triangle = Triangle(3, 4)\n",
    "print(\"Area of triangle:\", triangle.calculate_area())"
   ]
  },
  {
   "cell_type": "code",
   "execution_count": 5,
   "id": "7793aae6-5ab6-4d25-b14e-d386a069566e",
   "metadata": {},
   "outputs": [
    {
     "name": "stdout",
     "output_type": "stream",
     "text": [
      "Initial balance: 1000\n",
      "Deposited $500. New balance: $1500\n",
      "Withdrew $200. New balance: $1300\n",
      "Insufficient funds or invalid withdrawal amount.\n",
      "Final balance: 1300\n"
     ]
    }
   ],
   "source": [
    "#6. Create a Python class for a bank account and demonstrate abstraction by hiding the account balance and providing methods to deposit and withdraw funds.\n",
    "class BankAccount:\n",
    "    def __init__(self, initial_balance=0):\n",
    "        self._balance = initial_balance  # _balance is considered private\n",
    "\n",
    "    def deposit(self, amount):\n",
    "        \"\"\"Deposit funds into the account.\"\"\"\n",
    "        if amount > 0:\n",
    "            self._balance += amount\n",
    "            print(f\"Deposited ${amount}. New balance: ${self._balance}\")\n",
    "        else:\n",
    "            print(\"Invalid deposit amount. Please enter a positive value.\")\n",
    "\n",
    "    def withdraw(self, amount):\n",
    "        \"\"\"Withdraw funds from the account.\"\"\"\n",
    "        if 0 < amount <= self._balance:\n",
    "            self._balance -= amount\n",
    "            print(f\"Withdrew ${amount}. New balance: ${self._balance}\")\n",
    "        else:\n",
    "            print(\"Insufficient funds or invalid withdrawal amount.\")\n",
    "\n",
    "    def get_balance(self):\n",
    "        \"\"\"Get the current balance.\"\"\"\n",
    "        return self._balance\n",
    "\n",
    "\n",
    "# Example usage\n",
    "account = BankAccount(1000)\n",
    "print(\"Initial balance:\", account.get_balance())\n",
    "\n",
    "account.deposit(500)\n",
    "account.withdraw(200)\n",
    "account.withdraw(1500)  # Attempting to withdraw more than the balance\n",
    "print(\"Final balance:\", account.get_balance())\n"
   ]
  },
  {
   "cell_type": "code",
   "execution_count": 6,
   "id": "a569bbf2-8111-48e2-bc54-1b581d6a6f6d",
   "metadata": {},
   "outputs": [
    {
     "name": "stdout",
     "output_type": "stream",
     "text": [
      "Area of circle: 78.5\n",
      "Perimeter of circle: 31.400000000000002\n",
      "Area of rectangle: 24\n",
      "Perimeter of rectangle: 20\n"
     ]
    }
   ],
   "source": [
    "#7. Discuss the concept of interface classes in Python and their role in achieving abstraction.\n",
    "from abc import ABC, abstractmethod\n",
    "\n",
    "# Interface class defining methods for a shape\n",
    "class Shape(ABC):\n",
    "    @abstractmethod\n",
    "    def calculate_area(self):\n",
    "        pass\n",
    "\n",
    "    @abstractmethod\n",
    "    def calculate_perimeter(self):\n",
    "        pass\n",
    "\n",
    "# Concrete classes implementing the Shape interface\n",
    "class Circle(Shape):\n",
    "    def __init__(self, radius):\n",
    "        self.radius = radius\n",
    "\n",
    "    def calculate_area(self):\n",
    "        return 3.14 * self.radius ** 2\n",
    "\n",
    "    def calculate_perimeter(self):\n",
    "        return 2 * 3.14 * self.radius\n",
    "\n",
    "class Rectangle(Shape):\n",
    "    def __init__(self, width, height):\n",
    "        self.width = width\n",
    "        self.height = height\n",
    "\n",
    "    def calculate_area(self):\n",
    "        return self.width * self.height\n",
    "\n",
    "    def calculate_perimeter(self):\n",
    "        return 2 * (self.width + self.height)\n",
    "\n",
    "# Usage\n",
    "circle = Circle(5)\n",
    "print(\"Area of circle:\", circle.calculate_area())\n",
    "print(\"Perimeter of circle:\", circle.calculate_perimeter())\n",
    "\n",
    "rectangle = Rectangle(4, 6)\n",
    "print(\"Area of rectangle:\", rectangle.calculate_area())\n",
    "print(\"Perimeter of rectangle:\", rectangle.calculate_perimeter())"
   ]
  },
  {
   "cell_type": "code",
   "execution_count": 7,
   "id": "b089df21-08d5-4487-9d23-c2b70a3f48d7",
   "metadata": {},
   "outputs": [
    {
     "name": "stdout",
     "output_type": "stream",
     "text": [
      "Buddy the dog is eating.\n",
      "Buddy the dog is sleeping.\n",
      "Whiskers the cat is eating.\n",
      "Whiskers the cat is sleeping.\n"
     ]
    }
   ],
   "source": [
    "#8. Create a Python class hierarchy for animals and implement abstraction by defining common methods (e.g., `eat()`, `sleep()`) in an abstract base class.\n",
    "from abc import ABC, abstractmethod\n",
    "\n",
    "# Abstract base class for animals\n",
    "class Animal(ABC):\n",
    "    def __init__(self, name):\n",
    "        self.name = name\n",
    "\n",
    "    @abstractmethod\n",
    "    def eat(self):\n",
    "        pass\n",
    "\n",
    "    @abstractmethod\n",
    "    def sleep(self):\n",
    "        pass\n",
    "\n",
    "# Concrete subclasses of Animal\n",
    "class Dog(Animal):\n",
    "    def __init__(self, name):\n",
    "        super().__init__(name)\n",
    "\n",
    "    def eat(self):\n",
    "        return f\"{self.name} the dog is eating.\"\n",
    "\n",
    "    def sleep(self):\n",
    "        return f\"{self.name} the dog is sleeping.\"\n",
    "\n",
    "class Cat(Animal):\n",
    "    def __init__(self, name):\n",
    "        super().__init__(name)\n",
    "\n",
    "    def eat(self):\n",
    "        return f\"{self.name} the cat is eating.\"\n",
    "\n",
    "    def sleep(self):\n",
    "        return f\"{self.name} the cat is sleeping.\"\n",
    "\n",
    "# Usage\n",
    "dog = Dog(\"Buddy\")\n",
    "print(dog.eat())\n",
    "print(dog.sleep())\n",
    "\n",
    "cat = Cat(\"Whiskers\")\n",
    "print(cat.eat())\n",
    "print(cat.sleep())"
   ]
  },
  {
   "cell_type": "code",
   "execution_count": 8,
   "id": "7d23042c-2392-4738-a97f-1a1b73b6e704",
   "metadata": {},
   "outputs": [
    {
     "name": "stdout",
     "output_type": "stream",
     "text": [
      "Deposited $1000. New balance: $1000\n",
      "Withdrew $500. New balance: $500\n",
      "Current balance: 500\n"
     ]
    }
   ],
   "source": [
    "#9. Explain the significance of encapsulation in achieving abstraction. Provide examples.\n",
    "class BankAccount:\n",
    "    def __init__(self):\n",
    "        self._balance = 0  # Encapsulated attribute\n",
    "\n",
    "    def deposit(self, amount):\n",
    "        if amount > 0:\n",
    "            self._balance += amount\n",
    "            print(f\"Deposited ${amount}. New balance: ${self._balance}\")\n",
    "        else:\n",
    "            print(\"Invalid deposit amount. Please enter a positive value.\")\n",
    "\n",
    "    def withdraw(self, amount):\n",
    "        if 0 < amount <= self._balance:\n",
    "            self._balance -= amount\n",
    "            print(f\"Withdrew ${amount}. New balance: ${self._balance}\")\n",
    "        else:\n",
    "            print(\"Insufficient funds or invalid withdrawal amount.\")\n",
    "\n",
    "    def get_balance(self):\n",
    "        return self._balance\n",
    "\n",
    "# Usage\n",
    "account = BankAccount()\n",
    "account.deposit(1000)\n",
    "account.withdraw(500)\n",
    "print(\"Current balance:\", account.get_balance())"
   ]
  },
  {
   "cell_type": "code",
   "execution_count": 9,
   "id": "def5ff6e-ce77-4afc-8d81-eda8439ac66d",
   "metadata": {},
   "outputs": [
    {
     "name": "stdout",
     "output_type": "stream",
     "text": [
      "Car starting...\n",
      "Car stopping...\n",
      "Motorcycle starting...\n",
      "Motorcycle stopping...\n"
     ]
    }
   ],
   "source": [
    "##10. What is the purpose of abstract methods, and how do they enforce abstraction in Python classes?\n",
    "from abc import ABC, abstractmethod\n",
    "\n",
    "# Abstract base class for vehicles\n",
    "class Vehicle(ABC):\n",
    "    @abstractmethod\n",
    "    def start(self):\n",
    "        pass\n",
    "\n",
    "    @abstractmethod\n",
    "    def stop(self):\n",
    "        pass\n",
    "\n",
    "# Concrete subclass of Vehicle\n",
    "class Car(Vehicle):\n",
    "    def start(self):\n",
    "        return \"Car starting...\"\n",
    "\n",
    "    def stop(self):\n",
    "        return \"Car stopping...\"\n",
    "\n",
    "# Concrete subclass of Vehicle\n",
    "class Motorcycle(Vehicle):\n",
    "    def start(self):\n",
    "        return \"Motorcycle starting...\"\n",
    "\n",
    "    def stop(self):\n",
    "        return \"Motorcycle stopping...\"\n",
    "\n",
    "# Instantiating concrete subclasses\n",
    "car = Car()\n",
    "print(car.start())\n",
    "print(car.stop())\n",
    "\n",
    "motorcycle = Motorcycle()\n",
    "print(motorcycle.start())\n",
    "print(motorcycle.stop())"
   ]
  },
  {
   "cell_type": "code",
   "execution_count": 10,
   "id": "8fe9de26-24c6-45bf-99a1-8fa31da098ce",
   "metadata": {},
   "outputs": [
    {
     "name": "stdout",
     "output_type": "stream",
     "text": [
      "Car engine started.\n",
      "Car engine stopped.\n",
      "Motorcycle engine started.\n",
      "Motorcycle engine stopped.\n"
     ]
    }
   ],
   "source": [
    "#11. Create a Python class for a vehicle system and demonstrate abstraction by defining common methods (e.g., `start()`, `stop()`) in an abstract base class.\n",
    "from abc import ABC, abstractmethod\n",
    "\n",
    "# Abstract base class for vehicles\n",
    "class Vehicle(ABC):\n",
    "    @abstractmethod\n",
    "    def start(self):\n",
    "        pass\n",
    "\n",
    "    @abstractmethod\n",
    "    def stop(self):\n",
    "        pass\n",
    "\n",
    "# Concrete subclass representing a Car\n",
    "class Car(Vehicle):\n",
    "    def start(self):\n",
    "        return \"Car engine started.\"\n",
    "\n",
    "    def stop(self):\n",
    "        return \"Car engine stopped.\"\n",
    "\n",
    "# Concrete subclass representing a Motorcycle\n",
    "class Motorcycle(Vehicle):\n",
    "    def start(self):\n",
    "        return \"Motorcycle engine started.\"\n",
    "\n",
    "    def stop(self):\n",
    "        return \"Motorcycle engine stopped.\"\n",
    "\n",
    "# Usage\n",
    "car = Car()\n",
    "print(car.start())  # Output: Car engine started.\n",
    "print(car.stop())   # Output: Car engine stopped.\n",
    "\n",
    "motorcycle = Motorcycle()\n",
    "print(motorcycle.start())  # Output: Motorcycle engine started.\n",
    "print(motorcycle.stop())   # Output: Motorcycle engine stopped."
   ]
  },
  {
   "cell_type": "code",
   "execution_count": 11,
   "id": "c2b542fb-93ac-435a-aef2-9752a13cd8e2",
   "metadata": {},
   "outputs": [
    {
     "name": "stdout",
     "output_type": "stream",
     "text": [
      "Area of circle: 78.5\n",
      "Area of rectangle: 24\n"
     ]
    }
   ],
   "source": [
    "#12. Describe the use of abstract properties in Python and how they can be employed in abstract classes.\n",
    "from abc import ABC, abstractmethod\n",
    "\n",
    "# Abstract base class for shapes\n",
    "class Shape(ABC):\n",
    "    @property\n",
    "    @abstractmethod\n",
    "    def area(self):\n",
    "        pass\n",
    "\n",
    "# Concrete subclass representing a Circle\n",
    "class Circle(Shape):\n",
    "    def __init__(self, radius):\n",
    "        self.radius = radius\n",
    "\n",
    "    @property\n",
    "    def area(self):\n",
    "        return 3.14 * self.radius ** 2\n",
    "\n",
    "# Concrete subclass representing a Rectangle\n",
    "class Rectangle(Shape):\n",
    "    def __init__(self, width, height):\n",
    "        self.width = width\n",
    "        self.height = height\n",
    "\n",
    "    @property\n",
    "    def area(self):\n",
    "        return self.width * self.height\n",
    "\n",
    "# Usage\n",
    "circle = Circle(5)\n",
    "print(\"Area of circle:\", circle.area)  # Output: Area of circle: 78.5\n",
    "\n",
    "rectangle = Rectangle(4, 6)\n",
    "print(\"Area of rectangle:\", rectangle.area)  # Output: Area of rectangle: 24"
   ]
  },
  {
   "cell_type": "code",
   "execution_count": 13,
   "id": "36ed759d-c6ab-4f17-a299-5efe414b7145",
   "metadata": {},
   "outputs": [
    {
     "name": "stdout",
     "output_type": "stream",
     "text": [
      "Salary of Alice (Manager) is $80000\n",
      "Salary of Bob (Developer) is $60000\n",
      "Salary of Charlie (Designer) is $70000\n"
     ]
    }
   ],
   "source": [
    "#13. Create a Python class hierarchy for employees in a company (e.g., manager, developer, designer) and implement abstraction by defining a common `get_salary()` method.\n",
    "from abc import ABC, abstractmethod\n",
    "\n",
    "# Abstract base class for employees\n",
    "class Employee(ABC):\n",
    "    def __init__(self, name, salary):\n",
    "        self.name = name\n",
    "        self.salary = salary\n",
    "\n",
    "    @abstractmethod\n",
    "    def get_salary(self):\n",
    "        pass\n",
    "\n",
    "# Concrete subclass representing a Manager\n",
    "class Manager(Employee):\n",
    "    def get_salary(self):\n",
    "        return f\"Salary of {self.name} (Manager) is ${self.salary}\"\n",
    "\n",
    "# Concrete subclass representing a Developer\n",
    "class Developer(Employee):\n",
    "    def get_salary(self):\n",
    "        return f\"Salary of {self.name} (Developer) is ${self.salary}\"\n",
    "\n",
    "# Concrete subclass representing a Designer\n",
    "class Designer(Employee):\n",
    "    def get_salary(self):\n",
    "        return f\"Salary of {self.name} (Designer) is ${self.salary}\"\n",
    "\n",
    "# Usage\n",
    "manager = Manager(\"Alice\", 80000)\n",
    "print(manager.get_salary())  # Output: Salary of Alice (Manager) is $80000\n",
    "\n",
    "developer = Developer(\"Bob\", 60000)\n",
    "print(developer.get_salary())  # Output: Salary of Bob (Developer) is $60000\n",
    "\n",
    "designer = Designer(\"Charlie\", 70000)\n",
    "print(designer.get_salary())"
   ]
  },
  {
   "cell_type": "code",
   "execution_count": 14,
   "id": "e40a8037-2312-4636-a6b4-fc68dd527492",
   "metadata": {},
   "outputs": [
    {
     "name": "stdout",
     "output_type": "stream",
     "text": [
      "Area of circle: 78.5\n"
     ]
    }
   ],
   "source": [
    "#14. Discuss the differences between abstract classes and concrete classes in Python, including their instantiation.\n",
    "from abc import ABC, abstractmethod\n",
    "\n",
    "# Abstract class\n",
    "class Shape(ABC):\n",
    "    @abstractmethod\n",
    "    def area(self):\n",
    "        pass\n",
    "\n",
    "# Concrete subclass\n",
    "class Circle(Shape):\n",
    "    def __init__(self, radius):\n",
    "        self.radius = radius\n",
    "\n",
    "    def area(self):\n",
    "        return 3.14 * self.radius ** 2\n",
    "\n",
    "# Attempting to instantiate an abstract class (will raise an error)\n",
    "# shape = Shape()\n",
    "\n",
    "# Instantiating a concrete class\n",
    "circle = Circle(5)\n",
    "print(\"Area of circle:\", circle.area())"
   ]
  },
  {
   "cell_type": "code",
   "execution_count": 15,
   "id": "c090859b-3441-4a94-8988-1b544483afb9",
   "metadata": {},
   "outputs": [
    {
     "name": "stdout",
     "output_type": "stream",
     "text": [
      "Top of the stack: 3\n",
      "Popped item: 3\n",
      "Is stack empty? False\n"
     ]
    }
   ],
   "source": [
    "#15. Explain the concept of abstract data types (ADTs) and their role in achieving abstraction in Python.\n",
    "class Stack:\n",
    "    def __init__(self):\n",
    "        self.items = []\n",
    "\n",
    "    def push(self, item):\n",
    "        self.items.append(item)\n",
    "\n",
    "    def pop(self):\n",
    "        if not self.is_empty():\n",
    "            return self.items.pop()\n",
    "        else:\n",
    "            return \"Stack is empty\"\n",
    "\n",
    "    def is_empty(self):\n",
    "        return len(self.items) == 0\n",
    "\n",
    "    def peek(self):\n",
    "        if not self.is_empty():\n",
    "            return self.items[-1]\n",
    "        else:\n",
    "            return \"Stack is empty\"\n",
    "\n",
    "# Usage\n",
    "stack = Stack()\n",
    "stack.push(1)\n",
    "stack.push(2)\n",
    "stack.push(3)\n",
    "print(\"Top of the stack:\", stack.peek())  # Output: Top of the stack: 3\n",
    "print(\"Popped item:\", stack.pop())       # Output: Popped item: 3\n",
    "print(\"Is stack empty?\", stack.is_empty())# Output: Is stack empty? False"
   ]
  },
  {
   "cell_type": "code",
   "execution_count": 16,
   "id": "3a4f7f4b-b2c5-4a36-9cb9-17b063b82e7c",
   "metadata": {},
   "outputs": [
    {
     "name": "stdout",
     "output_type": "stream",
     "text": [
      "Desktop computer is powering on...\n",
      "Desktop computer is shutting down...\n",
      "Laptop computer is powering on...\n",
      "Laptop computer is shutting down...\n"
     ]
    }
   ],
   "source": [
    "#16. Create a Python class for a computer system, demonstrating abstraction by defining common methods (e.g., `power_on()`, `shutdown()`) in an abstract base class.\n",
    "from abc import ABC, abstractmethod\n",
    "\n",
    "# Abstract base class for computer systems\n",
    "class Computer(ABC):\n",
    "    @abstractmethod\n",
    "    def power_on(self):\n",
    "        pass\n",
    "\n",
    "    @abstractmethod\n",
    "    def shutdown(self):\n",
    "        pass\n",
    "\n",
    "# Concrete subclass representing a Desktop Computer\n",
    "class Desktop(Computer):\n",
    "    def power_on(self):\n",
    "        return \"Desktop computer is powering on...\"\n",
    "\n",
    "    def shutdown(self):\n",
    "        return \"Desktop computer is shutting down...\"\n",
    "\n",
    "# Concrete subclass representing a Laptop Computer\n",
    "class Laptop(Computer):\n",
    "    def power_on(self):\n",
    "        return \"Laptop computer is powering on...\"\n",
    "\n",
    "    def shutdown(self):\n",
    "        return \"Laptop computer is shutting down...\"\n",
    "\n",
    "# Usage\n",
    "desktop = Desktop()\n",
    "print(desktop.power_on())  # Output: Desktop computer is powering on...\n",
    "print(desktop.shutdown())  # Output: Desktop computer is shutting down...\n",
    "\n",
    "laptop = Laptop()\n",
    "print(laptop.power_on())   # Output: Laptop computer is powering on...\n",
    "print(laptop.shutdown())   # Output: Laptop computer is shutting down..."
   ]
  },
  {
   "cell_type": "code",
   "execution_count": 17,
   "id": "5aa3be96-649c-4d70-b19c-3fb57b683cb0",
   "metadata": {},
   "outputs": [
    {
     "name": "stdout",
     "output_type": "stream",
     "text": [
      "Renting Toyota Corolla car...\n",
      "Renting Ford F-150 truck...\n"
     ]
    }
   ],
   "source": [
    "#17. Discuss the benefits of using abstraction in large-scale software development projects.\n",
    "from abc import ABC, abstractmethod\n",
    "\n",
    "# Abstract class representing a Vehicle\n",
    "class Vehicle(ABC):\n",
    "    def __init__(self, make, model):\n",
    "        self.make = make\n",
    "        self.model = model\n",
    "\n",
    "    @abstractmethod\n",
    "    def rent(self):\n",
    "        pass\n",
    "\n",
    "# Concrete class representing a Car\n",
    "class Car(Vehicle):\n",
    "    def rent(self):\n",
    "        return f\"Renting {self.make} {self.model} car...\"\n",
    "\n",
    "# Concrete class representing a Truck\n",
    "class Truck(Vehicle):\n",
    "    def rent(self):\n",
    "        return f\"Renting {self.make} {self.model} truck...\"\n",
    "\n",
    "# Usage\n",
    "car = Car(\"Toyota\", \"Corolla\")\n",
    "print(car.rent())  # Output: Renting Toyota Corolla car...\n",
    "\n",
    "truck = Truck(\"Ford\", \"F-150\")\n",
    "print(truck.rent())  # Output: Renting Ford F-150 truck..."
   ]
  },
  {
   "cell_type": "code",
   "execution_count": 18,
   "id": "242a4952-60b9-4c6f-bd14-71ad5790cea3",
   "metadata": {},
   "outputs": [
    {
     "name": "stdout",
     "output_type": "stream",
     "text": [
      "Area of rectangle: 24\n",
      "Area of circle: 78.5\n"
     ]
    }
   ],
   "source": [
    "#18. Explain how abstraction enhances code reusability and modularity in Python programs.\n",
    "from abc import ABC, abstractmethod\n",
    "\n",
    "# Abstract class representing a Shape\n",
    "class Shape(ABC):\n",
    "    @abstractmethod\n",
    "    def area(self):\n",
    "        pass\n",
    "\n",
    "# Concrete subclass representing a Rectangle\n",
    "class Rectangle(Shape):\n",
    "    def __init__(self, width, height):\n",
    "        self.width = width\n",
    "        self.height = height\n",
    "\n",
    "    def area(self):\n",
    "        return self.width * self.height\n",
    "\n",
    "# Concrete subclass representing a Circle\n",
    "class Circle(Shape):\n",
    "    def __init__(self, radius):\n",
    "        self.radius = radius\n",
    "\n",
    "    def area(self):\n",
    "        return 3.14 * self.radius ** 2\n",
    "\n",
    "# Usage\n",
    "rectangle = Rectangle(4, 6)\n",
    "print(\"Area of rectangle:\", rectangle.area())  # Output: Area of rectangle: 24\n",
    "\n",
    "circle = Circle(5)\n",
    "print(\"Area of circle:\", circle.area()) "
   ]
  },
  {
   "cell_type": "code",
   "execution_count": 19,
   "id": "666f75ff-5243-4044-ab5e-7e6ed7a11dce",
   "metadata": {},
   "outputs": [
    {
     "name": "stdout",
     "output_type": "stream",
     "text": [
      "Added 'Introduction to Python' to the library.\n",
      "Added 'Data Structures and Algorithms' to the library.\n",
      "Borrowed 'Introduction to Python' from the library.\n",
      "'Machine Learning Essentials' is not available in the library.\n"
     ]
    }
   ],
   "source": [
    "#19. Create a Python class for a library system, implementing abstraction by defining common methods (e.g., `add_book()`, `borrow_book()`) in an abstract base class.\n",
    "from abc import ABC, abstractmethod\n",
    "\n",
    "# Abstract base class for library system\n",
    "class LibrarySystem(ABC):\n",
    "    def __init__(self):\n",
    "        self.books = []\n",
    "\n",
    "    @abstractmethod\n",
    "    def add_book(self, book):\n",
    "        pass\n",
    "\n",
    "    @abstractmethod\n",
    "    def borrow_book(self, book):\n",
    "        pass\n",
    "\n",
    "# Concrete subclass representing a Library\n",
    "class Library(LibrarySystem):\n",
    "    def add_book(self, book):\n",
    "        self.books.append(book)\n",
    "        print(f\"Added '{book}' to the library.\")\n",
    "\n",
    "    def borrow_book(self, book):\n",
    "        if book in self.books:\n",
    "            self.books.remove(book)\n",
    "            print(f\"Borrowed '{book}' from the library.\")\n",
    "        else:\n",
    "            print(f\"'{book}' is not available in the library.\")\n",
    "\n",
    "# Usage\n",
    "library = Library()\n",
    "library.add_book(\"Introduction to Python\")\n",
    "library.add_book(\"Data Structures and Algorithms\")\n",
    "library.borrow_book(\"Introduction to Python\")\n",
    "library.borrow_book(\"Machine Learning Essentials\")"
   ]
  },
  {
   "cell_type": "code",
   "execution_count": 20,
   "id": "49d1c8f9-72f6-4d28-8e28-43c75c836a6d",
   "metadata": {},
   "outputs": [
    {
     "name": "stdout",
     "output_type": "stream",
     "text": [
      "Woof!\n",
      "Meow!\n"
     ]
    }
   ],
   "source": [
    "#20. Describe the concept of method abstraction in Python and how it relates to polymorphism.\n",
    "class Animal:\n",
    "    def make_sound(self):\n",
    "        pass\n",
    "\n",
    "class Dog(Animal):\n",
    "    def make_sound(self):\n",
    "        return \"Woof!\"\n",
    "\n",
    "class Cat(Animal):\n",
    "    def make_sound(self):\n",
    "        return \"Meow!\"\n",
    "\n",
    "# Function demonstrating polymorphic behavior\n",
    "def make_animal_sound(animal):\n",
    "    return animal.make_sound()\n",
    "\n",
    "# Usage\n",
    "dog = Dog()\n",
    "cat = Cat()\n",
    "\n",
    "print(make_animal_sound(dog))  # Output: Woof!\n",
    "print(make_animal_sound(cat))  # Output: Meow!"
   ]
  },
  {
   "cell_type": "code",
   "execution_count": 21,
   "id": "0ea1aff2-02a1-4a9b-88e8-bac57f71c753",
   "metadata": {},
   "outputs": [
    {
     "name": "stdout",
     "output_type": "stream",
     "text": [
      "Engine started.\n",
      "Wheels rotating.\n",
      "Engine stopped.\n"
     ]
    }
   ],
   "source": [
    "#Composition:\n",
    "#1. Explain the concept of composition in Python and how it is used to build complex objects from simpler ones.\n",
    "class Engine:\n",
    "    def start(self):\n",
    "        return \"Engine started.\"\n",
    "\n",
    "    def stop(self):\n",
    "        return \"Engine stopped.\"\n",
    "\n",
    "class Wheels:\n",
    "    def rotate(self):\n",
    "        return \"Wheels rotating.\"\n",
    "\n",
    "class Car:\n",
    "    def __init__(self):\n",
    "        self.engine = Engine()  # Composition: Car has an Engine\n",
    "        self.wheels = Wheels()  # Composition: Car has Wheels\n",
    "\n",
    "    def start(self):\n",
    "        return self.engine.start()\n",
    "\n",
    "    def stop(self):\n",
    "        return self.engine.stop()\n",
    "\n",
    "    def drive(self):\n",
    "        return self.wheels.rotate()\n",
    "\n",
    "# Usage\n",
    "car = Car()\n",
    "print(car.start())  # Output: Engine started.\n",
    "print(car.drive())  # Output: Wheels rotating.\n",
    "print(car.stop())   # Output: Engine stopped."
   ]
  },
  {
   "cell_type": "code",
   "execution_count": 22,
   "id": "83e2eb25-4e25-4562-8ec4-54472400b50e",
   "metadata": {},
   "outputs": [
    {
     "name": "stdout",
     "output_type": "stream",
     "text": [
      "Engine started.\n",
      "Dog barks.\n"
     ]
    }
   ],
   "source": [
    "#2. Describe the difference between composition and inheritance in object-oriented programming.\n",
    "# Composition example\n",
    "class Engine:\n",
    "    def start(self):\n",
    "        return \"Engine started.\"\n",
    "\n",
    "class Car:\n",
    "    def __init__(self):\n",
    "        self.engine = Engine()  # Composition: Car has an Engine\n",
    "\n",
    "    def start(self):\n",
    "        return self.engine.start()\n",
    "\n",
    "# Inheritance example\n",
    "class Animal:\n",
    "    def speak(self):\n",
    "        return \"Animal speaks.\"\n",
    "\n",
    "class Dog(Animal):\n",
    "    def speak(self):\n",
    "        return \"Dog barks.\"\n",
    "\n",
    "# Usage\n",
    "car = Car()\n",
    "print(car.start())  # Output: Engine started.\n",
    "\n",
    "dog = Dog()\n",
    "print(dog.speak())  # Output: Dog barks."
   ]
  },
  {
   "cell_type": "code",
   "execution_count": 23,
   "id": "a23aee6b-1646-4d0f-a5c3-50072a4bb677",
   "metadata": {},
   "outputs": [
    {
     "name": "stdout",
     "output_type": "stream",
     "text": [
      "Book Title: Harry Potter\n",
      "Author: J.K. Rowling\n",
      "Author Birthdate: July 31, 1965\n"
     ]
    }
   ],
   "source": [
    "#3. Create a Python class called `Author` with attributes for name and birthdate. Then, create a `Book` class that contains an instance of `Author` as a composition. Provide an example of creating a `Book` object.\n",
    "class Author:\n",
    "    def __init__(self, name, birthdate):\n",
    "        self.name = name\n",
    "        self.birthdate = birthdate\n",
    "\n",
    "class Book:\n",
    "    def __init__(self, title, author_name, author_birthdate):\n",
    "        self.title = title\n",
    "        self.author = Author(author_name, author_birthdate)\n",
    "\n",
    "# Example usage\n",
    "book = Book(\"Harry Potter\", \"J.K. Rowling\", \"July 31, 1965\")\n",
    "print(\"Book Title:\", book.title)\n",
    "print(\"Author:\", book.author.name)\n",
    "print(\"Author Birthdate:\", book.author.birthdate)"
   ]
  },
  {
   "cell_type": "code",
   "execution_count": 24,
   "id": "30232a8d-2e29-4b13-aacd-ec83cf7cdaa8",
   "metadata": {},
   "outputs": [
    {
     "name": "stdout",
     "output_type": "stream",
     "text": [
      "Engine started.\n",
      "Engine started.\n"
     ]
    }
   ],
   "source": [
    "#4. Discuss the benefits of using composition over inheritance in Python, especially in terms of code flexibility and reusability. \n",
    "# Using composition\n",
    "class Engine:\n",
    "    def start(self):\n",
    "        return \"Engine started.\"\n",
    "\n",
    "class Car:\n",
    "    def __init__(self, engine):\n",
    "        self.engine = engine\n",
    "\n",
    "    def start(self):\n",
    "        return self.engine.start()\n",
    "\n",
    "# Using inheritance\n",
    "class CarWithInheritance(Engine):\n",
    "    pass\n",
    "\n",
    "# Composition example\n",
    "engine = Engine()\n",
    "car = Car(engine)\n",
    "print(car.start())  # Output: Engine started.\n",
    "\n",
    "# Inheritance example\n",
    "car_with_inheritance = CarWithInheritance()\n",
    "print(car_with_inheritance.start()) "
   ]
  },
  {
   "cell_type": "code",
   "execution_count": 25,
   "id": "6436ab9e-4632-4f33-9064-6ef1e089194b",
   "metadata": {},
   "outputs": [
    {
     "name": "stdout",
     "output_type": "stream",
     "text": [
      "Engine started.\n",
      "Wheels rotating.\n"
     ]
    }
   ],
   "source": [
    "#5. How can you implement composition in Python classes? Provide examples of using composition to create complex objects.\n",
    "class Engine:\n",
    "    def start(self):\n",
    "        return \"Engine started.\"\n",
    "\n",
    "class Wheels:\n",
    "    def rotate(self):\n",
    "        return \"Wheels rotating.\"\n",
    "\n",
    "class Car:\n",
    "    def __init__(self):\n",
    "        self.engine = Engine()  # Composition: Car has an Engine\n",
    "        self.wheels = Wheels()  # Composition: Car has Wheels\n",
    "\n",
    "    def start(self):\n",
    "        return self.engine.start()\n",
    "\n",
    "    def drive(self):\n",
    "        return self.wheels.rotate()\n",
    "\n",
    "# Create a complex object using composition\n",
    "car = Car()\n",
    "\n",
    "# Use the complex object\n",
    "print(car.start())  # Output: Engine started.\n",
    "print(car.drive())  # Output: Wheels rotating."
   ]
  },
  {
   "cell_type": "code",
   "execution_count": 26,
   "id": "4f025e0e-f0c8-4c3c-ab74-362cfdbb069c",
   "metadata": {},
   "outputs": [
    {
     "name": "stdout",
     "output_type": "stream",
     "text": [
      "Playing playlist: Favorites\n",
      "Now playing: Shape of You by Ed Sheeran\n",
      "Now playing: Someone Like You by Adele\n",
      "Playing playlist: Party Mix\n",
      "Now playing: Dance Monkey by Tones and I\n"
     ]
    }
   ],
   "source": [
    "#6. Create a Python class hierarchy for a music player system, using composition to represent playlists and songs.\n",
    "class Song:\n",
    "    def __init__(self, title, artist):\n",
    "        self.title = title\n",
    "        self.artist = artist\n",
    "\n",
    "class Playlist:\n",
    "    def __init__(self, name):\n",
    "        self.name = name\n",
    "        self.songs = []\n",
    "\n",
    "    def add_song(self, song):\n",
    "        self.songs.append(song)\n",
    "\n",
    "    def remove_song(self, song):\n",
    "        if song in self.songs:\n",
    "            self.songs.remove(song)\n",
    "        else:\n",
    "            print(f\"{song.title} is not in the playlist.\")\n",
    "\n",
    "    def play(self):\n",
    "        if self.songs:\n",
    "            print(f\"Playing playlist: {self.name}\")\n",
    "            for song in self.songs:\n",
    "                print(f\"Now playing: {song.title} by {song.artist}\")\n",
    "        else:\n",
    "            print(f\"Playlist {self.name} is empty.\")\n",
    "\n",
    "# Create songs\n",
    "song1 = Song(\"Shape of You\", \"Ed Sheeran\")\n",
    "song2 = Song(\"Someone Like You\", \"Adele\")\n",
    "song3 = Song(\"Dance Monkey\", \"Tones and I\")\n",
    "\n",
    "# Create playlists\n",
    "playlist1 = Playlist(\"Favorites\")\n",
    "playlist2 = Playlist(\"Party Mix\")\n",
    "\n",
    "# Add songs to playlists\n",
    "playlist1.add_song(song1)\n",
    "playlist1.add_song(song2)\n",
    "playlist2.add_song(song3)\n",
    "\n",
    "# Play playlists\n",
    "playlist1.play()\n",
    "playlist2.play()"
   ]
  },
  {
   "cell_type": "code",
   "execution_count": 27,
   "id": "d83f203d-7a05-4c54-b511-56c77d806bd3",
   "metadata": {},
   "outputs": [
    {
     "name": "stdout",
     "output_type": "stream",
     "text": [
      "Engine started.\n"
     ]
    }
   ],
   "source": [
    "#7. Explain the concept of \"has-a\" relationships in composition and how it helps design software systems.\n",
    "class Engine:\n",
    "    def start(self):\n",
    "        return \"Engine started.\"\n",
    "\n",
    "class Car:\n",
    "    def __init__(self):\n",
    "        self.engine = Engine()  # Car has an Engine\n",
    "\n",
    "    def start(self):\n",
    "        return self.engine.start()\n",
    "\n",
    "# Usage\n",
    "car = Car()\n",
    "print(car.start())  # Output: Engine started."
   ]
  },
  {
   "cell_type": "code",
   "execution_count": 28,
   "id": "48f96121-b92c-4023-bdf4-7c8cef95cc1f",
   "metadata": {},
   "outputs": [
    {
     "name": "stdout",
     "output_type": "stream",
     "text": [
      "Computer Specs:\n",
      "CPU: Intel Core i7, Cores: 8\n",
      "RAM: 16 GB, Speed: 3200 MHz\n",
      "Storage: 512 GB, Type: SSD\n"
     ]
    }
   ],
   "source": [
    "#8. Create a Python class for a computer system, using composition to represent components like CPU, RAM, and storage devices.\n",
    "class CPU:\n",
    "    def __init__(self, brand, model, cores):\n",
    "        self.brand = brand\n",
    "        self.model = model\n",
    "        self.cores = cores\n",
    "\n",
    "    def info(self):\n",
    "        return f\"CPU: {self.brand} {self.model}, Cores: {self.cores}\"\n",
    "\n",
    "class RAM:\n",
    "    def __init__(self, capacity, speed):\n",
    "        self.capacity = capacity\n",
    "        self.speed = speed\n",
    "\n",
    "    def info(self):\n",
    "        return f\"RAM: {self.capacity} GB, Speed: {self.speed} MHz\"\n",
    "\n",
    "class Storage:\n",
    "    def __init__(self, capacity, type):\n",
    "        self.capacity = capacity\n",
    "        self.type = type\n",
    "\n",
    "    def info(self):\n",
    "        return f\"Storage: {self.capacity} GB, Type: {self.type}\"\n",
    "\n",
    "class Computer:\n",
    "    def __init__(self, cpu, ram, storage):\n",
    "        self.cpu = cpu\n",
    "        self.ram = ram\n",
    "        self.storage = storage\n",
    "\n",
    "    def specs(self):\n",
    "        cpu_info = self.cpu.info()\n",
    "        ram_info = self.ram.info()\n",
    "        storage_info = self.storage.info()\n",
    "        return f\"Computer Specs:\\n{cpu_info}\\n{ram_info}\\n{storage_info}\"\n",
    "\n",
    "# Create components\n",
    "cpu = CPU(\"Intel\", \"Core i7\", 8)\n",
    "ram = RAM(16, 3200)\n",
    "storage = Storage(512, \"SSD\")\n",
    "\n",
    "# Create a computer system\n",
    "computer = Computer(cpu, ram, storage)\n",
    "\n",
    "# Display computer specs\n",
    "print(computer.specs())"
   ]
  },
  {
   "cell_type": "code",
   "execution_count": 29,
   "id": "df32b5a6-596d-4f40-86c2-675185ac5c13",
   "metadata": {},
   "outputs": [
    {
     "name": "stdout",
     "output_type": "stream",
     "text": [
      "Engine started.\n"
     ]
    }
   ],
   "source": [
    "#9. Describe the concept of \"delegation\" in composition and how it simplifies the design of complex systems.\n",
    "class Engine:\n",
    "    def start(self):\n",
    "        return \"Engine started.\"\n",
    "\n",
    "class Car:\n",
    "    def __init__(self, engine):\n",
    "        self.engine = engine\n",
    "\n",
    "    def start(self):\n",
    "        return self.engine.start()  # Delegation: Car delegates starting to the Engine\n",
    "\n",
    "# Usage\n",
    "engine = Engine()\n",
    "car = Car(engine)\n",
    "print(car.start()) "
   ]
  },
  {
   "cell_type": "code",
   "execution_count": 31,
   "id": "9d188a8e-b5cf-49ef-8826-cc6a89814685",
   "metadata": {},
   "outputs": [
    {
     "name": "stdout",
     "output_type": "stream",
     "text": [
      "Engine started.\n",
      "Wheels rotating.\n",
      "Engine stopped.\n"
     ]
    }
   ],
   "source": [
    "#10. Create a Python class for a car, using composition to represent components like the engine, wheels, and transmission.\n",
    "class Engine:\n",
    "    def start(self):\n",
    "        return \"Engine started.\"\n",
    "\n",
    "    def stop(self):\n",
    "        return \"Engine stopped.\"\n",
    "\n",
    "class Wheels:\n",
    "    def rotate(self):\n",
    "        return \"Wheels rotating.\"\n",
    "\n",
    "class Transmission:\n",
    "    def change_gear(self, gear):\n",
    "        return f\"Gear changed to {gear}.\"\n",
    "\n",
    "class Car:\n",
    "    def __init__(self):\n",
    "        self.engine = Engine()  # Composition: Car has an Engine\n",
    "        self.wheels = Wheels()  # Composition: Car has Wheels\n",
    "        self.transmission = Transmission()  # Composition: Car has Transmission\n",
    "\n",
    "    def start(self):\n",
    "        return self.engine.start()\n",
    "\n",
    "    def stop(self):\n",
    "        return self.engine.stop()\n",
    "\n",
    "    def drive(self):\n",
    "        self.transmission.change_gear(\"Drive\")\n",
    "        return self.wheels.rotate()\n",
    "\n",
    "# Create a car\n",
    "car = Car()\n",
    "\n",
    "# Drive the car\n",
    "print(car.start())  # Output: Engine started.\n",
    "print(car.drive())  # Output: Wheels rotating.\n",
    "print(car.stop())   # Output: Engine stopped."
   ]
  },
  {
   "cell_type": "code",
   "execution_count": 32,
   "id": "83e6858b-00a8-4af2-b8b7-f36e626fba35",
   "metadata": {},
   "outputs": [
    {
     "name": "stdout",
     "output_type": "stream",
     "text": [
      "Engine started.\n",
      "Engine stopped.\n",
      "Gasoline\n",
      "Engine started.\n"
     ]
    }
   ],
   "source": [
    "#11. How can you encapsulate and hide the details of composed objects in Python classes to maintain abstraction?\n",
    "class Engine:\n",
    "    def __init__(self):\n",
    "        self._fuel_type = \"Gasoline\"  # Private attribute\n",
    "\n",
    "    def _start(self):  # Private method\n",
    "        return \"Engine started.\"\n",
    "\n",
    "    def _stop(self):  # Private method\n",
    "        return \"Engine stopped.\"\n",
    "\n",
    "class Car:\n",
    "    def __init__(self):\n",
    "        self._engine = Engine()  # Composition: Car has an Engine\n",
    "\n",
    "    def start(self):\n",
    "        return self._engine._start()  # Delegation to private method\n",
    "\n",
    "    def stop(self):\n",
    "        return self._engine._stop()  # Delegation to private method\n",
    "\n",
    "# Create a car\n",
    "car = Car()\n",
    "\n",
    "# Drive the car\n",
    "print(car.start())  # Output: Engine started.\n",
    "print(car.stop())   # Output: Engine stopped.\n",
    "\n",
    "# Attempt to access private attribute (not recommended)\n",
    "print(car._engine._fuel_type)  # Output: Gasoline\n",
    "\n",
    "# Attempt to call private method (not recommended)\n",
    "print(car._engine._start())    # Output: Engine started."
   ]
  },
  {
   "cell_type": "code",
   "execution_count": 33,
   "id": "b0e28b99-f0c8-42f9-8dd0-8ee8ba1cffc8",
   "metadata": {},
   "outputs": [
    {
     "name": "stdout",
     "output_type": "stream",
     "text": [
      "Course Name: Python Programming\n",
      "Instructor: Dr. Smith (ID: 2001)\n",
      "Students:\n",
      "Student: Alice (ID: 1001)\n",
      "Student: Bob (ID: 1002)\n",
      "Course Material: Introduction to Python\n"
     ]
    }
   ],
   "source": [
    "#12. Create a Python class for a university course, using composition to represent students, instructors, and course materials.\n",
    "class Student:\n",
    "    def __init__(self, name, student_id):\n",
    "        self.name = name\n",
    "        self.student_id = student_id\n",
    "\n",
    "class Instructor:\n",
    "    def __init__(self, name, instructor_id):\n",
    "        self.name = name\n",
    "        self.instructor_id = instructor_id\n",
    "\n",
    "class CourseMaterial:\n",
    "    def __init__(self, title, content):\n",
    "        self.title = title\n",
    "        self.content = content\n",
    "\n",
    "class UniversityCourse:\n",
    "    def __init__(self, course_name, instructor, students, course_material):\n",
    "        self.course_name = course_name\n",
    "        self.instructor = instructor\n",
    "        self.students = students\n",
    "        self.course_material = course_material\n",
    "\n",
    "    def get_course_info(self):\n",
    "        instructor_info = f\"Instructor: {self.instructor.name} (ID: {self.instructor.instructor_id})\"\n",
    "        students_info = \"\\n\".join([f\"Student: {student.name} (ID: {student.student_id})\" for student in self.students])\n",
    "        course_material_info = f\"Course Material: {self.course_material.title}\"\n",
    "        return f\"Course Name: {self.course_name}\\n{instructor_info}\\nStudents:\\n{students_info}\\n{course_material_info}\"\n",
    "\n",
    "# Create students\n",
    "student1 = Student(\"Alice\", 1001)\n",
    "student2 = Student(\"Bob\", 1002)\n",
    "\n",
    "# Create instructor\n",
    "instructor = Instructor(\"Dr. Smith\", 2001)\n",
    "\n",
    "# Create course material\n",
    "course_material = CourseMaterial(\"Introduction to Python\", \"Python programming fundamentals.\")\n",
    "\n",
    "# Create a university course\n",
    "university_course = UniversityCourse(\"Python Programming\", instructor, [student1, student2], course_material)\n",
    "\n",
    "# Display course information\n",
    "print(university_course.get_course_info())"
   ]
  },
  {
   "cell_type": "code",
   "execution_count": 34,
   "id": "323fc25a-0b39-45ab-9fd1-c9938f98a6ab",
   "metadata": {},
   "outputs": [
    {
     "name": "stdout",
     "output_type": "stream",
     "text": [
      "Engine started.\n"
     ]
    }
   ],
   "source": [
    "#13. Discuss the challenges and drawbacks of composition, such as increased complexity and potential for tight coupling between objects.\n",
    "class Engine:\n",
    "    def start(self):\n",
    "        return \"Engine started.\"\n",
    "\n",
    "class Car:\n",
    "    def __init__(self):\n",
    "        self.engine = Engine()  # Tight coupling: Car depends heavily on Engine\n",
    "\n",
    "    def start(self):\n",
    "        return self.engine.start()  # Delegation to Engine\n",
    "\n",
    "# Usage\n",
    "car = Car()\n",
    "print(car.start())"
   ]
  },
  {
   "cell_type": "code",
   "execution_count": 35,
   "id": "baa41061-fea6-4d7c-99b6-efb2a82de19d",
   "metadata": {},
   "outputs": [
    {
     "name": "stdout",
     "output_type": "stream",
     "text": [
      "Main Menu Menu:\n",
      "Margherita Pizza: 2 Tomato, 1 Onion, 100 Cheese\n",
      "Chicken Caesar Salad: 2 Tomato, 1 Onion\n",
      "Spaghetti Bolognese: 2 Tomato, 1 Onion\n"
     ]
    }
   ],
   "source": [
    "#14. Create a Python class hierarchy for a restaurant system, using composition to represent menus, dishes, and ingredients.\n",
    "class Ingredient:\n",
    "    def __init__(self, name, quantity):\n",
    "        self.name = name\n",
    "        self.quantity = quantity\n",
    "\n",
    "    def __str__(self):\n",
    "        return f\"{self.quantity} {self.name}\"\n",
    "\n",
    "class Dish:\n",
    "    def __init__(self, name, ingredients):\n",
    "        self.name = name\n",
    "        self.ingredients = ingredients\n",
    "\n",
    "    def __str__(self):\n",
    "        ingredients_str = \", \".join(str(ingredient) for ingredient in self.ingredients)\n",
    "        return f\"{self.name}: {ingredients_str}\"\n",
    "\n",
    "class Menu:\n",
    "    def __init__(self, name, dishes):\n",
    "        self.name = name\n",
    "        self.dishes = dishes\n",
    "\n",
    "    def __str__(self):\n",
    "        dishes_str = \"\\n\".join(str(dish) for dish in self.dishes)\n",
    "        return f\"{self.name} Menu:\\n{dishes_str}\"\n",
    "\n",
    "# Ingredients\n",
    "ingredient1 = Ingredient(\"Tomato\", 2)\n",
    "ingredient2 = Ingredient(\"Onion\", 1)\n",
    "ingredient3 = Ingredient(\"Cheese\", 100)\n",
    "\n",
    "# Dishes\n",
    "dish1 = Dish(\"Margherita Pizza\", [ingredient1, ingredient2, ingredient3])\n",
    "dish2 = Dish(\"Chicken Caesar Salad\", [ingredient1, ingredient2])\n",
    "dish3 = Dish(\"Spaghetti Bolognese\", [ingredient1, ingredient2])\n",
    "\n",
    "# Menu\n",
    "menu = Menu(\"Main Menu\", [dish1, dish2, dish3])\n",
    "\n",
    "# Print menu\n",
    "print(menu)"
   ]
  },
  {
   "cell_type": "code",
   "execution_count": 36,
   "id": "f28d5440-cc3a-49f2-a6f9-690db0eb01c7",
   "metadata": {},
   "outputs": [
    {
     "name": "stdout",
     "output_type": "stream",
     "text": [
      "Engine started.\n"
     ]
    }
   ],
   "source": [
    "#15. Explain how composition enhances code maintainability and modularity in Python programs.\n",
    "class Engine:\n",
    "    def start(self):\n",
    "        return \"Engine started.\"\n",
    "\n",
    "class Car:\n",
    "    def __init__(self, engine):\n",
    "        self.engine = engine\n",
    "\n",
    "    def start(self):\n",
    "        return self.engine.start()  # Delegation to Engine\n",
    "\n",
    "# Usage\n",
    "engine = Engine()\n",
    "car = Car(engine)\n",
    "print(car.start()) "
   ]
  },
  {
   "cell_type": "code",
   "execution_count": 37,
   "id": "ca1e7b7a-cdca-4bd4-829c-5b09c90aa43b",
   "metadata": {},
   "outputs": [
    {
     "name": "stdout",
     "output_type": "stream",
     "text": [
      "Player attacks Enemy with Sword causing 10 damage.\n",
      "Enemy takes 7 damage after armor reduction.\n",
      "Enemy attacks Player with Bow causing 8 damage.\n",
      "Player takes 3 damage after armor reduction.\n"
     ]
    }
   ],
   "source": [
    "#16. Create a Python class for a computer game character, using composition to represent attributes like weapons, armor, and inventory.\n",
    "class Weapon:\n",
    "    def __init__(self, name, damage):\n",
    "        self.name = name\n",
    "        self.damage = damage\n",
    "\n",
    "class Armor:\n",
    "    def __init__(self, name, defense):\n",
    "        self.name = name\n",
    "        self.defense = defense\n",
    "\n",
    "class Inventory:\n",
    "    def __init__(self):\n",
    "        self.items = []\n",
    "\n",
    "    def add_item(self, item):\n",
    "        self.items.append(item)\n",
    "\n",
    "class Character:\n",
    "    def __init__(self, name, health):\n",
    "        self.name = name\n",
    "        self.health = health\n",
    "        self.weapon = None\n",
    "        self.armor = None\n",
    "        self.inventory = Inventory()\n",
    "\n",
    "    def equip_weapon(self, weapon):\n",
    "        self.weapon = weapon\n",
    "\n",
    "    def equip_armor(self, armor):\n",
    "        self.armor = armor\n",
    "\n",
    "    def attack(self, target):\n",
    "        if self.weapon:\n",
    "            damage = self.weapon.damage\n",
    "            print(f\"{self.name} attacks {target.name} with {self.weapon.name} causing {damage} damage.\")\n",
    "            target.take_damage(damage)\n",
    "        else:\n",
    "            print(f\"{self.name} attacks {target.name} but has no weapon equipped.\")\n",
    "\n",
    "    def take_damage(self, damage):\n",
    "        if self.armor:\n",
    "            reduction = min(damage, self.armor.defense)\n",
    "            damage -= reduction\n",
    "            print(f\"{self.name} takes {damage} damage after armor reduction.\")\n",
    "        else:\n",
    "            print(f\"{self.name} takes {damage} damage.\")\n",
    "        self.health -= damage\n",
    "        if self.health <= 0:\n",
    "            print(f\"{self.name} has been defeated.\")\n",
    "\n",
    "# Create weapons\n",
    "sword = Weapon(\"Sword\", 10)\n",
    "bow = Weapon(\"Bow\", 8)\n",
    "\n",
    "# Create armor\n",
    "shield = Armor(\"Shield\", 5)\n",
    "helmet = Armor(\"Helmet\", 3)\n",
    "\n",
    "# Create characters\n",
    "player = Character(\"Player\", 100)\n",
    "enemy = Character(\"Enemy\", 80)\n",
    "\n",
    "# Equip weapons and armor\n",
    "player.equip_weapon(sword)\n",
    "player.equip_armor(shield)\n",
    "enemy.equip_weapon(bow)\n",
    "enemy.equip_armor(helmet)\n",
    "\n",
    "# Attack\n",
    "player.attack(enemy)\n",
    "enemy.attack(player)"
   ]
  },
  {
   "cell_type": "code",
   "execution_count": 42,
   "id": "d7135811-9704-414d-9246-2b957fa555bc",
   "metadata": {},
   "outputs": [
    {
     "name": "stdout",
     "output_type": "stream",
     "text": [
      "Department Names:\n",
      "Engineering\n",
      "Sales\n",
      "\n",
      "Employee Information:\n",
      "Name: Alice, Department: Engineering\n",
      "Name: Bob, Department: Sales\n"
     ]
    }
   ],
   "source": [
    "#17. Describe the concept of \"aggregation\" in composition and how it differs from simple composition.\n",
    "class Department:\n",
    "    def __init__(self, name):\n",
    "        self.name = name\n",
    "\n",
    "class Employee:\n",
    "    def __init__(self, name, department):\n",
    "        self.name = name\n",
    "        self.department = department  # Aggregation: Employee has-a Department\n",
    "\n",
    "# Create departments\n",
    "engineering_dept = Department(\"Engineering\")\n",
    "sales_dept = Department(\"Sales\")\n",
    "\n",
    "# Create employees\n",
    "employee1 = Employee(\"Alice\", engineering_dept)\n",
    "employee2 = Employee(\"Bob\", sales_dept)\n",
    "\n",
    "# Print department names\n",
    "print(\"Department Names:\")\n",
    "print(engineering_dept.name)\n",
    "print(sales_dept.name)\n",
    "\n",
    "# Print employee information\n",
    "print(\"\\nEmployee Information:\")\n",
    "print(f\"Name: {employee1.name}, Department: {employee1.department.name}\")\n",
    "print(f\"Name: {employee2.name}, Department: {employee2.department.name}\")\n"
   ]
  },
  {
   "cell_type": "code",
   "execution_count": 43,
   "id": "a0b7ca17-0d1d-4a92-b987-980a2ef390bf",
   "metadata": {},
   "outputs": [
    {
     "name": "stdout",
     "output_type": "stream",
     "text": [
      "Living Room:\n",
      "Furniture: Sofa\n",
      "Appliances: Television\n",
      "\n",
      "Kitchen:\n",
      "Furniture: Dining Table\n",
      "Appliances: Refrigerator\n",
      "\n"
     ]
    }
   ],
   "source": [
    "#18. Create a Python class for a house, using composition to represent rooms, furniture, and appliances.\n",
    "class Furniture:\n",
    "    def __init__(self, name):\n",
    "        self.name = name\n",
    "\n",
    "class Appliance:\n",
    "    def __init__(self, name):\n",
    "        self.name = name\n",
    "\n",
    "class Room:\n",
    "    def __init__(self, name):\n",
    "        self.name = name\n",
    "        self.furniture = []\n",
    "        self.appliances = []\n",
    "\n",
    "    def add_furniture(self, furniture):\n",
    "        self.furniture.append(furniture)\n",
    "\n",
    "    def add_appliance(self, appliance):\n",
    "        self.appliances.append(appliance)\n",
    "\n",
    "class House:\n",
    "    def __init__(self):\n",
    "        self.rooms = []\n",
    "\n",
    "    def add_room(self, room):\n",
    "        self.rooms.append(room)\n",
    "\n",
    "# Create furniture\n",
    "table = Furniture(\"Dining Table\")\n",
    "sofa = Furniture(\"Sofa\")\n",
    "\n",
    "# Create appliances\n",
    "tv = Appliance(\"Television\")\n",
    "fridge = Appliance(\"Refrigerator\")\n",
    "\n",
    "# Create rooms\n",
    "living_room = Room(\"Living Room\")\n",
    "kitchen = Room(\"Kitchen\")\n",
    "\n",
    "# Add furniture and appliances to rooms\n",
    "living_room.add_furniture(sofa)\n",
    "living_room.add_appliance(tv)\n",
    "kitchen.add_furniture(table)\n",
    "kitchen.add_appliance(fridge)\n",
    "\n",
    "# Create a house and add rooms to it\n",
    "my_house = House()\n",
    "my_house.add_room(living_room)\n",
    "my_house.add_room(kitchen)\n",
    "\n",
    "# Display house information\n",
    "for room in my_house.rooms:\n",
    "    print(f\"{room.name}:\")\n",
    "    print(\"Furniture:\", \", \".join(furniture.name for furniture in room.furniture))\n",
    "    print(\"Appliances:\", \", \".join(appliance.name for appliance in room.appliances))\n",
    "    print()"
   ]
  },
  {
   "cell_type": "code",
   "execution_count": 44,
   "id": "cd5ad9ee-d000-4fd4-8d52-4c4911359979",
   "metadata": {},
   "outputs": [
    {
     "name": "stdout",
     "output_type": "stream",
     "text": [
      "Warrior: Slashing attack with sword.\n",
      "Archer: Shooting arrows with bow.\n",
      "Archer: Slashing attack with sword.\n"
     ]
    }
   ],
   "source": [
    "#19. How can you achieve flexibility in composed objects by allowing them to be replaced or modified dynamically at runtime?\n",
    "class Weapon:\n",
    "    def attack(self):\n",
    "        pass\n",
    "\n",
    "class Sword(Weapon):\n",
    "    def attack(self):\n",
    "        return \"Slashing attack with sword.\"\n",
    "\n",
    "class Bow(Weapon):\n",
    "    def attack(self):\n",
    "        return \"Shooting arrows with bow.\"\n",
    "\n",
    "class Character:\n",
    "    def __init__(self, name, weapon):\n",
    "        self.name = name\n",
    "        self.weapon = weapon\n",
    "\n",
    "    def attack(self):\n",
    "        return self.weapon.attack()\n",
    "\n",
    "# Create characters with different weapons\n",
    "character1 = Character(\"Warrior\", Sword())\n",
    "character2 = Character(\"Archer\", Bow())\n",
    "\n",
    "# Characters attack\n",
    "print(character1.name + \": \" + character1.attack())  # Output: Warrior: Slashing attack with sword.\n",
    "print(character2.name + \": \" + character2.attack())  # Output: Archer: Shooting arrows with bow.\n",
    "\n",
    "# Change weapon at runtime\n",
    "character2.weapon = Sword()\n",
    "print(character2.name + \": \" + character2.attack())"
   ]
  },
  {
   "cell_type": "code",
   "execution_count": 46,
   "id": "fb1c0fdb-d42a-4cb1-a5d1-1fe8ed9a0f4f",
   "metadata": {},
   "outputs": [
    {
     "name": "stdout",
     "output_type": "stream",
     "text": [
      "<__main__.User object at 0x7fbdb675b8b0>: Hello, world!\n",
      "Comments:\n",
      "<__main__.User object at 0x7fbdb675b3d0>: Nice post!\n",
      "\n",
      "<__main__.User object at 0x7fbdb675b3d0>: Python is awesome!\n",
      "Comments:\n",
      "<__main__.User object at 0x7fbdb675b8b0>: I totally agree!\n"
     ]
    }
   ],
   "source": [
    "#20. Create a Python class for a social media application, using composition to represent users, posts, and comments.\n",
    "class Comment:\n",
    "    def __init__(self, user, content):\n",
    "        self.user = user\n",
    "        self.content = content\n",
    "\n",
    "    def __str__(self):\n",
    "        return f\"{self.user}: {self.content}\"\n",
    "\n",
    "class Post:\n",
    "    def __init__(self, user, content):\n",
    "        self.user = user\n",
    "        self.content = content\n",
    "        self.comments = []\n",
    "\n",
    "    def add_comment(self, comment):\n",
    "        self.comments.append(comment)\n",
    "\n",
    "    def __str__(self):\n",
    "        comments_str = \"\\n\".join(str(comment) for comment in self.comments)\n",
    "        return f\"{self.user}: {self.content}\\nComments:\\n{comments_str}\"\n",
    "\n",
    "class User:\n",
    "    def __init__(self, username):\n",
    "        self.username = username\n",
    "\n",
    "    def create_post(self, content):\n",
    "        return Post(self, content)\n",
    "\n",
    "    def comment_on_post(self, post, content):\n",
    "        comment = Comment(self, content)\n",
    "        post.add_comment(comment)\n",
    "\n",
    "# Create users\n",
    "user1 = User(\"Alice\")\n",
    "user2 = User(\"Bob\")\n",
    "\n",
    "# Create posts\n",
    "post1 = user1.create_post(\"Hello, world!\")\n",
    "post2 = user2.create_post(\"Python is awesome!\")\n",
    "\n",
    "# Users comment on posts\n",
    "user1.comment_on_post(post2, \"I totally agree!\")\n",
    "user2.comment_on_post(post1, \"Nice post!\")\n",
    "\n",
    "# Display posts\n",
    "print(post1)\n",
    "print()\n",
    "print(post2)"
   ]
  },
  {
   "cell_type": "code",
   "execution_count": null,
   "id": "2d04cc87-75bb-4d61-907a-eee861b88dca",
   "metadata": {},
   "outputs": [],
   "source": []
  }
 ],
 "metadata": {
  "kernelspec": {
   "display_name": "Python 3 (ipykernel)",
   "language": "python",
   "name": "python3"
  },
  "language_info": {
   "codemirror_mode": {
    "name": "ipython",
    "version": 3
   },
   "file_extension": ".py",
   "mimetype": "text/x-python",
   "name": "python",
   "nbconvert_exporter": "python",
   "pygments_lexer": "ipython3",
   "version": "3.10.8"
  }
 },
 "nbformat": 4,
 "nbformat_minor": 5
}
