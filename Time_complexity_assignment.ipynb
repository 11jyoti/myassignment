{
 "cells": [
  {
   "cell_type": "code",
   "execution_count": null,
   "id": "5b5f76de-7a53-46e6-a0ae-627b123fea86",
   "metadata": {},
   "outputs": [],
   "source": [
    "#Find time complexity of below code blocks :\n",
    "#Problem 1 :\n",
    "\"\"\"def quicksort(arr):\n",
    "if len(arr) <= 1:\n",
    "return arr\n",
    "pivot = arr[len(arr) // 2]\n",
    "left = [x for x in arr if x < pivot]\n",
    "middle = [x for x in arr if x == pivot]\n",
    "right = [x for x in arr if x > pivot]\n",
    "return quicksort(left) + middle + quicksort(right)\"\"\"\n",
    "#ANSWER\n",
    "#The time complexity of the provided quicksort algorithm is O(nlogn) on average and in the best case, and O(n^2)  in the worst case.\n",
    "\n",
    "\n"
   ]
  },
  {
   "cell_type": "code",
   "execution_count": null,
   "id": "cf293cb6-77c6-4ac7-a70b-7a2b3af432d3",
   "metadata": {},
   "outputs": [],
   "source": [
    "#Problem 2 :\n",
    "\"\"\"def nested_loop_example(matrix):\n",
    "rows, cols = len(matrix), len(matrix[0])\n",
    "total = 0\n",
    "for i in range(rows):\n",
    "for j in range(cols):\n",
    "total += matrix[i][j]\n",
    "return total\"\"\"\n",
    "#ANSWER\n",
    "#The time complexity of the provided nested_loop_example function is O(n×m), where n is the number of rows and m is the number of columns in the matrix.\n"
   ]
  },
  {
   "cell_type": "code",
   "execution_count": null,
   "id": "1b74e48c-c7d7-4f19-adbf-a6120c6a9f29",
   "metadata": {},
   "outputs": [],
   "source": [
    "#Problem 3 :\n",
    "\"\"\"def example_function(arr):\n",
    "result = 0\n",
    "for element in arr:\n",
    "result += element\n",
    "return result\"\"\"\n",
    "#ANSWER\n",
    "# the time complexity of the example_function is O(n), where n is the number of elements in the input array.\n"
   ]
  },
  {
   "cell_type": "code",
   "execution_count": null,
   "id": "8cc01076-d25c-4985-9d85-2c0dafbe1cdd",
   "metadata": {},
   "outputs": [],
   "source": [
    "#Problem 4 :\n",
    "\"\"\"def longest_increasing_subsequence(nums):\n",
    "n = len(nums)\n",
    "lis = [1] * n\n",
    "for i in range(1, n):\n",
    "for j in range(0, i):\n",
    "if nums[i] > nums[j] and lis[i] < lis[j] + 1:\n",
    "lis[i] = lis[j] + 1\n",
    "return max(lis)\"\"\"\n",
    "#the overall time complexity of the longest_increasing_subsequence function is dominated by the nested loops, resulting in  O(n^2).\n",
    "\n",
    "\n",
    "\n",
    "\n",
    "\n",
    "\n"
   ]
  },
  {
   "cell_type": "code",
   "execution_count": null,
   "id": "39914ec3-b20c-4251-85fe-89b32fa496a8",
   "metadata": {},
   "outputs": [],
   "source": [
    "#Problem 5 :\n",
    "\"\"\"def mysterious_function(arr):\n",
    "n = len(arr)\n",
    "result = 0\n",
    "for i in range(n):\n",
    "for j in range(i, n):\n",
    "result += arr[i] * arr[j]\n",
    "return result\"\"\"\n",
    "#the overall time complexity of the mysterious_function is O(n^2).\n",
    "\n",
    "\n",
    "\n",
    "\n",
    "\n",
    "\n"
   ]
  },
  {
   "cell_type": "code",
   "execution_count": 1,
   "id": "b2d297ae-158f-4c7c-abbd-b0900a7bc702",
   "metadata": {},
   "outputs": [
    {
     "name": "stdout",
     "output_type": "stream",
     "text": [
      "Sum of digits: 6\n"
     ]
    }
   ],
   "source": [
    "#Solve the following problems on recursion\n",
    "#Problem 6 : Sum of Digits\n",
    "#Write a recursive function to calculate the sum of digits of a given positive integer.\n",
    "#sum_of_digits(123) -> 6\n",
    "def sum_of_digits(n):\n",
    "    if n < 10:\n",
    "        return n\n",
    "    else:\n",
    "        return n % 10 + sum_of_digits(n // 10)\n",
    "\n",
    "# Test the function\n",
    "number = 123\n",
    "result = sum_of_digits(number)\n",
    "print(\"Sum of digits:\", result)"
   ]
  },
  {
   "cell_type": "code",
   "execution_count": 2,
   "id": "e5c08765-69ac-4c2f-be9d-9bd040367943",
   "metadata": {},
   "outputs": [
    {
     "name": "stdout",
     "output_type": "stream",
     "text": [
      "Fibonacci series: [0, 1, 1, 2, 3, 5]\n"
     ]
    }
   ],
   "source": [
    "#Problem 7: Fibonacci Series\n",
    "#Write a recursive function to generate the first n numbers of the Fibonacci series.\n",
    "#fibonacci_series(6) -> [0, 1, 1, 2, 3, 5]\n",
    "def fibonacci_series(n):\n",
    "    if n <= 0:\n",
    "        return []\n",
    "    elif n == 1:\n",
    "        return [0]\n",
    "    elif n == 2:\n",
    "        return [0, 1]\n",
    "    else:\n",
    "        fib_series = fibonacci_series(n - 1)\n",
    "        fib_series.append(fib_series[-1] + fib_series[-2])\n",
    "        return fib_series\n",
    "\n",
    "# Test the function\n",
    "n = 6\n",
    "result = fibonacci_series(n)\n",
    "print(\"Fibonacci series:\", result)"
   ]
  },
  {
   "cell_type": "code",
   "execution_count": 3,
   "id": "f3b2695d-d333-46f3-bb2c-92f8834a8b91",
   "metadata": {},
   "outputs": [
    {
     "name": "stdout",
     "output_type": "stream",
     "text": [
      "Subset sum exists: True\n"
     ]
    }
   ],
   "source": [
    "#Problem 8 : Subset Sum\n",
    "#Given a set of positive integers and a target sum, write a recursive function to determine if there exists a subset of the integers that adds up to the target sum.\n",
    "#subset_sum([3, 34, 4, 12, 5, 2], 9) -> True\n",
    "def subset_sum(nums, target):\n",
    "    # Helper function to recursively check subset sum\n",
    "    def is_subset_sum(nums, target, n):\n",
    "        # Base cases\n",
    "        if target == 0:\n",
    "            return True\n",
    "        if n == 0:\n",
    "            return False\n",
    "        \n",
    "        # If the last element is greater than the target, it can't be included in the subset\n",
    "        if nums[n - 1] > target:\n",
    "            return is_subset_sum(nums, target, n - 1)\n",
    "        \n",
    "        # Check if subset sum can be obtained by including or excluding the last element\n",
    "        return is_subset_sum(nums, target - nums[n - 1], n - 1) or is_subset_sum(nums, target, n - 1)\n",
    "    \n",
    "    # Call the helper function with the length of the array\n",
    "    return is_subset_sum(nums, target, len(nums))\n",
    "\n",
    "# Test the function\n",
    "nums = [3, 34, 4, 12, 5, 2]\n",
    "target = 9\n",
    "result = subset_sum(nums, target)\n",
    "print(\"Subset sum exists:\", result)"
   ]
  },
  {
   "cell_type": "code",
   "execution_count": 5,
   "id": "3bc036c3-11e8-4690-a44f-fb4b340e0e80",
   "metadata": {},
   "outputs": [
    {
     "name": "stdout",
     "output_type": "stream",
     "text": [
      "String can be segmented: True\n"
     ]
    }
   ],
   "source": [
    "# Problem 9: Word Break\n",
    "#Given a non-empty string and a dictionary of words, write a recursive function to determine if the string can besegmented into a space-separated sequence of dictionary words.\n",
    "#word_break( leetcode , [ leet , code ]) -> True\n",
    "def word_break(s, word_dict):\n",
    "    # Memoization dictionary to store results of subproblems\n",
    "    memo = {}\n",
    "    \n",
    "    # Helper function to recursively check if the string can be segmented\n",
    "    def can_segment(s):\n",
    "        # If the string is empty, it can be segmented\n",
    "        if not s:\n",
    "            return True\n",
    "        \n",
    "        # If the result for the current string has been memoized, return it\n",
    "        if s in memo:\n",
    "            return memo[s]\n",
    "        \n",
    "        # Check if any prefix of the string is in the dictionary and the remaining substring can also be segmented\n",
    "        for i in range(1, len(s) + 1):\n",
    "            prefix = s[:i]\n",
    "            if prefix in word_dict and can_segment(s[i:]):\n",
    "                memo[s] = True\n",
    "                return True\n",
    "        \n",
    "        # If no valid segmentation is found, memoize and return False\n",
    "        memo[s] = False\n",
    "        return False\n",
    "    \n",
    "    # Call the helper function with the input string\n",
    "    return can_segment(s)\n",
    "\n",
    "# Test the function\n",
    "s = \"leetcode\"\n",
    "word_dict = [\"leet\", \"code\"]\n",
    "result = word_break(s, word_dict)\n",
    "print(\"String can be segmented:\", result)"
   ]
  },
  {
   "cell_type": "code",
   "execution_count": null,
   "id": "e94ef68c-a751-42db-94ca-1e7cc4236e31",
   "metadata": {},
   "outputs": [],
   "source": [
    "#Problem 10 : N-Queens\n",
    "#Implement a recursive function to solve the N Queens problem, where you have to place N queens on an N×N chessboard in such a way that no two queens threaten each other.\n",
    "\"\"\"n_queens(4)\n",
    "[\n",
    "[\".Q..\",\n",
    "\"...Q\",\n",
    "\"Q...\",\n",
    "\"..Q.\"],\n",
    "[\"..Q.\",\n",
    "\"Q...\",\n",
    "\"...Q\",\n",
    "\".Q..\"]\n",
    "]\"\"\""
   ]
  }
 ],
 "metadata": {
  "kernelspec": {
   "display_name": "Python 3 (ipykernel)",
   "language": "python",
   "name": "python3"
  },
  "language_info": {
   "codemirror_mode": {
    "name": "ipython",
    "version": 3
   },
   "file_extension": ".py",
   "mimetype": "text/x-python",
   "name": "python",
   "nbconvert_exporter": "python",
   "pygments_lexer": "ipython3",
   "version": "3.10.8"
  }
 },
 "nbformat": 4,
 "nbformat_minor": 5
}
