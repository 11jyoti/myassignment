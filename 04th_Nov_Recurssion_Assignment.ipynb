{
 "cells": [
  {
   "cell_type": "code",
   "execution_count": 3,
   "id": "b14b15ce-9d7f-4e72-8456-72ee3a84cd55",
   "metadata": {},
   "outputs": [
    {
     "name": "stdout",
     "output_type": "stream",
     "text": [
      "Move disk 1 from rod A to rod C\n",
      "Move disk 2 from rod A to rod B\n",
      "Move disk 1 from rod C to rod B\n",
      "Move disk 3 from rod A to rod C\n",
      "Move disk 1 from rod B to rod A\n",
      "Move disk 2 from rod B to rod C\n",
      "Move disk 1 from rod A to rod C\n"
     ]
    }
   ],
   "source": [
    "#Q.1 Can you explain the logic and working of the Tower of Hanoi algorithm by writing a Java program?\n",
    "#How does the recursion work, and how are the movements of disks between rods accomplished?\n",
    "def tower_of_hanoi(n, source, auxiliary, destination):\n",
    "    if n == 1:\n",
    "        print(\"Move disk 1 from rod\", source, \"to rod\", destination)\n",
    "        return\n",
    "    tower_of_hanoi(n - 1, source, destination, auxiliary)\n",
    "    print(\"Move disk\", n, \"from rod\", source, \"to rod\", destination)\n",
    "    tower_of_hanoi(n - 1, auxiliary, source, destination)\n",
    "\n",
    "# Example usage:\n",
    "n = 3  # Number of disks\n",
    "tower_of_hanoi(n, 'A', 'B', 'C')"
   ]
  },
  {
   "cell_type": "code",
   "execution_count": 4,
   "id": "44dde0ec-77f3-4cbf-bb2f-ddc65e3ee55e",
   "metadata": {},
   "outputs": [
    {
     "name": "stdout",
     "output_type": "stream",
     "text": [
      "3\n"
     ]
    }
   ],
   "source": [
    "#Q.2 Given two strings word1 and word2, return the minimum number of operations required to convert word1 to word2.\n",
    "def min_distance(word1, word2):\n",
    "    m, n = len(word1), len(word2)\n",
    "    \n",
    "    # Initialize a 2D array to store the minimum number of operations\n",
    "    dp = [[0] * (n + 1) for _ in range(m + 1)]\n",
    "    \n",
    "    # Initialize the first row and column\n",
    "    for i in range(m + 1):\n",
    "        dp[i][0] = i\n",
    "    for j in range(n + 1):\n",
    "        dp[0][j] = j\n",
    "    \n",
    "    # Fill the dp array\n",
    "    for i in range(1, m + 1):\n",
    "        for j in range(1, n + 1):\n",
    "            if word1[i - 1] == word2[j - 1]:\n",
    "                dp[i][j] = dp[i - 1][j - 1]\n",
    "            else:\n",
    "                dp[i][j] = 1 + min(dp[i - 1][j],      # deletion\n",
    "                                   dp[i][j - 1],      # insertion\n",
    "                                   dp[i - 1][j - 1]) # substitution\n",
    "    \n",
    "    return dp[m][n]\n",
    "\n",
    "# Example usage:\n",
    "word1 = \"horse\"\n",
    "word2 = \"ros\"\n",
    "print(min_distance(word1, word2))"
   ]
  },
  {
   "cell_type": "code",
   "execution_count": 7,
   "id": "c230168c-70ef-4783-812d-ba90c12c0475",
   "metadata": {},
   "outputs": [
    {
     "name": "stdout",
     "output_type": "stream",
     "text": [
      "Max value of the array: 22\n"
     ]
    }
   ],
   "source": [
    "#Q. 3 Print the max value of the array [ 13, 1, -3, 22, 5].\n",
    "def max_value(arr, n):\n",
    "    # Base case: if the array has only one element, return that element\n",
    "    if n == 1:\n",
    "        return arr[0]\n",
    "    # Otherwise, recursively find the maximum value of the subarray starting from the second element\n",
    "    max_rest = max_value(arr, n - 1)\n",
    "    # Compare the maximum value of the subarray with the last element of the array\n",
    "    return max(max_rest, arr[n - 1])\n",
    "\n",
    "# Example usage:\n",
    "arr = [13, 1, -3, 22, 5]\n",
    "max_val = max_value(arr, len(arr))\n",
    "print(\"Max value of the array:\", max_val)\n"
   ]
  },
  {
   "cell_type": "code",
   "execution_count": 6,
   "id": "d25862f5-5b44-4a9d-a9de-c24b4fd6b9a1",
   "metadata": {},
   "outputs": [
    {
     "name": "stdout",
     "output_type": "stream",
     "text": [
      "Sum of the values of the array: 120\n"
     ]
    }
   ],
   "source": [
    "#Q.4 Find the sum of the values of the array [92, 23, 15, -20, 10].\n",
    "def array_sum(arr):\n",
    "    if len(arr) == 0:  # Base case: if the array is empty, return 0\n",
    "        return 0\n",
    "    else:\n",
    "        return arr[0] + array_sum(arr[1:])  # Add the first element to the sum of the rest of the array\n",
    "\n",
    "# Example usage:\n",
    "arr = [92, 23, 15, -20, 10]\n",
    "total_sum = array_sum(arr)\n",
    "print(\"Sum of the values of the array:\", total_sum)"
   ]
  },
  {
   "cell_type": "code",
   "execution_count": 8,
   "id": "af74ae89-abc3-4db9-b16a-77664f89c07d",
   "metadata": {},
   "outputs": [
    {
     "name": "stdout",
     "output_type": "stream",
     "text": [
      "153 is an Armstrong number\n"
     ]
    }
   ],
   "source": [
    "#Q.5 Given a number n. Print if it is an armstrong number or not.An armstrong number is a number if the sum of every digit in that number raised to the power of total digits in that number is equal to the number.\n",
    "def count_digits(n):\n",
    "    if n == 0:\n",
    "        return 0\n",
    "    return 1 + count_digits(n // 10)\n",
    "\n",
    "def is_armstrong(n):\n",
    "    # Base case: if n is a single digit number, it is an Armstrong number\n",
    "    if n < 10:\n",
    "        return True\n",
    "    \n",
    "    # Count the number of digits in n\n",
    "    num_digits = count_digits(n)\n",
    "    \n",
    "    # Calculate the sum of each digit raised to the power of num_digits\n",
    "    digit_sum = sum(int(digit) ** num_digits for digit in str(n))\n",
    "    \n",
    "    # Check if the sum is equal to n\n",
    "    return digit_sum == n\n",
    "\n",
    "# Example usage:\n",
    "number = 153\n",
    "if is_armstrong(number):\n",
    "    print(number, \"is an Armstrong number\")\n",
    "else:\n",
    "    print(number, \"is not an Armstrong number\")"
   ]
  },
  {
   "cell_type": "code",
   "execution_count": null,
   "id": "b1013821-4747-4a01-88a5-a7b55ebce1de",
   "metadata": {},
   "outputs": [],
   "source": []
  }
 ],
 "metadata": {
  "kernelspec": {
   "display_name": "Python 3 (ipykernel)",
   "language": "python",
   "name": "python3"
  },
  "language_info": {
   "codemirror_mode": {
    "name": "ipython",
    "version": 3
   },
   "file_extension": ".py",
   "mimetype": "text/x-python",
   "name": "python",
   "nbconvert_exporter": "python",
   "pygments_lexer": "ipython3",
   "version": "3.10.8"
  }
 },
 "nbformat": 4,
 "nbformat_minor": 5
}
