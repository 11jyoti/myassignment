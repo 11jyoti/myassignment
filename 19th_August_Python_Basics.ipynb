{
 "cells": [
  {
   "cell_type": "code",
   "execution_count": 3,
   "id": "8aa0cee9-9cfe-45da-b774-6bf6114a16a7",
   "metadata": {},
   "outputs": [
    {
     "name": "stdin",
     "output_type": "stream",
     "text": [
      "Enter the value of x? 5\n",
      "Enter the value of y? 8\n"
     ]
    },
    {
     "name": "stdout",
     "output_type": "stream",
     "text": [
      "before swapping numbers: 5 8\n",
      "\n",
      "After swapping: 8 5\n",
      "\n"
     ]
    }
   ],
   "source": [
    "x = int(input(\"Enter the value of x?\"))\n",
    "y = int(input(\"Enter the value of y?\"))\n",
    "print(\"before swapping numbers: %d %d\\n\" %(x,y))\n",
    "x = x + y\n",
    "y = x - y\n",
    "x = x - y\n",
    "print(\"After swapping: %d %d\\n\"%(x,y))"
   ]
  },
  {
   "cell_type": "code",
   "execution_count": 4,
   "id": "1e7ac059-0af6-4993-94a4-73fec8e8e66c",
   "metadata": {},
   "outputs": [
    {
     "name": "stdin",
     "output_type": "stream",
     "text": [
      "Please Enter the Width of a Rectangle:  4\n",
      "Please Enter the Height of a Rectangle:  7\n"
     ]
    },
    {
     "name": "stdout",
     "output_type": "stream",
     "text": [
      "Area of rectangle=28.0\n"
     ]
    }
   ],
   "source": [
    "w = float(input('Please Enter the Width of a Rectangle: '))\n",
    "h = float(input('Please Enter the Height of a Rectangle: '))\n",
    "area=w*h\n",
    "print(\"Area of rectangle=\"+str(area))"
   ]
  },
  {
   "cell_type": "code",
   "execution_count": 5,
   "id": "5553b94a-34b5-4840-8100-cb3bd994a788",
   "metadata": {},
   "outputs": [
    {
     "name": "stdin",
     "output_type": "stream",
     "text": [
      "Enter temperature in celsius:  78\n"
     ]
    },
    {
     "name": "stdout",
     "output_type": "stream",
     "text": [
      "172.4\n"
     ]
    }
   ],
   "source": [
    "celsius = float(input(\"Enter temperature in celsius: \"))\n",
    "fahrenheit = (celsius * 1.8) + 32\n",
    "print(fahrenheit)"
   ]
  },
  {
   "cell_type": "code",
   "execution_count": 6,
   "id": "770c99c3-c312-4694-a345-0a3b64d54d32",
   "metadata": {},
   "outputs": [
    {
     "name": "stdin",
     "output_type": "stream",
     "text": [
      " name\n"
     ]
    },
    {
     "name": "stdout",
     "output_type": "stream",
     "text": [
      "4\n"
     ]
    }
   ],
   "source": [
    "str = input()\n",
    "print(len(str))"
   ]
  },
  {
   "cell_type": "code",
   "execution_count": 9,
   "id": "19b4ec5f-2bcf-4318-a47f-90a61e7ad111",
   "metadata": {},
   "outputs": [
    {
     "name": "stdin",
     "output_type": "stream",
     "text": [
      "Enter the string : jjyyoottii\n"
     ]
    },
    {
     "name": "stdout",
     "output_type": "stream",
     "text": [
      "Total vowels are : 4\n"
     ]
    }
   ],
   "source": [
    "String = input('Enter the string :')\n",
    "count = 0\n",
    "String = String.lower()\n",
    "for i in String:\n",
    "    if (i == 'a' or i == 'e' or i == 'i' or i == 'o' or i == 'u'):\n",
    "        count+=1\n",
    "if count == 0:\n",
    "    print('No vowels found')\n",
    "else:\n",
    "    print('Total vowels are :', count)"
   ]
  },
  {
   "cell_type": "code",
   "execution_count": 11,
   "id": "f17b4b0a-4da4-4e05-8c47-f1e3b3302d09",
   "metadata": {},
   "outputs": [
    {
     "name": "stdout",
     "output_type": "stream",
     "text": [
      "itoyj si eman ym\n"
     ]
    }
   ],
   "source": [
    "str=\"my name is jyoti\"\n",
    "print(str[::-1])"
   ]
  },
  {
   "cell_type": "code",
   "execution_count": 12,
   "id": "eb0a770e-7ef1-4d3d-bd93-934e74cfe005",
   "metadata": {},
   "outputs": [
    {
     "name": "stdout",
     "output_type": "stream",
     "text": [
      "Yes\n"
     ]
    }
   ],
   "source": [
    "x = \"malayalam\"\n",
    " \n",
    "w = \"\"\n",
    "for i in x:\n",
    "    w = i + w\n",
    " \n",
    "if (x == w):\n",
    "    print(\"palindrome\")\n",
    "else:\n",
    "    print(\"Not palindrom\")"
   ]
  },
  {
   "cell_type": "code",
   "execution_count": 13,
   "id": "80bcf670-7439-4340-a569-11c39d672a90",
   "metadata": {},
   "outputs": [
    {
     "name": "stdout",
     "output_type": "stream",
     "text": [
      "String after removing all the white spaces : Removewhitespaces\n"
     ]
    }
   ],
   "source": [
    "str1 = \"Remove white spaces\";  \n",
    "str1 = str1.replace(\" \",\"\");  \n",
    "          \n",
    "print(\"String after removing all the white spaces : \" + str1)"
   ]
  },
  {
   "cell_type": "code",
   "execution_count": null,
   "id": "aca32a50-bdc1-4392-a08d-f3ebc5fdf968",
   "metadata": {},
   "outputs": [],
   "source": []
  }
 ],
 "metadata": {
  "kernelspec": {
   "display_name": "Python 3 (ipykernel)",
   "language": "python",
   "name": "python3"
  },
  "language_info": {
   "codemirror_mode": {
    "name": "ipython",
    "version": 3
   },
   "file_extension": ".py",
   "mimetype": "text/x-python",
   "name": "python",
   "nbconvert_exporter": "python",
   "pygments_lexer": "ipython3",
   "version": "3.10.8"
  }
 },
 "nbformat": 4,
 "nbformat_minor": 5
}
