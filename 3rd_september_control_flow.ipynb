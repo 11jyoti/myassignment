{
 "cells": [
  {
   "cell_type": "code",
   "execution_count": 1,
   "id": "59a75036-eb4a-46df-9878-fd18327e7a3d",
   "metadata": {},
   "outputs": [
    {
     "name": "stdin",
     "output_type": "stream",
     "text": [
      " -3\n"
     ]
    },
    {
     "name": "stdout",
     "output_type": "stream",
     "text": [
      "-3 is negative\n"
     ]
    }
   ],
   "source": [
    "#basic if else statement\n",
    "#1-Write a Python program to check if a given number is positive or negative.\n",
    "n=int(input())\n",
    "if(n>0):\n",
    "    print(n,\"is positive\")\n",
    "else:\n",
    "    print(n,\"is negative\")"
   ]
  },
  {
   "cell_type": "code",
   "execution_count": 3,
   "id": "d6f88bd8-0820-4b72-b877-f215776ff047",
   "metadata": {},
   "outputs": [
    {
     "name": "stdin",
     "output_type": "stream",
     "text": [
      "enter age 33\n"
     ]
    },
    {
     "name": "stdout",
     "output_type": "stream",
     "text": [
      "eligible for vote\n"
     ]
    }
   ],
   "source": [
    "#2-Create a program that determines if a person is eligible to vote based on their age.\n",
    "n=int(input(\"enter age\"))\n",
    "if(n>=18):\n",
    "    print(\"eligible for vote\")\n",
    "else:\n",
    "    print(\"not eligible for vote\")"
   ]
  },
  {
   "cell_type": "code",
   "execution_count": 4,
   "id": "68e3503a-68b9-4e4b-826c-4ceecadb7cdf",
   "metadata": {},
   "outputs": [
    {
     "name": "stdin",
     "output_type": "stream",
     "text": [
      "enter first number 10\n",
      "enter second number 20\n"
     ]
    },
    {
     "name": "stdout",
     "output_type": "stream",
     "text": [
      "20 is greater\n"
     ]
    }
   ],
   "source": [
    "#3-Develop a program to find the maximum of two numbers using if-else statements.\n",
    "a=int(input(\"enter first number\"))\n",
    "b=int(input(\"enter second number\"))\n",
    "if(a>b):\n",
    "    print(a,\"is greater\")\n",
    "else:\n",
    "    print(b,\"is greater\")\n",
    "\n",
    "            "
   ]
  },
  {
   "cell_type": "code",
   "execution_count": 7,
   "id": "ee02348b-d4fb-4e01-a05a-9a2b11422163",
   "metadata": {},
   "outputs": [
    {
     "name": "stdin",
     "output_type": "stream",
     "text": [
      " 2002\n"
     ]
    },
    {
     "name": "stdout",
     "output_type": "stream",
     "text": [
      "2002 is not a leap year\n"
     ]
    }
   ],
   "source": [
    "#4-Write a Python script to classify a given year as a leap year or not.\n",
    "# Python program to check if year is a leap year or not\n",
    "\n",
    "year = int(input())\n",
    "if (year % 400 == 0) and (year % 100 == 0):\n",
    "    print(\"{0} is a leap year\".format(year))\n",
    "elif (year % 4 ==0) and (year % 100 != 0):\n",
    "    print(\"{0} is a leap year\".format(year))\n",
    "else:\n",
    "    print(\"{0} is not a leap year\".format(year))"
   ]
  },
  {
   "cell_type": "code",
   "execution_count": 16,
   "id": "916165b2-ad45-465c-aa03-4f757a4700bf",
   "metadata": {},
   "outputs": [
    {
     "name": "stdin",
     "output_type": "stream",
     "text": [
      " e\n"
     ]
    },
    {
     "name": "stdout",
     "output_type": "stream",
     "text": [
      "e is vowel\n"
     ]
    }
   ],
   "source": [
    "#5-check vowel or consonant\n",
    "s=str(input())\n",
    "if(s==\"a\" or s==\"e\" or s==\"i\" or s==\"o\" or s==\"u\"):\n",
    "    print(s,\"is vowel\")\n",
    "else:\n",
    "    print(s,\"is consonant\")"
   ]
  },
  {
   "cell_type": "code",
   "execution_count": 17,
   "id": "1647d0f1-5fd8-44de-871f-121051ac4bbd",
   "metadata": {},
   "outputs": [
    {
     "name": "stdin",
     "output_type": "stream",
     "text": [
      " 33\n"
     ]
    },
    {
     "name": "stdout",
     "output_type": "stream",
     "text": [
      "33 is odd\n"
     ]
    }
   ],
   "source": [
    "#6. Implement a program to determine whether a given number is even or odd.\n",
    "n=int(input())\n",
    "if(n%2==0):\n",
    "    print(n,\"is even\")\n",
    "else:\n",
    "    print(n,\"is odd\")"
   ]
  },
  {
   "cell_type": "code",
   "execution_count": 18,
   "id": "bdc63801-025e-48e5-9fe1-56860bef5c94",
   "metadata": {},
   "outputs": [
    {
     "name": "stdout",
     "output_type": "stream",
     "text": [
      "10\n",
      "20\n",
      "0\n"
     ]
    }
   ],
   "source": [
    "#7-Write a Python function to calculate the absolute value of a number without using the `abs()` function.\n",
    "def absolute_value(num):\n",
    "    if num >= 0:\n",
    "        return num\n",
    "    else:\n",
    "        return -num\n",
    "print(absolute_value(10))  \n",
    "print(absolute_value(-20))  \n",
    "print(absolute_value(0))  "
   ]
  },
  {
   "cell_type": "code",
   "execution_count": 24,
   "id": "88dc4ede-2a2b-4e68-94d5-087c24eadb71",
   "metadata": {},
   "outputs": [
    {
     "name": "stdin",
     "output_type": "stream",
     "text": [
      "enter a first number 1\n",
      "enter a second number 2\n",
      "enter a third number 4\n"
     ]
    },
    {
     "name": "stdout",
     "output_type": "stream",
     "text": [
      "4 is largest\n"
     ]
    }
   ],
   "source": [
    "#8=Develop a program that determines the largest of three given numbers using if-else statements.\n",
    "a=int(input(\"enter a first number\"))\n",
    "b=int(input(\"enter a second number\"))\n",
    "c=int(input(\"enter a third number\"))\n",
    "if(a>b and a>c):\n",
    "    print(a,\"is largest\")\n",
    "elif(b>a and b>c):\n",
    "    print(b,\"is largest\")\n",
    "else:\n",
    "    print(c,\"is largest\")\n",
    "    "
   ]
  },
  {
   "cell_type": "code",
   "execution_count": 27,
   "id": "b93851a5-d76b-40f0-ba4e-91d5715e4e57",
   "metadata": {},
   "outputs": [
    {
     "name": "stdin",
     "output_type": "stream",
     "text": [
      " nayan\n"
     ]
    },
    {
     "name": "stdout",
     "output_type": "stream",
     "text": [
      "nayan is palindrome\n"
     ]
    }
   ],
   "source": [
    "#9-Create a program that checks if a given string is a palindrome.\n",
    "s1=str(input())\n",
    "s2=s1[::-1]\n",
    "if(s2==s1):\n",
    "    print(s1, \"is palindrome\")\n",
    "else:\n",
    "    print(s1,\"is not palindrome\")"
   ]
  },
  {
   "cell_type": "code",
   "execution_count": 31,
   "id": "4f9383b4-b8cf-472f-b9f7-bb9c136c2289",
   "metadata": {},
   "outputs": [
    {
     "name": "stdin",
     "output_type": "stream",
     "text": [
      "enter score 45\n"
     ]
    },
    {
     "name": "stdout",
     "output_type": "stream",
     "text": [
      "grade is C\n"
     ]
    }
   ],
   "source": [
    "#10-Write a Python program to calculate the grade based on a student's score.\n",
    "g=int(input(\"enter score\"))\n",
    "if(g>=90):\n",
    "    print(\"grade is O\")\n",
    "elif(g>=80):\n",
    "    print(\"grade is A+\")\n",
    "elif(g>=70):\n",
    "    print(\"grade is A\")\n",
    "elif(g>=60):\n",
    "    print(\"grade is B+\")\n",
    "elif(g>=50):\n",
    "    print(\"grade is C+\")\n",
    "elif(g>=40):\n",
    "    print(\"grade is C\")\n",
    "elif(g>=30):\n",
    "    print(\"grade is P\")\n",
    "elif(g<=30):\n",
    "    print(\"grade id F\")"
   ]
  },
  {
   "cell_type": "code",
   "execution_count": 44,
   "id": "20658889-8775-4c38-8a52-9f0d43c9aa41",
   "metadata": {},
   "outputs": [
    {
     "name": "stdin",
     "output_type": "stream",
     "text": [
      " 11\n",
      " 13\n",
      " 12\n"
     ]
    },
    {
     "name": "stdout",
     "output_type": "stream",
     "text": [
      "The largest number is 13\n"
     ]
    }
   ],
   "source": [
    "# nested if else condition\n",
    "#11-Write a program to find the largest among three numbers using nested if-else statements.\n",
    "num1 = int(input())\n",
    "num2 = int(input())\n",
    "num3 = int(input())\n",
    "if (num1 >= num2):\n",
    "    if (num1>num3):\n",
    "        largest=num1\n",
    "    else:\n",
    "        largest=num3\n",
    "else:\n",
    "    if(num2>num3):\n",
    "        largest=num2\n",
    "    else:\n",
    "        largest = num3\n",
    "\n",
    "print(\"The largest number is\", largest)"
   ]
  },
  {
   "cell_type": "code",
   "execution_count": 45,
   "id": "4a1d9bbd-5da4-48f1-9277-9f24b14f1988",
   "metadata": {},
   "outputs": [
    {
     "name": "stdout",
     "output_type": "stream",
     "text": [
      "Scalene Triangle\n"
     ]
    }
   ],
   "source": [
    "#12-Implement a program to determine if a triangle is equilateral, isosceles, or scalene.\n",
    "def checkTriangle(x, y, z):\n",
    "    if x == y == z:\n",
    "        print(\"Equilateral Triangle\")\n",
    "    elif x == y or y == z or z == x:\n",
    "        print(\"Isosceles Triangle\")\n",
    "    else:\n",
    "        print(\"Scalene Triangle\")\n",
    "x = 8\n",
    "y = 7\n",
    "z = 9\n",
    "checkTriangle(x, y, z)"
   ]
  },
  {
   "cell_type": "code",
   "execution_count": 46,
   "id": "ae47a243-6c09-4437-9f04-eb14a727eb89",
   "metadata": {},
   "outputs": [
    {
     "name": "stdin",
     "output_type": "stream",
     "text": [
      "Enter year to be checked: 1996\n"
     ]
    },
    {
     "name": "stdout",
     "output_type": "stream",
     "text": [
      "The year is a leap year! and centuary year\n"
     ]
    }
   ],
   "source": [
    "#13-13. Develop a program that checks if a year is a leap year and also if it is a century year.\n",
    "year=int(input(\"Enter year to be checked:\")) \n",
    "if(year%4==0 and year%100!=0 or year%400==0): \n",
    "    print(\"The year is a leap year! and centuary year\")\n",
    "else: \n",
    "    print(\"The year isn't a leap year!\")"
   ]
  },
  {
   "cell_type": "code",
   "execution_count": 50,
   "id": "cf7951dc-5345-403a-abc6-a0b57e14a0b6",
   "metadata": {},
   "outputs": [
    {
     "name": "stdin",
     "output_type": "stream",
     "text": [
      " 0\n"
     ]
    },
    {
     "name": "stdout",
     "output_type": "stream",
     "text": [
      "0 is Zero\n"
     ]
    }
   ],
   "source": [
    "#14-Write a Python script to determine if a number is positive, negative, or zero.\n",
    "n=int(input())\n",
    "if(n>0):\n",
    "    print(n,\"is positive\")\n",
    "elif(n<0):\n",
    "    print(n,\"is negative\")\n",
    "else:\n",
    "    print(n,\"is Zero\")\n"
   ]
  },
  {
   "cell_type": "code",
   "execution_count": 53,
   "id": "9ec42721-5ce6-4e69-90eb-18b556a0a15d",
   "metadata": {},
   "outputs": [
    {
     "name": "stdin",
     "output_type": "stream",
     "text": [
      "enter age 17\n"
     ]
    },
    {
     "name": "stdout",
     "output_type": "stream",
     "text": [
      "person is teenager\n"
     ]
    }
   ],
   "source": [
    "#15-Create a program to check if a person is a teenager (between 13 and 19 years old).\n",
    "age=int(input(\"enter age\"))\n",
    "if(age>=13 and age<=19):\n",
    "    print(\"person is teenager\")\n",
    "else:\n",
    "    print(\"not teenager\")"
   ]
  },
  {
   "cell_type": "code",
   "execution_count": 1,
   "id": "1502885d-d548-4efc-b8ea-5b14a4d8af5e",
   "metadata": {},
   "outputs": [],
   "source": [
    "#16-Develop a program that determines the type of angle based on its measure (acute, obtuse, or right).\n",
    "def right(x1, y1, x2, y2, x3, y3):\n",
    "    # Using Pythagoras theorem\n",
    "    sideAB = sideLength(x1, y1, x2, y2)\n",
    "    sideBC = sideLength(x2, y2, x3, y3)\n",
    "    sideAC = sideLength(x3, y3, x1, y1)\n",
    "    largest = max(sideAB, sideBC, sideAC)\n",
    "    var1 = min(sideAB, sideBC, sideAC)\n",
    "    if sideAB != largest and sideAB != var1:\n",
    "        var2 = sideAB\n",
    "    elif sideBC != largest and sideBC != var1:\n",
    "        var2 = sideBC\n",
    "    else:\n",
    "        var2 = sideAC\n",
    "\n",
    "    if (largest) ** 2 == ((var1 ** 2 + (var2) ** 2)):\n",
    "        return True\n",
    "    else:\n",
    "        return False\n",
    "def obtuse(x1, y1, x2, y2, x3, y3):\n",
    "    sideAB = sideLength(x1, y1, x2, y2)\n",
    "    sideBC = sideLength(x2, y2, x3, y3)\n",
    "    sideAC = sideLength(x3, y3, x1, y1)\n",
    "    largest = max(sideAB, sideBC, sideAC)\n",
    "    var1 = min(sideAB, sideBC, sideAC)\n",
    "    if sideAB != largest and sideAB != var1:\n",
    "        var2 = sideAB\n",
    "    elif sideBC != largest and sideBC != var1:\n",
    "        var2 = sideBC\n",
    "    else:\n",
    "        var2 = sideAC\n",
    "    if (largest) ** 2 > ((var1) ** 2 + (var2) ** 2):\n",
    "        return True\n",
    "    else:\n",
    "        return False\n",
    "def acute(x1, y1, x2, y2, x3, y3):\n",
    "    sideAB = sideLength(x1, y1, x2, y2)\n",
    "    sideBC = sideLength(x2, y2, x3, y3)\n",
    "    sideAC = sideLength(x3, y3, x1, y1)\n",
    "    largest = max(sideAB, sideBC, sideAC)\n",
    "    var1 = min(sideAB, sideBC, sideAC)\n",
    "    if sideAB != largest and sideAB != var1:\n",
    "        var2 = sideAB\n",
    "    elif sideBC != largest and sideBC != var1:\n",
    "        var2 = sideBC\n",
    "    else:\n",
    "        var2 = sideAC\n",
    "    if (largest) ** 2 < ((var1) ** 2 + (var2) ** 2):\n",
    "        return True\n",
    "    else:\n",
    "        return False\n"
   ]
  },
  {
   "cell_type": "code",
   "execution_count": 2,
   "id": "edd4a58a-117e-491c-af1a-7639d572e330",
   "metadata": {},
   "outputs": [
    {
     "name": "stdin",
     "output_type": "stream",
     "text": [
      "Enter a:  23\n",
      "Enter b:  43\n",
      "Enter c:  34\n"
     ]
    },
    {
     "name": "stdout",
     "output_type": "stream",
     "text": [
      "The solution are (-0.9347826086956522-0.7774589018368551j) and (-0.9347826086956522+0.7774589018368551j)\n"
     ]
    }
   ],
   "source": [
    "#17-Write a Python program to calculate the roots of a quadratic equation.\n",
    "import cmath  \n",
    "a = float(input('Enter a: '))  \n",
    "b = float(input('Enter b: '))  \n",
    "c = float(input('Enter c: '))  \n",
    "  \n",
    "# calculate the discriminant  \n",
    "d = (b**2) - (4*a*c)  \n",
    "  \n",
    "# find two solutions  \n",
    "sol1 = (-b-cmath.sqrt(d))/(2*a)  \n",
    "sol2 = (-b+cmath.sqrt(d))/(2*a)  \n",
    "print('The solution are {0} and {1}'.format(sol1,sol2))  "
   ]
  },
  {
   "cell_type": "code",
   "execution_count": null,
   "id": "151705b1-dd95-40cc-a56d-58353eaad8f4",
   "metadata": {},
   "outputs": [],
   "source": [
    "#18-Implement a program to determine the day of the week based on a user-provided number (1 for Monday, 2for Tuesday, etc.).\n",
    "n=int(input(\"enter a number from 1 to 7=\"))\n",
    "if(n==1):\n",
    "    print(\"monday\")\n",
    "elif(n==2):\n",
    "    print(\"tuesday\")\n",
    "elif(n==3):\n",
    "    print(\"wednesday\")\n",
    "elif(n==4):\n",
    "    print(\"thursday\")\n",
    "elif(n==5):\n",
    "    print(\"friday\")\n",
    "elif(n==6):\n",
    "    print(\"saturday\")\n",
    "elif(n==7):\n",
    "    print(\"sunday\")"
   ]
  },
  {
   "cell_type": "code",
   "execution_count": 1,
   "id": "526cf171-e4da-4c16-bc15-e8709798ec89",
   "metadata": {},
   "outputs": [
    {
     "name": "stdin",
     "output_type": "stream",
     "text": [
      "Enter year to be checked: 2000\n"
     ]
    },
    {
     "name": "stdout",
     "output_type": "stream",
     "text": [
      "The year is a leap year!\n"
     ]
    }
   ],
   "source": [
    "#19-Create a program that determines if a year is a leap year and also if it is evenly divisible by 400.\n",
    "year=int(input(\"Enter year to be checked:\"))\n",
    "if(year%4==0 and year%100!=0 or year%400==0):\n",
    "    print(\"The year is a leap year!\")\n",
    "else:\n",
    "    print(\"The year isn't a leap year!\")"
   ]
  },
  {
   "cell_type": "code",
   "execution_count": 11,
   "id": "8df4efaa-afa0-4c57-8f6e-6a1290695f4c",
   "metadata": {},
   "outputs": [
    {
     "name": "stdin",
     "output_type": "stream",
     "text": [
      " 4\n"
     ]
    },
    {
     "name": "stdout",
     "output_type": "stream",
     "text": [
      "not prime\n"
     ]
    }
   ],
   "source": [
    "#20-Develop a program that checks if a given number is prime or not using nested if-else statemement\n",
    "n=int(input())\n",
    "if n>1:\n",
    "    for i in range(2,n):\n",
    "        if(n%i==0):\n",
    "            print(\"not prime\")\n",
    "            break\n",
    "        else:\n",
    "            print(\"prime number\")\n",
    "            break\n",
    "else:\n",
    "    print(\"not prime\")"
   ]
  },
  {
   "cell_type": "code",
   "execution_count": 12,
   "id": "0af861b7-916c-467f-9955-92d7d0bca6ed",
   "metadata": {},
   "outputs": [
    {
     "name": "stdin",
     "output_type": "stream",
     "text": [
      "enter score 67\n"
     ]
    },
    {
     "name": "stdout",
     "output_type": "stream",
     "text": [
      "grade is B+\n"
     ]
    }
   ],
   "source": [
    "#elif statement\n",
    "#21- Write a Python program to assign grades based on different ranges of scores using elif statements\n",
    "g=int(input(\"enter score\"))\n",
    "if(g>=90):\n",
    "    print(\"grade is O\")\n",
    "elif(g>=80):\n",
    "    print(\"grade is A+\")\n",
    "elif(g>=70):\n",
    "    print(\"grade is A\")\n",
    "elif(g>=60):\n",
    "    print(\"grade is B+\")\n",
    "elif(g>=50):\n",
    "    print(\"grade is C+\")\n",
    "elif(g>=40):\n",
    "    print(\"grade is C\")\n",
    "elif(g>=30):\n",
    "    print(\"grade is P\")\n",
    "elif(g<=30):\n",
    "    print(\"grade id F\")"
   ]
  },
  {
   "cell_type": "code",
   "execution_count": 17,
   "id": "4b70281c-a680-455e-92fc-28152e114577",
   "metadata": {},
   "outputs": [
    {
     "name": "stdin",
     "output_type": "stream",
     "text": [
      "first angle 60\n",
      "second angle 60\n",
      "third angle 60\n"
     ]
    },
    {
     "name": "stdout",
     "output_type": "stream",
     "text": [
      "equilateral Triangle\n"
     ]
    }
   ],
   "source": [
    "#22-Implement a program to determine the type of a triangle based on its angles.\n",
    "a=int(input(\"first angle\"))\n",
    "b=int(input(\"second angle\"))\n",
    "c=int(input(\"third angle\"))\n",
    "if(a+b+c==180):\n",
    "    if(a==60 and b==60 and c==60):\n",
    "        print(\"equilateral Triangle\")\n",
    "    elif(a!=b and b!=c and c!=a ):\n",
    "        print(\"acute triangle\")\n",
    "    elif(a==90 or b==90 or c==90):\n",
    "        print(\"right angle triangle\")\n",
    "else:\n",
    "    print(\"given input are not correcr\")"
   ]
  },
  {
   "cell_type": "code",
   "execution_count": 18,
   "id": "d9ff3a52-dc7b-4c5c-9700-ffdf5a8c40d2",
   "metadata": {},
   "outputs": [
    {
     "name": "stdin",
     "output_type": "stream",
     "text": [
      "weight 89\n"
     ]
    },
    {
     "name": "stdout",
     "output_type": "stream",
     "text": [
      "normal\n"
     ]
    }
   ],
   "source": [
    "#23- Develop a program to categorize a given person's BMI into underweight, normal, overweight, or obese usingelif statements\n",
    "w=int(input(\"weight\"))\n",
    "if(w>90):\n",
    "    print(\"over weight\")\n",
    "elif(w<40):\n",
    "    print(\"under weight\")\n",
    "elif(w>40 and w<90):\n",
    "    print(\"normal\")"
   ]
  },
  {
   "cell_type": "code",
   "execution_count": 20,
   "id": "57c9c980-17da-4fb8-8e4f-fdb0294c8638",
   "metadata": {},
   "outputs": [
    {
     "name": "stdin",
     "output_type": "stream",
     "text": [
      " 7\n"
     ]
    },
    {
     "name": "stdout",
     "output_type": "stream",
     "text": [
      "7 is positive\n"
     ]
    }
   ],
   "source": [
    "#24- Create a program that determines whether a given number is positive, negative, or zero using elif statements\n",
    "n=int(input())\n",
    "if(n>0):\n",
    "    print(n,\"is positive\")\n",
    "elif(n<0):\n",
    "    print(n,\"is negative\")\n",
    "else:\n",
    "    print(n,\"is Zero\")"
   ]
  },
  {
   "cell_type": "code",
   "execution_count": 21,
   "id": "d1941934-79bd-4ed0-bc55-1f8fa3a28b01",
   "metadata": {},
   "outputs": [
    {
     "name": "stdin",
     "output_type": "stream",
     "text": [
      "Enter a character:  g\n"
     ]
    },
    {
     "name": "stdout",
     "output_type": "stream",
     "text": [
      "g is a lower case letter.\n"
     ]
    }
   ],
   "source": [
    "#25-Write a Python script to determine the type of a character (uppercase, lowercase, or special) using elif statements.\n",
    "character = input(\"Enter a character: \")\n",
    "\n",
    "lowerLetters = \"abcdefghijklmnopqrstuvwxyz\"\n",
    "upperLetters = \"ABCDEFGHIJKLMNOPQRSTUVWXYZ\"\n",
    "digits = \"0123456789\"\n",
    "lowerCount = 0\n",
    "upperCount = 0\n",
    "digitCount = 0\n",
    "nonAlphaCount = 0\n",
    "\n",
    "for ch in character:\n",
    "    for ch in lowerLetters:\n",
    "        lowerCount += 1\n",
    "    for ch in upperLetters:\n",
    "        upperCount += 1\n",
    "    for ch in digits:\n",
    "        digitCount += 1\n",
    "    else:\n",
    "        nonAlphaCount += 1\n",
    "\n",
    "if lowerCount > 0:\n",
    "    print(character, \"is a lower case letter.\")\n",
    "elif upperCount > 0:\n",
    "    print(character, \"is an upper case letter.\")\n",
    "elif digitCount > 0:\n",
    "    print(character, \"is a digit.\")\n",
    "elif nonAlphaCount > 0:\n",
    "    print(character, \"is a non-alphanumeric character.\")"
   ]
  },
  {
   "cell_type": "code",
   "execution_count": 1,
   "id": "c7546509-aae0-4d40-90e3-1d2f538c6c70",
   "metadata": {},
   "outputs": [
    {
     "name": "stdin",
     "output_type": "stream",
     "text": [
      "Enter Sale Amount:  80000\n"
     ]
    },
    {
     "name": "stdout",
     "output_type": "stream",
     "text": [
      "Discount :  24000.0\n",
      "Net Pay  :  56000.0\n"
     ]
    }
   ],
   "source": [
    "#26-Implement a program to calculate the discounted price based on different purchase amounts using elif statements.\n",
    "amt = int(input(\"Enter Sale Amount: \"))\n",
    "if(amt>0):\n",
    "    if amt<=5000:\n",
    "       disc = amt*0.05\n",
    "    elif amt<=15000:\n",
    "        disc=amt*0.12\n",
    "    elif amt<=25000:\n",
    "        disc=0.2 * amt\n",
    "    else:\n",
    "         disc=0.3 * amt\n",
    "\n",
    "    print(\"Discount : \",disc)\n",
    "    print(\"Net Pay  : \",amt-disc)\n",
    "else:\n",
    "    print(\"Invalid Amount\")"
   ]
  },
  {
   "cell_type": "code",
   "execution_count": 2,
   "id": "7205e4cf-a8e9-4ed8-aec3-91f9804d102b",
   "metadata": {},
   "outputs": [
    {
     "name": "stdin",
     "output_type": "stream",
     "text": [
      "please enter the number of units you consumed in a month 500\n"
     ]
    },
    {
     "name": "stdout",
     "output_type": "stream",
     "text": [
      "\n",
      "Electicity bill=1500.00\n"
     ]
    }
   ],
   "source": [
    "#27-Develop a program to calculate the electricity bill based on different consumption slabs using elif statements.\n",
    "units=int(input(\"please enter the number of units you consumed in a month\"))\n",
    "if(units<=100):\n",
    "    payAmount=units*1.5\n",
    "    fixedcharge=25.00\n",
    "elif(units<=200):\n",
    "    payAmount=(100*1.5)+(units-100)*2.5\n",
    "    fixedcharge=50.00\n",
    "elif(units<=300):\n",
    "    payAmount=(100*1.5)+(200-100)*2.5+(units-200)*4\n",
    "    fixedcharge=75.00\n",
    "elif(units<=350):\n",
    "    payAmount=(100*1.5)+(200-100)*2.5+(300-200)*4+(units-300)*5\n",
    "    fixedcharge=100.00\n",
    "else:\n",
    "    payAmount=0\n",
    "    fixedcharge=1500.00\n",
    "Total=payAmount+fixedcharge;\n",
    "print(\"\\nElecticity bill=%.2f\" %Total)"
   ]
  },
  {
   "cell_type": "code",
   "execution_count": 3,
   "id": "c06596c1-8a30-499d-9dfc-61d01390e165",
   "metadata": {},
   "outputs": [
    {
     "name": "stdout",
     "output_type": "stream",
     "text": [
      "Input lengths of the triangle sides: \n"
     ]
    },
    {
     "name": "stdin",
     "output_type": "stream",
     "text": [
      "x:  67\n",
      "y:  67\n",
      "z:  67\n"
     ]
    },
    {
     "name": "stdout",
     "output_type": "stream",
     "text": [
      "Equilateral triangle\n"
     ]
    }
   ],
   "source": [
    "#28-Create a program to determine the type of quadrilateral based on its angles and sides using elif statements.\n",
    "print(\"Input lengths of the triangle sides: \")\n",
    "x = int(input(\"x: \"))\n",
    "y = int(input(\"y: \"))\n",
    "z = int(input(\"z: \"))\n",
    "\n",
    "if x == y == z:\n",
    "\tprint(\"Equilateral triangle\")\n",
    "elif x==y or y==z or z==x:\n",
    "\tprint(\"isosceles triangle\")\n",
    "else:\n",
    "\tprint(\"Scalene triangle\")"
   ]
  },
  {
   "cell_type": "code",
   "execution_count": 7,
   "id": "1c037686-fd8d-4e01-b1db-69d8e4355647",
   "metadata": {},
   "outputs": [
    {
     "name": "stdin",
     "output_type": "stream",
     "text": [
      "Input the month (e.g. January, February etc.):  January\n"
     ]
    },
    {
     "name": "stdout",
     "output_type": "stream",
     "text": [
      "season = winter\n"
     ]
    }
   ],
   "source": [
    "#29-Write a Python script to determine the season based on a user-provided month using elif statements.\n",
    "month = input(\"Input the month (e.g. January, February etc.): \")\n",
    "\n",
    "if month in ('January', 'February', 'March'):\n",
    "\tprint(\"season = winter\")\n",
    "elif month in ('April', 'May', 'June'):\n",
    "\tprint(\"season = spring\")\n",
    "elif month in ('July', 'August', 'September'):\n",
    "\tprint(\"season = summer\")\n"
   ]
  },
  {
   "cell_type": "code",
   "execution_count": 8,
   "id": "2f7f2d8a-85e4-481a-83a6-b032d671b0ab",
   "metadata": {},
   "outputs": [
    {
     "name": "stdin",
     "output_type": "stream",
     "text": [
      " 3\n",
      " 9666\n"
     ]
    },
    {
     "name": "stdout",
     "output_type": "stream",
     "text": [
      "Number of days is 31\n"
     ]
    }
   ],
   "source": [
    "#30-Implement a program to determine the type of a year (leap or common) and month (30 or 31 days) using elif statements.\n",
    "month = int(input())\n",
    "year = int(input())\n",
    "if(month == 1 or month == 3 or month == 5 or month == 7 or month == 8 or month == 10 or month == 12):\n",
    "\tprint(\"Number of days is 31\")\n",
    "elif((month == 2) and ((year%400==0) or (year%4==0 and year%100!=0))):\t\n",
    "\tprint(\"Number of days is 29\")\n",
    "elif(month == 2):\n",
    "\tprint(\" of days is 28\")\n",
    "else:\n",
    "\tprint(\"Number of days is 30\")"
   ]
  },
  {
   "cell_type": "code",
   "execution_count": 11,
   "id": "85d57a6e-3a6f-452e-8042-b42b89c00e85",
   "metadata": {},
   "outputs": [
    {
     "name": "stdin",
     "output_type": "stream",
     "text": [
      " 0\n"
     ]
    },
    {
     "name": "stdout",
     "output_type": "stream",
     "text": [
      "it is zero\n"
     ]
    }
   ],
   "source": [
    "#basic leve\n",
    "#1-write a pyton programe to check a given number is positive negative or zero\n",
    "n= int(input())\n",
    "if(n<0):\n",
    "    print(\"negative number\")\n",
    "elif(n>0):\n",
    "    print(\"positive number\")\n",
    "elif(n==0):\n",
    "    print(\"it is zero\")"
   ]
  },
  {
   "cell_type": "code",
   "execution_count": 13,
   "id": "b036c8a2-4a0e-45c5-bcdc-56e2bdefc7e6",
   "metadata": {},
   "outputs": [
    {
     "name": "stdin",
     "output_type": "stream",
     "text": [
      "enter age 67\n"
     ]
    },
    {
     "name": "stdout",
     "output_type": "stream",
     "text": [
      "eligible for vote\n"
     ]
    }
   ],
   "source": [
    "#2-Create a program to determine if a person is eligible to vote based on their age.\n",
    "age=int(input(\"enter age\"))\n",
    "if(age>=18):\n",
    "    print(\"eligible for vote\")\n",
    "else:\n",
    "    print(\"not eligible for vote\")"
   ]
  },
  {
   "cell_type": "code",
   "execution_count": 15,
   "id": "d1392f2d-05f5-430d-9c58-2bae600c2f13",
   "metadata": {},
   "outputs": [
    {
     "name": "stdin",
     "output_type": "stream",
     "text": [
      "first nymber 9\n",
      "second number 90\n"
     ]
    },
    {
     "name": "stdout",
     "output_type": "stream",
     "text": [
      "90 is maximum\n"
     ]
    }
   ],
   "source": [
    "#3-Write a program to find the maximum of two given numbers using conditional statements.\n",
    "a=-int(input(\"first number\"))\n",
    "b=int(input(\"second number\"))\n",
    "if(a>b):\n",
    "    print(a,\"is maximum\")\n",
    "else:\n",
    "    print(b,\"is maximum\")"
   ]
  },
  {
   "cell_type": "code",
   "execution_count": 1,
   "id": "e3fde753-dcda-43ed-a1de-42f09ca7f0a1",
   "metadata": {},
   "outputs": [
    {
     "name": "stdin",
     "output_type": "stream",
     "text": [
      "enter score 56\n"
     ]
    },
    {
     "name": "stdout",
     "output_type": "stream",
     "text": [
      "grade is C+\n"
     ]
    }
   ],
   "source": [
    "#3-Write a program to find the maximum of two given numbers using conditional statements.\n",
    "g=int(input(\"enter score\"))\n",
    "if(g>=90):\n",
    "    print(\"grade is O\")\n",
    "elif(g>=80):\n",
    "    print(\"grade is A+\")\n",
    "elif(g>=70):\n",
    "    print(\"grade is A\")\n",
    "elif(g>=60):\n",
    "    print(\"grade is B+\")\n",
    "elif(g>=50):\n",
    "    print(\"grade is C+\")\n",
    "elif(g>=40):\n",
    "    print(\"grade is C\")\n",
    "elif(g>=30):\n",
    "    print(\"grade is P\")\n",
    "elif(g<=30):\n",
    "    print(\"grade id F\")\n"
   ]
  },
  {
   "cell_type": "code",
   "execution_count": 2,
   "id": "3958b60f-2c3b-4c8f-a30e-26b81e51dbdb",
   "metadata": {},
   "outputs": [
    {
     "name": "stdin",
     "output_type": "stream",
     "text": [
      "Enter year to be checked: 2000\n"
     ]
    },
    {
     "name": "stdout",
     "output_type": "stream",
     "text": [
      "The year is a leap year!\n"
     ]
    }
   ],
   "source": [
    "#4-Create a program that checks if a year is a leap year or not.\n",
    "year=int(input(\"Enter year to be checked:\")) \n",
    "if(year%4==0 and year%100!= 0 or year%400==0): \n",
    "    print(\"The year is a leap year!\") \n",
    "else: \n",
    "    print(\"The year isn't a leap year!\")\n"
   ]
  },
  {
   "cell_type": "code",
   "execution_count": 3,
   "id": "b619e4a4-d472-45f5-bd85-dd4f1e459d72",
   "metadata": {},
   "outputs": [
    {
     "name": "stdout",
     "output_type": "stream",
     "text": [
      "Input lengths of the triangle sides: \n"
     ]
    },
    {
     "name": "stdin",
     "output_type": "stream",
     "text": [
      "x:  89\n",
      "y:  45\n",
      "z:  34\n"
     ]
    },
    {
     "name": "stdout",
     "output_type": "stream",
     "text": [
      "Scalene triangle\n"
     ]
    }
   ],
   "source": [
    "#5-Write a program to classify a triangle based on its sides' lengths.\n",
    "print(\"Input lengths of the triangle sides: \")\n",
    "x = int(input(\"x: \"))\n",
    "y = int(input(\"y: \"))\n",
    "z = int(input(\"z: \"))\n",
    "\n",
    "if x == y == z:\n",
    "\tprint(\"Equilateral triangle\")\n",
    "elif x==y or y==z or z==x:\n",
    "\tprint(\"isosceles triangle\")\n",
    "else:\n",
    "\tprint(\"Scalene triangle\")\n"
   ]
  },
  {
   "cell_type": "code",
   "execution_count": 6,
   "id": "5dcb5054-9bac-4c2c-bacc-8fb446e7ba8c",
   "metadata": {},
   "outputs": [
    {
     "name": "stdin",
     "output_type": "stream",
     "text": [
      " 2\n",
      " 3\n",
      " 4\n"
     ]
    },
    {
     "name": "stdout",
     "output_type": "stream",
     "text": [
      "4 is grater\n"
     ]
    }
   ],
   "source": [
    "#7-Build a program that determines the largest of three given numbers.\n",
    "a=int(input())\n",
    "b=int(input())\n",
    "c=int(input())\n",
    "if(a>b and a>c):\n",
    "    print(a, \"is greater\")\n",
    "elif(b>a and b>c):\n",
    "    print(b,\"is grater\")\n",
    "else:\n",
    "    print(c,\"is grater\")\n"
   ]
  },
  {
   "cell_type": "code",
   "execution_count": 9,
   "id": "d52a2256-14ad-4e11-8079-f51f9ae944fb",
   "metadata": {},
   "outputs": [
    {
     "name": "stdin",
     "output_type": "stream",
     "text": [
      " g\n"
     ]
    },
    {
     "name": "stdout",
     "output_type": "stream",
     "text": [
      "g is consonant\n"
     ]
    }
   ],
   "source": [
    "#8-. Develop a program that checks whether a character is a vowel or a consonant.\n",
    "c=str(input())\n",
    "if(c==\"a\" or c==\"e\" or c==\"i\" or c==\"o\" or a==\"u\"):\n",
    "    print(c,\"is vowel\")\n",
    "else:\n",
    "    print(c,\"is consonant\")\n",
    "    "
   ]
  },
  {
   "cell_type": "code",
   "execution_count": 7,
   "id": "196a83ac-8b98-4270-abaa-744fc1b374ac",
   "metadata": {},
   "outputs": [
    {
     "name": "stdout",
     "output_type": "stream",
     "text": [
      "Total Cost: $3.90\n"
     ]
    }
   ],
   "source": [
    "#9-Create a program to calculate the total cost of a shopping cart based on discounts.\n",
    "def calculate_total_cost(cart):\n",
    "    total_cost = 0\n",
    "\n",
    "    for item in cart:\n",
    "        item_name = item['name']\n",
    "        item_price = item['price']\n",
    "        item_quantity = item['quantity']\n",
    "        item_cost = item_price * item_quantity\n",
    "        if item_name == \"apple\":\n",
    "            item_cost = (item_quantity // 2 + item_quantity % 2) * item_price\n",
    "        elif item_name == \"banana\":\n",
    "            if item_quantity >= 3:\n",
    "                item_cost *= 0.9\n",
    "        total_cost += item_cost\n",
    "\n",
    "    return total_cost\n",
    "cart = [\n",
    "    {'name': 'apple', 'price': 0.5, 'quantity': 5},\n",
    "    {'name': 'banana', 'price': 0.25, 'quantity': 4},\n",
    "    {'name': 'orange', 'price': 0.75, 'quantity': 2}]\n",
    "total_cost = calculate_total_cost(cart)\n",
    "print(f'Total Cost: ${total_cost:.2f}')\n"
   ]
  },
  {
   "cell_type": "code",
   "execution_count": 8,
   "id": "feae07db-ae34-47c8-940b-418212663645",
   "metadata": {},
   "outputs": [
    {
     "name": "stdin",
     "output_type": "stream",
     "text": [
      " 8\n"
     ]
    },
    {
     "name": "stdout",
     "output_type": "stream",
     "text": [
      "even\n"
     ]
    }
   ],
   "source": [
    "#10  Write a program that checks if a given number is even or odd.\n",
    "num=int(input())\n",
    "if(num%2==0):\n",
    "    print(\"even\")\n",
    "else:\n",
    "    print(\"odd\")"
   ]
  },
  {
   "cell_type": "code",
   "execution_count": 2,
   "id": "4341d8e0-3230-46bb-abf5-4ff58ab9fc8e",
   "metadata": {},
   "outputs": [
    {
     "name": "stdin",
     "output_type": "stream",
     "text": [
      "Enter a: 6\n",
      "Enter b: 7\n",
      "Enter c: 8\n"
     ]
    },
    {
     "name": "stdout",
     "output_type": "stream",
     "text": [
      "Complex Roots\n",
      "-0.5833333333333334  + i 11.958260743101398\n",
      "-0.5833333333333334  - i 11.958260743101398\n"
     ]
    }
   ],
   "source": [
    "# intermediate level\n",
    " # Write a program that calculates the roots of a quadratic equation .\n",
    "import math  \n",
    "  \n",
    "  \n",
    "# function for finding roots  \n",
    "def findRoots(a, b, c):  \n",
    "  \n",
    "    dis_form = b * b - 4 * a * c  \n",
    "    sqrt_val = math.sqrt(abs(dis_form))  \n",
    "  \n",
    "  \n",
    "    if dis_form > 0:  \n",
    "        print(\" real and different roots \")  \n",
    "        print((-b + sqrt_val) / (2 * a))  \n",
    "        print((-b - sqrt_val) / (2 * a))  \n",
    "  \n",
    "    elif dis_form == 0:  \n",
    "        print(\" real and same roots\")  \n",
    "        print(-b / (2 * a))  \n",
    "  \n",
    "  \n",
    "    else:  \n",
    "        print(\"Complex Roots\")  \n",
    "        print(- b / (2 * a), \" + i\", sqrt_val)  \n",
    "        print(- b / (2 * a), \" - i\", sqrt_val)  \n",
    "  \n",
    "  \n",
    "a = int(input('Enter a:'))  \n",
    "b = int(input('Enter b:'))  \n",
    "c = int(input('Enter c:'))  \n",
    "  \n",
    "# If a is 0, then incorrect equation  \n",
    "if a == 0:  \n",
    "    print(\"Input correct quadratic equation\")  \n",
    "  \n",
    "else:  \n",
    "    findRoots(a, b, c) \n",
    "    \n",
    "    "
   ]
  },
  {
   "cell_type": "code",
   "execution_count": 5,
   "id": "b8ca033f-a213-46ee-8950-861b238755dc",
   "metadata": {},
   "outputs": [
    {
     "name": "stdin",
     "output_type": "stream",
     "text": [
      "enter a number from 1 to 7= 6\n"
     ]
    },
    {
     "name": "stdout",
     "output_type": "stream",
     "text": [
      "saturday\n"
     ]
    }
   ],
   "source": [
    "#2-Create a program that determines the day of the week based on the day number (1-7).\n",
    "n=int(input(\"enter a number from 1 to 7=\"))\n",
    "if(n==1):\n",
    "    print(\"monday\")\n",
    "elif(n==2):\n",
    "    print(\"tuesday\")\n",
    "elif(n==3):\n",
    "    print(\"wednesday\")\n",
    "elif(n==4):\n",
    "    print(\"thursday\")\n",
    "elif(n==5):\n",
    "    print(\"friday\")\n",
    "elif(n==6):\n",
    "    print(\"saturday\")\n",
    "elif(n==7):\n",
    "    print(\"sunday\")\n"
   ]
  },
  {
   "cell_type": "code",
   "execution_count": 7,
   "id": "07e17afe-b5aa-4e12-8838-e7b620f4b0fd",
   "metadata": {},
   "outputs": [
    {
     "name": "stdin",
     "output_type": "stream",
     "text": [
      "enter the number 8\n"
     ]
    },
    {
     "name": "stdout",
     "output_type": "stream",
     "text": [
      "The factorial of 8 is 40320\n"
     ]
    }
   ],
   "source": [
    "#3-Develop a program that calculates the factorial of a given number using recursion.\n",
    "def recur_factorial(n):\n",
    "   if n == 1:\n",
    "       return n\n",
    "   else:\n",
    "       return n*recur_factorial(n-1)\n",
    "\n",
    "num = int(input(\"enter the number\"))\n",
    "\n",
    "# check if the number is negative\n",
    "if num < 0:\n",
    "   print(\"Sorry, factorial does not exist for negative numbers\")\n",
    "elif num == 0:\n",
    "   print(\"The factorial of 0 is 1\")\n",
    "else:\n",
    "   print(\"The factorial of\", num, \"is\", recur_factorial(num))"
   ]
  },
  {
   "cell_type": "code",
   "execution_count": 8,
   "id": "f2b98406-ab10-4a44-bcd7-93e915e5d57b",
   "metadata": {},
   "outputs": [
    {
     "name": "stdin",
     "output_type": "stream",
     "text": [
      " 8\n",
      " 9\n",
      " 0\n"
     ]
    },
    {
     "name": "stdout",
     "output_type": "stream",
     "text": [
      "n2 is greater\n"
     ]
    }
   ],
   "source": [
    "#4-Write a program to find the largest among three numbers without using the `max()` function.\n",
    "n1=int(input())\n",
    "n2=int(input())\n",
    "n3=int(input())\n",
    "if(n1>n2 and n1>n3):\n",
    "    print(\"n1 is greater number\")\n",
    "elif(n2>n1 and n2>n3):\n",
    "    print(\"n2 is greater\")\n",
    "else:\n",
    "    print(\"n3 is greater\")\n"
   ]
  },
  {
   "cell_type": "code",
   "execution_count": 2,
   "id": "9599eeb2-a81c-4e1a-bf44-94602245a3af",
   "metadata": {},
   "outputs": [
    {
     "name": "stdin",
     "output_type": "stream",
     "text": [
      "enter the amount 2000\n",
      " enter your pin 3555\n"
     ]
    },
    {
     "name": "stdout",
     "output_type": "stream",
     "text": [
      "incorrect pin \n"
     ]
    }
   ],
   "source": [
    "#15- Create a program that simulates a basic ATM transaction menu.\n",
    "pin_code=2266\n",
    "m=int(input(\"enter the amount\"))\n",
    "k=int(input(\" enter your pin\"))\n",
    "if (k==pin_code):\n",
    "    print(\"collect your card and withdraw you cash\")\n",
    "else:\n",
    "    print(\"incorrect pin \")"
   ]
  },
  {
   "cell_type": "code",
   "execution_count": 3,
   "id": "e407d1e9-c249-4aef-91c7-525bfb06a7ed",
   "metadata": {},
   "outputs": [
    {
     "name": "stdin",
     "output_type": "stream",
     "text": [
      "enter your string nayan\n"
     ]
    },
    {
     "name": "stdout",
     "output_type": "stream",
     "text": [
      "given string is palindrome\n"
     ]
    }
   ],
   "source": [
    "#-16-Build a program that checks if a given string is a palindrome or not.\n",
    "s=str(input(\"enter your string\"))\n",
    "rev_s=s[::-1]\n",
    "if(rev_s==s):\n",
    "    print(\"given string is palindrome\")\n",
    "else:\n",
    "    print(\"not palindrome\")\n"
   ]
  },
  {
   "cell_type": "code",
   "execution_count": 7,
   "id": "2b35ff83-0357-4120-867f-f47989739a4d",
   "metadata": {},
   "outputs": [
    {
     "name": "stdout",
     "output_type": "stream",
     "text": [
      "average= 3.6666666666666665\n"
     ]
    }
   ],
   "source": [
    "#17. Write a program that calculates the average of a list of numbers, excluding the smallest and largest values.\n",
    "l=[1,2,3,4,5,6,6,7,8]\n",
    "L=len(l)\n",
    "sum=0\n",
    "for i in l:\n",
    "    if(i==min(l) or i==max(l)):\n",
    "        sum=sum\n",
    "    else:\n",
    "        sum=sum+i\n",
    "print(\"average=\",sum/L)        \n",
    "    "
   ]
  },
  {
   "cell_type": "code",
   "execution_count": 9,
   "id": "189e1b07-60a5-429b-b67b-f619fdaf13c2",
   "metadata": {},
   "outputs": [
    {
     "name": "stdin",
     "output_type": "stream",
     "text": [
      "Enter the Temperature in Celsius :\n",
      " 98\n"
     ]
    },
    {
     "name": "stdout",
     "output_type": "stream",
     "text": [
      "Temperature in Fahrenheit : 208.4\n"
     ]
    }
   ],
   "source": [
    "#18-. Develop a program that converts a given temperature from Celsius to Fahrenheit\n",
    "celsius = int(input(\"Enter the Temperature in Celsius :\\n\"))\n",
    "fahrenheit = (1.8 * celsius) + 32.\n",
    "print(\"Temperature in Fahrenheit :\", fahrenheit)"
   ]
  },
  {
   "cell_type": "code",
   "execution_count": 11,
   "id": "ae4cf070-bead-4956-aa28-c1bcabd23c4b",
   "metadata": {},
   "outputs": [
    {
     "name": "stdin",
     "output_type": "stream",
     "text": [
      " 4\n",
      " 2\n"
     ]
    },
    {
     "name": "stdout",
     "output_type": "stream",
     "text": [
      "addition= 6\n",
      "subtraction= 2\n",
      "multiplication= 8\n",
      "division= 2.0\n"
     ]
    }
   ],
   "source": [
    "#19-Create a program that simulates a basic calculator for addition, subtraction, multiplication, and division.\n",
    "a=int(input())\n",
    "b=int(input())\n",
    "print(\"addition=\",a+b)\n",
    "print(\"subtraction=\",a-b)\n",
    "print(\"multiplication=\",a*b)\n",
    "print(\"division=\",a/b)"
   ]
  },
  {
   "cell_type": "code",
   "execution_count": 12,
   "id": "68a4dc75-837e-4a6a-9347-10a43aca60eb",
   "metadata": {},
   "outputs": [
    {
     "name": "stdout",
     "output_type": "stream",
     "text": [
      "Roots: ([(3-5.551115123125783e-17j), (1.5+2.7755575615628914e-17j), (9.614813431917819e-17+0.49999999999999994j)], [(1.5+2.7755575615628914e-17j), (-9.614813431917819e-17-0.49999999999999994j)])\n"
     ]
    }
   ],
   "source": [
    "#20-Write a program that determines the roots of a cubic equation using the Cardano formula.\n",
    "import math\n",
    "\n",
    "def cubic_roots(a, b, c, d):\n",
    "    # Calculate the discriminant and its cube root\n",
    "    p = c / a - (b ** 2) / (3 * a ** 2)\n",
    "    q = (2 * b ** 3) / (27 * a ** 3) - (b * c) / (3 * a ** 2) + d / a\n",
    "    discriminant = q ** 2 + (4 * p ** 3) / 27\n",
    "    \n",
    "    if discriminant > 0:\n",
    "        # Three real roots\n",
    "        root1 = (-q + discriminant ** 0.5) ** (1/3) - (q - discriminant ** 0.5) ** (1/3) - b / (3 * a)\n",
    "        return [root1]\n",
    "    elif discriminant == 0:\n",
    "        # One real root and two complex roots\n",
    "        root1 = (-q) ** (1/3) - b / (3 * a)\n",
    "        real_part = -0.5 * root1\n",
    "        imaginary_part = (3 ** 0.5 / 2) * root1\n",
    "        return [root1, real_part + imaginary_part, real_part - imaginary_part]\n",
    "    else:\n",
    "    \n",
    "        r = ((-q + discriminant ** 0.5) / 2) ** (1/3)\n",
    "        s = ((-q - discriminant ** 0.5) / 2) ** (1/3)\n",
    "        root1 = r + s - b / (3 * a)\n",
    "        real_part = (-1/2) * (r + s) - b / (3 * a)\n",
    "        imaginary_part = (3 ** 0.5 / 2) * (r - s)\n",
    "        return [root1, real_part, imaginary_part], [real_part, -imaginary_part]\n",
    "a = 1  \n",
    "b = -6  \n",
    "c = 11 \n",
    "d = -6 \n",
    "\n",
    "roots = cubic_roots(a, b, c, d)\n",
    "print(\"Roots:\", roots)"
   ]
  },
  {
   "cell_type": "code",
   "execution_count": 13,
   "id": "9e2ac975-29ac-4428-8789-0bc74361df8c",
   "metadata": {},
   "outputs": [
    {
     "name": "stdin",
     "output_type": "stream",
     "text": [
      "What's your                     annual income?\n",
      ">>>  9000000\n"
     ]
    },
    {
     "name": "stdout",
     "output_type": "stream",
     "text": [
      "Total tax applicable at                     ₹9000000.0 is ₹2437500.0\n"
     ]
    }
   ],
   "source": [
    "#advance level\n",
    "#21. Create a program that calculates the income tax based on the user's income and tax brackets\n",
    "def calculate(amount, percent):\n",
    "    return (amount * percent) / 100\n",
    "  \n",
    "def calculate_income_tax(total_income: \n",
    "                         float) -> float:\n",
    "  \n",
    "    if total_income <= 250000:\n",
    "        return 0\n",
    "    elif total_income <= 500000:\n",
    "        return calculate(total_income - \n",
    "                         250000, 5)\n",
    "    elif total_income <= 750000:\n",
    "        return calculate(total_income - \n",
    "                         500000, 10) + 12500\n",
    "    elif total_income <= 1000000:\n",
    "        return calculate(total_income - \n",
    "                         750000, 15) + 37500\n",
    "    elif total_income <= 1250000:\n",
    "        return calculate(total_income - \n",
    "                         1000000, 20) + 75000\n",
    "    elif total_income <= 1500000:\n",
    "        return calculate(total_income - \n",
    "                         1250000, 25) + 125000\n",
    "    else:\n",
    "        return calculate(total_income - \n",
    "                         1500000, 30) + 187500\n",
    "  \n",
    "  \n",
    "if __name__ == '__main__':\n",
    "    total_income = float(input(\"What's your \\\n",
    "                    annual income?\\n>>> \"))\n",
    "    tax = calculate_income_tax(total_income)\n",
    "    print(f\"Total tax applicable at \\\n",
    "                    ₹{total_income} is ₹{tax}\")"
   ]
  },
  {
   "cell_type": "code",
   "execution_count": 1,
   "id": "82c48d0b-c10d-4504-a42b-45ab40e8ea50",
   "metadata": {},
   "outputs": [
    {
     "name": "stdout",
     "output_type": "stream",
     "text": [
      "Welcome to Rock, Paper, Scissors!\n"
     ]
    },
    {
     "name": "stdin",
     "output_type": "stream",
     "text": [
      "Choose Rock, Paper, or Scissors:  scissors\n"
     ]
    },
    {
     "name": "stdout",
     "output_type": "stream",
     "text": [
      "You chose scissors\n",
      "Computer chose paper\n",
      "You win!\n"
     ]
    },
    {
     "name": "stdin",
     "output_type": "stream",
     "text": [
      "Do you want to play again? (yes/no):  yes\n",
      "Choose Rock, Paper, or Scissors:  paper\n"
     ]
    },
    {
     "name": "stdout",
     "output_type": "stream",
     "text": [
      "You chose paper\n",
      "Computer chose rock\n",
      "You win!\n"
     ]
    },
    {
     "name": "stdin",
     "output_type": "stream",
     "text": [
      "Do you want to play again? (yes/no):  yes\n",
      "Choose Rock, Paper, or Scissors:  rock\n"
     ]
    },
    {
     "name": "stdout",
     "output_type": "stream",
     "text": [
      "You chose rock\n",
      "Computer chose paper\n",
      "Computer wins!\n"
     ]
    },
    {
     "name": "stdin",
     "output_type": "stream",
     "text": [
      "Do you want to play again? (yes/no):  no\n"
     ]
    }
   ],
   "source": [
    "#22- Write a program that simulates a rock-paper-scissors game against the computer\n",
    "import random\n",
    "\n",
    "def get_user_choice():\n",
    "    while True:\n",
    "        user_choice = input(\"Choose Rock, Paper, or Scissors: \").lower()\n",
    "        if user_choice in [\"rock\", \"paper\", \"scissors\"]:\n",
    "            return user_choice\n",
    "        else:\n",
    "            print(\"Invalid choice. Please choose Rock, Paper, or Scissors.\")\n",
    "\n",
    "def get_computer_choice():\n",
    "    choices = [\"rock\", \"paper\", \"scissors\"]\n",
    "    return random.choice(choices)\n",
    "\n",
    "def determine_winner(user_choice, computer_choice):\n",
    "    if user_choice == computer_choice:\n",
    "        return \"It's a tie!\"\n",
    "    elif user_choice == \"rock\":\n",
    "        return \"You win!\" if computer_choice == \"scissors\" else \"Computer wins!\"\n",
    "    elif user_choice == \"paper\":\n",
    "        return \"You win!\" if computer_choice == \"rock\" else \"Computer wins!\"\n",
    "    elif user_choice == \"scissors\":\n",
    "        return \"You win!\" if computer_choice == \"paper\" else \"Computer wins!\"\n",
    "\n",
    "def main():\n",
    "    print(\"Welcome to Rock, Paper, Scissors!\")\n",
    "    while True:\n",
    "        user_choice = get_user_choice()\n",
    "        computer_choice = get_computer_choice()\n",
    "        print(f\"You chose {user_choice}\")\n",
    "        print(f\"Computer chose {computer_choice}\")\n",
    "        result = determine_winner(user_choice, computer_choice)\n",
    "        print(result)\n",
    "        play_again = input(\"Do you want to play again? (yes/no): \").lower()\n",
    "        if play_again != \"yes\":\n",
    "            break\n",
    "\n",
    "if __name__ == \"__main__\":\n",
    "    main()"
   ]
  },
  {
   "cell_type": "code",
   "execution_count": 2,
   "id": "bf766d8b-3b39-4158-a764-9ace8ea69026",
   "metadata": {},
   "outputs": [
    {
     "name": "stdout",
     "output_type": "stream",
     "text": [
      "Welcome to the Random Password Generator!\n"
     ]
    },
    {
     "name": "stdin",
     "output_type": "stream",
     "text": [
      "Enter the desired password length:  10\n",
      "Include lowercase letters? (yes/no):  no\n",
      "Include uppercase letters? (yes/no):  no\n",
      "Include digits? (yes/no):  no\n",
      "Include special characters? (yes/no):  no\n"
     ]
    },
    {
     "name": "stdout",
     "output_type": "stream",
     "text": [
      "Please select at least one character type.\n"
     ]
    },
    {
     "name": "stdin",
     "output_type": "stream",
     "text": [
      "Generate another password? (yes/no):  yes\n",
      "Enter the desired password length:  4\n",
      "Include lowercase letters? (yes/no):  yes\n",
      "Include uppercase letters? (yes/no):  yes\n",
      "Include digits? (yes/no):  yes\n",
      "Include special characters? (yes/no):  yes\n"
     ]
    },
    {
     "name": "stdout",
     "output_type": "stream",
     "text": [
      "Your random password is: +G()\n"
     ]
    },
    {
     "name": "stdin",
     "output_type": "stream",
     "text": [
      "Generate another password? (yes/no):  dsvc mlksmvlkf\n"
     ]
    }
   ],
   "source": [
    "#23- Develop a program that generates a random password based on user preferences (length, complexity).\n",
    "import random\n",
    "import string\n",
    "\n",
    "def generate_password(length, use_lowercase, use_uppercase, use_digits, use_special_chars):\n",
    "    characters = \"\"\n",
    "\n",
    "    if use_lowercase:\n",
    "        characters += string.ascii_lowercase\n",
    "    if use_uppercase:\n",
    "        characters += string.ascii_uppercase\n",
    "    if use_digits:\n",
    "        characters += string.digits\n",
    "    if use_special_chars:\n",
    "        characters += string.punctuation\n",
    "\n",
    "    if not characters:\n",
    "        print(\"Please select at least one character type.\")\n",
    "        return None\n",
    "\n",
    "    password = ''.join(random.choice(characters) for _ in range(length))\n",
    "    return password\n",
    "\n",
    "def main():\n",
    "    print(\"Welcome to the Random Password Generator!\")\n",
    "\n",
    "    while True:\n",
    "        length = int(input(\"Enter the desired password length: \"))\n",
    "        use_lowercase = input(\"Include lowercase letters? (yes/no): \").lower() == \"yes\"\n",
    "        use_uppercase = input(\"Include uppercase letters? (yes/no): \").lower() == \"yes\"\n",
    "        use_digits = input(\"Include digits? (yes/no): \").lower() == \"yes\"\n",
    "        use_special_chars = input(\"Include special characters? (yes/no): \").lower() == \"yes\"\n",
    "\n",
    "        password = generate_password(length, use_lowercase, use_uppercase, use_digits, use_special_chars)\n",
    "\n",
    "        if password:\n",
    "            print(f\"Your random password is: {password}\")\n",
    "\n",
    "        play_again = input(\"Generate another password? (yes/no): \").lower()\n",
    "        if play_again != \"yes\":\n",
    "            break\n",
    "\n",
    "if __name__ == \"__main__\":\n",
    "    main()\n",
    "\n"
   ]
  },
  {
   "cell_type": "code",
   "execution_count": 1,
   "id": "2d0ab5e2-35d8-4a1c-b0b4-1c7a814b163b",
   "metadata": {},
   "outputs": [
    {
     "name": "stdout",
     "output_type": "stream",
     "text": [
      "Welcome to the Text-Based Adventure Game!\n",
      "You find yourself in a dark forest. It's getting late, and you need to find your way back home.\n",
      "You have two paths in front of you: a 'left' path and a 'right' path.\n"
     ]
    },
    {
     "name": "stdin",
     "output_type": "stream",
     "text": [
      "Which path do you choose? (left/right):  left\n"
     ]
    },
    {
     "name": "stdout",
     "output_type": "stream",
     "text": [
      "You chose the left path.\n",
      "You come across a river. There's a rickety bridge to your left and a shallow ford to your right.\n"
     ]
    },
    {
     "name": "stdin",
     "output_type": "stream",
     "text": [
      "Do you want to cross the 'bridge' or ford the 'river'? (bridge/river):  bridge\n"
     ]
    },
    {
     "name": "stdout",
     "output_type": "stream",
     "text": [
      "You decide to cross the rickety bridge.\n",
      "As you make your way across, the bridge starts to shake and creak!\n",
      "But you make it to the other side safely.\n",
      "Congratulations, you've successfully crossed the bridge!\n"
     ]
    }
   ],
   "source": [
    "#24-Create a program that implements a simple text-based adventure game with branching scenarios.\n",
    "import time\n",
    "\n",
    "def intro():\n",
    "    print(\"Welcome to the Text-Based Adventure Game!\")\n",
    "    time.sleep(1)\n",
    "    print(\"You find yourself in a dark forest. It's getting late, and you need to find your way back home.\")\n",
    "    time.sleep(2)\n",
    "    print(\"You have two paths in front of you: a 'left' path and a 'right' path.\")\n",
    "    choice = input(\"Which path do you choose? (left/right): \").lower()\n",
    "    return choice\n",
    "\n",
    "def left_path():\n",
    "    print(\"You chose the left path.\")\n",
    "    time.sleep(1)\n",
    "    print(\"You come across a river. There's a rickety bridge to your left and a shallow ford to your right.\")\n",
    "    choice = input(\"Do you want to cross the 'bridge' or ford the 'river'? (bridge/river): \").lower()\n",
    "    return choice\n",
    "\n",
    "def right_path():\n",
    "    print(\"You chose the right path.\")\n",
    "    time.sleep(1)\n",
    "    print(\"You stumble upon a cave entrance.\")\n",
    "    time.sleep(1)\n",
    "    print(\"Inside the cave, you see two tunnels: a 'dark' one that seems to go deep into the cave, and a 'lit' one with faint light at the end.\")\n",
    "    choice = input(\"Which tunnel do you want to enter? (dark/lit): \").lower()\n",
    "    return choice\n",
    "\n",
    "def bridge_scenario():\n",
    "    print(\"You decide to cross the rickety bridge.\")\n",
    "    time.sleep(1)\n",
    "    print(\"As you make your way across, the bridge starts to shake and creak!\")\n",
    "    time.sleep(1)\n",
    "    print(\"But you make it to the other side safely.\")\n",
    "    time.sleep(1)\n",
    "    print(\"Congratulations, you've successfully crossed the bridge!\")\n",
    "\n",
    "def ford_scenario():\n",
    "    print(\"You decide to ford the river.\")\n",
    "    time.sleep(1)\n",
    "    print(\"The water is cold, but you manage to make it to the other side.\")\n",
    "    time.sleep(1)\n",
    "    print(\"Congratulations, you've successfully forded the river!\")\n",
    "\n",
    "def dark_tunnel_scenario():\n",
    "    print(\"You enter the dark tunnel.\")\n",
    "    time.sleep(1)\n",
    "    print(\"It's pitch black inside, and you can't see anything.\")\n",
    "    time.sleep(1)\n",
    "    print(\"You hear strange noises, but you keep walking.\")\n",
    "    time.sleep(1)\n",
    "    print(\"Suddenly, you trip and fall into a pit!\")\n",
    "    time.sleep(1)\n",
    "    print(\"Game Over!\")\n",
    "\n",
    "def lit_tunnel_scenario():\n",
    "    print(\"You enter the lit tunnel.\")\n",
    "    time.sleep(1)\n",
    "    print(\"The tunnel leads you to a hidden treasure room!\")\n",
    "    time.sleep(1)\n",
    "    print(\"Congratulations, you've found the treasure!\")\n",
    "    time.sleep(1)\n",
    "    print(\"You win the game!\")\n",
    "\n",
    "def main():\n",
    "    choice1 = intro()\n",
    "\n",
    "    if choice1 == \"left\":\n",
    "        choice2 = left_path()\n",
    "        if choice2 == \"bridge\":\n",
    "            bridge_scenario()\n",
    "        elif choice2 == \"river\":\n",
    "            ford_scenario()\n",
    "        else:\n",
    "            print(\"Invalid choice. Please play again.\")\n",
    "    elif choice1 == \"right\":\n",
    "        choice3 = right_path()\n",
    "        if choice3 == \"dark\":\n",
    "            dark_tunnel_scenario()\n",
    "        elif choice3 == \"lit\":\n",
    "            lit_tunnel_scenario()\n",
    "        else:\n",
    "            print(\"Invalid choice. Please play again.\")\n",
    "    else:\n",
    "        print(\"Invalid choice. Please play again.\")\n",
    "\n",
    "if __name__ == \"__main__\":\n",
    "    main()"
   ]
  },
  {
   "cell_type": "code",
   "execution_count": 3,
   "id": "0f70a2be-b786-4177-ab16-8b123e95d2d7",
   "metadata": {},
   "outputs": [
    {
     "name": "stdout",
     "output_type": "stream",
     "text": [
      "This program solves a linear equation of the form ax + b = 0.\n"
     ]
    },
    {
     "name": "stdin",
     "output_type": "stream",
     "text": [
      "Enter the value of 'a':  6\n",
      "Enter the value of 'b':  5\n"
     ]
    },
    {
     "name": "stdout",
     "output_type": "stream",
     "text": [
      "Solution: x = -0.8333333333333334\n"
     ]
    }
   ],
   "source": [
    "#25-Build a program that solves a linear equation  for x, considering different cases.\n",
    "def solve_linear_equation(a, b):\n",
    "    if a == 0:\n",
    "        if b == 0:\n",
    "            print(\"Infinite solutions: 0x = 0\")\n",
    "        else:\n",
    "            print(\"No solution: 0x =\", b)\n",
    "    else:\n",
    "        x = -b / a\n",
    "        print(\"Solution: x =\", x)\n",
    "\n",
    "def main():\n",
    "    print(\"This program solves a linear equation of the form ax + b = 0.\")\n",
    "    a = float(input(\"Enter the value of 'a': \"))\n",
    "    b = float(input(\"Enter the value of 'b': \"))\n",
    "\n",
    "    solve_linear_equation(a, b)\n",
    "\n",
    "if __name__ == \"__main__\":\n",
    "    main()"
   ]
  },
  {
   "cell_type": "markdown",
   "id": "90b33dfd-c932-4245-a6fe-3e1c5d0cad7a",
   "metadata": {},
   "source": [
    "### 26-Write a program that simulates a basic quiz game with multiple-choice questions and scoring.\n",
    "class Question:\n",
    "    def __init__(self, question_text, choices, correct_choice):\n",
    "        self.question_text = question_text\n",
    "        self.choices = choices\n",
    "        self.correct_choice = correct_choice\n",
    "\n",
    "    def is_correct(self, choice):\n",
    "        return choice == self.correct_choice\n",
    "\n",
    "class Quiz:\n",
    "    def __init__(self, questions):\n",
    "        self.questions = questions\n",
    "        self.score = 0\n",
    "\n",
    "    def run_quiz(self):\n",
    "        print(\"Welcome to the Quiz Game!\")\n",
    "        for i, question in enumerate(self.questions, 1):\n",
    "            print(f\"\\nQuestion {i}: {question.question_text}\")\n",
    "            for j, choice in enumerate(question.choices, 1):\n",
    "                print(f\"{j}. {choice}\")\n",
    "            player_choice = int(input(\"Enter your choice (1, 2, 3, etc.): \"))\n",
    "            if player_choice > 0 and player_choice <= len(question.choices):\n",
    "                if question.is_correct(player_choice):\n",
    "                    print(\"Correct!\")\n",
    "                    self.score += 1\n",
    "                else:\n",
    "                    print(\"Incorrect.\")\n",
    "            else:\n",
    "                print(\"Invalid choice. Skipping this question.\")\n",
    "\n",
    "        print(f\"\\nQuiz completed! Your score is {self.score}/{len(self.questions)}.\")\n",
    "\n",
    "def main():\n",
    "    # Define your questions here\n",
    "    questions = [\n",
    "        Question(\"What is the capital of France?\", [\"London\", \"Berlin\", \"Paris\"], 3),\n",
    "        Question(\"Which planet is known as the Red Planet?\", [\"Mars\", \"Venus\", \"Earth\"], 1),\n",
    "        Question(\"What is the largest mammal?\", [\"Elephant\", \"Giraffe\", \"Blue Whale\"], 3),\n",
    "    ]\n",
    "\n",
    "    quiz = Quiz(questions)\n",
    "    quiz.run_quiz()\n",
    "\n",
    "if __name__ == \"__main__\":\n",
    "    main()\n",
    "\n",
    "\n",
    "\n",
    "\n",
    "\n",
    "\n"
   ]
  },
  {
   "cell_type": "code",
   "execution_count": 21,
   "id": "81020ee3-e3fc-45cc-9bcf-f2a20b921374",
   "metadata": {},
   "outputs": [
    {
     "name": "stdin",
     "output_type": "stream",
     "text": [
      "Enter a year to check if it's prime:  2017\n"
     ]
    },
    {
     "name": "stdout",
     "output_type": "stream",
     "text": [
      "2017 is a prime year.\n"
     ]
    }
   ],
   "source": [
    "#27-Develop a program that determines whether a given year is a prime number or not.\n",
    "def is_prime(year):\n",
    "    if year <= 1:\n",
    "        return False\n",
    "    if year <= 3:\n",
    "        return True\n",
    "\n",
    "    if year % 2 == 0 or year % 3 == 0:\n",
    "        return False\n",
    "\n",
    "    i = 5\n",
    "    while i * i <= year:\n",
    "        if year % i == 0 or year % (i + 2) == 0:\n",
    "            return False\n",
    "        i += 6\n",
    "\n",
    "    return True\n",
    "\n",
    "def main():\n",
    "    try:\n",
    "        year = int(input(\"Enter a year to check if it's prime: \"))\n",
    "        if is_prime(year):\n",
    "            print(f\"{year} is a prime year.\")\n",
    "        else:\n",
    "            print(f\"{year} is not a prime year.\")\n",
    "    except ValueError:\n",
    "        print(\"Invalid input. Please enter a valid year.\")\n",
    "\n",
    "if __name__ == \"__main__\":\n",
    "    main()"
   ]
  },
  {
   "cell_type": "code",
   "execution_count": 22,
   "id": "5cc169f8-f763-4d6b-abe9-a33509d19f18",
   "metadata": {},
   "outputs": [
    {
     "name": "stdin",
     "output_type": "stream",
     "text": [
      "Enter the first number:  87\n",
      "Enter the second number:  45\n",
      "Enter the third number:  1\n"
     ]
    },
    {
     "name": "stdout",
     "output_type": "stream",
     "text": [
      "Sorted numbers in ascending order: [1.0, 45.0, 87.0]\n"
     ]
    }
   ],
   "source": [
    "#28-Create a program that sorts three numbers in ascending order using conditional statements.\n",
    "num1 = float(input(\"Enter the first number: \"))\n",
    "num2 = float(input(\"Enter the second number: \"))\n",
    "num3 = float(input(\"Enter the third number: \"))\n",
    "if num1 <= num2 <= num3:\n",
    "    sorted_nums = [num1, num2, num3]\n",
    "elif num1 <= num3 <= num2:\n",
    "    sorted_nums = [num1, num3, num2]\n",
    "elif num2 <= num1 <= num3:\n",
    "    sorted_nums = [num2, num1, num3]\n",
    "elif num2 <= num3 <= num1:\n",
    "    sorted_nums = [num2, num3, num1]\n",
    "elif num3 <= num1 <= num2:\n",
    "    sorted_nums = [num3, num1, num2]\n",
    "else:\n",
    "    sorted_nums = [num3, num2, num1\n",
    "print(\"Sorted numbers in ascending order:\", sorted_nums)"
   ]
  },
  {
   "cell_type": "code",
   "execution_count": null,
   "id": "8d8b260b-7fd4-4f6c-94e7-7734a6881682",
   "metadata": {},
   "outputs": [],
   "source": [
    "#29-Build a program that determines the roots of a quartic equation using numerical methods\n",
    "import numpy as np\n",
    "\n",
    "# Define the quartic equation: ax^4 + bx^3 + cx^2 + dx + e = 0\n",
    "a = float(input(\"Enter the coefficient a: \"))\n",
    "b = float(input(\"Enter the coefficient b: \"))\n",
    "c = float(input(\"Enter the coefficient c: \"))\n",
    "d = float(input(\"Enter the coefficient d: \"))\n",
    "e = float(input(\"Enter the coefficient e: \"))\n",
    "\n",
    "# Initial guess for the roots (you can change these values)\n",
    "x0 = float(input(\"Enter an initial guess for the root: \"))\n",
    "\n",
    "# Define the function and its derivative\n",
    "def f(x):\n",
    "    return a * x**4 + b * x**3 + c * x**2 + d * x + e\n",
    "\n",
    "def f_prime(x):\n",
    "    return 4 * a * x**3 + 3 * b * x**2 + 2 * c * x + d\n",
    "\n",
    "# Set the maximum number of iterations and tolerance\n",
    "max_iterations = 100\n",
    "tolerance = 1e-6\n",
    "\n",
    "# Newton-Raphson method to find the roots\n",
    "x = x0\n",
    "for i in range(max_iterations):\n",
    "    delta_x = f(x) / f_prime(x)\n",
    "    x -= delta_x\n",
    "\n",
    "    if abs(delta_x) < tolerance:\n",
    "        break\n",
    "\n",
    "# Check if the root is real or complex\n",
    "if np.iscomplex(x):\n",
    "    print(f\"The root is complex: {x.real} + {x.imag}i\")\n",
    "else:\n",
    "    print(f\"The root is real: {x}\")"
   ]
  },
  {
   "cell_type": "code",
   "execution_count": 25,
   "id": "8787dd5e-f7af-49a5-a147-58a4eee3da5b",
   "metadata": {},
   "outputs": [
    {
     "name": "stdout",
     "output_type": "stream",
     "text": [
      "Body Mass Index (BMI) Calculator\n"
     ]
    },
    {
     "name": "stdin",
     "output_type": "stream",
     "text": [
      "Enter your weight (in kilograms):  56\n",
      "Enter your height (in meters):  168\n"
     ]
    },
    {
     "name": "stdout",
     "output_type": "stream",
     "text": [
      "Your BMI is 0.00\n",
      "Health Recommendation: Underweight - You may need to gain some weight.\n"
     ]
    }
   ],
   "source": [
    "#30-Write a program that calculates the BMI (Body Mass Index) and provides health recommendations based\n",
    "def calculate_bmi(weight, height):\n",
    "    # Calculate BMI using the formula: BMI = weight (kg) / (height (m) * height (m))\n",
    "    bmi = weight / (height ** 2)\n",
    "    return bmi\n",
    "\n",
    "def get_health_recommendation(bmi):\n",
    "    if bmi < 18.5:\n",
    "        return \"Underweight - You may need to gain some weight.\"\n",
    "    elif 18.5 <= bmi < 24.9:\n",
    "        return \"Normal weight - Your weight is within the healthy range.\"\n",
    "    elif 24.9 <= bmi < 29.9:\n",
    "        return \"Overweight - Consider losing some weight for better health.\"\n",
    "    else:\n",
    "        return \"Obese - It is important to consult a healthcare professional for guidance.\"\n",
    "\n",
    "def main():\n",
    "    print(\"Body Mass Index (BMI) Calculator\")\n",
    "    weight = float(input(\"Enter your weight (in kilograms): \"))\n",
    "    height = float(input(\"Enter your height (in meters): \"))\n",
    "\n",
    "    bmi = calculate_bmi(weight, height)\n",
    "    health_recommendation = get_health_recommendation(bmi)\n",
    "\n",
    "    print(f\"Your BMI is {bmi:.2f}\")\n",
    "    print(\"Health Recommendation:\", health_recommendation)\n",
    "\n",
    "if __name__ == \"__main__\":\n",
    "    main()"
   ]
  },
  {
   "cell_type": "code",
   "execution_count": 26,
   "id": "36cc596c-a4ef-4a35-97ee-f9cf373b01bb",
   "metadata": {},
   "outputs": [
    {
     "name": "stdout",
     "output_type": "stream",
     "text": [
      "Password Complexity Checker\n"
     ]
    },
    {
     "name": "stdin",
     "output_type": "stream",
     "text": [
      "Enter a password:  jyoti\n"
     ]
    },
    {
     "name": "stdout",
     "output_type": "stream",
     "text": [
      "Password is invalid. Please check the complexity rules.\n"
     ]
    }
   ],
   "source": [
    "#Challenge Level:\n",
    "#31-Create a program that validates a password based on complexity rules (length, characters, etc.).\n",
    "import re\n",
    "\n",
    "def is_valid_password(password):\n",
    "    # Define complexity rules\n",
    "    min_length = 8  # Minimum password length\n",
    "    max_length = 16  # Maximum password length\n",
    "    has_lowercase = bool(re.search(r'[a-z]', password))\n",
    "    has_uppercase = bool(re.search(r'[A-Z]', password))\n",
    "    has_digit = bool(re.search(r'[0-9]', password))\n",
    "    has_special = bool(re.search(r'[!@#$%^&*()_+{}:<>?~]', password))  # Add more special characters as needed\n",
    "\n",
    "    # Check if the password meets all rules\n",
    "    if min_length <= len(password) <= max_length \\\n",
    "            and has_lowercase \\\n",
    "            and has_uppercase \\\n",
    "            and has_digit \\\n",
    "            and has_special:\n",
    "        return True\n",
    "    else:\n",
    "        return False\n",
    "\n",
    "def main():\n",
    "    print(\"Password Complexity Checker\")\n",
    "    password = input(\"Enter a password: \")\n",
    "\n",
    "    if is_valid_password(password):\n",
    "        print(\"Password is valid and meets complexity rules.\")\n",
    "    else:\n",
    "        print(\"Password is invalid. Please check the complexity rules.\")\n",
    "\n",
    "if __name__ == \"__main__\":\n",
    "    main()"
   ]
  },
  {
   "cell_type": "markdown",
   "id": "b67af99b-90ca-4609-8905-b6c6efe151a5",
   "metadata": {},
   "source": []
  },
  {
   "cell_type": "markdown",
   "id": "757070c4-31fd-42cb-b0fd-32c50d0f1ada",
   "metadata": {},
   "source": []
  },
  {
   "cell_type": "code",
   "execution_count": null,
   "id": "296e1066-9df8-498d-a496-425a219db5f5",
   "metadata": {},
   "outputs": [],
   "source": []
  },
  {
   "cell_type": "code",
   "execution_count": null,
   "id": "077e6776-6b79-40ae-92fd-1da27eaa3d53",
   "metadata": {},
   "outputs": [],
   "source": []
  },
  {
   "cell_type": "code",
   "execution_count": 29,
   "id": "ac86a822-d96c-4c17-88ee-11690e302b67",
   "metadata": {},
   "outputs": [
    {
     "name": "stdin",
     "output_type": "stream",
     "text": [
      "Enter the number of rows:  3\n",
      "Enter the number of columns:  3\n"
     ]
    },
    {
     "name": "stdout",
     "output_type": "stream",
     "text": [
      "Enter the first matrix:\n",
      "Enter 3x3 matrix:\n"
     ]
    },
    {
     "name": "stdin",
     "output_type": "stream",
     "text": [
      "Enter element at row 1, column 1:  1\n",
      "Enter element at row 1, column 2:  2\n",
      "Enter element at row 1, column 3:  3\n",
      "Enter element at row 2, column 1:  4\n",
      "Enter element at row 2, column 2:  4\n",
      "Enter element at row 2, column 3:  5\n",
      "Enter element at row 3, column 1:  6\n",
      "Enter element at row 3, column 2:  7\n",
      "Enter element at row 3, column 3:  7\n"
     ]
    },
    {
     "name": "stdout",
     "output_type": "stream",
     "text": [
      "Enter the second matrix:\n",
      "Enter 3x3 matrix:\n"
     ]
    },
    {
     "name": "stdin",
     "output_type": "stream",
     "text": [
      "Enter element at row 1, column 1:  1\n",
      "Enter element at row 1, column 2:  2\n",
      "Enter element at row 1, column 3:  3\n",
      "Enter element at row 2, column 1:  3\n",
      "Enter element at row 2, column 2:  4\n",
      "Enter element at row 2, column 3:  5\n",
      "Enter element at row 3, column 1:  5\n",
      "Enter element at row 3, column 2:  6\n",
      "Enter element at row 3, column 3:  7\n"
     ]
    },
    {
     "name": "stdout",
     "output_type": "stream",
     "text": [
      "\n",
      "Matrix 1:\n",
      "1.0 2.0 3.0\n",
      "4.0 4.0 5.0\n",
      "6.0 7.0 7.0\n",
      "\n",
      "Matrix 2:\n",
      "1.0 2.0 3.0\n",
      "3.0 4.0 5.0\n",
      "5.0 6.0 7.0\n",
      "\n",
      "Matrix Addition:\n",
      "2.0 4.0 6.0\n",
      "7.0 8.0 10.0\n",
      "11.0 13.0 14.0\n",
      "\n",
      "Matrix Subtraction:\n",
      "0.0 0.0 0.0\n",
      "1.0 0.0 0.0\n",
      "1.0 1.0 0.0\n"
     ]
    }
   ],
   "source": [
    "#32-Develop a program that performs matrix addition and subtraction based on user input.\n",
    "def input_matrix(rows, cols):\n",
    "    matrix = []\n",
    "    print(f\"Enter {rows}x{cols} matrix:\")\n",
    "    for i in range(rows):\n",
    "        row = []\n",
    "        for j in range(cols):\n",
    "            element = float(input(f\"Enter element at row {i + 1}, column {j + 1}: \"))\n",
    "            row.append(element)\n",
    "        matrix.append(row)\n",
    "    return matrix\n",
    "\n",
    "def add_matrices(matrix1, matrix2):\n",
    "    result = []\n",
    "    for i in range(len(matrix1)):\n",
    "        row = []\n",
    "        for j in range(len(matrix1[0])):\n",
    "            row.append(matrix1[i][j] + matrix2[i][j])\n",
    "        result.append(row)\n",
    "    return result\n",
    "\n",
    "def subtract_matrices(matrix1, matrix2):\n",
    "    result = []\n",
    "    for i in range(len(matrix1)):\n",
    "        row = []\n",
    "        for j in range(len(matrix1[0])):\n",
    "            row.append(matrix1[i][j] - matrix2[i][j])\n",
    "        result.append(row)\n",
    "    return result\n",
    "\n",
    "def print_matrix(matrix):\n",
    "    for row in matrix:\n",
    "        print(\" \".join(str(element) for element in row))\n",
    "\n",
    "def main():\n",
    "    try:\n",
    "        rows = int(input(\"Enter the number of rows: \"))\n",
    "        cols = int(input(\"Enter the number of columns: \"))\n",
    "\n",
    "        print(\"Enter the first matrix:\")\n",
    "        matrix1 = input_matrix(rows, cols)\n",
    "\n",
    "        print(\"Enter the second matrix:\")\n",
    "        matrix2 = input_matrix(rows, cols)\n",
    "\n",
    "        print(\"\\nMatrix 1:\")\n",
    "        print_matrix(matrix1)\n",
    "\n",
    "        print(\"\\nMatrix 2:\")\n",
    "        print_matrix(matrix2)\n",
    "\n",
    "        sum_matrix = add_matrices(matrix1, matrix2)\n",
    "        difference_matrix = subtract_matrices(matrix1, matrix2)\n",
    "\n",
    "        print(\"\\nMatrix Addition:\")\n",
    "        print_matrix(sum_matrix)\n",
    "\n",
    "        print(\"\\nMatrix Subtraction:\")\n",
    "        print_matrix(difference_matrix)\n",
    "\n",
    "    except ValueError:\n",
    "        print(\"Invalid input. Please enter valid numbers.\")\n",
    "\n",
    "if __name__ == \"__main__\":\n",
    "    main()\n"
   ]
  },
  {
   "cell_type": "code",
   "execution_count": 30,
   "id": "48d4ecfd-68de-48d1-b146-e02ae696a763",
   "metadata": {},
   "outputs": [
    {
     "name": "stdin",
     "output_type": "stream",
     "text": [
      "Enter the first number:  3\n",
      "Enter the second number:  5\n"
     ]
    },
    {
     "name": "stdout",
     "output_type": "stream",
     "text": [
      "The GCD of 3 and 5 is 1.\n"
     ]
    }
   ],
   "source": [
    "#33-Write a program that calculates the greatest common divisor (GCD) of two numbers using the Euclidean algorithm\n",
    "def euclidean_gcd(a, b):\n",
    "    while b:\n",
    "        a, b = b, a % b\n",
    "    return a\n",
    "\n",
    "def main():\n",
    "    try:\n",
    "        num1 = int(input(\"Enter the first number: \"))\n",
    "        num2 = int(input(\"Enter the second number: \"))\n",
    "\n",
    "        if num1 < 0 or num2 < 0:\n",
    "            print(\"Please enter positive integers.\")\n",
    "        else:\n",
    "            gcd = euclidean_gcd(num1, num2)\n",
    "            print(f\"The GCD of {num1} and {num2} is {gcd}.\")\n",
    "    except ValueError:\n",
    "        print(\"Invalid input. Please enter valid integers.\")\n",
    "\n",
    "if __name__ == \"__main__\":\n",
    "    main()"
   ]
  },
  {
   "cell_type": "markdown",
   "id": "e3710990-db3b-44b0-ad85-c1cac59a5eb6",
   "metadata": {
    "tags": []
   },
   "source": []
  },
  {
   "cell_type": "code",
   "execution_count": null,
   "id": "afee16ef-32ab-41b3-bd9f-bc6ec51307cf",
   "metadata": {},
   "outputs": [],
   "source": [
    "#34- Build a program that performs matrix multiplication using nested loops and conditional statements.\n",
    "def input_matrix(rows, cols):\n",
    "    matrix = []\n",
    "    print(f\"Enter {rows}x{cols} matrix:\")\n",
    "    for i in range(rows):\n",
    "        row = []\n",
    "        for j in range(cols):\n",
    "            element = float(input(f\"Enter element at row {i + 1}, column {j + 1}: \"))\n",
    "            row.append(element)\n",
    "        matrix.append(row)\n",
    "    return matrix\n",
    "\n",
    "def multiply_matrices(matrix1, matrix2):\n",
    "    if len(matrix1[0]) != len(matrix2):\n",
    "        raise ValueError(\"The number of columns in the first matrix must be equal to the number of rows in the second matrix.\")\n",
    "\n",
    "    result = []\n",
    "    rows1 = len(matrix1)\n",
    "    cols1 = len(matrix1[0])\n",
    "    cols2 = len(matrix2[0])\n",
    "\n",
    "    for i in range(rows1):\n",
    "        row = []\n",
    "        for j in range(cols2):\n",
    "            element = 0\n",
    "            for k in range(cols1):\n",
    "                element += matrix1[i][k] * matrix2[k][j]\n",
    "            row.append(element)\n",
    "        result.append(row)\n",
    "    return result\n",
    "\n",
    "def print_matrix(matrix):\n",
    "    for row in matrix:\n",
    "        print(\" \".join(str(element) for element in row))\n",
    "\n",
    "def main():\n",
    "    try:\n",
    "        rows1 = int(input(\"Enter the number of rows for the first matrix: \"))\n",
    "        cols1 = int(input(\"Enter the number of columns for the first matrix: \"))\n",
    "        rows2 = int(input(\"Enter the number of rows for the second matrix: \"))\n",
    "        cols2 = int(input(\"Enter the number of columns for the second matrix: \"))\n",
    "\n",
    "        if cols1 != rows2:\n",
    "            print(\"Matrix multiplication is not possible. The number of columns in the first matrix must be equal to the number of rows in the second matrix.\")\n",
    "            return\n",
    "\n",
    "        print(\"Enter the first matrix:\")\n",
    "        matrix1 = input_matrix(rows1, cols1)\n",
    "\n",
    "        print(\"Enter the second matrix:\")\n",
    "        matrix2 = input_matrix(rows2, cols2)\n",
    "\n",
    "        print(\"\\nMatrix 1:\")\n",
    "        print_matrix(matrix1)\n",
    "\n",
    "        print(\"\\nMatrix 2:\")\n",
    "        print_matrix(matrix2)\n",
    "\n",
    "        product_matrix = multiply_matrices(matrix1, matrix2)\n",
    "\n",
    "        print(\"\\nMatrix Multiplication Result:\")\n",
    "        print_matrix(product_matrix)\n",
    "\n",
    "    except ValueError as e:\n",
    "        print(e)\n",
    "    except KeyboardInterrupt:\n",
    "        print(\"\\nProgram terminated by the user.\")\n",
    "\n",
    "if __name__ == \"__main__\":\n",
    "    main()"
   ]
  },
  {
   "cell_type": "code",
   "execution_count": 4,
   "id": "65d3d8e0-611a-4a83-9b4a-2f88edf52bad",
   "metadata": {},
   "outputs": [
    {
     "name": "stdout",
     "output_type": "stream",
     "text": [
      "Welcome to Tic-Tac-Toe against the computer!\n",
      "  |   |  \n",
      "---------\n",
      "  |   |  \n",
      "---------\n",
      "  |   |  \n",
      "---------\n"
     ]
    },
    {
     "name": "stdin",
     "output_type": "stream",
     "text": [
      "Enter your move (row and column, e.g., '1 2'):  2 2\n"
     ]
    },
    {
     "name": "stdout",
     "output_type": "stream",
     "text": [
      "  |   |  \n",
      "---------\n",
      "  | X |  \n",
      "---------\n",
      "  |   |  \n",
      "---------\n",
      "Computer's turn:\n",
      "  |   |  \n",
      "---------\n",
      "  | X |  \n",
      "---------\n",
      "O |   |  \n",
      "---------\n"
     ]
    },
    {
     "name": "stdin",
     "output_type": "stream",
     "text": [
      "Enter your move (row and column, e.g., '1 2'):  1 1\n"
     ]
    },
    {
     "name": "stdout",
     "output_type": "stream",
     "text": [
      "X |   |  \n",
      "---------\n",
      "  | X |  \n",
      "---------\n",
      "O |   |  \n",
      "---------\n",
      "Computer's turn:\n",
      "X |   | O\n",
      "---------\n",
      "  | X |  \n",
      "---------\n",
      "O |   |  \n",
      "---------\n"
     ]
    },
    {
     "name": "stdin",
     "output_type": "stream",
     "text": [
      "Enter your move (row and column, e.g., '1 2'):  3 3\n"
     ]
    },
    {
     "name": "stdout",
     "output_type": "stream",
     "text": [
      "X |   | O\n",
      "---------\n",
      "  | X |  \n",
      "---------\n",
      "O |   | X\n",
      "---------\n",
      "Congratulations! You win!\n"
     ]
    }
   ],
   "source": [
    "#35. Create a program that simulates a basic text-based tic-tac-toe game against the computer\n",
    "import random\n",
    "\n",
    "# Function to draw the game board\n",
    "import random\n",
    "\n",
    "# Function to draw the game board\n",
    "def draw_board(board):\n",
    "    for row in board:\n",
    "        print(\" | \".join(row))\n",
    "        print(\"-\" * 9)\n",
    "\n",
    "# Function to check if someone has won\n",
    "def check_win(board, player):\n",
    "    for row in board:\n",
    "        if all(cell == player for cell in row):\n",
    "            return True\n",
    "\n",
    "    for col in range(3):\n",
    "        if all(row[col] == player for row in board):\n",
    "            return True\n",
    "\n",
    "    if all(board[i][i] == player for i in range(3)) or all(board[i][2 - i] == player for i in range(3)):\n",
    "        return True\n",
    "\n",
    "    return False\n",
    "\n",
    "# Function for the computer's move\n",
    "def computer_move(board, computer_marker):\n",
    "    empty_cells = [(row, col) for row in range(3) for col in range(3) if board[row][col] == ' ']\n",
    "    return random.choice(empty_cells)\n",
    "\n",
    "# Main game loop\n",
    "def main():\n",
    "    board = [[\" \" for _ in range(3)] for _ in range(3)]\n",
    "    player_marker = \"X\"\n",
    "    computer_marker = \"O\"\n",
    "\n",
    "    print(\"Welcome to Tic-Tac-Toe against the computer!\")\n",
    "    draw_board(board)\n",
    "\n",
    "    while True:\n",
    "        # Player's move\n",
    "        row, col = map(int, input(\"Enter your move (row and column, e.g., '1 2'): \").split())\n",
    "        if board[row - 1][col - 1] == \" \":\n",
    "            board[row - 1][col - 1] = player_marker\n",
    "        else:\n",
    "            print(\"That cell is already occupied. Try again.\")\n",
    "            continue\n",
    "\n",
    "        draw_board(board)\n",
    "        if check_win(board, player_marker):\n",
    "            print(\"Congratulations! You win!\")\n",
    "            break\n",
    "        if \" \" not in [cell for row in board for cell in row]:\n",
    "            print(\"It's a tie!\")\n",
    "            break\n",
    "\n",
    "        # Computer's move\n",
    "        print(\"Computer's turn:\")\n",
    "        row, col = computer_move(board, computer_marker)\n",
    "        board[row][col] = computer_marker\n",
    "\n",
    "        draw_board(board)\n",
    "        if check_win(board, computer_marker):\n",
    "            print(\"Computer wins! Better luck next time.\")\n",
    "            break\n",
    "        if \" \" not in [cell for row in board for cell in row]:\n",
    "            print(\"It's a tie!\")\n",
    "            break\n",
    "\n",
    "if __name__ == \"__main__\":\n",
    "    main()\n"
   ]
  },
  {
   "cell_type": "code",
   "execution_count": 6,
   "id": "f88cce1e-cf90-4adc-8955-8da41d5b43c2",
   "metadata": {},
   "outputs": [
    {
     "name": "stdin",
     "output_type": "stream",
     "text": [
      "Enter the number of Fibonacci terms to generate:  10\n"
     ]
    },
    {
     "name": "stdout",
     "output_type": "stream",
     "text": [
      "Fibonacci sequence up to the 10 term(s): [0, 1, 1, 2, 3, 5, 8, 13, 21, 34]\n"
     ]
    }
   ],
   "source": [
    "#36. Write a program that generates Fibonacci numbers up to a specified term using iterative methods.\n",
    "def generate_fibonacci(n):\n",
    "    fibonacci_sequence = []\n",
    "\n",
    "    if n <= 0:\n",
    "        return fibonacci_sequence\n",
    "\n",
    "    a, b = 0, 1\n",
    "    fibonacci_sequence.append(a)\n",
    "    \n",
    "    while len(fibonacci_sequence) < n:\n",
    "        a, b = b, a + b\n",
    "        fibonacci_sequence.append(a)\n",
    "\n",
    "    return fibonacci_sequence\n",
    "\n",
    "# Get user input for the number of terms\n",
    "try:\n",
    "    n = int(input(\"Enter the number of Fibonacci terms to generate: \"))\n",
    "    if n < 0:\n",
    "        print(\"Please enter a non-negative integer.\")\n",
    "    else:\n",
    "        fibonacci_sequence = generate_fibonacci(n)\n",
    "        if n > 0:\n",
    "            print(\"Fibonacci sequence up to the\", n, \"term(s):\", fibonacci_sequence)\n",
    "        else:\n",
    "            print(\"No Fibonacci terms to generate.\")\n",
    "except ValueError:\n",
    "    print(\"Invalid input. Please enter a non-negative integer.\")\n"
   ]
  },
  {
   "cell_type": "code",
   "execution_count": 7,
   "id": "1935c294-1f07-4fdf-971b-c713ed35e981",
   "metadata": {},
   "outputs": [
    {
     "name": "stdin",
     "output_type": "stream",
     "text": [
      "Enter the term (n) of the Fibonacci sequence to calculate:  10\n"
     ]
    },
    {
     "name": "stdout",
     "output_type": "stream",
     "text": [
      "The 10-th term of the Fibonacci sequence is: 55\n"
     ]
    }
   ],
   "source": [
    "#37. Develop a program that calculates the nth term of the Fibonacci sequence using memoization.\n",
    "fib_cache = {}\n",
    "\n",
    "# Function to calculate the nth Fibonacci number using memoization\n",
    "def fibonacci_memoization(n):\n",
    "    if n in fib_cache:\n",
    "        return fib_cache[n]\n",
    "\n",
    "    if n <= 1:\n",
    "        fib_cache[n] = n\n",
    "    else:\n",
    "        fib_cache[n] = fibonacci_memoization(n - 1) + fibonacci_memoization(n - 2)\n",
    "\n",
    "    return fib_cache[n]\n",
    "\n",
    "# Get user input for the term to calculate\n",
    "try:\n",
    "    n = int(input(\"Enter the term (n) of the Fibonacci sequence to calculate: \"))\n",
    "    if n < 0:\n",
    "        print(\"Please enter a non-negative integer.\")\n",
    "    else:\n",
    "        result = fibonacci_memoization(n)\n",
    "        print(f\"The {n}-th term of the Fibonacci sequence is: {result}\")\n",
    "except ValueError:\n",
    "    print(\"Invalid input. Please enter a non-negative integer.\")\n",
    "\n",
    "\n",
    "\n",
    "\n"
   ]
  },
  {
   "cell_type": "code",
   "execution_count": 12,
   "id": "abc8ef57-d8ac-40e6-8692-ff276697b7d1",
   "metadata": {},
   "outputs": [
    {
     "name": "stdin",
     "output_type": "stream",
     "text": [
      "Enter the year (e.g., 2023):  2024\n",
      "Enter the month (1-12):  10\n"
     ]
    },
    {
     "name": "stdout",
     "output_type": "stream",
     "text": [
      "\n",
      "Calendar for 2024-10:\n",
      "    October 2024\n",
      "Mo Tu We Th Fr Sa Su\n",
      "    1  2  3  4  5  6\n",
      " 7  8  9 10 11 12 13\n",
      "14 15 16 17 18 19 20\n",
      "21 22 23 24 25 26 27\n",
      "28 29 30 31\n",
      "\n"
     ]
    }
   ],
   "source": [
    "#38. Create a program that generates a calendar for a given month and year using conditional statements.\n",
    "import calendar\n",
    "\n",
    "# Function to generate and display the calendar for the given month and year\n",
    "def generate_calendar(year, month):\n",
    "    cal = calendar.month(year, month)\n",
    "    print(\"\\nCalendar for {0}-{1}:\".format(year, month))\n",
    "    print(cal)\n",
    "\n",
    "# Get user input for the year and month\n",
    "try:\n",
    "    year = int(input(\"Enter the year (e.g., 2023): \"))\n",
    "    month = int(input(\"Enter the month (1-12): \"))\n",
    "\n",
    "    if 1 <= month <= 12:\n",
    "        generate_calendar(year, month)\n",
    "    else:\n",
    "        print(\"Invalid month. Please enter a number between 1 and 12.\")\n",
    "except ValueError:\n",
    "    print(\"Invalid input. Please enter valid numeric values for year and month.\")"
   ]
  },
  {
   "cell_type": "code",
   "execution_count": 13,
   "id": "31b80625-2f38-4b24-b9ba-d3ff31feb781",
   "metadata": {},
   "outputs": [
    {
     "name": "stdin",
     "output_type": "stream",
     "text": [
      "Enter a positive integer:  56\n"
     ]
    },
    {
     "name": "stdout",
     "output_type": "stream",
     "text": [
      "The prime factors of 56 are: [2, 2, 2, 7]\n"
     ]
    }
   ],
   "source": [
    "#40-Write a program that generates the prime factors of a given number using trial division.\n",
    "# Function to find prime factors using trial division\n",
    "def prime_factors(n):\n",
    "    factors = []\n",
    "    divisor = 2\n",
    "\n",
    "    while divisor <= n:\n",
    "        if n % divisor == 0:\n",
    "            factors.append(divisor)\n",
    "            n //= divisor\n",
    "        else:\n",
    "            divisor += 1\n",
    "\n",
    "    return factors\n",
    "\n",
    "# Get user input for the number\n",
    "try:\n",
    "    num = int(input(\"Enter a positive integer: \"))\n",
    "\n",
    "    if num <= 0:\n",
    "        print(\"Please enter a positive integer.\")\n",
    "    else:\n",
    "        factors = prime_factors(num)\n",
    "        if len(factors) == 0:\n",
    "            print(f\"{num} has no prime factors.\")\n",
    "        else:\n",
    "            print(f\"The prime factors of {num} are: {factors}\")\n",
    "except ValueError:\n",
    "    print(\"Invalid input. Please enter a positive integer.\")"
   ]
  },
  {
   "cell_type": "code",
   "execution_count": null,
   "id": "dbebce50-9cc6-439f-a8f5-37fbb3e5e4ad",
   "metadata": {},
   "outputs": [],
   "source": []
  }
 ],
 "metadata": {
  "kernelspec": {
   "display_name": "Python 3 (ipykernel)",
   "language": "python",
   "name": "python3"
  },
  "language_info": {
   "codemirror_mode": {
    "name": "ipython",
    "version": 3
   },
   "file_extension": ".py",
   "mimetype": "text/x-python",
   "name": "python",
   "nbconvert_exporter": "python",
   "pygments_lexer": "ipython3",
   "version": "3.10.8"
  }
 },
 "nbformat": 4,
 "nbformat_minor": 5
}
