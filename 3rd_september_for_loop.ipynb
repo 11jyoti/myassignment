{
 "cells": [
  {
   "cell_type": "code",
   "execution_count": 42,
   "id": "6cd76f93-027c-4b17-b296-961feaeaaf5d",
   "metadata": {},
   "outputs": [
    {
     "name": "stdout",
     "output_type": "stream",
     "text": [
      "1\n",
      "2\n",
      "3\n",
      "4\n",
      "5\n",
      "6\n",
      "7\n",
      "8\n",
      "9\n",
      "10\n"
     ]
    }
   ],
   "source": [
    "#basic level\n",
    "#1-print 1-10 \n",
    "for i in range(1,11):\n",
    "    print(i)"
   ]
  },
  {
   "cell_type": "code",
   "execution_count": 43,
   "id": "5faa9643-3e2f-47ca-803d-ca9cc9982cf7",
   "metadata": {},
   "outputs": [
    {
     "name": "stdout",
     "output_type": "stream",
     "text": [
      "21\n"
     ]
    }
   ],
   "source": [
    "# 2-sum of list\n",
    "lst=[1,2,3,4,5,6]\n",
    "sum=0\n",
    "for i in lst:\n",
    "    sum=sum+i\n",
    "print(sum)\n",
    "\n",
    " "
   ]
  },
  {
   "cell_type": "code",
   "execution_count": 25,
   "id": "331ad945-0440-42e5-b55d-919a3ae76c10",
   "metadata": {},
   "outputs": [
    {
     "name": "stdout",
     "output_type": "stream",
     "text": [
      " detinu\n"
     ]
    }
   ],
   "source": [
    "# 3-reverse the str using for lop\n",
    "str=\"united\"\n",
    "rev=\" \"\n",
    "for i in range(len(str)-1,-1,-1):\n",
    "    rev=rev+str[i]\n",
    "print(rev)"
   ]
  },
  {
   "cell_type": "code",
   "execution_count": 26,
   "id": "52f05f3e-0cd3-424b-a047-fe81faf662bf",
   "metadata": {},
   "outputs": [
    {
     "name": "stdout",
     "output_type": "stream",
     "text": [
      "120\n"
     ]
    }
   ],
   "source": [
    "# 4-factorial of number\n",
    "num=5\n",
    "fact=1\n",
    "for i in range(1,num+1):\n",
    "    fact=fact*i\n",
    "print(fact)"
   ]
  },
  {
   "cell_type": "code",
   "execution_count": 28,
   "id": "bb1d4654-57b7-4c61-a24e-026d88b11470",
   "metadata": {},
   "outputs": [
    {
     "name": "stdout",
     "output_type": "stream",
     "text": [
      "5\n",
      "10\n",
      "15\n",
      "20\n",
      "25\n",
      "30\n",
      "35\n",
      "40\n",
      "45\n",
      "50\n"
     ]
    }
   ],
   "source": [
    "# 5-table of num\n",
    "num=5\n",
    "for i in range(1,11):\n",
    "    print(i*num)"
   ]
  },
  {
   "cell_type": "code",
   "execution_count": 34,
   "id": "f6646f0e-7234-42a9-94de-0923af5eb941",
   "metadata": {},
   "outputs": [
    {
     "name": "stdout",
     "output_type": "stream",
     "text": [
      "6\n",
      "3\n"
     ]
    }
   ],
   "source": [
    "#6-odd-even from a list\n",
    "lst=[2,3,4,6,2,4,3,5,6]\n",
    "odd=0\n",
    "even=0\n",
    "for i in lst:\n",
    "    if(i%2==0):\n",
    "        even=even+1\n",
    "    else:\n",
    "        odd=odd+1\n",
    "print(even)\n",
    "print(odd)\n",
    "        \n",
    "\n"
   ]
  },
  {
   "cell_type": "code",
   "execution_count": 40,
   "id": "465de85a-8cbb-4e95-8084-cf02d9003165",
   "metadata": {},
   "outputs": [
    {
     "name": "stdout",
     "output_type": "stream",
     "text": [
      "1\n",
      "4\n",
      "9\n",
      "16\n",
      "25\n"
     ]
    }
   ],
   "source": [
    "#7-sqs of number 1-5\n",
    "for i in range(1,6):\n",
    "    print(i**2)"
   ]
  },
  {
   "cell_type": "code",
   "execution_count": 44,
   "id": "01cf6508-9183-4816-8f81-b5dc509d0cfb",
   "metadata": {},
   "outputs": [
    {
     "name": "stdout",
     "output_type": "stream",
     "text": [
      "6\n"
     ]
    }
   ],
   "source": [
    "#8-find a length without using len() function\n",
    "str=\"united\"\n",
    "l=0\n",
    "for i in str:\n",
    "    l=l+1\n",
    "print(l)\n"
   ]
  },
  {
   "cell_type": "code",
   "execution_count": 50,
   "id": "352bd719-f3dc-42aa-9296-6f7db3a45ce6",
   "metadata": {},
   "outputs": [
    {
     "name": "stdout",
     "output_type": "stream",
     "text": [
      "average= 5.5\n"
     ]
    }
   ],
   "source": [
    "#9-average of list\n",
    "lst=[1,2,3,4,5,6,7,8,9,10]\n",
    "sum=0\n",
    "count=0\n",
    "for i in lst:\n",
    "    sum=sum+i\n",
    "    count=count+1\n",
    "print(\"average=\",sum/count)\n",
    "\n"
   ]
  },
  {
   "cell_type": "code",
   "execution_count": 51,
   "id": "86c496fc-9063-460c-913c-fb8f9698e54c",
   "metadata": {},
   "outputs": [
    {
     "name": "stdout",
     "output_type": "stream",
     "text": [
      "0\n",
      "1\n",
      "1\n",
      "2\n",
      "3\n",
      "5\n",
      "8\n",
      "13\n",
      "21\n",
      "34\n"
     ]
    }
   ],
   "source": [
    "#10-fibonancy series\n",
    "first = 0\n",
    "second = 1\n",
    "print(first)\n",
    "print(second)\n",
    "for x in range(1,9):\n",
    "    third = first + second\n",
    "    print(third)\n",
    "    first,second=second,third\n"
   ]
  },
  {
   "cell_type": "code",
   "execution_count": 20,
   "id": "43611524-fbea-4103-aea3-b6e4e4c90f8f",
   "metadata": {},
   "outputs": [
    {
     "name": "stdout",
     "output_type": "stream",
     "text": [
      "duplicate\n",
      "duplicate\n",
      "duplicate\n",
      "duplicate\n",
      "duplicate\n"
     ]
    }
   ],
   "source": [
    "#intermediate level\n",
    "#11-checking duplicates\n",
    "lst=[1,2,3,2,1,3,1]\n",
    "for i in range(0,7):\n",
    "    for j in range(i+1,7):\n",
    "        if(lst[i]==lst[j]):\n",
    "            print(\"duplicate\")    \n",
    "            \n",
    "            \n",
    "            "
   ]
  },
  {
   "cell_type": "code",
   "execution_count": 8,
   "id": "fdc2dac2-a714-4bf1-8aaf-d7409f922d8e",
   "metadata": {},
   "outputs": [
    {
     "name": "stdin",
     "output_type": "stream",
     "text": [
      "Enter the lower bound:  1\n",
      "Enter the upper bound:  10\n"
     ]
    },
    {
     "name": "stdout",
     "output_type": "stream",
     "text": [
      "Prime numbers between 1 and 10 are:\n",
      "2 3 5 7 "
     ]
    }
   ],
   "source": [
    "#12-prime number in given range\n",
    "start = int(input(\"Enter the lower bound: \"))\n",
    "stop = int(input(\"Enter the upper bound: \"))\n",
    "print(\"Prime numbers between\", start, \"and\", stop, \"are:\")\n",
    "for val in range(start, stop):\n",
    "  if val > 1:\n",
    "    for i in range(2, val):\n",
    "      if (val % i) == 0:\n",
    "        break\n",
    "    else:\n",
    "      print(val, end=\" \")"
   ]
  },
  {
   "cell_type": "code",
   "execution_count": 12,
   "id": "520f8012-13ed-488f-9bf7-8431b66b3443",
   "metadata": {},
   "outputs": [
    {
     "name": "stdout",
     "output_type": "stream",
     "text": [
      "3\n"
     ]
    }
   ],
   "source": [
    "#13-vovel in string\n",
    "str=\"united\"\n",
    "vowel=0\n",
    "for i in str:\n",
    "    if(i==\"a\" or i==\"e\" or i==\"i\" or i==\"o\" or i==\"u\"):\n",
    "        vowel=vowel+1\n",
    "print(vowel)"
   ]
  },
  {
   "cell_type": "code",
   "execution_count": 16,
   "id": "853282fe-a51a-423f-8f6b-e2cb8f2f24c3",
   "metadata": {},
   "outputs": [
    {
     "name": "stdout",
     "output_type": "stream",
     "text": [
      "504\n"
     ]
    }
   ],
   "source": [
    "#14-\n",
    "def prod(lis):\n",
    "    maxi = 0\n",
    "    for x in lis:\n",
    "        p = 1\n",
    "        for i in x:\n",
    "            p *= i\n",
    "            maxi = max(p, maxi)\n",
    "    return maxi\n",
    "l = [[1, 2, 3], [4, 5, 6], [7, 8, 9]]\n",
    "print(prod(l))"
   ]
  },
  {
   "cell_type": "code",
   "execution_count": 1,
   "id": "8bfab3e5-97e4-4454-955d-6344dcf8fdad",
   "metadata": {},
   "outputs": [
    {
     "name": "stdout",
     "output_type": "stream",
     "text": [
      "[5, 8, 52, 87]\n"
     ]
    }
   ],
   "source": [
    "#15-remove occurance \n",
    "mylist = [21, 5, 8, 52, 21, 87]\n",
    "r_item = 21\n",
    "for item in mylist:\n",
    "\tif(item==r_item):\n",
    "\t\tmylist.remove(r_item)\n",
    "\n",
    "print(mylist)"
   ]
  },
  {
   "cell_type": "code",
   "execution_count": 2,
   "id": "656923e4-1fcd-45a5-abfa-d375ee9e28b2",
   "metadata": {},
   "outputs": [
    {
     "name": "stdout",
     "output_type": "stream",
     "text": [
      "table of 1\n",
      "1\n",
      "2\n",
      "3\n",
      "4\n",
      "5\n",
      "6\n",
      "7\n",
      "8\n",
      "9\n",
      "10\n",
      "table of 2\n",
      "2\n",
      "4\n",
      "6\n",
      "8\n",
      "10\n",
      "12\n",
      "14\n",
      "16\n",
      "18\n",
      "20\n",
      "table of 3\n",
      "3\n",
      "6\n",
      "9\n",
      "12\n",
      "15\n",
      "18\n",
      "21\n",
      "24\n",
      "27\n",
      "30\n",
      "table of 4\n",
      "4\n",
      "8\n",
      "12\n",
      "16\n",
      "20\n",
      "24\n",
      "28\n",
      "32\n",
      "36\n",
      "40\n",
      "table of 5\n",
      "5\n",
      "10\n",
      "15\n",
      "20\n",
      "25\n",
      "30\n",
      "35\n",
      "40\n",
      "45\n",
      "50\n"
     ]
    }
   ],
   "source": [
    "#16-table for 1 to 5\n",
    "for i in range(1,6):\n",
    "    print(\"table of\",i)\n",
    "    for j in range(1,11):\n",
    "        print(i*j)"
   ]
  },
  {
   "cell_type": "code",
   "execution_count": 3,
   "id": "4f661527-3676-41e9-ac6d-8e8a31ad5026",
   "metadata": {},
   "outputs": [],
   "source": [
    "#17-convert farenheit in to celsius\n",
    "\n"
   ]
  },
  {
   "cell_type": "code",
   "execution_count": 6,
   "id": "d8a676d1-e067-4765-ad9f-5874c6fa102c",
   "metadata": {},
   "outputs": [
    {
     "name": "stdout",
     "output_type": "stream",
     "text": [
      "common element is 5\n",
      "common element is 6\n"
     ]
    }
   ],
   "source": [
    "#18-common element from two list\n",
    "l1=[1,2,3,4,5,6]\n",
    "l2=[10,8,7,6,5]\n",
    "for i in l1:\n",
    "    for j in l2:\n",
    "        if(i==j):\n",
    "            print(\"common element is\",i)"
   ]
  },
  {
   "cell_type": "code",
   "execution_count": 7,
   "id": "d731e84f-eb23-4eaa-9914-48bad398ea07",
   "metadata": {},
   "outputs": [
    {
     "name": "stdin",
     "output_type": "stream",
     "text": [
      "Enter row number=\n",
      " 6\n"
     ]
    },
    {
     "name": "stdout",
     "output_type": "stream",
     "text": [
      "#\n",
      "##\n",
      "###\n",
      "####\n",
      "#####\n",
      "######\n"
     ]
    }
   ],
   "source": [
    "#19-right angle triangle of \"*\"\n",
    "x=int(input(\"Enter row number=\\n\"))\n",
    "for i in range(x):\n",
    "    for j in range(i+1):\n",
    "        print(\"#\",end='')\n",
    "    print(\"\")"
   ]
  },
  {
   "cell_type": "code",
   "execution_count": 10,
   "id": "7bb4a784-268e-4ebd-a8df-4a47a212e036",
   "metadata": {},
   "outputs": [
    {
     "name": "stdout",
     "output_type": "stream",
     "text": [
      "GCD of 12 and 60 is 6\n"
     ]
    }
   ],
   "source": [
    "#20-gcd of two number\n",
    "num1 = 12\n",
    "num2 = 60\n",
    "gcd = 1\n",
    " \n",
    "for i in range(1, min(num1, num2)):\n",
    "    if num1 % i == 0 and num2 % i == 0:\n",
    "        gcd = i\n",
    "print(\"GCD of\", num1, \"and\", num2, \"is\", gcd)"
   ]
  },
  {
   "cell_type": "code",
   "execution_count": 11,
   "id": "2c84d3a4-d607-4185-81dd-521e70f91072",
   "metadata": {},
   "outputs": [
    {
     "name": "stdout",
     "output_type": "stream",
     "text": [
      "The original list is : [12, 67, 98, 34]\n",
      "List Integer Summation : [3, 13, 17, 7]\n"
     ]
    }
   ],
   "source": [
    "#advanced level\n",
    "#21-sum of digits using list comprehension\n",
    "test_list = [12, 67, 98, 34]\n",
    "print(\"The original list is : \" + str(test_list))\n",
    "res = []\n",
    "for ele in test_list:\n",
    "    sum = 0\n",
    "    for digit in str(ele):\n",
    "        sum += int(digit)\n",
    "    res.append(sum)\n",
    "print (\"List Integer Summation : \" + str(res))"
   ]
  },
  {
   "cell_type": "code",
   "execution_count": 24,
   "id": "13632348-4333-4e29-aca4-4f31053b04f8",
   "metadata": {},
   "outputs": [
    {
     "name": "stdout",
     "output_type": "stream",
     "text": [
      "3\n",
      "3\n",
      "5\n",
      "7\n"
     ]
    }
   ],
   "source": [
    "#22-prime factor of number\n",
    " \n",
    "import math\n",
    "def primeFactors(n):\n",
    "    fact=[]\n",
    "    while n % 2 == 0:\n",
    "        print (2)\n",
    "        n = n / 2\n",
    "    for i in range(3,int(math.sqrt(n))+1,2):\n",
    "        while n % i== 0:\n",
    "            print (i),\n",
    "            n = n / i\n",
    "    if n > 2:\n",
    "        print(fact.append(n))\n",
    " \n",
    "n = 315\n",
    "primeFactors(n)"
   ]
  },
  {
   "cell_type": "code",
   "execution_count": 17,
   "id": "121da010-ae16-44a8-80ee-db6991b407df",
   "metadata": {},
   "outputs": [
    {
     "name": "stdout",
     "output_type": "stream",
     "text": [
      "[1, 11, 2, 3, 7, 4]\n"
     ]
    }
   ],
   "source": [
    "#23 extract the uniq element from the list\n",
    "l1=[1,11,2,2,3,7,4,4,5]\n",
    "l2=[]\n",
    "for i in range(0,9):\n",
    "    for j in range(i+1,9):\n",
    "        if(l1[i]!=l1[j]):\n",
    "            l2.append(l1[i])\n",
    "        break\n",
    "print(l2)"
   ]
  },
  {
   "cell_type": "code",
   "execution_count": 33,
   "id": "bca313e0-f468-43e0-99f7-bd12fbedb0af",
   "metadata": {},
   "outputs": [
    {
     "name": "stdout",
     "output_type": "stream",
     "text": [
      "[101, 555, 121]\n"
     ]
    }
   ],
   "source": [
    "#24-palindrom\n",
    "l1=[100,101,555,121,433,]\n",
    "l2=[]\n",
    "for i in l1:\n",
    "    j=0\n",
    "    c=i\n",
    "    while(i!=0):\n",
    "        r=i%10\n",
    "        i=i//10\n",
    "        j=j*10+r\n",
    "    if(j==c):\n",
    "        l2.append(j)\n",
    "print(l2)"
   ]
  },
  {
   "cell_type": "code",
   "execution_count": 35,
   "id": "964b7988-851a-49b6-82d2-ead22bb2b630",
   "metadata": {},
   "outputs": [
    {
     "name": "stdout",
     "output_type": "stream",
     "text": [
      "[32, 532, 53, 53, 33, 454, 9482, 64]\n"
     ]
    }
   ],
   "source": [
    "#25. Write a program to flatten a nested list using list comprehension.\n",
    "l1=[[32,532,53],[53,33,454],[9482,64]]\n",
    "l2=[]\n",
    "for i in l1:\n",
    "    for j in i:\n",
    "        l2.append(j)\n",
    "print(l2)\n",
    "        "
   ]
  },
  {
   "cell_type": "code",
   "execution_count": 38,
   "id": "7ea3f50b-64c4-4d92-a695-67cb149ff6ab",
   "metadata": {},
   "outputs": [
    {
     "name": "stdout",
     "output_type": "stream",
     "text": [
      "sum of even number= 458\n",
      "sum of odd number= 5000\n"
     ]
    }
   ],
   "source": [
    "#26-Develop a program that computes the sum of even and odd numbers in a list separately using list comprehension\n",
    "l1=[1,454,4523,43,2,433,2]\n",
    "sum_even=0\n",
    "sum_odd=0\n",
    "for i in l1:\n",
    "    if(i%2==0):\n",
    "        sum_even=sum_even+i\n",
    "    else:\n",
    "        sum_odd=sum_odd+i\n",
    "print(\"sum of even number=\",sum_even)\n",
    "print(\"sum of odd number=\",sum_odd)"
   ]
  },
  {
   "cell_type": "code",
   "execution_count": 40,
   "id": "abc5c565-34ac-449f-8c6b-6ad82f513ef7",
   "metadata": {},
   "outputs": [
    {
     "name": "stdout",
     "output_type": "stream",
     "text": [
      "[1, 9, 25, 49, 81]\n"
     ]
    }
   ],
   "source": [
    "#27=Create a program that generates a list of squares of odd numbers between 1 and 10 using list comprehension.\n",
    "l1=[]\n",
    "for i in range(1,11):\n",
    "    if(i%2!=0):\n",
    "        l1.append(i*i)\n",
    "print(l1)\n"
   ]
  },
  {
   "cell_type": "code",
   "execution_count": 41,
   "id": "cb19a62c-eae5-41d1-be1a-e264b0871a46",
   "metadata": {},
   "outputs": [
    {
     "name": "stdout",
     "output_type": "stream",
     "text": [
      "Original key list is : ['Rash', 'Kil', 'Varsha']\n",
      "Original value list is : [1, 4, 5]\n",
      "Resultant dictionary is : {'Rash': 1, 'Kil': 4, 'Varsha': 5}\n"
     ]
    }
   ],
   "source": [
    "#28=Write a program that combines two lists into a dictionary using list comprehension.\n",
    "test_keys = [\"Rash\", \"Kil\", \"Varsha\"]\n",
    "test_values = [1, 4, 5]\n",
    "print(\"Original key list is : \" + str(test_keys))\n",
    "print(\"Original value list is : \" + str(test_values))\n",
    "res = {}\n",
    "for key in test_keys:\n",
    "    for value in test_values:\n",
    "        res[key] = value\n",
    "        test_values.remove(value)\n",
    "        break\n",
    " \n",
    "# Printing resultant dictionary\n",
    "print(\"Resultant dictionary is : \" + str(res))"
   ]
  },
  {
   "cell_type": "code",
   "execution_count": 50,
   "id": "87c958e3-e13f-42b7-86d0-3ee50f7b3cc6",
   "metadata": {},
   "outputs": [
    {
     "name": "stdout",
     "output_type": "stream",
     "text": [
      "['e', 'o', 'o']\n"
     ]
    }
   ],
   "source": [
    "#29= Develop a program that extracts the vowels from a string and stores them in a list using list comprehension.\n",
    "l1=[]\n",
    "str=\"hello_world\"\n",
    "for i in str:\n",
    "    if(i==\"a\" or i==\"e\" or i==\"i\" or i==\"o\" or i==\"u\"):\n",
    "         l1.append(i)\n",
    "print(l1)"
   ]
  },
  {
   "cell_type": "code",
   "execution_count": null,
   "id": "3513785c-fbb0-4e1b-8d59-ca679aed747b",
   "metadata": {},
   "outputs": [],
   "source": [
    "#30-Create a program that removes all non-numeric characters from a list of strings using list comprehension."
   ]
  },
  {
   "cell_type": "code",
   "execution_count": 7,
   "id": "e666a32f-3a37-48c2-9821-5611c8480bb6",
   "metadata": {},
   "outputs": [
    {
     "name": "stdin",
     "output_type": "stream",
     "text": [
      "range 10\n"
     ]
    },
    {
     "name": "stdout",
     "output_type": "stream",
     "text": [
      "The Prime Numbers in the range are: \n",
      "2\n",
      "3\n",
      "5\n",
      "7\n",
      "[2, 3, 5, 7]\n"
     ]
    }
   ],
   "source": [
    "#challange level\n",
    "#31-print all the prime number using  the Sieve of Eratosthenes algo  \n",
    "n=int(input(\"range\"))\n",
    "l1=[]\n",
    "print (\"The Prime Numbers in the range are: \")  \n",
    "for number in range (1,n+1):  \n",
    "    if number > 1:  \n",
    "        for i in range (2, number):  \n",
    "            if (number % i) == 0:  \n",
    "                break  \n",
    "        else:  \n",
    "            print (number) \n",
    "            l1.append(number)\n",
    "print(l1)"
   ]
  },
  {
   "cell_type": "code",
   "execution_count": null,
   "id": "80089566-3878-4467-b2f7-ca357d9ff63a",
   "metadata": {},
   "outputs": [],
   "source": [
    "#32-Create a program that generates a list of all Pythagorean triplets up to a specified limit using list comprehension.\n"
   ]
  },
  {
   "cell_type": "code",
   "execution_count": 8,
   "id": "9957cc76-3066-4505-99f7-5590a288b87b",
   "metadata": {},
   "outputs": [
    {
     "name": "stdout",
     "output_type": "stream",
     "text": [
      "[('b', 1), ('b', 4), ('b', 9), ('c', 1), ('c', 4), ('c', 9), ('d', 1), ('d', 4), ('d', 9)]\n"
     ]
    }
   ],
   "source": [
    "#33-Develop a program that generates a list of all possible combinations of two lists using list comprehension.\n",
    "\n",
    "list_1 = [\"b\", \"c\", \"d\"]\n",
    "list_2 = [1, 4, 9]\n",
    " \n",
    "unique_combinations = []\n",
    " \n",
    "for i in range(len(list_1)):\n",
    "    for j in range(len(list_2)):\n",
    "        unique_combinations.append((list_1[i], list_2[j]))\n",
    " \n",
    "print(unique_combinations)"
   ]
  },
  {
   "cell_type": "code",
   "execution_count": 10,
   "id": "3336d9ff-e91f-48f8-8f71-1c9690e43e60",
   "metadata": {},
   "outputs": [
    {
     "name": "stdout",
     "output_type": "stream",
     "text": [
      "Mean / Average is: 3.0\n",
      "Median is: 3\n",
      "Mode is / are: 5\n"
     ]
    }
   ],
   "source": [
    "#34-Write a program that calculates the mean, median, and mode of a list of numbers using list comprehension.\n",
    "n_num = [1, 2, 3, 4, 5]\n",
    "n = len(n_num)\n",
    " \n",
    "get_sum = sum(n_num)\n",
    "mean = get_sum / n\n",
    " \n",
    "print(\"Mean / Average is: \" + str(mean))\n",
    "n_num = [1, 2, 3, 4, 5]\n",
    "n = len(n_num)\n",
    "n_num.sort()\n",
    " \n",
    "if n % 2 == 0:\n",
    "    median1 = n_num[n//2]\n",
    "    median2 = n_num[n//2 - 1]\n",
    "    median = (median1 + median2)/2\n",
    "else:\n",
    "    median = n_num[n//2]\n",
    "print(\"Median is: \" + str(median))\n",
    "from collections import Counter\n",
    " \n",
    "# list of elements to calculate mode\n",
    "n_num = [1, 2, 3, 4, 5, 5]\n",
    "n = len(n_num)\n",
    " \n",
    "data = Counter(n_num)\n",
    "get_mode = dict(data)\n",
    "mode = [k for k, v in get_mode.items() if v == max(list(data.values()))]\n",
    " \n",
    "if len(mode) == n:\n",
    "    get_mode = \"No mode found\"\n",
    "else:\n",
    "    get_mode = \"Mode is / are: \" + ', '.join(map(str, mode))\n",
    "     \n",
    "print(get_mode)\n"
   ]
  },
  {
   "cell_type": "markdown",
   "id": "dd536fcb-e7e0-461b-b006-06e09391c382",
   "metadata": {
    "tags": []
   },
   "source": []
  },
  {
   "cell_type": "code",
   "execution_count": 11,
   "id": "9828c155-4d2a-4cda-a6ef-76e26b98cba2",
   "metadata": {},
   "outputs": [
    {
     "name": "stdin",
     "output_type": "stream",
     "text": [
      "Enter the number:  5\n"
     ]
    },
    {
     "name": "stdout",
     "output_type": "stream",
     "text": [
      "           1 \n",
      "          1      1 \n",
      "         1      2      1 \n",
      "        1      3      3      1 \n",
      "       1      4      6      4      1 \n"
     ]
    }
   ],
   "source": [
    "#35- Create a program that generates Pascal's triangle up to a specified number of rows using list comprehension.\n",
    "num = int(input(\"Enter the number: \"))  \n",
    "list1 = []   \n",
    "for i in range(num):  \n",
    "  list1.append([])  \n",
    "  list1[i].append(1)  \n",
    "  for j in range(1, i):  \n",
    "    list1[i].append(list1[i - 1][j - 1] + list1[i - 1][j])  \n",
    "  if(num != 0):  \n",
    "    list1[i].append(1)  \n",
    "for i in range(num):  \n",
    "  print(\" \" * (num - i), end = \" \", sep = \" \")  \n",
    "  for j in range(0, i + 1):  \n",
    "    print('{0:6}'.format(list1[i][j]), end = \" \", sep = \" \")  \n",
    "  print()  "
   ]
  },
  {
   "cell_type": "code",
   "execution_count": 39,
   "id": "74251543-7502-4d0f-b59e-711340081dfe",
   "metadata": {},
   "outputs": [
    {
     "name": "stdout",
     "output_type": "stream",
     "text": [
      "[1, 2, 6, 6, 3]\n"
     ]
    }
   ],
   "source": [
    "#36-Develop a program that calculates the sum of the digits of a factorial of numbers from 1 to 5 using list comprehension\n",
    "l1=[]\n",
    "for i in range(1,6):\n",
    "    fact=1\n",
    "    for j in range(1,i+1):\n",
    "        fact=fact*j\n",
    "    sum=0\n",
    "    while(fact!=0):\n",
    "        r=fact%10\n",
    "        fact=fact//10\n",
    "        sum=sum+r\n",
    "    l1.append(sum)\n",
    "print(l1)\n",
    "    \n"
   ]
  },
  {
   "cell_type": "code",
   "execution_count": 17,
   "id": "e0196188-0143-4586-9f23-58bd3532fd4f",
   "metadata": {},
   "outputs": [
    {
     "name": "stdout",
     "output_type": "stream",
     "text": [
      "namefvfc\n"
     ]
    }
   ],
   "source": [
    "#37-Write a program that finds the longest word in a sentence using list comprehension\n",
    "str=\"my namefvfc is jyoti\"\n",
    "j=str.split()\n",
    "print(max(j))"
   ]
  },
  {
   "cell_type": "code",
   "execution_count": 25,
   "id": "f819f386-0947-47ed-a9d4-59e1dfdf2091",
   "metadata": {},
   "outputs": [
    {
     "name": "stdout",
     "output_type": "stream",
     "text": [
      "university\n",
      "aeiouj\n"
     ]
    }
   ],
   "source": [
    "#38-Create a program that filters a list of strings to include only those with more than three vowels using list comprehension.\n",
    "l1=[\"my\",\"name\",\"is\",\"jyoti\",\"united\",\"university\",\"aeiouj\"]\n",
    "for i in l1:\n",
    "    count=0\n",
    "    for j in i:\n",
    "        if(j==\"a\" or j==\"e\" or j==\"i\" or j==\"o\" or j==\"u\"):\n",
    "            count=count+1\n",
    "    if(count>3):\n",
    "        print(i)\n",
    "    "
   ]
  },
  {
   "cell_type": "code",
   "execution_count": 33,
   "id": "5d169b4d-cd63-45b5-ad6a-e1f43c66b000",
   "metadata": {},
   "outputs": [
    {
     "name": "stdout",
     "output_type": "stream",
     "text": [
      "[1, 2, 3, 4, 5, 6, 7, 8, 9, 1, 2, 3, 4, 5, 6, 7, 8, 9, 10, 2, 3, 4, 5, 6, 7, 8, 9, 10, 11, 3, 4, 5, 6, 7, 8, 9, 10, 11, 12, 4, 5, 6, 7, 8, 9, 10, 11, 12, 13, 5, 6, 7, 8, 9, 10, 11, 12, 13, 14, 6, 7, 8, 9, 10, 11, 12, 13, 14, 15, 7, 8, 9, 10, 11, 12, 13, 14, 15, 16, 8, 9, 10, 11, 12, 13, 14, 15, 16, 17, 9, 10, 11, 12, 13, 14, 15, 16, 17, 18, 1, 2, 3, 4, 5, 6, 7, 8, 9, 10, 2, 3, 4, 5, 6, 7, 8, 9, 10, 11, 3, 4, 5, 6, 7, 8, 9, 10, 11, 12, 4, 5, 6, 7, 8, 9, 10, 11, 12, 13, 5, 6, 7, 8, 9, 10, 11, 12, 13, 14, 6, 7, 8, 9, 10, 11, 12, 13, 14, 15, 7, 8, 9, 10, 11, 12, 13, 14, 15, 16, 8, 9, 10, 11, 12, 13, 14, 15, 16, 17, 9, 10, 11, 12, 13, 14, 15, 16, 17, 18, 10, 11, 12, 13, 14, 15, 16, 17, 18, 19, 2, 3, 4, 5, 6, 7, 8, 9, 10, 11, 3, 4, 5, 6, 7, 8, 9, 10, 11, 12, 4, 5, 6, 7, 8, 9, 10, 11, 12, 13, 5, 6, 7, 8, 9, 10, 11, 12, 13, 14, 6, 7, 8, 9, 10, 11, 12, 13, 14, 15, 7, 8, 9, 10, 11, 12, 13, 14, 15, 16, 8, 9, 10, 11, 12, 13, 14, 15, 16, 17, 9, 10, 11, 12, 13, 14, 15, 16, 17, 18, 10, 11, 12, 13, 14, 15, 16, 17, 18, 19, 11, 12, 13, 14, 15, 16, 17, 18, 19, 20, 3, 4, 5, 6, 7, 8, 9, 10, 11, 12, 4, 5, 6, 7, 8, 9, 10, 11, 12, 13, 5, 6, 7, 8, 9, 10, 11, 12, 13, 14, 6, 7, 8, 9, 10, 11, 12, 13, 14, 15, 7, 8, 9, 10, 11, 12, 13, 14, 15, 16, 8, 9, 10, 11, 12, 13, 14, 15, 16, 17, 9, 10, 11, 12, 13, 14, 15, 16, 17, 18, 10, 11, 12, 13, 14, 15, 16, 17, 18, 19, 11, 12, 13, 14, 15, 16, 17, 18, 19, 20, 12, 13, 14, 15, 16, 17, 18, 19, 20, 21, 4, 5, 6, 7, 8, 9, 10, 11, 12, 13, 5, 6, 7, 8, 9, 10, 11, 12, 13, 14, 6, 7, 8, 9, 10, 11, 12, 13, 14, 15, 7, 8, 9, 10, 11, 12, 13, 14, 15, 16, 8, 9, 10, 11, 12, 13, 14, 15, 16, 17, 9, 10, 11, 12, 13, 14, 15, 16, 17, 18, 10, 11, 12, 13, 14, 15, 16, 17, 18, 19, 11, 12, 13, 14, 15, 16, 17, 18, 19, 20, 12, 13, 14, 15, 16, 17, 18, 19, 20, 21, 13, 14, 15, 16, 17, 18, 19, 20, 21, 22, 5, 6, 7, 8, 9, 10, 11, 12, 13, 14, 6, 7, 8, 9, 10, 11, 12, 13, 14, 15, 7, 8, 9, 10, 11, 12, 13, 14, 15, 16, 8, 9, 10, 11, 12, 13, 14, 15, 16, 17, 9, 10, 11, 12, 13, 14, 15, 16, 17, 18, 10, 11, 12, 13, 14, 15, 16, 17, 18, 19, 11, 12, 13, 14, 15, 16, 17, 18, 19, 20, 12, 13, 14, 15, 16, 17, 18, 19, 20, 21, 13, 14, 15, 16, 17, 18, 19, 20, 21, 22, 14, 15, 16, 17, 18, 19, 20, 21, 22, 23, 6, 7, 8, 9, 10, 11, 12, 13, 14, 15, 7, 8, 9, 10, 11, 12, 13, 14, 15, 16, 8, 9, 10, 11, 12, 13, 14, 15, 16, 17, 9, 10, 11, 12, 13, 14, 15, 16, 17, 18, 10, 11, 12, 13, 14, 15, 16, 17, 18, 19, 11, 12, 13, 14, 15, 16, 17, 18, 19, 20, 12, 13, 14, 15, 16, 17, 18, 19, 20, 21, 13, 14, 15, 16, 17, 18, 19, 20, 21, 22, 14, 15, 16, 17, 18, 19, 20, 21, 22, 23, 15, 16, 17, 18, 19, 20, 21, 22, 23, 24, 7, 8, 9, 10, 11, 12, 13, 14, 15, 16, 8, 9, 10, 11, 12, 13, 14, 15, 16, 17, 9, 10, 11, 12, 13, 14, 15, 16, 17, 18, 10, 11, 12, 13, 14, 15, 16, 17, 18, 19, 11, 12, 13, 14, 15, 16, 17, 18, 19, 20, 12, 13, 14, 15, 16, 17, 18, 19, 20, 21, 13, 14, 15, 16, 17, 18, 19, 20, 21, 22, 14, 15, 16, 17, 18, 19, 20, 21, 22, 23, 15, 16, 17, 18, 19, 20, 21, 22, 23, 24, 16, 17, 18, 19, 20, 21, 22, 23, 24, 25, 8, 9, 10, 11, 12, 13, 14, 15, 16, 17, 9, 10, 11, 12, 13, 14, 15, 16, 17, 18, 10, 11, 12, 13, 14, 15, 16, 17, 18, 19, 11, 12, 13, 14, 15, 16, 17, 18, 19, 20, 12, 13, 14, 15, 16, 17, 18, 19, 20, 21, 13, 14, 15, 16, 17, 18, 19, 20, 21, 22, 14, 15, 16, 17, 18, 19, 20, 21, 22, 23, 15, 16, 17, 18, 19, 20, 21, 22, 23, 24, 16, 17, 18, 19, 20, 21, 22, 23, 24, 25, 17, 18, 19, 20, 21, 22, 23, 24, 25, 26, 9, 10, 11, 12, 13, 14, 15, 16, 17, 18, 10, 11, 12, 13, 14, 15, 16, 17, 18, 19, 11, 12, 13, 14, 15, 16, 17, 18, 19, 20, 12, 13, 14, 15, 16, 17, 18, 19, 20, 21, 13, 14, 15, 16, 17, 18, 19, 20, 21, 22, 14, 15, 16, 17, 18, 19, 20, 21, 22, 23, 15, 16, 17, 18, 19, 20, 21, 22, 23, 24, 16, 17, 18, 19, 20, 21, 22, 23, 24, 25, 17, 18, 19, 20, 21, 22, 23, 24, 25, 26, 18, 19, 20, 21, 22, 23, 24, 25, 26, 27, 1]\n"
     ]
    }
   ],
   "source": [
    "#39-Develop a program that calculates the sum of the digits of numbers from 1 to 1000 using list comprehension.\n",
    "l1=[]\n",
    "for i in range(1,1001):\n",
    "    sum=0\n",
    "    while(i!=0):\n",
    "        r=i%10\n",
    "        i=i//10\n",
    "        sum=sum+r\n",
    "    l1.append(sum)\n",
    "print(l1)"
   ]
  },
  {
   "cell_type": "code",
   "execution_count": 2,
   "id": "2271f744-1c10-4566-916c-d19ca909c079",
   "metadata": {},
   "outputs": [
    {
     "name": "stdin",
     "output_type": "stream",
     "text": [
      " 1000\n"
     ]
    },
    {
     "name": "stdout",
     "output_type": "stream",
     "text": [
      "[11, 33, 55, 77, 99, 101, 111, 121, 131, 141, 151, 161, 171, 181, 191, 303, 313, 323, 333, 343, 353, 363, 373, 383, 393, 505, 515, 525, 535, 545, 555, 565, 575, 585, 595, 707, 717, 727, 737, 747, 757, 767, 777, 787, 797, 909, 919, 929, 939, 949, 959, 969, 979, 989, 999]\n"
     ]
    }
   ],
   "source": [
    "#40-Write a program that generates a list of prime palindromic numbers using list comprehension.\n",
    "n=int(input())\n",
    "l2=[]\n",
    "for i in range(11,n+1):\n",
    "    rev=0\n",
    "    c=i\n",
    "    if(i%2==0):\n",
    "        flag=True\n",
    "    else:\n",
    "        while(i!=0):\n",
    "            r=i%10\n",
    "            i=i//10\n",
    "            rev=rev*10+r\n",
    "    if(rev==c):\n",
    "        l2.append(rev)\n",
    "print(l2)\n",
    "            "
   ]
  },
  {
   "cell_type": "code",
   "execution_count": null,
   "id": "e136478c-5b55-4251-88a1-aab69b039701",
   "metadata": {},
   "outputs": [],
   "source": []
  },
  {
   "cell_type": "code",
   "execution_count": null,
   "id": "5246be59-7756-44cf-9fee-b21c0192fa09",
   "metadata": {},
   "outputs": [],
   "source": []
  },
  {
   "cell_type": "code",
   "execution_count": null,
   "id": "405f242e-6934-4528-93e4-e1b8e66ea1a8",
   "metadata": {},
   "outputs": [],
   "source": []
  }
 ],
 "metadata": {
  "kernelspec": {
   "display_name": "Python 3 (ipykernel)",
   "language": "python",
   "name": "python3"
  },
  "language_info": {
   "codemirror_mode": {
    "name": "ipython",
    "version": 3
   },
   "file_extension": ".py",
   "mimetype": "text/x-python",
   "name": "python",
   "nbconvert_exporter": "python",
   "pygments_lexer": "ipython3",
   "version": "3.10.8"
  }
 },
 "nbformat": 4,
 "nbformat_minor": 5
}
