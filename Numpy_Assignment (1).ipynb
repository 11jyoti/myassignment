{
 "cells": [
  {
   "cell_type": "code",
   "execution_count": 1,
   "id": "e15b3cc1-e295-49fa-9a5e-97e3b877c6b1",
   "metadata": {},
   "outputs": [
    {
     "name": "stdout",
     "output_type": "stream",
     "text": [
      "Original array: [1 2 3 4 5]\n",
      "Squared array: [ 1  4  9 16 25]\n",
      "Sum of array elements: 15\n"
     ]
    }
   ],
   "source": [
    "#1. What is a Python library? Why do  we use Python libraries?\n",
    "\n",
    "#A Python library is a collection of pre-written code and functions that aim to simplify the development process for Python programmers. These libraries provide reusable components and tools to perform various tasks, ranging from basic operations to complex functionalities.\n",
    "import numpy as np\n",
    "\n",
    "# Create a NumPy array\n",
    "arr = np.array([1, 2, 3, 4, 5])\n",
    "\n",
    "# Print the array\n",
    "print(\"Original array:\", arr)\n",
    "\n",
    "# Perform some operations on the array\n",
    "arr_squared = np.square(arr)\n",
    "arr_sum = np.sum(arr)\n",
    "\n",
    "# Print the results\n",
    "print(\"Squared array:\", arr_squared)\n",
    "print(\"Sum of array elements:\", arr_sum)"
   ]
  },
  {
   "cell_type": "code",
   "execution_count": 2,
   "id": "2c9e310f-e9ca-4ec8-9e1a-7186bc5a5e11",
   "metadata": {},
   "outputs": [
    {
     "name": "stdout",
     "output_type": "stream",
     "text": [
      "NumPy array elements: [1 2 3 4 5]\n",
      "Python list elements: [1, 2, 3, 4, 5]\n",
      "NumPy array after adding 10: [11 12 13 14 15]\n",
      "Python list after adding 10: [11, 12, 13, 14, 15]\n",
      "NumPy array after multiplying by 2: [ 2  4  6  8 10]\n",
      "Python list after multiplying by 2: [2, 4, 6, 8, 10]\n",
      "First element of NumPy array: 1\n",
      "First element of Python list: 1\n"
     ]
    }
   ],
   "source": [
    "#2. What is the ^ifference between Numpy array an^ List?\n",
    "\"\"\"NumPy arrays are optimized for numerical computing and offer better performance and memory efficiency compared to \n",
    "Python lists, especially for large datasets and mathematical operations. However, Python lists are more flexible and \n",
    "suitable for general-purpose programming tasks that don't involve heavy numerical computations.\"\"\"\n",
    "import numpy as np\n",
    "\n",
    "# Creating a NumPy array\n",
    "numpy_array = np.array([1, 2, 3, 4, 5])\n",
    "\n",
    "# Creating a Python list\n",
    "python_list = [1, 2, 3, 4, 5]\n",
    "\n",
    "# Accessing elements\n",
    "print(\"NumPy array elements:\", numpy_array)\n",
    "print(\"Python list elements:\", python_list)\n",
    "\n",
    "# Adding elements\n",
    "numpy_array_sum = numpy_array + 10\n",
    "python_list_sum = [x + 10 for x in python_list]\n",
    "\n",
    "print(\"NumPy array after adding 10:\", numpy_array_sum)\n",
    "print(\"Python list after adding 10:\", python_list_sum)\n",
    "\n",
    "# Multiplying elements\n",
    "numpy_array_product = numpy_array * 2\n",
    "python_list_product = [x * 2 for x in python_list]\n",
    "\n",
    "print(\"NumPy array after multiplying by 2:\", numpy_array_product)\n",
    "print(\"Python list after multiplying by 2:\", python_list_product)\n",
    "\n",
    "# Accessing specific elements\n",
    "print(\"First element of NumPy array:\", numpy_array[0])\n",
    "print(\"First element of Python list:\", python_list[0])\n",
    "\n",
    "\n",
    "\n",
    "\n",
    "\n",
    "\n"
   ]
  },
  {
   "cell_type": "code",
   "execution_count": 3,
   "id": "577e1ec6-aee3-4b5b-aec3-4ddd717b0630",
   "metadata": {},
   "outputs": [
    {
     "name": "stdout",
     "output_type": "stream",
     "text": [
      "Shape of the array: (3, 4)\n",
      "Size of the array: 12\n",
      "Dimension of the array: 2\n"
     ]
    }
   ],
   "source": [
    "#3. Fin^ the shape, size an^ ^imension of the following array?\n",
    "\"\"\"[[1, 2, 3, 4]\n",
    "    [5, 6, 7, 8],\n",
    "    [9, 10, 11, 12]]\"\"\"\n",
    "import numpy as np\n",
    "\n",
    "# Define the array\n",
    "array = np.array([[1, 2, 3, 4],\n",
    "                  [5, 6, 7, 8],\n",
    "                  [9, 10, 11, 12]])\n",
    "\n",
    "# Find shape\n",
    "shape = array.shape\n",
    "\n",
    "# Find size\n",
    "size = array.size\n",
    "\n",
    "# Find dimension\n",
    "dimension = array.ndim\n",
    "\n",
    "print(\"Shape of the array:\", shape)\n",
    "print(\"Size of the array:\", size)\n",
    "print(\"Dimension of the array:\", dimension)"
   ]
  },
  {
   "cell_type": "code",
   "execution_count": 4,
   "id": "99e50b10-8690-4674-8797-105f9c319074",
   "metadata": {},
   "outputs": [
    {
     "name": "stdout",
     "output_type": "stream",
     "text": [
      "First row of the array: [1 2 3 4]\n"
     ]
    }
   ],
   "source": [
    "#4. Write python co^e to access the first row of the following array?\n",
    "\"\"\"[[1, 2, 3, 4]\n",
    "   [5, 6, 7, 8],\n",
    "   [9, 10, 11, 12]]\"\"\"\n",
    "import numpy as np\n",
    "\n",
    "# Define the array\n",
    "array = np.array([[1, 2, 3, 4],\n",
    "                  [5, 6, 7, 8],\n",
    "                  [9, 10, 11, 12]])\n",
    "\n",
    "# Access the first row\n",
    "first_row = array[0]\n",
    "\n",
    "print(\"First row of the array:\", first_row)"
   ]
  },
  {
   "cell_type": "code",
   "execution_count": 5,
   "id": "cf38c777-30a0-4df9-9403-73eb5ce049b7",
   "metadata": {},
   "outputs": [
    {
     "name": "stdout",
     "output_type": "stream",
     "text": [
      "Element at the third row and fourth column: 12\n"
     ]
    }
   ],
   "source": [
    "#5. How ^o you access the element at the thir^ row an^ fourth column from the given numpy array?\n",
    "\"\"\"[[1, 2, 3, 4]\n",
    "   [5, 6, 7, 8],\n",
    "   [9, 10, 11, 12]]\"\"\"\n",
    "import numpy as np\n",
    "\n",
    "# Define the array\n",
    "array = np.array([[1, 2, 3, 4],\n",
    "                  [5, 6, 7, 8],\n",
    "                  [9, 10, 11, 12]])\n",
    "\n",
    "# Access the element at the third row and fourth column\n",
    "element = array[2, 3]\n",
    "\n",
    "print(\"Element at the third row and fourth column:\", element)"
   ]
  },
  {
   "cell_type": "code",
   "execution_count": 6,
   "id": "dd16f9f1-0a10-4f4c-8b12-f79ffba9f489",
   "metadata": {},
   "outputs": [
    {
     "name": "stdout",
     "output_type": "stream",
     "text": [
      "Odd-indexed elements from the array:\n",
      "[[ 2  4]\n",
      " [ 6  8]\n",
      " [10 12]]\n"
     ]
    }
   ],
   "source": [
    "#6. Write co^e to extract all o^^-in^exe^ elements from the given numpy array?\n",
    "\"\"\"[[1, 2, 3, 4]\n",
    "[5, 6, 7, 8],\n",
    "[9, 10, 11, 12]]\"\"\"\n",
    "import numpy as np\n",
    "\n",
    "# Define the array\n",
    "array = np.array([[1, 2, 3, 4],\n",
    "                  [5, 6, 7, 8],\n",
    "                  [9, 10, 11, 12]])\n",
    "\n",
    "# Extract all odd-indexed elements\n",
    "odd_indexed_elements = array[:, 1::2]\n",
    "\n",
    "print(\"Odd-indexed elements from the array:\")\n",
    "print(odd_indexed_elements)"
   ]
  },
  {
   "cell_type": "code",
   "execution_count": 7,
   "id": "00653d55-180c-40b4-86b3-c078295d66e8",
   "metadata": {},
   "outputs": [
    {
     "name": "stdout",
     "output_type": "stream",
     "text": [
      "Original array shape: (3, 4)\n",
      "New array shape: (3, 4, 1)\n"
     ]
    }
   ],
   "source": [
    "#9. Write co^e to increase the ^imension of the following array?\n",
    "\"\"\"[[1, 2, 3, 4]\n",
    "[5, 6, 7, 8],\n",
    "[9, 10, 11, 12]]\"\"\"\n",
    "import numpy as np\n",
    "\n",
    "# Define the array\n",
    "array = np.array([[1, 2, 3, 4],\n",
    "                  [5, 6, 7, 8],\n",
    "                  [9, 10, 11, 12]])\n",
    "\n",
    "# Increase the dimension by adding a new axis\n",
    "new_array = np.expand_dims(array, axis=-1)\n",
    "\n",
    "print(\"Original array shape:\", array.shape)\n",
    "print(\"New array shape:\", new_array.shape)"
   ]
  },
  {
   "cell_type": "code",
   "execution_count": 8,
   "id": "802349b8-4802-4f5e-80b7-a697b08bd119",
   "metadata": {},
   "outputs": [
    {
     "name": "stdout",
     "output_type": "stream",
     "text": [
      "Original array:\n",
      "[[ 1  2  3  4]\n",
      " [ 5  6  7  8]\n",
      " [ 9 10 11 12]]\n",
      "\n",
      "Transposed array:\n",
      "[[ 1  5  9]\n",
      " [ 2  6 10]\n",
      " [ 3  7 11]\n",
      " [ 4  8 12]]\n"
     ]
    }
   ],
   "source": [
    "#10. How to transpose the following array in NumPy?\n",
    "\"\"\"[[1, 2, 3, 4]\n",
    "[5, 6, 7, 8],\n",
    "[9, 10, 11, 12]]\"\"\"\n",
    "import numpy as np\n",
    "\n",
    "# Define the array\n",
    "array = np.array([[1, 2, 3, 4],\n",
    "                  [5, 6, 7, 8],\n",
    "                  [9, 10, 11, 12]])\n",
    "\n",
    "# Transpose the array\n",
    "transposed_array = array.T\n",
    "\n",
    "print(\"Original array:\")\n",
    "print(array)\n",
    "\n",
    "print(\"\\nTransposed array:\")\n",
    "print(transposed_array)"
   ]
  },
  {
   "cell_type": "code",
   "execution_count": 9,
   "id": "e946b87e-6fb6-493a-813d-37544771461c",
   "metadata": {},
   "outputs": [
    {
     "name": "stdout",
     "output_type": "stream",
     "text": [
      "Index-wise multiplication:\n",
      " [[  1   4   9  16]\n",
      " [ 25  36  49  64]\n",
      " [ 81 100 121 144]]\n",
      "\n",
      "Matrix multiplication:\n",
      " [[ 30  70 110]\n",
      " [ 70 174 278]\n",
      " [110 278 446]]\n",
      "\n",
      "Addition of matrices:\n",
      " [[ 2  4  6  8]\n",
      " [10 12 14 16]\n",
      " [18 20 22 24]]\n",
      "\n",
      "Subtraction of matrix B from matrix A:\n",
      " [[0 0 0 0]\n",
      " [0 0 0 0]\n",
      " [0 0 0 0]]\n",
      "\n",
      "Division of matrix B by matrix A:\n",
      " [[1. 1. 1. 1.]\n",
      " [1. 1. 1. 1.]\n",
      " [1. 1. 1. 1.]]\n"
     ]
    }
   ],
   "source": [
    "#11. Consi^er the following matrix:\n",
    "#Matrix A2 [[1, 2, 3, 4] [5, 6, 7, 8],[9, 10, 11, 12]]\n",
    "#Matrix B2 [[1, 2, 3, 4] [5, 6, 7, 8],[9, 10, 11, 12]]\n",
    "\"\"\"Perform the following operation using Python1\n",
    "1-Index  wise multiplicatio'\n",
    "2- Matix multiplicatio'\n",
    "3-Add both the maticK\n",
    "4-Subtact matix B om \n",
    "5- Diide Matix B by A\"\"\"\n",
    "import numpy as np\n",
    "\n",
    "# Define matrices A and B\n",
    "A = np.array([[1, 2, 3, 4],\n",
    "              [5, 6, 7, 8],\n",
    "              [9, 10, 11, 12]])\n",
    "\n",
    "B = np.array([[1, 2, 3, 4],\n",
    "              [5, 6, 7, 8],\n",
    "              [9, 10, 11, 12]])\n",
    "\n",
    "# Index-wise multiplication\n",
    "index_wise_mult = A * B\n",
    "\n",
    "# Matrix multiplication\n",
    "matrix_mult = np.dot(A, B.T)  # Assuming you want A multiplied by the transpose of B\n",
    "\n",
    "# Addition of matrices\n",
    "matrix_addition = A + B\n",
    "\n",
    "# Subtraction of matrix B from matrix A\n",
    "matrix_subtraction = A - B\n",
    "\n",
    "# Division of matrix B by matrix A\n",
    "matrix_division = B / A\n",
    "\n",
    "# Displaying the results\n",
    "print(\"Index-wise multiplication:\\n\", index_wise_mult)\n",
    "print(\"\\nMatrix multiplication:\\n\", matrix_mult)\n",
    "print(\"\\nAddition of matrices:\\n\", matrix_addition)\n",
    "print(\"\\nSubtraction of matrix B from matrix A:\\n\", matrix_subtraction)\n",
    "print(\"\\nDivision of matrix B by matrix A:\\n\", matrix_division)"
   ]
  },
  {
   "cell_type": "code",
   "execution_count": 10,
   "id": "83581828-5056-46eb-9504-b2604e261711",
   "metadata": {},
   "outputs": [
    {
     "name": "stdout",
     "output_type": "stream",
     "text": [
      "Original array: [1 2 3 4]\n",
      "Swapped array: [16777216 33554432 50331648 67108864]\n"
     ]
    }
   ],
   "source": [
    "#12. Which function in Numpy can be use^ to swap the byte or^er of an array?\n",
    "import numpy as np\n",
    "\n",
    "# Create an array with a specific byte order\n",
    "array = np.array([1, 2, 3, 4], dtype='>i4')  # '>i4' specifies big-endian 4-byte integer\n",
    "\n",
    "# Swap the byte order of the array\n",
    "swapped_array = array.byteswap()\n",
    "\n",
    "print(\"Original array:\", array)\n",
    "print(\"Swapped array:\", swapped_array)"
   ]
  },
  {
   "cell_type": "code",
   "execution_count": 11,
   "id": "d16494bb-099c-43fb-95c9-5634daa044cb",
   "metadata": {},
   "outputs": [
    {
     "name": "stdout",
     "output_type": "stream",
     "text": [
      "Original array: [1 2 3 4]\n",
      "Swapped array: [16777216 33554432 50331648 67108864]\n"
     ]
    }
   ],
   "source": [
    "#13. What is the significance of the np.linalg.inv function?\n",
    "import numpy as np\n",
    "\n",
    "# Create an array with a specific byte order\n",
    "array = np.array([1, 2, 3, 4], dtype='>i4')  # '>i4' specifies big-endian 4-byte integer\n",
    "\n",
    "# Swap the byte order of the array\n",
    "swapped_array = array.byteswap()\n",
    "\n",
    "print(\"Original array:\", array)\n",
    "print(\"Swapped array:\", swapped_array)"
   ]
  },
  {
   "cell_type": "code",
   "execution_count": 12,
   "id": "0e01d7ba-8328-4050-821b-cbb226a98746",
   "metadata": {},
   "outputs": [
    {
     "name": "stdout",
     "output_type": "stream",
     "text": [
      "Original array:\n",
      "[1 2 3 4 5 6]\n",
      "\n",
      "Reshaped array:\n",
      "[[1 2 3]\n",
      " [4 5 6]]\n"
     ]
    }
   ],
   "source": [
    "#14. What ^oes the np.reshape function ^o, an^ how is it use^?\n",
    "import numpy as np\n",
    "\n",
    "# Create an array\n",
    "arr = np.array([1, 2, 3, 4, 5, 6])\n",
    "\n",
    "# Reshape the array into a 2x3 matrix\n",
    "reshaped_arr = np.reshape(arr, (2, 3))\n",
    "\n",
    "print(\"Original array:\")\n",
    "print(arr)\n",
    "print(\"\\nReshaped array:\")\n",
    "print(reshaped_arr)"
   ]
  },
  {
   "cell_type": "code",
   "execution_count": 13,
   "id": "42fa3e8f-b74e-4bfe-bcd8-2f1cf664b7f4",
   "metadata": {},
   "outputs": [
    {
     "name": "stdout",
     "output_type": "stream",
     "text": [
      "Array A:\n",
      "[[1 2 3]\n",
      " [4 5 6]]\n",
      "\n",
      "Array B:\n",
      "[10 20 30]\n",
      "\n",
      "Result of broadcasting:\n",
      "[[11 22 33]\n",
      " [14 25 36]]\n"
     ]
    }
   ],
   "source": [
    "#15. What is broa^casting in Numpy?\n",
    "import numpy as np\n",
    "\n",
    "# Create arrays with different shapes\n",
    "A = np.array([[1, 2, 3],\n",
    "              [4, 5, 6]])\n",
    "\n",
    "B = np.array([10, 20, 30])\n",
    "\n",
    "# Add arrays using broadcasting\n",
    "result = A + B\n",
    "\n",
    "print(\"Array A:\")\n",
    "print(A)\n",
    "print(\"\\nArray B:\")\n",
    "print(B)\n",
    "print(\"\\nResult of broadcasting:\")\n",
    "print(result)"
   ]
  },
  {
   "cell_type": "code",
   "execution_count": null,
   "id": "4f0f72a6-6f46-4cf7-9a5b-d52d063c4d74",
   "metadata": {},
   "outputs": [],
   "source": []
  }
 ],
 "metadata": {
  "kernelspec": {
   "display_name": "Python 3 (ipykernel)",
   "language": "python",
   "name": "python3"
  },
  "language_info": {
   "codemirror_mode": {
    "name": "ipython",
    "version": 3
   },
   "file_extension": ".py",
   "mimetype": "text/x-python",
   "name": "python",
   "nbconvert_exporter": "python",
   "pygments_lexer": "ipython3",
   "version": "3.10.8"
  }
 },
 "nbformat": 4,
 "nbformat_minor": 5
}
