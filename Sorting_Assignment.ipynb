{
 "cells": [
  {
   "cell_type": "code",
   "execution_count": 2,
   "id": "b14b15ce-9d7f-4e72-8456-72ee3a84cd55",
   "metadata": {},
   "outputs": [
    {
     "name": "stdout",
     "output_type": "stream",
     "text": [
      "Most frequent element: 3\n"
     ]
    }
   ],
   "source": [
    "#Problem 1.Given an array of n numbers, give an algorithm which gives the element appearing maximum number of times?\n",
    "def most_frequent_element(arr):\n",
    "    # Create a dictionary to store the count of each element\n",
    "    count_dict = {}\n",
    "    \n",
    "    # Iterate through the array and count occurrences\n",
    "    for num in arr:\n",
    "        if num in count_dict:\n",
    "            count_dict[num] += 1\n",
    "        else:\n",
    "            count_dict[num] = 1\n",
    "    \n",
    "    # Find the element with the maximum count\n",
    "    max_count = 0\n",
    "    most_frequent_element = None\n",
    "    for num, count in count_dict.items():\n",
    "        if count > max_count:\n",
    "            max_count = count\n",
    "            most_frequent_element = num\n",
    "    \n",
    "    return most_frequent_element\n",
    "\n",
    "# Example usage:\n",
    "arr = [1, 3, 2, 3, 4, 5, 3, 2, 3]\n",
    "print(\"Most frequent element:\", most_frequent_element(arr))"
   ]
  },
  {
   "cell_type": "code",
   "execution_count": 3,
   "id": "8b305df4-432e-40a5-b54d-4f46182cccc2",
   "metadata": {},
   "outputs": [
    {
     "name": "stdout",
     "output_type": "stream",
     "text": [
      "Missing number: 5\n"
     ]
    }
   ],
   "source": [
    "#2Problem 2 : We are given a list of n-1 integers and these integers are in the range of 1 to n . There are no duplicates in the list. One of the integers is missing in the list. Give an algorithm to find that element Ex: [1,2,4,6,3,7,8] 5 is the missing num.\n",
    "def find_missing_number(arr):\n",
    "    n = len(arr) + 1  # n is the number of elements expected if no number is missing\n",
    "    total_sum = (n * (n + 1)) // 2  # Sum of first n natural numbers\n",
    "    \n",
    "    # Calculate the sum of elements in the array\n",
    "    array_sum = sum(arr)\n",
    "    \n",
    "    # The missing number is the difference between the expected sum and the sum of the array\n",
    "    missing_number = total_sum - array_sum\n",
    "    \n",
    "    return missing_number\n",
    "\n",
    "# Example usage:\n",
    "arr = [1, 2, 4, 6, 3, 7, 8]\n",
    "print(\"Missing number:\", find_missing_number(arr))"
   ]
  },
  {
   "cell_type": "code",
   "execution_count": 4,
   "id": "b11d4ee1-7fc8-4677-b449-5f0a5ae802f3",
   "metadata": {},
   "outputs": [
    {
     "name": "stdout",
     "output_type": "stream",
     "text": [
      "Number occurring odd number of times: 3\n"
     ]
    }
   ],
   "source": [
    "#3 Problem 3 : Given an array of n positive numbers. All numbers occurs even number of times except 1 which occurs odd number of times. Find that number in O(n) time and O(1) space. Ex: [1,2,3,2,3,1,3]. 3 is repeats odd times.\n",
    "def find_odd_occurrence(arr):\n",
    "    result = 0\n",
    "    \n",
    "    # XOR all elements in the array\n",
    "    for num in arr:\n",
    "        result ^= num\n",
    "    \n",
    "    return result\n",
    "\n",
    "# Example usage:\n",
    "arr = [1, 2, 3, 2, 3, 1, 3]\n",
    "print(\"Number occurring odd number of times:\", find_odd_occurrence(arr))"
   ]
  },
  {
   "cell_type": "code",
   "execution_count": 1,
   "id": "fc336478-6e44-42a0-8a3b-9ad50b0f3b42",
   "metadata": {},
   "outputs": [
    {
     "name": "stdout",
     "output_type": "stream",
     "text": [
      "Pair with sum 13 : (8, 5)\n"
     ]
    }
   ],
   "source": [
    "#Problem 4 : Given an array of n elements. Find two elements in the array such that their sum is equal to given element K.\n",
    "def find_pair_with_sum(arr, K):\n",
    "    num_map = {}  # Create an empty dictionary to store elements and their indices\n",
    "    \n",
    "    # Traverse through the array\n",
    "    for i, num in enumerate(arr):\n",
    "        complement = K - num  # Calculate the complement needed to achieve the sum\n",
    "        \n",
    "        # Check if the complement exists in the dictionary\n",
    "        if complement in num_map:\n",
    "            return (num, complement)  # Return the pair if found\n",
    "        \n",
    "        num_map[num] = i  # Store the current element and its index in the dictionary\n",
    "    \n",
    "    return None  # Return None if no such pair is found\n",
    "\n",
    "# Example usage:\n",
    "arr = [1, 4, 5, 8, 9]\n",
    "K = 13\n",
    "pair = find_pair_with_sum(arr, K)\n",
    "if pair:\n",
    "    print(\"Pair with sum\", K, \":\", pair)\n",
    "else:\n",
    "    print(\"No pair found with sum\", K)"
   ]
  },
  {
   "cell_type": "code",
   "execution_count": 2,
   "id": "ad3ec5c1-0621-49b1-a1e3-92276eeb528e",
   "metadata": {},
   "outputs": [
    {
     "name": "stdout",
     "output_type": "stream",
     "text": [
      "Closest pair to zero: (-80, 85)\n"
     ]
    }
   ],
   "source": [
    "#Problem 5 : Given an array of both positive and negative numbers, find two numbers such that their sum is closest to 0. Ex: [ 1 ,60 ,-10, 70, -80,85]. Ans : -80,85.\n",
    "def closest_to_zero(arr):\n",
    "    arr.sort()  # Sort the array\n",
    "    left = 0\n",
    "    right = len(arr) - 1\n",
    "    min_sum = float('inf')\n",
    "    closest_pair = None\n",
    "    \n",
    "    while left < right:\n",
    "        current_sum = arr[left] + arr[right]\n",
    "        if abs(current_sum) < abs(min_sum):\n",
    "            min_sum = current_sum\n",
    "            closest_pair = (arr[left], arr[right])\n",
    "        \n",
    "        if current_sum < 0:\n",
    "            left += 1\n",
    "        elif current_sum > 0:\n",
    "            right -= 1\n",
    "        else:\n",
    "            break  # If sum is zero, we found the closest pair\n",
    "        \n",
    "    return closest_pair\n",
    "\n",
    "# Example usage:\n",
    "arr = [1, 60, -10, 70, -80, 85]\n",
    "result = closest_to_zero(arr)\n",
    "print(\"Closest pair to zero:\", result)"
   ]
  },
  {
   "cell_type": "code",
   "execution_count": 3,
   "id": "785dd787-f20d-4efc-b608-974cecd5d0de",
   "metadata": {},
   "outputs": [
    {
     "name": "stdout",
     "output_type": "stream",
     "text": [
      "Three elements with sum 22 : (4, 8, 10)\n"
     ]
    }
   ],
   "source": [
    "#Problem 6 : Given an array of n elements . Find three elements such that their sum is equal to the given number.\n",
    "def three_sum(arr, target):\n",
    "    arr.sort()  # Sort the array\n",
    "    \n",
    "    for i in range(len(arr) - 2):\n",
    "        left = i + 1\n",
    "        right = len(arr) - 1\n",
    "        \n",
    "        while left < right:\n",
    "            current_sum = arr[i] + arr[left] + arr[right]\n",
    "            if current_sum == target:\n",
    "                return arr[i], arr[left], arr[right]\n",
    "            elif current_sum < target:\n",
    "                left += 1\n",
    "            else:\n",
    "                right -= 1\n",
    "    \n",
    "    return None\n",
    "\n",
    "# Example usage:\n",
    "arr = [1, 4, 45, 6, 10, 8]\n",
    "target = 22\n",
    "result = three_sum(arr, target)\n",
    "if result:\n",
    "    print(\"Three elements with sum\", target, \":\", result)\n",
    "else:\n",
    "    print(\"No such triplet found with sum\", target)"
   ]
  },
  {
   "cell_type": "code",
   "execution_count": 4,
   "id": "db79bac3-f5c3-4d6e-9198-2c20e69188cf",
   "metadata": {},
   "outputs": [
    {
     "name": "stdout",
     "output_type": "stream",
     "text": [
      "Pythagorean triplet found: (3, 4, 5)\n"
     ]
    }
   ],
   "source": [
    "#Problem 7 : Given an array of n elements . Find three elements i, j, k in the array such that i * i + j * j = k*k.\n",
    "def find_pythagorean_triplet(arr):\n",
    "    arr.sort()  # Sort the array\n",
    "    \n",
    "    for k in range(len(arr) - 1, 1, -1):\n",
    "        left = 0\n",
    "        right = k - 1\n",
    "        \n",
    "        while left < right:\n",
    "            sum_squares = arr[left] * arr[left] + arr[right] * arr[right]\n",
    "            if sum_squares == arr[k] * arr[k]:\n",
    "                return arr[left], arr[right], arr[k]\n",
    "            elif sum_squares < arr[k] * arr[k]:\n",
    "                left += 1\n",
    "            else:\n",
    "                right -= 1\n",
    "    \n",
    "    return None\n",
    "\n",
    "# Example usage:\n",
    "arr = [3, 1, 4, 6, 5]\n",
    "result = find_pythagorean_triplet(arr)\n",
    "if result:\n",
    "    print(\"Pythagorean triplet found:\", result)\n",
    "else:\n",
    "    print(\"No such triplet found\")"
   ]
  },
  {
   "cell_type": "code",
   "execution_count": 5,
   "id": "9a78ee9f-ca5b-4d32-b959-ada5b4e966c9",
   "metadata": {},
   "outputs": [
    {
     "name": "stdout",
     "output_type": "stream",
     "text": [
      "Majority element: 4\n"
     ]
    }
   ],
   "source": [
    "#Problem 8 : An element is a majority if it appears more than n/2 times. Give an algorithm takes an array of n element as argument and identifies a majority (if it exists).\n",
    "def find_majority_element(arr):\n",
    "    candidate = None\n",
    "    count = 0\n",
    "    \n",
    "    # Finding potential majority candidate\n",
    "    for num in arr:\n",
    "        if count == 0:\n",
    "            candidate = num\n",
    "            count = 1\n",
    "        elif num == candidate:\n",
    "            count += 1\n",
    "        else:\n",
    "            count -= 1\n",
    "    \n",
    "    # Verifying if candidate is a majority\n",
    "    count = 0\n",
    "    for num in arr:\n",
    "        if num == candidate:\n",
    "            count += 1\n",
    "    \n",
    "    if count > len(arr) / 2:\n",
    "        return candidate\n",
    "    else:\n",
    "        return None\n",
    "\n",
    "# Example usage:\n",
    "arr = [3, 3, 4, 2, 4, 4, 2, 4, 4]\n",
    "majority_element = find_majority_element(arr)\n",
    "if majority_element is not None:\n",
    "    print(\"Majority element:\", majority_element)\n",
    "else:\n",
    "    print(\"No majority element\")"
   ]
  },
  {
   "cell_type": "code",
   "execution_count": 6,
   "id": "32bc37c4-c1a0-4f13-a5a6-0595ab80713b",
   "metadata": {},
   "outputs": [
    {
     "name": "stdout",
     "output_type": "stream",
     "text": [
      "Row with the maximum number of zeros: 2\n"
     ]
    }
   ],
   "source": [
    "#Problem 9 : Given n × n matrix, and in each row all 1’s are followed by 0’s. Find the row with the maximumc number of 0’s.\n",
    "def max_zeros_row(matrix):\n",
    "    max_zeros = 0\n",
    "    max_zeros_row_index = -1\n",
    "    \n",
    "    for i, row in enumerate(matrix):\n",
    "        # Perform binary search to find the index of the first occurrence of 0\n",
    "        left, right = 0, len(row) - 1\n",
    "        while left <= right:\n",
    "            mid = (left + right) // 2\n",
    "            if row[mid] == 0:\n",
    "                right = mid - 1\n",
    "            else:\n",
    "                left = mid + 1\n",
    "        \n",
    "        # Count the number of zeros in the row\n",
    "        zeros_count = len(row) - left\n",
    "        \n",
    "        # Update max_zeros and max_zeros_row_index if necessary\n",
    "        if zeros_count > max_zeros:\n",
    "            max_zeros = zeros_count\n",
    "            max_zeros_row_index = i\n",
    "    \n",
    "    return max_zeros_row_index\n",
    "\n",
    "# Example usage:\n",
    "matrix = [\n",
    "    [1, 1, 1, 0, 0],\n",
    "    [1, 1, 0, 0, 0],\n",
    "    [1, 0, 0, 0, 0],\n",
    "    [1, 1, 1, 1, 0],\n",
    "    [1, 1, 1, 0, 0]\n",
    "]\n",
    "max_zeros_row_index = max_zeros_row(matrix)\n",
    "if max_zeros_row_index != -1:\n",
    "    print(\"Row with the maximum number of zeros:\", max_zeros_row_index)\n",
    "else:\n",
    "    print(\"No such row found\")"
   ]
  },
  {
   "cell_type": "code",
   "execution_count": 7,
   "id": "9f02335c-0206-4602-94be-3aef74b3fe25",
   "metadata": {},
   "outputs": [
    {
     "name": "stdout",
     "output_type": "stream",
     "text": [
      "Sorted array: [0, 0, 0, 0, 0, 1, 1, 1, 1, 1, 2, 2]\n"
     ]
    }
   ],
   "source": [
    "#Problem 10 : Sort an array of 0’s, 1’s and 2’s [or R’s, G’s and B’s]: Given an array A[] consisting of 0’s, 1’s and 2’s, give an algorithm for sorting A[].The algorithm should put all 0’s first, then all 1’s and finally all 2’s at the end. Example Input = {0,1,1,0,1,2,1,2,0,0,0,1}, Output = {0,0,0,0,0,1,1,1,1,1,2,2}\n",
    "def sort_colors(nums):\n",
    "    left = 0  # Pointer for the end of the 0s segment\n",
    "    right = len(nums) - 1  # Pointer for the beginning of the 2s segment\n",
    "    curr = 0  # Pointer to traverse the array\n",
    "    \n",
    "    while curr <= right:\n",
    "        if nums[curr] == 0:\n",
    "            nums[curr], nums[left] = nums[left], nums[curr]\n",
    "            left += 1\n",
    "            curr += 1\n",
    "        elif nums[curr] == 2:\n",
    "            nums[curr], nums[right] = nums[right], nums[curr]\n",
    "            right -= 1\n",
    "        else:\n",
    "            curr += 1\n",
    "\n",
    "# Example usage:\n",
    "arr = [0, 1, 1, 0, 1, 2, 1, 2, 0, 0, 0, 1]\n",
    "sort_colors(arr)\n",
    "print(\"Sorted array:\", arr)"
   ]
  },
  {
   "cell_type": "code",
   "execution_count": null,
   "id": "db5c09d3-a75d-4d12-8841-363396db311d",
   "metadata": {},
   "outputs": [],
   "source": []
  }
 ],
 "metadata": {
  "kernelspec": {
   "display_name": "Python 3 (ipykernel)",
   "language": "python",
   "name": "python3"
  },
  "language_info": {
   "codemirror_mode": {
    "name": "ipython",
    "version": 3
   },
   "file_extension": ".py",
   "mimetype": "text/x-python",
   "name": "python",
   "nbconvert_exporter": "python",
   "pygments_lexer": "ipython3",
   "version": "3.10.8"
  }
 },
 "nbformat": 4,
 "nbformat_minor": 5
}
