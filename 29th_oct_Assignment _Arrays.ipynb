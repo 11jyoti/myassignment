{
 "cells": [
  {
   "cell_type": "code",
   "execution_count": 14,
   "id": "3337e96b-a2a8-4bc4-9fcd-261376dec398",
   "metadata": {},
   "outputs": [
    {
     "name": "stdout",
     "output_type": "stream",
     "text": [
      "True\n"
     ]
    }
   ],
   "source": [
    "#1. Given an array, check if it contains any duplicates or not.\n",
    "def check_duplicates(arr):#creating function \n",
    "    l = len(arr)\n",
    "    for i in range(0, l):\n",
    "        for j in range(i+1, l):\n",
    "            if arr[i] == arr[j]:#checking duplicates\n",
    "                return True\n",
    "    return False\n",
    "\n",
    "arr = [1, 2, 4, 2, 5, 9]\n",
    "output = check_duplicates(arr)\n",
    "print(output)\n"
   ]
  },
  {
   "cell_type": "code",
   "execution_count": 20,
   "id": "542cc6c3-5f59-438b-b7b2-3689e0fa052b",
   "metadata": {},
   "outputs": [
    {
     "name": "stdout",
     "output_type": "stream",
     "text": [
      "[5, 6, 7, 1, 2, 3, 4]\n"
     ]
    }
   ],
   "source": [
    "#2. Given an array and an integer k, rotate the array to the right by k steps.\n",
    "arr = [1, 2, 3, 4, 5, 6, 7] \n",
    "k = 3\n",
    "l = len(arr)\n",
    "rotated_arr = [0] *l   # Initialize a new array to store rotated elements\n",
    "\n",
    "for i in range(l):\n",
    "    if i < k:\n",
    "        rotated_arr[i] = arr[l - k + i]\n",
    "    else:\n",
    "        rotated_arr[i] = arr[i - k]\n",
    "\n",
    "print(rotated_arr)"
   ]
  },
  {
   "cell_type": "code",
   "execution_count": 49,
   "id": "b4035c47-a85d-4d53-ba59-7728c05dc8a0",
   "metadata": {},
   "outputs": [
    {
     "name": "stdout",
     "output_type": "stream",
     "text": [
      "[12, 9, 7, 5, 4, 2]\n"
     ]
    }
   ],
   "source": [
    "#3.Reverse the given array in-place, means without using any extra data structure.\n",
    "def reverse_array(arr):\n",
    "    start = 0\n",
    "    end = len(arr) - 1\n",
    "    \n",
    "    while start < end:\n",
    "        arr[start], arr[end] = arr[end], arr[start] #logic to reverse array\n",
    "        start += 1\n",
    "        end -= 1\n",
    "\n",
    "# Example usage:\n",
    "arr = [2, 4, 5, 7, 9, 12]\n",
    "reverse_array(arr)\n",
    "print(arr)"
   ]
  },
  {
   "cell_type": "code",
   "execution_count": 54,
   "id": "b233e982-7dd9-4f37-885c-f86e33318faf",
   "metadata": {},
   "outputs": [
    {
     "name": "stdout",
     "output_type": "stream",
     "text": [
      "20\n"
     ]
    }
   ],
   "source": [
    "#4. Given an array of integers, find the maximum element in an array\n",
    "arr = [10, 5, 20, 8, 15]\n",
    "maximum = arr[0]  # Initialize maximum with the first element of the array\n",
    "for num in arr[1:]:  # Start iterating from the second element\n",
    "    if num > maximum:\n",
    "        maximum = num\n",
    "print(maximum)\n",
    "               "
   ]
  },
  {
   "cell_type": "code",
   "execution_count": 55,
   "id": "9abd71b3-bc6d-4690-89f0-1af1266deb66",
   "metadata": {},
   "outputs": [
    {
     "name": "stdout",
     "output_type": "stream",
     "text": [
      "[1, 2, 3, 4, 5]\n"
     ]
    }
   ],
   "source": [
    "#5. Given a sorted array, remove the duplicate element without using any extra data structure.\n",
    "def remove_duplicates(arr):\n",
    "    if not arr:  # If the array is empty, return it as is\n",
    "        return arr\n",
    "    \n",
    "    # Initialize the pointer to track the position to insert the next unique element\n",
    "    insert_index = 1\n",
    "    \n",
    "    # Iterate through the array starting from the second element\n",
    "    for i in range(1, len(arr)):\n",
    "        # If the current element is different from the previous unique element, \n",
    "        # copy it to the insert_index position and increment insert_index\n",
    "        if arr[i] != arr[insert_index - 1]:\n",
    "            arr[insert_index] = arr[i]\n",
    "            insert_index += 1\n",
    "    \n",
    "    # Slice the array to remove the duplicate elements from the end\n",
    "    arr = arr[:insert_index]\n",
    "    \n",
    "    return arr\n",
    "\n",
    "# Example usage:\n",
    "arr = [1, 1, 2, 2, 2, 3, 3, 4, 4, 4, 5, 5]\n",
    "arr = remove_duplicates(arr)\n",
    "print(arr)\n",
    "\n"
   ]
  },
  {
   "cell_type": "code",
   "execution_count": null,
   "id": "511b92ed-4e59-42ea-990a-34a4593ccc71",
   "metadata": {},
   "outputs": [],
   "source": []
  }
 ],
 "metadata": {
  "kernelspec": {
   "display_name": "Python 3 (ipykernel)",
   "language": "python",
   "name": "python3"
  },
  "language_info": {
   "codemirror_mode": {
    "name": "ipython",
    "version": 3
   },
   "file_extension": ".py",
   "mimetype": "text/x-python",
   "name": "python",
   "nbconvert_exporter": "python",
   "pygments_lexer": "ipython3",
   "version": "3.10.8"
  }
 },
 "nbformat": 4,
 "nbformat_minor": 5
}
