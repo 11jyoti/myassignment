{
 "cells": [
  {
   "cell_type": "code",
   "execution_count": 1,
   "id": "56f91470-423d-49a8-b978-83771a55867c",
   "metadata": {},
   "outputs": [
    {
     "name": "stdout",
     "output_type": "stream",
     "text": [
      "ytisrevinu detinu\n"
     ]
    }
   ],
   "source": [
    "#1-Write a program to reverse a string.\n",
    "str=\"united university\"\n",
    "rvs=str[::-1]\n",
    "print(rvs)\n"
   ]
  },
  {
   "cell_type": "code",
   "execution_count": 3,
   "id": "ed6300c6-42ab-4555-aca4-21faf7099cd7",
   "metadata": {},
   "outputs": [
    {
     "name": "stdout",
     "output_type": "stream",
     "text": [
      "malayalam is palindrome\n"
     ]
    }
   ],
   "source": [
    "#2. Check if a string is a palindrome.\n",
    "str=\"malayalam\"\n",
    "pal=str[::-1]\n",
    "if(pal==str):\n",
    "    print(str,\"is palindrome\")\n",
    "else:\n",
    "    print(str,\"is not palindrome\")"
   ]
  },
  {
   "cell_type": "code",
   "execution_count": 7,
   "id": "f4ea6fcf-1111-4e9c-9aad-30801f3f7404",
   "metadata": {},
   "outputs": [
    {
     "name": "stdout",
     "output_type": "stream",
     "text": [
      "UNITED UNIVERSITY\n"
     ]
    }
   ],
   "source": [
    "#3. Convert a string to uppercase.\n",
    "str=\"united university\"\n",
    "print(str.upper())"
   ]
  },
  {
   "cell_type": "code",
   "execution_count": 8,
   "id": "a56c4559-c26d-4208-a313-f967135ccae8",
   "metadata": {},
   "outputs": [
    {
     "name": "stdout",
     "output_type": "stream",
     "text": [
      "united university\n"
     ]
    }
   ],
   "source": [
    "#4-Convert a string to lowercase.\n",
    "str=\"UNITED UNIVERSITY\"\n",
    "print(str.lower())"
   ]
  },
  {
   "cell_type": "code",
   "execution_count": 12,
   "id": "22a019b6-7f57-4bb0-b7c6-5c067fd47e6e",
   "metadata": {},
   "outputs": [
    {
     "name": "stdout",
     "output_type": "stream",
     "text": [
      "7\n"
     ]
    }
   ],
   "source": [
    "#5. Count the number of vowels in a string.\n",
    "str=\"united university\"\n",
    "count=0\n",
    "for i in str:\n",
    "    if(i==\"a\" or i==\"e\" or i==\"i\" or i==\"o\" or i==\"u\"):\n",
    "        count=count+1\n",
    "print(count)"
   ]
  },
  {
   "cell_type": "code",
   "execution_count": 16,
   "id": "8783dbff-b40f-463b-a52d-c0a90b541f61",
   "metadata": {},
   "outputs": [
    {
     "name": "stdout",
     "output_type": "stream",
     "text": [
      "consonants= 9\n"
     ]
    }
   ],
   "source": [
    "#6. Count the number of consonants in a string.\n",
    "str=\"united university\"\n",
    "count=0\n",
    "for i in str:\n",
    "    if(i==\"a\" or i==\"e\" or i==\"i\" or i==\"o\" or i==\"u\" or i==\" \"):\n",
    "        count=count+1\n",
    "print(\"consonants=\",len(str)-count)"
   ]
  },
  {
   "cell_type": "code",
   "execution_count": 23,
   "id": "74597830-6291-4d57-ae09-28c5d6c8db5a",
   "metadata": {},
   "outputs": [
    {
     "name": "stdout",
     "output_type": "stream",
     "text": [
      "mynameisjyoti\n"
     ]
    }
   ],
   "source": [
    "#7\n",
    "str=\"my name is jyoti\"\n",
    "print(str.replace(\" \",\"\"))"
   ]
  },
  {
   "cell_type": "code",
   "execution_count": 25,
   "id": "4d4bb768-c891-4e50-8a90-caa1c29b0164",
   "metadata": {},
   "outputs": [
    {
     "name": "stdout",
     "output_type": "stream",
     "text": [
      "12\n"
     ]
    }
   ],
   "source": [
    "#8\n",
    "string = 'jyoti kumari'\n",
    "count = 0\n",
    "for i in string:\n",
    "     count+=1\n",
    "print(count)"
   ]
  },
  {
   "cell_type": "code",
   "execution_count": 26,
   "id": "4cc4d838-5943-43d9-a1dc-b259f9e46c97",
   "metadata": {},
   "outputs": [
    {
     "name": "stdout",
     "output_type": "stream",
     "text": [
      "Apples in string\n",
      "Apples not in string\n",
      "Apples not in string\n"
     ]
    }
   ],
   "source": [
    "#9\n",
    "strings = ['This string has apples', 'This string has oranges', 'This string has neither']\n",
    "\n",
    "for s in strings:\n",
    "    if 'apples' in s:\n",
    "        print('Apples in string')\n",
    "    else:\n",
    "        print('Apples not in string')"
   ]
  },
  {
   "cell_type": "code",
   "execution_count": 27,
   "id": "b1ea9bd3-9b0b-4c85-8a13-6290d1bb32e6",
   "metadata": {},
   "outputs": [
    {
     "name": "stdout",
     "output_type": "stream",
     "text": [
      "Great Morning\n"
     ]
    }
   ],
   "source": [
    "#10\n",
    "string = \"Good Morning\"\n",
    "new_string = string.replace(\"Good\", \"Great\")\n",
    " \n",
    "print(new_string)"
   ]
  },
  {
   "cell_type": "code",
   "execution_count": 35,
   "id": "47127d17-eea5-44f5-b27c-ef4b797c017e",
   "metadata": {},
   "outputs": [
    {
     "name": "stdout",
     "output_type": "stream",
     "text": [
      "The count is: 3\n"
     ]
    }
   ],
   "source": [
    "#11\n",
    "string = \"jyoti is jyoti no one be like jyoti\"\n",
    "substring = \"jyoti\"\n",
    "\n",
    "count = string.count(substring)\n",
    "\n",
    "print(\"The count is:\", count)"
   ]
  },
  {
   "cell_type": "code",
   "execution_count": 37,
   "id": "b34919ff-fdde-4cab-b813-587c4e6bbbbb",
   "metadata": {},
   "outputs": [
    {
     "name": "stdout",
     "output_type": "stream",
     "text": [
      "['welcome', 'to', 'the', 'jupiter']\n"
     ]
    }
   ],
   "source": [
    "#12\n",
    "txt = \"welcome to the jupiter\"\n",
    "\n",
    "x = txt.split()\n",
    "\n",
    "print(x)\n"
   ]
  },
  {
   "cell_type": "code",
   "execution_count": 38,
   "id": "ca29af08-49f4-4a2f-a8a6-858a4be508cb",
   "metadata": {},
   "outputs": [
    {
     "name": "stdout",
     "output_type": "stream",
     "text": [
      "Python is a fun programming language\n"
     ]
    }
   ],
   "source": [
    "#13\n",
    "text = ['Python', 'is', 'a', 'fun', 'programming', 'language']\n",
    "print(' '.join(text))"
   ]
  },
  {
   "cell_type": "code",
   "execution_count": 39,
   "id": "193ef4eb-0dbd-467c-a779-9ad5b6f99723",
   "metadata": {},
   "outputs": [
    {
     "name": "stdout",
     "output_type": "stream",
     "text": [
      "my_name_is_jyoti\n"
     ]
    }
   ],
   "source": [
    "#14\n",
    "str=\"my name is jyoti\"\n",
    "print(str.replace(\" \",\"_\"))"
   ]
  },
  {
   "cell_type": "code",
   "execution_count": 40,
   "id": "b7258278-b5a8-4b06-8537-ee28d7fc702f",
   "metadata": {},
   "outputs": [
    {
     "name": "stdout",
     "output_type": "stream",
     "text": [
      "True\n"
     ]
    }
   ],
   "source": [
    "#15\n",
    "message = 'Python is fun'\n",
    "print(message.startswith('Python'))"
   ]
  },
  {
   "cell_type": "code",
   "execution_count": 41,
   "id": "4933eb14-a8ee-4d22-baa7-007453b62045",
   "metadata": {},
   "outputs": [
    {
     "name": "stdout",
     "output_type": "stream",
     "text": [
      "True\n"
     ]
    }
   ],
   "source": [
    "#16\n",
    "message = 'Python is fun'\n",
    "print(message.endswith('fun'))"
   ]
  },
  {
   "cell_type": "code",
   "execution_count": 43,
   "id": "752e660e-d731-4211-9522-5e8a6ff4e174",
   "metadata": {},
   "outputs": [
    {
     "name": "stdout",
     "output_type": "stream",
     "text": [
      "My Name Is Jyoti\n"
     ]
    }
   ],
   "source": [
    "#17\n",
    "ste=\"my name is jyoti\"\n",
    "print(ste.title())"
   ]
  },
  {
   "cell_type": "code",
   "execution_count": 49,
   "id": "4041ba80-8ca1-4329-9697-7cdc817c1298",
   "metadata": {},
   "outputs": [
    {
     "name": "stdin",
     "output_type": "stream",
     "text": [
      "Enter a String:  jyoti kumari\n"
     ]
    },
    {
     "name": "stdout",
     "output_type": "stream",
     "text": [
      "Longest word:  kumari\n",
      "Position of Longest word:  6\n"
     ]
    }
   ],
   "source": [
    "#18\n",
    "str = input(\"Enter a String: \")\n",
    "word_list = str.split()\n",
    "longest_word = max(word_list, key = len)\n",
    "pos = str.index(longest_word)\n",
    "print(\"Longest word: \",longest_word)\n",
    "print(\"Position of Longest word: \", pos)"
   ]
  },
  {
   "cell_type": "code",
   "execution_count": 50,
   "id": "9c71f9a3-7d39-4d40-8a38-b91575bf056f",
   "metadata": {},
   "outputs": [
    {
     "name": "stdin",
     "output_type": "stream",
     "text": [
      "Enter some text:  jyoti is jyoti\n"
     ]
    },
    {
     "name": "stdout",
     "output_type": "stream",
     "text": [
      "Shortest word is:  is\n",
      "And its length is:  2\n"
     ]
    }
   ],
   "source": [
    "#19\n",
    "text = input(\"Enter some text: \")\n",
    "shortest = min(text.split(), key=len)\n",
    "print(\"Shortest word is: \", shortest)\n",
    "print(\"And its length is: \", len(shortest))"
   ]
  },
  {
   "cell_type": "code",
   "execution_count": 52,
   "id": "14741e2c-cb8f-408a-aa4e-e1c5d715820d",
   "metadata": {},
   "outputs": [
    {
     "name": "stdout",
     "output_type": "stream",
     "text": [
      "jyoti is name my\n"
     ]
    }
   ],
   "source": [
    "#20\n",
    "string = \"my name is jyoti\"\n",
    "s = string.split()[::-1]\n",
    "l = []\n",
    "for i in s:\n",
    "    l.append(i)\n",
    "print(\" \".join(l))"
   ]
  },
  {
   "cell_type": "code",
   "execution_count": 53,
   "id": "a304794e-94a8-40d7-9a26-d636dbde6b27",
   "metadata": {},
   "outputs": [
    {
     "name": "stdout",
     "output_type": "stream",
     "text": [
      "True\n"
     ]
    }
   ],
   "source": [
    "#21\n",
    "s = 'HelloWorld2019'\n",
    "print(s.isalnum())\n"
   ]
  },
  {
   "cell_type": "code",
   "execution_count": 55,
   "id": "aeb4ea8c-9e0d-4e6e-bb9d-87154938d0bd",
   "metadata": {},
   "outputs": [
    {
     "name": "stdout",
     "output_type": "stream",
     "text": [
      "The numbers list is: [2, 4]\n"
     ]
    }
   ],
   "source": [
    "#22\n",
    "test_string = \"There are 2 apples for 4 persons\"\n",
    " \n",
    "numbers = []\n",
    "for char in test_string:\n",
    "    if char.isdigit():\n",
    "        numbers.append(int(char))\n",
    " \n",
    "print(\"The numbers list is:\", numbers)"
   ]
  },
  {
   "cell_type": "code",
   "execution_count": 61,
   "id": "7fa94db6-80ce-4427-9a30-4ed09fb5bf84",
   "metadata": {},
   "outputs": [
    {
     "name": "stdout",
     "output_type": "stream",
     "text": [
      "Given string :  Qwer34^&t%y\n",
      "Result:  Qwerty\n"
     ]
    }
   ],
   "source": [
    "#23\n",
    "stringA = \"Qwer34^&t%y\"\n",
    "print(\"Given string : \", stringA)\n",
    "res = \"\"\n",
    "for i in stringA:\n",
    "    if i.isalpha():\n",
    "        res = \"\".join([res, i])\n",
    "print(\"Result: \", res)"
   ]
  },
  {
   "cell_type": "code",
   "execution_count": 63,
   "id": "b0858d45-f0ad-41e2-bbb3-ac2051f09970",
   "metadata": {},
   "outputs": [
    {
     "name": "stdin",
     "output_type": "stream",
     "text": [
      "Enter string: UUUUUuuuu\n"
     ]
    },
    {
     "name": "stdout",
     "output_type": "stream",
     "text": [
      "The number of lowercase characters is:\n",
      "4\n",
      "The number of uppercase characters is:\n",
      "5\n"
     ]
    }
   ],
   "source": [
    "#24\n",
    "string=input(\"Enter string:\")\n",
    "count1=0\n",
    "count2=0\n",
    "for i in string:\n",
    "      if(i.islower()):\n",
    "            count1=count1+1\n",
    "      elif(i.isupper()):\n",
    "            count2=count2+1\n",
    "print(\"The number of lowercase characters is:\")\n",
    "print(count1)\n",
    "print(\"The number of uppercase characters is:\")\n",
    "print(count2)\n"
   ]
  },
  {
   "cell_type": "code",
   "execution_count": 64,
   "id": "821062f4-84f7-43f8-910c-0e62ff915688",
   "metadata": {},
   "outputs": [
    {
     "name": "stdin",
     "output_type": "stream",
     "text": [
      "Enter string: yjtutuBJHH\n"
     ]
    },
    {
     "name": "stdout",
     "output_type": "stream",
     "text": [
      "The number of lowercase characters is:\n",
      "4\n",
      "The number of uppercase characters is:\n",
      "5\n"
     ]
    }
   ],
   "source": [
    "#25\n",
    "tring=input(\"Enter string:\")\n",
    "count1=0\n",
    "count2=0\n",
    "for i in string:\n",
    "      if(i.islower()):\n",
    "            count1=count1+1\n",
    "      elif(i.isupper()):\n",
    "            count2=count2+1\n",
    "print(\"The number of lowercase characters is:\")\n",
    "print(count1)\n",
    "print(\"The number of uppercase characters is:\")\n",
    "print(count2)\n"
   ]
  },
  {
   "cell_type": "code",
   "execution_count": 65,
   "id": "40a5c35f-d403-4641-96b1-7dc8f6a64890",
   "metadata": {},
   "outputs": [
    {
     "name": "stdout",
     "output_type": "stream",
     "text": [
      "jyoti JYOTI\n"
     ]
    }
   ],
   "source": [
    "#26\n",
    "str = \"JYOTI jyoti\";\n",
    "print(str.swapcase())"
   ]
  },
  {
   "cell_type": "code",
   "execution_count": 66,
   "id": "bcc9e9c2-b11b-40b2-9e1a-9e6ee2596c22",
   "metadata": {},
   "outputs": [
    {
     "name": "stdout",
     "output_type": "stream",
     "text": [
      "jyoti is a good  girl\n"
     ]
    }
   ],
   "source": [
    "#27\n",
    "a1 = \"jyoti is a good bad girl\"\n",
    "a2 = a1.replace(\"bad\", '')\n",
    "print(a2)"
   ]
  },
  {
   "cell_type": "code",
   "execution_count": 7,
   "id": "e2b5150f-31c2-41c4-8719-180bc353c283",
   "metadata": {},
   "outputs": [
    {
     "name": "stdout",
     "output_type": "stream",
     "text": [
      "jyotikumari\n"
     ]
    }
   ],
   "source": [
    "#28\n",
    "email='jyotikumari@gmail.com'\n",
    "name = email.split('@')\n",
    "print(name[0])"
   ]
  },
  {
   "cell_type": "code",
   "execution_count": 8,
   "id": "6ea26545-3f94-427d-908a-15ed3e3d2779",
   "metadata": {},
   "outputs": [
    {
     "name": "stdout",
     "output_type": "stream",
     "text": [
      "gmail.com\n"
     ]
    }
   ],
   "source": [
    "#29\n",
    "email='jyotikumari@gmail.com'\n",
    "name = email.split('@')\n",
    "print(name[1])"
   ]
  },
  {
   "cell_type": "code",
   "execution_count": 10,
   "id": "2f54acdd-5a35-4f2c-9dd8-640cd08d18de",
   "metadata": {},
   "outputs": [
    {
     "name": "stdout",
     "output_type": "stream",
     "text": [
      "'jyoti is a good name'\n"
     ]
    }
   ],
   "source": [
    "#30\n",
    "my_str = 'jyoti   is   a   good   name'\n",
    "result = \" \".join(my_str.split())\n",
    "print(repr(result))"
   ]
  },
  {
   "cell_type": "code",
   "execution_count": 1,
   "id": "61895f82-120a-4200-a8e2-802725ba223c",
   "metadata": {},
   "outputs": [
    {
     "name": "stdout",
     "output_type": "stream",
     "text": [
      "Username: john.doe\n"
     ]
    }
   ],
   "source": [
    "#31. Extract the username from an email address string.\n",
    "def extract_username(email):\n",
    "    # Find the position of the \"@\" symbol\n",
    "    at_symbol_position = email.find('@')\n",
    "    \n",
    "    if at_symbol_position != -1:\n",
    "        # Use string slicing to extract the username\n",
    "        username = email[:at_symbol_position]\n",
    "        return username\n",
    "    else:\n",
    "        # Return None if \"@\" is not found\n",
    "        return None\n",
    "\n",
    "# Example usage\n",
    "email_address = \"john.doe@example.com\"\n",
    "username = extract_username(email_address)\n",
    "if username:\n",
    "    print(\"Username:\", username)\n",
    "else:\n",
    "    print(\"No username found in the email address.\")"
   ]
  },
  {
   "cell_type": "code",
   "execution_count": 2,
   "id": "8a5b1b6e-c330-4ed9-9950-03877216cb04",
   "metadata": {},
   "outputs": [
    {
     "name": "stdout",
     "output_type": "stream",
     "text": [
      "Domain: example.com\n"
     ]
    }
   ],
   "source": [
    "#32. Extract the domain name from an email address string.\n",
    "def extract_domain(email):\n",
    "    # Find the position of the \"@\" symbol\n",
    "    at_symbol_position = email.find('@')\n",
    "    \n",
    "    if at_symbol_position != -1:\n",
    "        # Use string slicing to extract the domain name\n",
    "        domain = email[at_symbol_position + 1:]\n",
    "        return domain\n",
    "    else:\n",
    "        # Return None if \"@\" is not found\n",
    "        return None\n",
    "\n",
    "# Example usage\n",
    "email_address = \"john.doe@example.com\"\n",
    "domain = extract_domain(email_address)\n",
    "if domain:\n",
    "    print(\"Domain:\", domain)\n",
    "else:\n",
    "    print(\"No domain found in the email address.\")"
   ]
  },
  {
   "cell_type": "code",
   "execution_count": 3,
   "id": "450d9c7d-6603-484a-bf77-54526ba1c420",
   "metadata": {},
   "outputs": [
    {
     "name": "stdout",
     "output_type": "stream",
     "text": [
      "This is a sentence with multiple spaces.\n"
     ]
    }
   ],
   "source": [
    "#33. Replace multiple spaces in a string with a single space.\n",
    "def replace_multiple_spaces(input_string):\n",
    "    words = input_string.split()\n",
    "    return ' '.join(words)\n",
    "text = \"This   is    a   sentence    with   multiple   spaces.\"\n",
    "modified_text = replace_multiple_spaces(text)\n",
    "print(modified_text)"
   ]
  },
  {
   "cell_type": "code",
   "execution_count": 4,
   "id": "7b05bc7c-603e-4689-bf7d-bc97485f9f29",
   "metadata": {},
   "outputs": [
    {
     "name": "stdout",
     "output_type": "stream",
     "text": [
      "Valid URL\n"
     ]
    }
   ],
   "source": [
    "#34. Check if a string is a valid URL.\n",
    "def is_valid_url(url):\n",
    "    # Check if the string starts with a valid scheme\n",
    "    valid_schemes = [\"http://\", \"https://\", \"ftp://\"]\n",
    "    has_valid_scheme = any(url.startswith(scheme) for scheme in valid_schemes)\n",
    "    \n",
    "    # Check for the presence of a domain (netloc)\n",
    "    parts = url.split(\"/\")\n",
    "    has_valid_domain = len(parts) > 2 and '.' in parts[2]\n",
    "    \n",
    "    return has_valid_scheme and has_valid_domain\n",
    "url = \"https://www.example.com\"\n",
    "if is_valid_url(url):\n",
    "    print(\"Valid URL\")\n",
    "else:\n",
    "    print(\"Invalid URL\")"
   ]
  },
  {
   "cell_type": "code",
   "execution_count": null,
   "id": "154df986-2b4e-437b-94a4-7636ed055507",
   "metadata": {},
   "outputs": [],
   "source": [
    "#35-Extract the protocol (http or https) from a URL string.\n",
    "def extract_protocol(url):\n",
    "    protocol_end = url.find(\"://\")\n",
    "\n",
    "    if protocol_end != -1:\n",
    "        protocol = url[:protocol_end]\n",
    "        return protocol\n",
    "    else:\n",
    "        return None\n",
    "\n",
    "url1 = \"https://www.example.com\"\n",
    "url2 = \"http://google.com\"\n",
    "url3 = \"ftp://ftp.example.com\"\n",
    "protocol1 = extract_protocol(url1)\n",
    "protocol2 = extract_protocol(url2)\n",
    "protocol3 = extract_protocol(url3)\n",
    "\n",
    "print(\"Protocol 1:\", protocol1)\n",
    "print(\"Protocol 2:\", protocol2)\n",
    "print(\"Protocol 3:\", protocol3)\n"
   ]
  },
  {
   "cell_type": "code",
   "execution_count": 1,
   "id": "da6f15cc-b8ba-4563-a67a-7904a60abb48",
   "metadata": {},
   "outputs": [
    {
     "name": "stdout",
     "output_type": "stream",
     "text": [
      "Count of all characters in GeeksforGeeks is :\n",
      " {'j': 2, 'y': 2, 'o': 2, 't': 2, 'i': 2}\n"
     ]
    }
   ],
   "source": [
    "#36. Find the frequency of each character in a string.\n",
    "test_str = \"jyotijyoti\"\n",
    "all_freq = {}\n",
    " \n",
    "for i in test_str:\n",
    "    if i in all_freq:\n",
    "        all_freq[i] += 1\n",
    "    else:\n",
    "        all_freq[i] = 1\n",
    "print(\"Count of all characters in GeeksforGeeks is :\\n \"\n",
    "      + str(all_freq))\n"
   ]
  },
  {
   "cell_type": "code",
   "execution_count": 3,
   "id": "b25458fe-de4d-4b76-8a21-6ec43a687092",
   "metadata": {},
   "outputs": [
    {
     "name": "stdout",
     "output_type": "stream",
     "text": [
      "Hello How are you Im doing well thanks\n"
     ]
    }
   ],
   "source": [
    "#37. Remove all punctuation from a string.\n",
    "import string\n",
    "my_string = \"Hello! How are you? I'm doing well, thanks.\" \n",
    "\n",
    "# Remove punctuation \n",
    "new_string = \"\" \n",
    "for char in my_string: \n",
    "    if char not in string.punctuation: \n",
    "        new_string += char \n",
    "\n",
    "# Output \n",
    "print(new_string) "
   ]
  },
  {
   "cell_type": "code",
   "execution_count": 4,
   "id": "f8794458-d454-4932-8b69-9d760b9353c6",
   "metadata": {},
   "outputs": [
    {
     "name": "stdout",
     "output_type": "stream",
     "text": [
      "The string contains only digits!\n"
     ]
    }
   ],
   "source": [
    "#38. Check if a string contains only digits.\n",
    "my_string = \"1234\"\n",
    "if my_string.isdigit():\n",
    "    print(\"The string contains only digits!\")\n",
    "else:\n",
    "    print(\"The string does not contain only digits.\")"
   ]
  },
  {
   "cell_type": "code",
   "execution_count": 5,
   "id": "00078111-fadd-4cda-8c44-16b29539e4a7",
   "metadata": {},
   "outputs": [
    {
     "name": "stdout",
     "output_type": "stream",
     "text": [
      "Given string contains only alphabets.\n"
     ]
    }
   ],
   "source": [
    "#39. Check if a string contains only alphabets.\n",
    "# Given string\n",
    "x = \"HelloWorld\"\n",
    "\n",
    "# Check if string contains only alphabets\n",
    "if x.isalpha():\n",
    "    print('Given string contains only alphabets.')\n",
    "else:\n",
    "    print('Given string does not contain only alphabets.')"
   ]
  },
  {
   "cell_type": "code",
   "execution_count": 7,
   "id": "7fd9415f-4730-433a-8e6c-40896c27bf98",
   "metadata": {},
   "outputs": [
    {
     "name": "stdout",
     "output_type": "stream",
     "text": [
      "['my', 'name', 'is', 'jyoti']\n"
     ]
    }
   ],
   "source": [
    "#40. Convert a string to a list of characters.\n",
    "def Convert(string):\n",
    "    li = list(string.split(\" \"))\n",
    "    return li\n",
    " \n",
    " \n",
    "# Driver code\n",
    "str1 = \"my name is jyoti\"\n",
    "print(Convert(str1))"
   ]
  },
  {
   "cell_type": "code",
   "execution_count": 8,
   "id": "f88e59b3-ae46-49fa-83b0-aecdd7f23191",
   "metadata": {},
   "outputs": [
    {
     "name": "stdout",
     "output_type": "stream",
     "text": [
      "The strings are anagrams.\n"
     ]
    }
   ],
   "source": [
    "#41. Check if two strings are anagrams.\n",
    "def check(s1, s2):\n",
    "     \n",
    "    # the sorted strings are checked \n",
    "    if(sorted(s1)== sorted(s2)):\n",
    "        print(\"The strings are anagrams.\") \n",
    "    else:\n",
    "        print(\"The strings aren't anagrams.\")         \n",
    "         \n",
    "# driver code  \n",
    "s1 =\"listen\"\n",
    "s2 =\"silent\"\n",
    "check(s1, s2)"
   ]
  },
  {
   "cell_type": "code",
   "execution_count": 1,
   "id": "fc68fb46-3dc6-43a5-acaf-31a979b45ed0",
   "metadata": {},
   "outputs": [
    {
     "name": "stdout",
     "output_type": "stream",
     "text": [
      "Encoded text: ehoor, zruog!\n"
     ]
    }
   ],
   "source": [
    "#42. Encode a string using a Caesar cipher.\n",
    "def caesar_cipher(text, shift):\n",
    "  \"\"\"\n",
    "  Encodes a string using a Caesar cipher.\n",
    "\n",
    "  Args:\n",
    "    text: The string to encode.\n",
    "    shift: The number of positions to shift each letter.\n",
    "\n",
    "  Returns:\n",
    "    The encoded string.\n",
    "  \"\"\"\n",
    "\n",
    "  # Initialize an empty string to store the encoded text.\n",
    "  encoded_text = \"\"\n",
    "\n",
    "  # Iterate through each character in the input text.\n",
    "  for char in text:\n",
    "    # Check if the character is alphabetic.\n",
    "    if char.isalpha():\n",
    "      # Calculate the encoded character's Unicode code point value by shifting it by the specified amount.\n",
    "      # Ensure the value wraps around within the lowercase alphabet range (a-z).\n",
    "      encoded_char = chr((ord(char) + shift - ord('a')) % 26 + ord('a'))\n",
    "    else:\n",
    "      # Keep non-alphabetic characters unchanged.\n",
    "      encoded_char = char\n",
    "\n",
    "    # Add the encoded character to the encoded text.\n",
    "    encoded_text += encoded_char\n",
    "\n",
    "  # Return the resulting encoded text.\n",
    "  return encoded_text\n",
    "\n",
    "# Define the input text and the shift value for encoding.\n",
    "text = \"Hello, world!\"\n",
    "shift = 3\n",
    "\n",
    "# Call the caesar_cipher function to encode the text using the specified shift.\n",
    "encoded_text = caesar_cipher(text, shift)\n",
    "\n",
    "# Print the encoded text.\n",
    "print(\"Encoded text:\", encoded_text)"
   ]
  },
  {
   "cell_type": "code",
   "execution_count": 14,
   "id": "73795194-970a-4cdf-b329-0966bea23274",
   "metadata": {},
   "outputs": [
    {
     "name": "stdout",
     "output_type": "stream",
     "text": [
      "Decoded text: ilmm, world!\n"
     ]
    }
   ],
   "source": [
    "#43. Decode a Caesar cipher encoded string.\n",
    "def caesar_cipher_decoder(text, shift):\n",
    "\n",
    "    # Initialize an empty string to store the decoded text\n",
    "    decoded_text = \"\"\n",
    "\n",
    "    # Loop through each character in the input text\n",
    "    for char in text:\n",
    "        # Check if the character is an alphabetic character\n",
    "        if char.isalpha():\n",
    "            # Calculate the decoded character using the shift value\n",
    "            decoded_char = chr((ord(char) - shift - ord('a')) % 26 + ord('a'))\n",
    "        else:\n",
    "            # If the character is not alphabetic, keep it unchanged\n",
    "            decoded_char = char\n",
    "\n",
    "        # Add the decoded character to the decoded text\n",
    "        decoded_text += decoded_char\n",
    "\n",
    "    # Return the fully decoded text\n",
    "    return decoded_text\n",
    "\n",
    "# Example input\n",
    "text = \"lopp, zruog!\"\n",
    "shift = 3\n",
    "\n",
    "# Call the caesar_cipher_decoder function to decode the input text\n",
    "decoded_text = caesar_cipher_decoder(text, shift)\n",
    "\n",
    "# Print the decoded text\n",
    "print(\"Decoded text:\", decoded_text)"
   ]
  },
  {
   "cell_type": "code",
   "execution_count": 16,
   "id": "819d7cac-cfaa-4915-bb75-bce0a465aa2a",
   "metadata": {},
   "outputs": [
    {
     "name": "stdout",
     "output_type": "stream",
     "text": [
      "The original list is : ['gfg is best for geeks', 'geeks love gfg', 'gfg is best']\n",
      "Word with maximum frequency : gfg\n"
     ]
    }
   ],
   "source": [
    "#44. Find the most frequent word in a string.\n",
    "from collections import defaultdict\n",
    " \n",
    "# initializing Matrix\n",
    "test_list = [\"gfg is best for geeks\", \"geeks love gfg\", \"gfg is best\"]\n",
    " \n",
    "# printing original list\n",
    "print(\"The original list is : \" + str(test_list))\n",
    " \n",
    "temp = defaultdict(int)\n",
    " \n",
    "# memoizing count\n",
    "for sub in test_list:\n",
    "    for wrd in sub.split():\n",
    "        temp[wrd] += 1\n",
    " \n",
    "# getting max frequency\n",
    "res = max(temp, key=temp.get)\n",
    " \n",
    "# printing result\n",
    "print(\"Word with maximum frequency : \" + str(res))"
   ]
  },
  {
   "cell_type": "code",
   "execution_count": 17,
   "id": "564e9b24-0c4d-42fc-9e73-e2db65cda232",
   "metadata": {},
   "outputs": [
    {
     "name": "stdout",
     "output_type": "stream",
     "text": [
      "Java\n",
      "Grails\n",
      "also\n"
     ]
    }
   ],
   "source": [
    "#45. Find all unique words in a string.\n",
    "import re\n",
    " \n",
    "dict = {} \n",
    " \n",
    "\n",
    "def uniqueWord(Word): \n",
    " \n",
    "    if Word in dict: \n",
    " \n",
    "    \n",
    "        dict[words] += 1\n",
    " \n",
    "    else: \n",
    " \n",
    "    \n",
    "        dict.update({words: 1}) \n",
    " \n",
    "# Driver code\n",
    "if __name__ == '__main__': \n",
    "     \n",
    "    string = \"Java is great. Grails is also great\"\n",
    "     \n",
    "    ListOfWords = re.split(\"[\\W]+\", string)\n",
    "  \n",
    "    for words in ListOfWords: \n",
    "        uniqueWord(words) \n",
    " \n",
    "    for elements in dict: \n",
    "        if dict[elements] == 1: \n",
    "            print(elements)"
   ]
  },
  {
   "cell_type": "code",
   "execution_count": 18,
   "id": "21d32833-ef68-4d95-a9e7-cecb932f8dc8",
   "metadata": {},
   "outputs": [
    {
     "name": "stdout",
     "output_type": "stream",
     "text": [
      "In \"coding\" I count 2 syllables\n"
     ]
    }
   ],
   "source": [
    "#46. Count the number of syllables in a string.\n",
    "def count_syllables(word):\n",
    "    word = word.lower()\n",
    "    counter = 0\n",
    "    is_previous_vowel = False\n",
    "    for index, value in enumerate(word):\n",
    "        if value in [\"a\", \"e\", \"i\", \"o\", \"u\", \"y\"]:\n",
    "            if index == len(word) - 1:\n",
    "                if value == \"e\":\n",
    "                    if counter == 0:\n",
    "                        counter += 1\n",
    "                else:\n",
    "                    counter += 1\n",
    "            else:\n",
    "                if is_previous_vowel == True:\n",
    "                    counter += 1\n",
    "                    is_previous_vowel = False\n",
    "                    break\n",
    "            is_previous_vowel = True\n",
    "        else:\n",
    "            if is_previous_vowel == True:\n",
    "                counter += 1\n",
    "            is_previous_vowel = False\n",
    "    print (\"In \\\"{}\\\" I count {} syllables\".format(word, counter))\n",
    "\n",
    "count_syllables(\"coding\")"
   ]
  },
  {
   "cell_type": "code",
   "execution_count": 19,
   "id": "e871aa53-7c62-49fe-a44f-3a653873cf71",
   "metadata": {},
   "outputs": [
    {
     "name": "stdout",
     "output_type": "stream",
     "text": [
      "String is not accepted.\n"
     ]
    }
   ],
   "source": [
    "#47. Check if a string contains any special characters.\n",
    "import re\n",
    " \n",
    "# Function checks if the string\n",
    "# contains any special character\n",
    "def run(string):\n",
    " \n",
    "    # Make own character set and pass \n",
    "    # this as argument in compile method\n",
    "    regex = re.compile('[@_!#$%^&*()<>?/\\|}{~:]')\n",
    "     \n",
    "    # Pass the string in search \n",
    "    # method of regex object.    \n",
    "    if(regex.search(string) == None):\n",
    "        print(\"String is accepted\")\n",
    "         \n",
    "    else:\n",
    "        print(\"String is not accepted.\")\n",
    "     \n",
    " \n",
    "# Driver Code\n",
    "if __name__ == '__main__' :\n",
    "     \n",
    "    # Enter the string\n",
    "    string = \"Geeks$For$Geeks\"\n",
    "     \n",
    "    # calling run function \n",
    "    run(string)"
   ]
  },
  {
   "cell_type": "code",
   "execution_count": 20,
   "id": "e911663b-330f-4d41-94e7-57415cd85106",
   "metadata": {},
   "outputs": [
    {
     "name": "stdout",
     "output_type": "stream",
     "text": [
      "Updated list is:  ['geeks', 'for']\n"
     ]
    },
    {
     "data": {
      "text/plain": [
       "['geeks', 'for']"
      ]
     },
     "execution_count": 20,
     "metadata": {},
     "output_type": "execute_result"
    }
   ],
   "source": [
    "#48. Remove the nth word from a string.\n",
    "\n",
    "def RemoveIthWord(lst, word, N):\n",
    "    newList = []\n",
    "    count = 0\n",
    " \n",
    "    # iterate the elements\n",
    "    for i in lst:\n",
    "        if(i == word):\n",
    "            count = count + 1\n",
    "            if(count != N):\n",
    "                newList.append(i)\n",
    "        else:\n",
    "            newList.append(i)\n",
    " \n",
    "    lst = newList\n",
    " \n",
    "    if count == 0:\n",
    "        print(\"Item not found\")\n",
    "    else:\n",
    "        print(\"Updated list is: \", lst)\n",
    " \n",
    "    return newList\n",
    " \n",
    " \n",
    "# Driver code\n",
    "list = [\"geeks\", \"for\", \"geeks\"]\n",
    "word = \"geeks\"\n",
    "N = 2\n",
    " \n",
    "RemoveIthWord(list, word, N)"
   ]
  },
  {
   "cell_type": "code",
   "execution_count": 3,
   "id": "36df1344-84e9-4b1f-bde4-20d82a2d2b19",
   "metadata": {},
   "outputs": [
    {
     "name": "stdout",
     "output_type": "stream",
     "text": [
      "The original string : jyotigirl\n",
      "The add string : is good \n",
      "The string after performing addition : jyotiis good girl\n"
     ]
    }
   ],
   "source": [
    "#49. Insert a word at the nth position in a string.\n",
    "test_string = 'jyotigirl'\n",
    " \n",
    "add_string = \"is good \"\n",
    "\n",
    "print(\"The original string : \" + test_string)\n",
    "\n",
    "print(\"The add string : \" + add_string)\n",
    " \n",
    "N = 5\n",
    "res = test_string[ : N] + add_string + test_string[N : ]\n",
    "print(\"The string after performing addition : \" + str(res))\n"
   ]
  },
  {
   "cell_type": "code",
   "execution_count": 5,
   "id": "3b64e094-e4e4-4e4d-abbb-d338b3760158",
   "metadata": {},
   "outputs": [
    {
     "name": "stdout",
     "output_type": "stream",
     "text": [
      "['Name', ' Age', ' Country']\n",
      "['John', ' 25', ' USA']\n",
      "['Alice', ' 30', ' Canada']\n",
      "['Bob', ' 22', ' UK']\n"
     ]
    }
   ],
   "source": [
    "#50. Convert a CSV string to a list of lists.\n",
    "\n",
    "def csv_string_to_list(csv_string):\n",
    "    # Split the CSV string into lines\n",
    "    lines = csv_string.split('\\n')\n",
    "\n",
    "    # Initialize an empty list to store the result\n",
    "    result = []\n",
    "\n",
    "    for line in lines:\n",
    "        # Split each line into fields using comma as the delimiter\n",
    "        fields = line.split(',')\n",
    "\n",
    "        # Append the fields to the result list as a row\n",
    "        result.append(fields)\n",
    "\n",
    "    return result\n",
    "\n",
    "# Example CSV string\n",
    "csv_data = \"Name, Age, Country\\nJohn, 25, USA\\nAlice, 30, Canada\\nBob, 22, UK\"\n",
    "\n",
    "# Convert CSV string to a list of lists\n",
    "list_of_lists = csv_string_to_list(csv_data)\n",
    "\n",
    "# Print the result\n",
    "for row in list_of_lists:\n",
    "    print(row)\n"
   ]
  },
  {
   "cell_type": "code",
   "execution_count": 7,
   "id": "9f2f3380-b4bc-4731-a192-96e5c46c1510",
   "metadata": {},
   "outputs": [
    {
     "name": "stdout",
     "output_type": "stream",
     "text": [
      "[1, 2, 3, 4, 5, 6, 7, 8, 9, 10]\n"
     ]
    }
   ],
   "source": [
    "#list based practice problem\n",
    "#1. Create a list with integers from 1 to 10.\n",
    "l=[]\n",
    "for i in range(1,11):\n",
    "    l.append(i)\n",
    "print(l)\n",
    "    "
   ]
  },
  {
   "cell_type": "code",
   "execution_count": 12,
   "id": "82afffe5-e67a-43b3-9f48-2a68b7407242",
   "metadata": {},
   "outputs": [
    {
     "name": "stdout",
     "output_type": "stream",
     "text": [
      "12\n"
     ]
    }
   ],
   "source": [
    "#2. Find the length of a list without using the `len()` function.\n",
    "l=[1,2,3,4,5,5,6,7,5,6,7,7]\n",
    "count=0\n",
    "for i in l:\n",
    "    count=count+1\n",
    "print(count)"
   ]
  },
  {
   "cell_type": "code",
   "execution_count": 13,
   "id": "bb8d3bea-a5b6-4217-8956-e79710411cba",
   "metadata": {},
   "outputs": [
    {
     "name": "stdout",
     "output_type": "stream",
     "text": [
      "[2, 4, 3, 5, 8]\n"
     ]
    }
   ],
   "source": [
    "#3. Append an element to the end of a list.\n",
    "l=[2,4,3,5]\n",
    "value=8\n",
    "l.append(value)\n",
    "print(l)"
   ]
  },
  {
   "cell_type": "code",
   "execution_count": 14,
   "id": "11feb16e-8fb8-4d63-bf6f-f98845f43777",
   "metadata": {},
   "outputs": [
    {
     "name": "stdout",
     "output_type": "stream",
     "text": [
      "[1, 3, 4, 10, 5]\n"
     ]
    }
   ],
   "source": [
    "#4. Insert an element at a specific index in a list.\n",
    "l=[1,3,4,5]\n",
    "l.insert(3,10)\n",
    "print(l)"
   ]
  },
  {
   "cell_type": "code",
   "execution_count": 16,
   "id": "1b42d009-2b71-4a7a-9e9a-e042a7eaf778",
   "metadata": {},
   "outputs": [
    {
     "name": "stdout",
     "output_type": "stream",
     "text": [
      "[1, 4, 5, 4]\n"
     ]
    }
   ],
   "source": [
    "#5. Remove an element from a list by its value.\n",
    "l=[1,3,4,5,4]\n",
    "l.remove(3)\n",
    "print(l)"
   ]
  },
  {
   "cell_type": "code",
   "execution_count": 17,
   "id": "85950f62-cc57-4ab7-a813-971778b537fe",
   "metadata": {},
   "outputs": [
    {
     "name": "stdout",
     "output_type": "stream",
     "text": [
      "[1, 2, 3, 3, 4, 5]\n"
     ]
    }
   ],
   "source": [
    "#6. Remove an element from a list by its index.\n",
    "l=[1,2,3,3,4,4,5]\n",
    "l.pop(4)\n",
    "print(l)\n"
   ]
  },
  {
   "cell_type": "code",
   "execution_count": 18,
   "id": "e780c0f1-d13d-4d37-ae62-8fb6ad5b604f",
   "metadata": {},
   "outputs": [
    {
     "name": "stdout",
     "output_type": "stream",
     "text": [
      "5 not exist\n"
     ]
    }
   ],
   "source": [
    "#7. Check if an element exists in a list.\n",
    "l=[1,3,4,2,1,3,4,2]\n",
    "element=5\n",
    "if element in l :\n",
    "    print(element,\"exist\")\n",
    "else:\n",
    "    print(element,\"not exist\")\n"
   ]
  },
  {
   "cell_type": "code",
   "execution_count": 19,
   "id": "b9cd178c-9a36-4a9d-9dcc-2334c10dea51",
   "metadata": {},
   "outputs": [
    {
     "name": "stdout",
     "output_type": "stream",
     "text": [
      "The index of 30 is 2\n"
     ]
    }
   ],
   "source": [
    "#8. Find the index of the first occurrence of an element in a list\n",
    "my_list = [10, 20, 30, 40, 50, 30]\n",
    "element_to_find = 30\n",
    "index = my_list.index(element_to_find)\n",
    "print(f\"The index of {element_to_find} is {index}\")"
   ]
  },
  {
   "cell_type": "code",
   "execution_count": 20,
   "id": "ec9bc8bb-2126-4908-b8c2-4fcbd3d9d117",
   "metadata": {},
   "outputs": [
    {
     "name": "stdout",
     "output_type": "stream",
     "text": [
      "The element 30 occurs 3 times in the list.\n"
     ]
    }
   ],
   "source": [
    "#9. Count the occurrences of an element in a list.\n",
    "my_list = [10, 20, 30, 40, 50, 30, 30]\n",
    "element_to_count = 30\n",
    "count = my_list.count(element_to_count)\n",
    "print(f\"The element {element_to_count} occurs {count} times in the list.\")"
   ]
  },
  {
   "cell_type": "code",
   "execution_count": 21,
   "id": "8f4ccb04-b06b-4492-8718-c84a056e94dd",
   "metadata": {},
   "outputs": [
    {
     "name": "stdout",
     "output_type": "stream",
     "text": [
      "Reversed list: [50, 40, 30, 20, 10]\n"
     ]
    }
   ],
   "source": [
    "#10. Reverse the order of elements in a list.\n",
    "my_list = [10, 20, 30, 40, 50]\n",
    "my_list.reverse()\n",
    "print(\"Reversed list:\", my_list)"
   ]
  },
  {
   "cell_type": "code",
   "execution_count": 26,
   "id": "6f4792ec-ecec-4feb-accb-ec42e9d5c683",
   "metadata": {},
   "outputs": [
    {
     "name": "stdout",
     "output_type": "stream",
     "text": [
      "[2, 2, 3, 4, 6, 8, 32, 34]\n"
     ]
    }
   ],
   "source": [
    "#11. Sort a list in ascending order\n",
    "l=[32,34,4,3,2,2,6,8]\n",
    "l.sort()\n",
    "print(l)"
   ]
  },
  {
   "cell_type": "code",
   "execution_count": 28,
   "id": "19e72a73-d2a2-4a0b-aa75-093927c01715",
   "metadata": {},
   "outputs": [
    {
     "name": "stdout",
     "output_type": "stream",
     "text": [
      "[34, 32, 8, 6, 4, 3, 2, 2]\n"
     ]
    }
   ],
   "source": [
    "#12. Sort a list in descending order.\n",
    "l=[32,34,4,3,2,2,6,8]\n",
    "l.sort()\n",
    "l.reverse()\n",
    "print(l)"
   ]
  },
  {
   "cell_type": "code",
   "execution_count": 29,
   "id": "2dba4d13-7f9a-4953-9c1c-8b55b7ab7c14",
   "metadata": {},
   "outputs": [
    {
     "name": "stdout",
     "output_type": "stream",
     "text": [
      "[2, 4, 6, 8, 10, 12, 14, 16, 18, 20]\n"
     ]
    }
   ],
   "source": [
    "#13. Create a list of even numbers from 1 to 20.\n",
    "l=[]\n",
    "for i in range(1,21):\n",
    "    if i%2==0:\n",
    "        l.append(i)\n",
    "print(l)\n",
    "        "
   ]
  },
  {
   "cell_type": "code",
   "execution_count": 30,
   "id": "df17691e-88de-47ff-9751-26a495920552",
   "metadata": {},
   "outputs": [
    {
     "name": "stdout",
     "output_type": "stream",
     "text": [
      "[1, 3, 5, 7, 9, 11, 13, 15, 17, 19]\n"
     ]
    }
   ],
   "source": [
    "#14. Create a list of odd numbers from 1 to 20.\n",
    "l=[]\n",
    "for i in range(1,21):\n",
    "    if i%2!=0:\n",
    "        l.append(i)\n",
    "print(l)"
   ]
  },
  {
   "cell_type": "code",
   "execution_count": 31,
   "id": "27681f17-60e8-4fb0-8d20-913d826c992a",
   "metadata": {},
   "outputs": [
    {
     "name": "stdout",
     "output_type": "stream",
     "text": [
      "926\n"
     ]
    }
   ],
   "source": [
    "#15. Find the sum of all elements in a list.\n",
    "l=[856,3,34,33]\n",
    "s=sum(l)\n",
    "print(s)"
   ]
  },
  {
   "cell_type": "code",
   "execution_count": 32,
   "id": "5ead4fcb-eb7c-4dbf-b705-0f9e10256b8f",
   "metadata": {},
   "outputs": [
    {
     "name": "stdout",
     "output_type": "stream",
     "text": [
      "66\n"
     ]
    }
   ],
   "source": [
    "#16. Find the maximum value in a list.\n",
    "l=[2,4,4,66,3,5,3]\n",
    "print(max(l))"
   ]
  },
  {
   "cell_type": "code",
   "execution_count": 33,
   "id": "09661c0d-044c-46b6-bc1b-c3f112c1933c",
   "metadata": {},
   "outputs": [
    {
     "name": "stdout",
     "output_type": "stream",
     "text": [
      "2\n"
     ]
    }
   ],
   "source": [
    "#17. Find the minimum value in a list.\n",
    "l=[2,4,4,66,3,5,3]\n",
    "print(min(l))"
   ]
  },
  {
   "cell_type": "code",
   "execution_count": 34,
   "id": "4421b157-2067-4ad2-b8f3-1c210c87dc5f",
   "metadata": {},
   "outputs": [
    {
     "name": "stdout",
     "output_type": "stream",
     "text": [
      "[1, 4, 9, 16, 25, 36, 49, 64, 81, 100]\n"
     ]
    }
   ],
   "source": [
    "#18. Create a list of squares of numbers from 1 to 10.\n",
    "l=[]\n",
    "for i in range(1,11):\n",
    "    l.append(i*i)\n",
    "print(l)"
   ]
  },
  {
   "cell_type": "code",
   "execution_count": 40,
   "id": "aea5765a-1425-4b8d-bee9-4b3afcb4c7bd",
   "metadata": {},
   "outputs": [
    {
     "name": "stdout",
     "output_type": "stream",
     "text": [
      "List of random integers: [77, 2, 69, 30, 58, 67, 26, 17, 21, 76]\n"
     ]
    }
   ],
   "source": [
    "## 19. Create a list of random numbers.\n",
    "import random\n",
    "\n",
    "# Create a list of random integers between 1 and 100\n",
    "random_integers = [random.randint(1, 100) for _ in range(10)]\n",
    "\n",
    "# Print the list of random integers\n",
    "print(\"List of random integers:\", random_integers)"
   ]
  },
  {
   "cell_type": "code",
   "execution_count": 45,
   "id": "0f50e2b0-5083-42e8-9d19-d6da99e8592d",
   "metadata": {},
   "outputs": [
    {
     "name": "stdout",
     "output_type": "stream",
     "text": [
      "List without duplicates: [40, 10, 50, 20, 30]\n"
     ]
    }
   ],
   "source": [
    "#20. Remove duplicates from a list.\n",
    "# Example list with duplicates\n",
    "my_list = [10, 20, 30, 20, 40, 10, 50, 30]\n",
    "\n",
    "# Remove duplicates by converting to a set and back to a list\n",
    "unique_list = list(set(my_list))\n",
    "\n",
    "# Print the list without duplicates\n",
    "print(\"List without duplicates:\", unique_list)\n"
   ]
  },
  {
   "cell_type": "code",
   "execution_count": 47,
   "id": "515ba5a4-ee98-4323-a3ff-ca8bf6d1cbf8",
   "metadata": {},
   "outputs": [
    {
     "name": "stdout",
     "output_type": "stream",
     "text": [
      "3 is commom element\n",
      "3 is commom element\n"
     ]
    }
   ],
   "source": [
    "#21. Find the common elements between two lists\n",
    "l1=[1,3,4,5,4,3,2,4]\n",
    "l2=[32,3,44,33,22,44]\n",
    "for i in l1:\n",
    "    for j in l2:\n",
    "        if i==j:\n",
    "            print(i,\"is commom element\")"
   ]
  },
  {
   "cell_type": "code",
   "execution_count": 48,
   "id": "60e5a114-f476-44e0-ac3f-fe8f081c0d02",
   "metadata": {},
   "outputs": [
    {
     "name": "stdout",
     "output_type": "stream",
     "text": [
      "Difference between lists: [20, 10]\n"
     ]
    }
   ],
   "source": [
    "#22. Find the difference between two lists.\n",
    "list1 = [10, 20, 30, 40, 50]\n",
    "list2 = [30, 40, 50, 60, 70]\n",
    "\n",
    "# Find the difference between lists using the difference() method\n",
    "difference = list(set(list1).difference(list2))\n",
    "\n",
    "# Print the difference\n",
    "print(\"Difference between lists:\", difference)"
   ]
  },
  {
   "cell_type": "code",
   "execution_count": 49,
   "id": "2e81f4a0-fdc2-44a5-8805-21a11fe0b495",
   "metadata": {},
   "outputs": [
    {
     "name": "stdout",
     "output_type": "stream",
     "text": [
      "Merged list: [10, 20, 30, 40, 50, 60]\n"
     ]
    }
   ],
   "source": [
    "#23. Merge two lists.\n",
    "list1 = [10, 20, 30]\n",
    "list2 = [40, 50, 60]\n",
    "\n",
    "# Merge lists using the + operator\n",
    "merged_list = list1 + list2\n",
    "\n",
    "# Print the merged list\n",
    "print(\"Merged list:\", merged_list)"
   ]
  },
  {
   "cell_type": "code",
   "execution_count": 50,
   "id": "cee96943-dcdb-4c3c-82cc-8be3eb0d51ac",
   "metadata": {},
   "outputs": [
    {
     "name": "stdout",
     "output_type": "stream",
     "text": [
      "Multiplied list: [20, 40, 60, 80, 100]\n"
     ]
    }
   ],
   "source": [
    "#24.Multiply all elements in a list by 2\n",
    "my_list = [10, 20, 30, 40, 50]\n",
    "\n",
    "# Multiply all elements by 2 using a list comprehension\n",
    "multiplied_list = [x * 2 for x in my_list]\n",
    "\n",
    "# Print the multiplied list\n",
    "print(\"Multiplied list:\", multiplied_list)"
   ]
  },
  {
   "cell_type": "code",
   "execution_count": 56,
   "id": "4a55f722-6b47-4852-b596-28d95507d16a",
   "metadata": {},
   "outputs": [
    {
     "name": "stdout",
     "output_type": "stream",
     "text": [
      "[2, 2, 2]\n"
     ]
    }
   ],
   "source": [
    "#25. Filter out all even numbers from a list.\n",
    "l=[2,3,2,3,2,3]\n",
    "for i in l:\n",
    "    if i%2==0:\n",
    "        k=True\n",
    "    else:\n",
    "        l.remove(i)\n",
    "print(l)\n"
   ]
  },
  {
   "cell_type": "code",
   "execution_count": 59,
   "id": "0fb37381-171c-45b5-a32e-52b563984a5b",
   "metadata": {},
   "outputs": [
    {
     "name": "stdout",
     "output_type": "stream",
     "text": [
      "List of integers: [10, 20, 30, 40, 50]\n"
     ]
    }
   ],
   "source": [
    "#26. Convert a list of strings to a list of integers.\n",
    "string_list = [\"10\", \"20\", \"30\", \"40\", \"50\"]\n",
    "\n",
    "# Convert list of strings to list of integers using a list comprehension\n",
    "integer_list = [int(x) for x in string_list]\n",
    "\n",
    "# Print the list of integers\n",
    "print(\"List of integers:\", integer_list)"
   ]
  },
  {
   "cell_type": "code",
   "execution_count": 60,
   "id": "5ae36089-c0bd-4d39-b75e-b729a49a3934",
   "metadata": {},
   "outputs": [
    {
     "name": "stdout",
     "output_type": "stream",
     "text": [
      "List of strings: ['10', '20', '30', '40', '50']\n"
     ]
    }
   ],
   "source": [
    "#27. Convert a list of integers to a list of strings.\n",
    "integer_list = [10, 20, 30, 40, 50]\n",
    "\n",
    "# Convert list of integers to list of strings using a list comprehension\n",
    "string_list = [str(x) for x in integer_list]\n",
    "\n",
    "# Print the list of strings\n",
    "print(\"List of strings:\", string_list)"
   ]
  },
  {
   "cell_type": "code",
   "execution_count": 61,
   "id": "2e9e4532-6857-465e-937f-5e481bddf1b6",
   "metadata": {},
   "outputs": [
    {
     "name": "stdout",
     "output_type": "stream",
     "text": [
      "Flattened list: [1, 2, 3, 4, 5, 6, 7, 8, 9]\n"
     ]
    }
   ],
   "source": [
    "#28. Flatten a nested list.\n",
    "nested_list = [[1, 2, 3], [4, 5], [6, 7, 8, 9]]\n",
    "\n",
    "# Function to flatten a nested list\n",
    "def flatten_list(nested):\n",
    "    flattened = []\n",
    "    for sublist in nested:\n",
    "        if isinstance(sublist, list):\n",
    "            flattened.extend(flatten_list(sublist))\n",
    "        else:\n",
    "            flattened.append(sublist)\n",
    "    return flattened\n",
    "\n",
    "# Flatten the nested list\n",
    "flattened_list = flatten_list(nested_list)\n",
    "\n",
    "# Print the flattened list\n",
    "print(\"Flattened list:\", flattened_list)"
   ]
  },
  {
   "cell_type": "code",
   "execution_count": 1,
   "id": "a8703cfc-87cc-4e4f-af08-bcc15a26dcdc",
   "metadata": {},
   "outputs": [
    {
     "name": "stdout",
     "output_type": "stream",
     "text": [
      "First 10 Fibonacci numbers: [0, 1]\n"
     ]
    }
   ],
   "source": [
    "#29. Create a list of the first 10 Fibonacci numbers.\n",
    "# Function to generate the first n Fibonacci numbers\n",
    "def generate_fibonacci(n):\n",
    "    fibonacci_list = [0, 1]  # Initialize the list with the first two Fibonacci numbers\n",
    "\n",
    "    for i in range(2, n):\n",
    "        next_fibonacci = fibonacci_list[i - 1] + fibonacci_list[i - 2]\n",
    "        fibonacci_list.append(next_fibonacci)\n",
    "\n",
    "    return fibonacci_list\n",
    "\n",
    "# Generate the first 10 Fibonacci numbers\n",
    "fibonacci_numbers = generate_fibonacci(2)\n",
    "\n",
    "# Print the list of Fibonacci numbers\n",
    "print(\"First 10 Fibonacci numbers:\", fibonacci_numbers)\n",
    "\n"
   ]
  },
  {
   "cell_type": "code",
   "execution_count": 2,
   "id": "7cb18650-d04e-40fd-8397-ba2d0abde59d",
   "metadata": {},
   "outputs": [
    {
     "name": "stdout",
     "output_type": "stream",
     "text": [
      "The list is sorted in ascending order.\n"
     ]
    }
   ],
   "source": [
    "#30 Check if a list is sorted.\n",
    "# Function to check if a list is sorted in ascending order\n",
    "def is_sorted_ascending(lst):\n",
    "    for i in range(1, len(lst)):\n",
    "        if lst[i] < lst[i - 1]:\n",
    "            return False\n",
    "    return True\n",
    "\n",
    "# Example list\n",
    "ascending_list = [10, 20, 30, 40, 50]\n",
    "\n",
    "# Check if the list is sorted in ascending order\n",
    "if is_sorted_ascending(ascending_list):\n",
    "    print(\"The list is sorted in ascending order.\")\n",
    "else:\n",
    "    print(\"The list is not sorted in ascending order.\")"
   ]
  },
  {
   "cell_type": "code",
   "execution_count": 3,
   "id": "6d718408-bc13-4361-8e97-2e18e4345f88",
   "metadata": {},
   "outputs": [
    {
     "name": "stdout",
     "output_type": "stream",
     "text": [
      "Rotated list: [3, 4, 5, 6, 1, 2]\n"
     ]
    }
   ],
   "source": [
    "#31. Rotate a list to the left by `n` positions.\n",
    "# Function to rotate a list to the left by n positions\n",
    "def rotate_left(lst, n):\n",
    "    n = n % len(lst)  # Normalize n to handle cases where n is larger than the list length\n",
    "    # print(n)\n",
    "    rotated = lst[n:] + lst[:n]\n",
    "    return rotated\n",
    "\n",
    "# Example list\n",
    "my_list = [1, 2, 3, 4, 5, 6]\n",
    "\n",
    "# Number of positions to rotate by\n",
    "n = 2\n",
    "\n",
    "# Rotate the list to the left by n positions\n",
    "rotated_list = rotate_left(my_list, n)\n",
    "\n",
    "# Print the rotated list\n",
    "print(\"Rotated list:\", rotated_list)"
   ]
  },
  {
   "cell_type": "code",
   "execution_count": 4,
   "id": "24854190-dd37-4ef2-9dec-ed4cc637d412",
   "metadata": {},
   "outputs": [
    {
     "name": "stdout",
     "output_type": "stream",
     "text": [
      "Rotated list: [5, 6, 1, 2, 3, 4]\n"
     ]
    }
   ],
   "source": [
    "#32. Rotate a list to the right by `n` positions.\n",
    "# Function to rotate a list to the right by n positions\n",
    "def rotate_right(lst, n):\n",
    "    n = n % len(lst)  # Normalize n to handle cases where n is larger than the list length\n",
    "    # print(n)\n",
    "    rotated = lst[-n:] + lst[:-n]\n",
    "    return rotated\n",
    "\n",
    "# Example list\n",
    "my_list = [1, 2, 3, 4, 5, 6]\n",
    "\n",
    "# Number of positions to rotate by\n",
    "n = 2\n",
    "\n",
    "# Rotate the list to the right by n positions\n",
    "rotated_list = rotate_right(my_list, n)\n",
    "\n",
    "# Print the rotated list\n",
    "print(\"Rotated list:\", rotated_list)"
   ]
  },
  {
   "cell_type": "code",
   "execution_count": 5,
   "id": "8d2c8ff2-7f98-4e53-b978-f529344f1ab7",
   "metadata": {},
   "outputs": [
    {
     "name": "stdout",
     "output_type": "stream",
     "text": [
      "5 25\n",
      "5 29\n",
      "List of prime numbers up to 50: [2, 3, 5, 7, 11, 13, 17, 19, 23, 29]\n"
     ]
    }
   ],
   "source": [
    "#33. Create a list of prime numbers up to 50.\n",
    "# Function to check if a number is prime\n",
    "def is_prime(num):\n",
    "    if num <= 1:\n",
    "        return False\n",
    "    if num <= 3:\n",
    "        return True\n",
    "    if num % 2 == 0 or num % 3 == 0:\n",
    "        return False\n",
    "    i = 5\n",
    "    while i * i <= num:\n",
    "      print(i,num)\n",
    "      if num % i == 0 or num % (i + 2) == 0:\n",
    "          return False\n",
    "      i += 6\n",
    "    return True\n",
    "\n",
    "# Create a list of prime numbers up to 50\n",
    "prime_numbers = [num for num in range(2,30) if is_prime(num)]\n",
    "\n",
    "# Print the list of prime numbers\n",
    "print(\"List of prime numbers up to 50:\", prime_numbers)"
   ]
  },
  {
   "cell_type": "code",
   "execution_count": 6,
   "id": "9985988c-14b4-4f85-a16b-e761a29414bf",
   "metadata": {},
   "outputs": [
    {
     "name": "stdout",
     "output_type": "stream",
     "text": [
      "List of prime numbers up to 50: [2, 3, 5, 7, 11, 13, 17, 19, 23, 29, 31, 37, 41, 43, 47]\n"
     ]
    }
   ],
   "source": [
    "#34. Split a list into chunks of size `n`.\n",
    "# Create a list of prime numbers up to 50 using Sieve of Eratosthenes algorithm\n",
    "def sieve_of_eratosthenes(limit):\n",
    "    primes = []\n",
    "    is_prime = [True] * (limit + 1)\n",
    "    is_prime[0] = is_prime[1] = False\n",
    "\n",
    "    for num in range(2, int(limit ** 0.5) + 1):\n",
    "        if is_prime[num]:\n",
    "            primes.append(num)\n",
    "            for multiple in range(num * num, limit + 1, num):\n",
    "                is_prime[multiple] = False\n",
    "\n",
    "    for num in range(int(limit ** 0.5) + 1, limit + 1):\n",
    "        if is_prime[num]:\n",
    "            primes.append(num)\n",
    "\n",
    "    return primes\n",
    "\n",
    "# Create a list of prime numbers up to 50\n",
    "prime_numbers = sieve_of_eratosthenes(50)\n",
    "\n",
    "# Print the list of prime numbers\n",
    "print(\"List of prime numbers up to 50:\", prime_numbers)"
   ]
  },
  {
   "cell_type": "code",
   "execution_count": 9,
   "id": "654cf131-38fe-4e45-9aae-a42b9418aba6",
   "metadata": {},
   "outputs": [
    {
     "name": "stdout",
     "output_type": "stream",
     "text": [
      "Second largest number: 25\n"
     ]
    }
   ],
   "source": [
    "#35. Find the second largest number in a list.\n",
    "# Example list\n",
    "my_list = [10, 5, 20, 15, 30, 25]\n",
    "\n",
    "# Remove duplicates and sort the list in ascending order\n",
    "sorted_list = sorted(set(my_list))\n",
    "\n",
    "# Find the second largest number\n",
    "if len(sorted_list) >= 2:\n",
    "    second_largest = sorted_list[-2]\n",
    "    print(\"Second largest number:\", second_largest)\n",
    "else:\n",
    "    print(\"The list does not contain enough elements.\")"
   ]
  },
  {
   "cell_type": "code",
   "execution_count": 8,
   "id": "83d24261-a375-4d21-92d6-1c583be06825",
   "metadata": {},
   "outputs": [
    {
     "name": "stdout",
     "output_type": "stream",
     "text": [
      "Squared list: [4, 16, 36, 64, 100]\n"
     ]
    }
   ],
   "source": [
    "#36. Replace every element in a list with its square.\n",
    "# Example list\n",
    "my_list = [2, 4, 6, 8, 10]\n",
    "\n",
    "# Replace every element with its square using a list comprehension\n",
    "squared_list = [x ** 2 for x in my_list]\n",
    "\n",
    "# Print the squared list\n",
    "print(\"Squared list:\", squared_list)"
   ]
  },
  {
   "cell_type": "code",
   "execution_count": 10,
   "id": "a5201231-462b-41b5-be19-df202122be8b",
   "metadata": {},
   "outputs": [
    {
     "name": "stdout",
     "output_type": "stream",
     "text": [
      "Converted dictionary: {'apple': 0, 'banana': 1, 'cherry': 2, 'date': 3, 'elderberry': 4}\n"
     ]
    }
   ],
   "source": [
    "#37. Convert a list to a dictionary where list elements become keys and their indices become values.\n",
    "# Example list\n",
    "my_list = ['apple', 'banana', 'cherry', 'date', 'elderberry']\n",
    "\n",
    "# Convert list to dictionary using dictionary comprehension\n",
    "my_dict = {element: index for index, element in enumerate(my_list)}\n",
    "\n",
    "# Print the resulting dictionary\n",
    "print(\"Converted dictionary:\", my_dict)"
   ]
  },
  {
   "cell_type": "code",
   "execution_count": 11,
   "id": "308ee1ee-67d5-47f7-ac97-076cf260c590",
   "metadata": {},
   "outputs": [
    {
     "name": "stdout",
     "output_type": "stream",
     "text": [
      "Shuffled list: [9, 1, 2, 7, 5, 8, 4, 6, 3, 10]\n"
     ]
    }
   ],
   "source": [
    "#38. Shuffle the elements of a list randomly.\n",
    "import random\n",
    "\n",
    "# Example list\n",
    "my_list = [1, 2, 3, 4, 5, 6, 7, 8, 9, 10]\n",
    "\n",
    "# Shuffle the list randomly\n",
    "random.shuffle(my_list)\n",
    "\n",
    "# Print the shuffled list\n",
    "print(\"Shuffled list:\", my_list)"
   ]
  },
  {
   "cell_type": "code",
   "execution_count": 12,
   "id": "bdc015d6-7c35-4ca5-af19-74ddc6ba9932",
   "metadata": {},
   "outputs": [
    {
     "name": "stdout",
     "output_type": "stream",
     "text": [
      "List of the first 10 factorial numbers: [1, 1, 2, 6, 24, 120, 720, 5040, 40320, 362880]\n"
     ]
    }
   ],
   "source": [
    "#39. Create a list of the first 10 factorial numbers.\n",
    "# Function to calculate factorial\n",
    "def factorial(n):\n",
    "    if n == 0 or n == 1:\n",
    "        return 1\n",
    "    else:\n",
    "        return n * factorial(n - 1)\n",
    "\n",
    "# Create a list of the first 10 factorial numbers\n",
    "factorial_numbers = [factorial(i) for i in range(10)]\n",
    "\n",
    "# Print the list of factorial numbers\n",
    "print(\"List of the first 10 factorial numbers:\", factorial_numbers)"
   ]
  },
  {
   "cell_type": "code",
   "execution_count": 13,
   "id": "17ba1527-4e53-49c6-8a9a-d49ef2364b9d",
   "metadata": {},
   "outputs": [
    {
     "name": "stdout",
     "output_type": "stream",
     "text": [
      "The lists have at least one common element.\n"
     ]
    }
   ],
   "source": [
    "#40. Check if two lists have at least one element in common.\n",
    "# Function to check if two lists have at least one element in common\n",
    "def has_common_element(list1, list2):\n",
    "    for item in list1:\n",
    "        if item in list2:\n",
    "            return True\n",
    "    return False\n",
    "\n",
    "# Example lists\n",
    "list1 = [1, 2, 3, 4, 5]\n",
    "list2 = [4, 5, 6, 7, 8]\n",
    "\n",
    "# Check if the two lists have at least one element in common\n",
    "if has_common_element(list1, list2):\n",
    "    print(\"The lists have at least one common element.\")\n",
    "else:\n",
    "    print(\"The lists do not have any common elements.\")"
   ]
  },
  {
   "cell_type": "code",
   "execution_count": 14,
   "id": "82f99d26-fe7f-4380-8da6-71246adbb214",
   "metadata": {},
   "outputs": [
    {
     "name": "stdout",
     "output_type": "stream",
     "text": [
      "Empty list: []\n"
     ]
    }
   ],
   "source": [
    "#41. Remove all elements from a list.\n",
    "# Example list\n",
    "my_list = [1, 2, 3, 4, 5]\n",
    "\n",
    "# Clear all elements from the list\n",
    "my_list.clear()\n",
    "\n",
    "# Print the empty list\n",
    "print(\"Empty list:\", my_list)"
   ]
  },
  {
   "cell_type": "code",
   "execution_count": 15,
   "id": "4cdfd9e3-8dff-45f5-81db-a242f87abbbb",
   "metadata": {},
   "outputs": [
    {
     "name": "stdout",
     "output_type": "stream",
     "text": [
      "List after replacing negative numbers with 0: [10, 0, 20, 0, 30, 0]\n"
     ]
    }
   ],
   "source": [
    "#42. Replace negative numbers in a list with 0.\n",
    "# Example list\n",
    "my_list = [10, -5, 20, -15, 30, -25]\n",
    "\n",
    "# Step 1: Iterate through the list and replace negative numbers with 0\n",
    "for i in range(len(my_list)):\n",
    "    if my_list[i] < 0:\n",
    "        my_list[i] = 0\n",
    "\n",
    "# Print the list after replacing negative numbers with 0\n",
    "print(\"List after replacing negative numbers with 0:\", my_list)\n"
   ]
  },
  {
   "cell_type": "code",
   "execution_count": 16,
   "id": "69091368-1016-4d2e-aba8-f81f53e5ccfe",
   "metadata": {},
   "outputs": [
    {
     "name": "stdout",
     "output_type": "stream",
     "text": [
      "List of words: ['Hello,', 'this', 'is', 'a', 'sample', 'sentence.']\n"
     ]
    }
   ],
   "source": [
    "#43. Convert a string into a list of words.\n",
    "# Example string\n",
    "my_string = \"Hello, this is a sample sentence.\"\n",
    "\n",
    "# Convert the string into a list of words\n",
    "word_list = my_string.split()\n",
    "\n",
    "# Print the list of words\n",
    "print(\"List of words:\", word_list)"
   ]
  },
  {
   "cell_type": "code",
   "execution_count": 17,
   "id": "f23f2812-01ce-4c13-b460-0f0891799fee",
   "metadata": {},
   "outputs": [
    {
     "name": "stdout",
     "output_type": "stream",
     "text": [
      "Converted string: Hello, this is a sample sentence.\n"
     ]
    }
   ],
   "source": [
    "#44. Convert a list of words into a string.\n",
    "# Example list of words\n",
    "word_list = [\"Hello,\", \"this\", \"is\", \"a\", \"sample\", \"sentence.\"]\n",
    "\n",
    "# Convert the list of words into a string\n",
    "my_string = \" \".join(word_list)\n",
    "\n",
    "# Print the resulting string\n",
    "print(\"Converted string:\", my_string)"
   ]
  },
  {
   "cell_type": "code",
   "execution_count": 18,
   "id": "add18e60-2d37-473f-9050-c8d1ab7832c6",
   "metadata": {},
   "outputs": [
    {
     "name": "stdout",
     "output_type": "stream",
     "text": [
      "List of the first 5 powers of 2: [1, 2, 4, 8, 16]\n"
     ]
    }
   ],
   "source": [
    "#45. Create a list of the first `n` powers of 2.\n",
    "# Specify the value of n\n",
    "n = 5\n",
    "\n",
    "# Create a list of the first n powers of 2 using a loop\n",
    "power_list = [2 ** i for i in range(n)]\n",
    "\n",
    "# Print the list of powers of 2\n",
    "print(\"List of the first\", n, \"powers of 2:\", power_list)"
   ]
  },
  {
   "cell_type": "code",
   "execution_count": 19,
   "id": "a6b9063b-9708-43bc-92fa-c3689a7b04bd",
   "metadata": {},
   "outputs": [
    {
     "name": "stdout",
     "output_type": "stream",
     "text": [
      "Longest string: elderberry\n"
     ]
    }
   ],
   "source": [
    "#46. Find the longest string in a list of strings.\n",
    "# Example list of strings\n",
    "string_list = [\"apple\", \"banana\", \"cherry\", \"date\", \"elderberry\"]\n",
    "\n",
    "# Find the longest string in the list\n",
    "longest_string = \"\"\n",
    "for s in string_list:\n",
    "    if len(s) > len(longest_string):\n",
    "        longest_string = s\n",
    "\n",
    "# Print the longest string\n",
    "print(\"Longest string:\", longest_string)"
   ]
  },
  {
   "cell_type": "code",
   "execution_count": 20,
   "id": "e27e0cdf-2d9d-45b1-8e1b-a95a1bc2ee51",
   "metadata": {},
   "outputs": [
    {
     "name": "stdout",
     "output_type": "stream",
     "text": [
      "Shortest string: date\n"
     ]
    }
   ],
   "source": [
    "#47. Find the shortest string in a list of strings.\n",
    "# Example list of strings\n",
    "string_list = [\"apple\", \"banana\", \"cherry\", \"date\", \"elderberry\"]\n",
    "\n",
    "# Find the shortest string in the list\n",
    "shortest_string = string_list[0]  # Initialize with the first string\n",
    "for s in string_list:\n",
    "    if len(s) < len(shortest_string):\n",
    "        shortest_string = s\n",
    "\n",
    "# Print the shortest string\n",
    "print(\"Shortest string:\", shortest_string)"
   ]
  },
  {
   "cell_type": "code",
   "execution_count": 21,
   "id": "31e9243a-26f0-491f-8cf9-775ae53fb8c8",
   "metadata": {},
   "outputs": [
    {
     "name": "stdout",
     "output_type": "stream",
     "text": [
      "List of the first 5 triangular numbers: [1, 3, 6, 10, 15]\n"
     ]
    }
   ],
   "source": [
    "#48. Create a list of the first `n` triangular numbers.\n",
    "# Function to calculate triangular numbers\n",
    "def triangular_numbers(n):\n",
    "    return [i * (i + 1) // 2 for i in range(1, n + 1)]\n",
    "\n",
    "# Specify the value of n\n",
    "n = 5\n",
    "\n",
    "# Create a list of the first n triangular numbers\n",
    "triangular_list = triangular_numbers(n)\n",
    "\n",
    "# Print the list of triangular numbers\n",
    "print(\"List of the first\", n, \"triangular numbers:\", triangular_list)"
   ]
  },
  {
   "cell_type": "code",
   "execution_count": 22,
   "id": "3934e93b-241b-4b63-a9ec-c385ba96421f",
   "metadata": {},
   "outputs": [
    {
     "name": "stdout",
     "output_type": "stream",
     "text": [
      "Main list contains the subsequence.\n"
     ]
    }
   ],
   "source": [
    "#49. Check if a list contains another list as a subsequence.\n",
    "# Function to check if a list contains another list as a subsequence\n",
    "def is_subsequence(subsequence, main_list):\n",
    "    subseq_index = 0  # Index for the subsequence elements\n",
    "    for element in main_list:\n",
    "        if element == subsequence[subseq_index]:\n",
    "            subseq_index += 1\n",
    "            if subseq_index == len(subsequence):\n",
    "                return True\n",
    "    return False\n",
    "\n",
    "# Example main list and subsequence\n",
    "main_list = [1, 2, 3, 4, 5, 6, 7, 8, 9, 10]\n",
    "subsequence = [3, 5, 8]\n",
    "\n",
    "# Check if the main list contains the subsequence\n",
    "if is_subsequence(subsequence, main_list):\n",
    "    print(\"Main list contains the subsequence.\")\n",
    "else:\n",
    "    print(\"Main list does not contain the subsequence.\")"
   ]
  },
  {
   "cell_type": "code",
   "execution_count": 23,
   "id": "8e315165-5f39-426c-8c61-d86de247b1a6",
   "metadata": {},
   "outputs": [
    {
     "name": "stdout",
     "output_type": "stream",
     "text": [
      "List after swapping elements: [1, 4, 3, 2, 5]\n"
     ]
    }
   ],
   "source": [
    "#50. Swap two elements in a list by their indices.\n",
    "# Example list\n",
    "my_list = [1, 2, 3, 4, 5]\n",
    "\n",
    "# Indices of elements to swap\n",
    "index1 = 1\n",
    "index2 = 3\n",
    "\n",
    "# Swap the elements at the specified indices\n",
    "temp = my_list[index1]\n",
    "my_list[index1] = my_list[index2]\n",
    "my_list[index2] = temp\n",
    "\n",
    "# Print the list after swapping\n",
    "print(\"List after swapping elements:\", my_list)"
   ]
  },
  {
   "cell_type": "code",
   "execution_count": 24,
   "id": "3ee35de1-107d-48b0-b6b1-56a5c8a4a038",
   "metadata": {},
   "outputs": [
    {
     "name": "stdout",
     "output_type": "stream",
     "text": [
      "The third element of the tuple is: 30\n"
     ]
    }
   ],
   "source": [
    "#Tuple Based Practice Problem :\n",
    "#1. Create a tuple with integers from 1 to 5.\n",
    "# Step 1: Create a tuple\n",
    "my_tuple = (10, 20, 30, 40, 50)\n",
    "\n",
    "# Step 2: Access the third element of the tuple\n",
    "third_element = my_tuple[2]\n",
    "\n",
    "# Explanation: In this line, we use indexing to access the third element of the tuple.\n",
    "# Since indexing is 0-based, the third element is at index 2.\n",
    "\n",
    "# Step 3: Print the third element\n",
    "print(\"The third element of the tuple is:\", third_element)"
   ]
  },
  {
   "cell_type": "code",
   "execution_count": 25,
   "id": "34c7778a-6f0f-4ae9-94f9-f18b66687171",
   "metadata": {},
   "outputs": [
    {
     "name": "stdout",
     "output_type": "stream",
     "text": [
      "The third element of the tuple is: 30\n"
     ]
    }
   ],
   "source": [
    "#2. Access the third element of a tuple.\n",
    "# Step 1: Create a tuple with some elements\n",
    "my_tuple = (10, 20, 30, 40, 50)\n",
    "\n",
    "# Step 2: Access the third element (index 2) of the tuple\n",
    "third_element = my_tuple[2]\n",
    "\n",
    "# Step 3: Print the third element\n",
    "print(\"The third element of the tuple is:\", third_element)"
   ]
  },
  {
   "cell_type": "code",
   "execution_count": 26,
   "id": "69baed5f-a269-4780-bf35-85845fd71a35",
   "metadata": {},
   "outputs": [
    {
     "name": "stdout",
     "output_type": "stream",
     "text": [
      "The length of the tuple is: 5\n"
     ]
    }
   ],
   "source": [
    "#3. Find the length of a tuple without using the `len()` function.\n",
    "# Step 1: Create a tuple\n",
    "my_tuple = (10, 20, 30, 40, 50)\n",
    "\n",
    "# Step 2: Initialize a variable to count the elements\n",
    "count = 0\n",
    "\n",
    "# Step 3: Iterate through the tuple and increment the count for each element\n",
    "for _ in my_tuple:\n",
    "    count += 1\n",
    "\n",
    "# Step 4: Print the length of the tuple\n",
    "print(\"The length of the tuple is:\", count)"
   ]
  },
  {
   "cell_type": "code",
   "execution_count": 27,
   "id": "109eec65-d44f-4092-96ff-3a8025dcf78e",
   "metadata": {},
   "outputs": [
    {
     "name": "stdout",
     "output_type": "stream",
     "text": [
      "The element 20 appears 3 times in the tuple.\n"
     ]
    }
   ],
   "source": [
    "#4. Count the occurrences of an element in a tuple.\n",
    "# Step 1: Create a tuple\n",
    "my_tuple = (10, 20, 30, 20, 40, 50, 20)\n",
    "\n",
    "# Step 2: Choose the element to count occurrences of\n",
    "element_to_count = 20\n",
    "\n",
    "# Step 3: Initialize a variable to keep track of the count\n",
    "count = 0\n",
    "\n",
    "# Step 4: Iterate through the tuple and count occurrences of the chosen element\n",
    "for item in my_tuple:\n",
    "    if item == element_to_count:\n",
    "        count += 1\n",
    "\n",
    "# Step 5: Print the count of occurrences\n",
    "print(f\"The element {element_to_count} appears {count} times in the tuple.\")"
   ]
  },
  {
   "cell_type": "code",
   "execution_count": 28,
   "id": "db3b3699-ebc8-47db-a74f-001431c72751",
   "metadata": {},
   "outputs": [
    {
     "name": "stdout",
     "output_type": "stream",
     "text": [
      "The first occurrence of 20 is at index 1.\n"
     ]
    }
   ],
   "source": [
    "#5. Find the index of the first occurrence of an element in a tuple.\n",
    "# Step 1: Create a tuple\n",
    "my_tuple = (10, 20, 30, 20, 40, 50)\n",
    "\n",
    "# Step 2: Choose the element to find the index of\n",
    "element_to_find = 20\n",
    "\n",
    "# Step 3: Initialize a variable to keep track of the index\n",
    "index = -1  # Initialize with -1 to indicate that the element was not found\n",
    "\n",
    "# Step 4: Iterate through the tuple and find the index of the chosen element\n",
    "for i, item in enumerate(my_tuple):\n",
    "    if item == element_to_find:\n",
    "        index = i\n",
    "        break  # Exit the loop once the first occurrence is found\n",
    "\n",
    "# Step 5: Print the index of the first occurrence\n",
    "if index != -1:\n",
    "    print(f\"The first occurrence of {element_to_find} is at index {index}.\")\n",
    "else:\n",
    "    print(f\"{element_to_find} is not found in the tuple.\")"
   ]
  },
  {
   "cell_type": "code",
   "execution_count": 29,
   "id": "d1c47113-75cf-425d-ba1f-936600632652",
   "metadata": {},
   "outputs": [
    {
     "name": "stdout",
     "output_type": "stream",
     "text": [
      "30 exists in the tuple.\n"
     ]
    }
   ],
   "source": [
    "#6. Check if an element exists in a tuple.\n",
    "# Step 1: Create a tuple\n",
    "my_tuple = (10, 20, 30, 40, 50)\n",
    "\n",
    "# Step 2: Choose the element to check for existence\n",
    "element_to_check = 30\n",
    "\n",
    "# Step 3: Check if the element exists in the tuple using the 'in' operator\n",
    "if element_to_check in my_tuple:\n",
    "    print(f\"{element_to_check} exists in the tuple.\")\n",
    "else:\n",
    "    print(f\"{element_to_check} does not exist in the tuple.\")"
   ]
  },
  {
   "cell_type": "code",
   "execution_count": 35,
   "id": "8a0f8195-8403-47fa-838f-ff2a97ec0002",
   "metadata": {},
   "outputs": [
    {
     "name": "stdout",
     "output_type": "stream",
     "text": [
      "Tuple: (10, 20, 30, 40, 50)\n",
      "List: [10, 20, 30, 40, 50]\n"
     ]
    }
   ],
   "source": [
    "#7. Convert a tuple to a list.\n",
    "# Step 1: Create a tuple\n",
    "my_tuple = (10, 20, 30, 40, 50)\n",
    "\n",
    "# Step 2: Convert the tuple to a list\n",
    "my_list = list(my_tuple)\n",
    "\n",
    "# Step 3: Print the resulting list\n",
    "print(\"Tuple:\", my_tuple)\n",
    "print(\"List:\", my_list)\n",
    "\n",
    "\n",
    "\n",
    "\n",
    "\n"
   ]
  },
  {
   "cell_type": "code",
   "execution_count": 38,
   "id": "d18bc8df-c988-473c-a31d-da6e5fd3e446",
   "metadata": {},
   "outputs": [
    {
     "name": "stdout",
     "output_type": "stream",
     "text": [
      "List: [10, 20, 30, 40, 50]\n",
      "Tuple: (10, 20, 30, 40, 50)\n"
     ]
    }
   ],
   "source": [
    "#8. Convert a list to a tuple.\n",
    "# Step 1: Create a list\n",
    "my_list = [10, 20, 30, 40, 50]\n",
    "\n",
    "# Step 2: Convert the list to a tuple\n",
    "my_tuple = tuple(my_list)\n",
    "\n",
    "# Step 3: Print the resulting tuple\n",
    "print(\"List:\", my_list)\n",
    "print(\"Tuple:\", my_tuple)"
   ]
  },
  {
   "cell_type": "code",
   "execution_count": 37,
   "id": "6b1b7554-457a-4ac0-9a88-68317dce8292",
   "metadata": {},
   "outputs": [
    {
     "name": "stdout",
     "output_type": "stream",
     "text": [
      "var1: 10\n",
      "var2: 20\n",
      "var3: 30\n"
     ]
    }
   ],
   "source": [
    "#9. Unpack the elements of a tuple into variables\n",
    "# Step 1: Create a tuple\n",
    "my_tuple = (10, 20, 30)\n",
    "\n",
    "# Step 2: Unpack the elements of the tuple into variables\n",
    "var1, var2, var3 = my_tuple\n",
    "\n",
    "# Step 3: Print the variables\n",
    "print(\"var1:\", var1)\n",
    "print(\"var2:\", var2)\n",
    "print(\"var3:\", var3)"
   ]
  },
  {
   "cell_type": "code",
   "execution_count": 39,
   "id": "758b9993-b310-4291-add4-bfe9c2e15798",
   "metadata": {},
   "outputs": [
    {
     "name": "stdout",
     "output_type": "stream",
     "text": [
      "Tuple of even numbers: (2, 4, 6, 8, 10)\n"
     ]
    }
   ],
   "source": [
    "#10. Create a tuple of even numbers from 1 to 10.\n",
    "# Step 1: Create a list of even numbers using a list comprehension\n",
    "even_numbers_list = [num for num in range(2, 11, 2)]  # Start from 2, step by 2, end at 10\n",
    "\n",
    "# Step 2: Convert the list to a tuple\n",
    "even_numbers_tuple = tuple(even_numbers_list)\n",
    "\n",
    "# Step 3: Print the resulting tuple\n",
    "print(\"Tuple of even numbers:\", even_numbers_tuple)"
   ]
  },
  {
   "cell_type": "code",
   "execution_count": 40,
   "id": "67b5fb45-a585-4077-b6c6-18b7a17b8b07",
   "metadata": {},
   "outputs": [
    {
     "name": "stdout",
     "output_type": "stream",
     "text": [
      "Tuple of even numbers: (2, 4, 6, 8, 10)\n"
     ]
    }
   ],
   "source": [
    "#11. Create a tuple of odd numbers from 1 to 10.\n",
    "# Step 1: Create a list of even numbers using a list comprehension\n",
    "even_numbers_list = [num for num in range(2, 11, 2)]  # Start from 2, step by 2, end at 10\n",
    "\n",
    "# Step 2: Convert the list to a tuple\n",
    "even_numbers_tuple = tuple(even_numbers_list)\n",
    "\n",
    "# Step 3: Print the resulting tuple\n",
    "print(\"Tuple of even numbers:\", even_numbers_tuple)"
   ]
  },
  {
   "cell_type": "code",
   "execution_count": 41,
   "id": "9f6d4cc7-b428-4e55-9368-2489ffe0eb0d",
   "metadata": {},
   "outputs": [
    {
     "name": "stdout",
     "output_type": "stream",
     "text": [
      "Concatenated tuple: (1, 2, 3, 4, 5, 6)\n"
     ]
    }
   ],
   "source": [
    "#12. Concatenate two tuples.\n",
    "# Step 1: Create two tuples\n",
    "tuple1 = (1, 2, 3)\n",
    "tuple2 = (4, 5, 6)\n",
    "\n",
    "# Step 2: Concatenate the two tuples\n",
    "concatenated_tuple = tuple1 + tuple2\n",
    "\n",
    "# Step 3: Print the concatenated tuple\n",
    "print(\"Concatenated tuple:\", concatenated_tuple)"
   ]
  },
  {
   "cell_type": "code",
   "execution_count": 42,
   "id": "169c279b-70fb-4f62-96ff-daca8f5d8c5a",
   "metadata": {},
   "outputs": [
    {
     "name": "stdout",
     "output_type": "stream",
     "text": [
      "Repeated tuple: (1, 2, 3, 1, 2, 3, 1, 2, 3)\n"
     ]
    }
   ],
   "source": [
    "#13. Repeat a tuple three times.\n",
    "# Step 1: Create a tuple\n",
    "original_tuple = (1, 2, 3)\n",
    "\n",
    "# Step 2: Repeat the tuple three times\n",
    "repeated_tuple = original_tuple * 3\n",
    "\n",
    "# Step 3: Print the repeated tuple\n",
    "print(\"Repeated tuple:\", repeated_tuple)"
   ]
  },
  {
   "cell_type": "code",
   "execution_count": 43,
   "id": "67727ac1-91e9-45aa-ad24-b392d4f52670",
   "metadata": {},
   "outputs": [
    {
     "name": "stdout",
     "output_type": "stream",
     "text": [
      "The empty_tuple is empty.\n",
      "The non_empty_tuple is not empty.\n"
     ]
    }
   ],
   "source": [
    "#14. Check if a tuple is empty.\n",
    "# Step 1: Create an empty tuple and a non-empty tuple\n",
    "empty_tuple = ()\n",
    "non_empty_tuple = (1, 2, 3)\n",
    "\n",
    "# Step 2: Check if the tuples are empty\n",
    "if not empty_tuple:\n",
    "    print(\"The empty_tuple is empty.\")\n",
    "else:\n",
    "    print(\"The empty_tuple is not empty.\")\n",
    "\n",
    "if not non_empty_tuple:\n",
    "    print(\"The non_empty_tuple is empty.\")\n",
    "else:\n",
    "    print(\"The non_empty_tuple is not empty.\")"
   ]
  },
  {
   "cell_type": "code",
   "execution_count": 44,
   "id": "086b2aed-cff0-4025-b2d3-6b5244685407",
   "metadata": {},
   "outputs": [
    {
     "name": "stdout",
     "output_type": "stream",
     "text": [
      "Nested tuple: ((1, 2, 3), ('a', 'b', 'c'), (True, False))\n"
     ]
    }
   ],
   "source": [
    "#15. Create a nested tuple\n",
    "nested_tuple = ((1, 2, 3), ('a', 'b', 'c'), (True, False))\n",
    "\n",
    "# Step 2: Print the nested tuple\n",
    "print(\"Nested tuple:\", nested_tuple)"
   ]
  },
  {
   "cell_type": "code",
   "execution_count": 45,
   "id": "16b9e545-3733-4cda-aec6-0e1bbe74d029",
   "metadata": {},
   "outputs": [
    {
     "name": "stdout",
     "output_type": "stream",
     "text": [
      "First element of the nested tuple: (1, 2, 3)\n"
     ]
    }
   ],
   "source": [
    "#16. Access the first element of a nested tuple.\n",
    "# Step 1: Create a nested tuple\n",
    "nested_tuple = ((1, 2, 3), ('a', 'b', 'c'), (True, False))\n",
    "\n",
    "# Step 2: Access the first element of the nested tuple\n",
    "first_element = nested_tuple[0]\n",
    "\n",
    "# Step 3: Print the first element\n",
    "print(\"First element of the nested tuple:\", first_element)"
   ]
  },
  {
   "cell_type": "code",
   "execution_count": 46,
   "id": "9aef32b4-3989-4487-95e9-7c1c6798731e",
   "metadata": {},
   "outputs": [
    {
     "name": "stdout",
     "output_type": "stream",
     "text": [
      "Single element tuple: (42,)\n"
     ]
    }
   ],
   "source": [
    "#17. Create a tuple with a single element.\n",
    "# Step 1: Create a tuple with a single element\n",
    "single_element_tuple = (42,)  # Note the trailing comma\n",
    "\n",
    "# Step 2: Print the single element tuple\n",
    "print(\"Single element tuple:\", single_element_tuple)"
   ]
  },
  {
   "cell_type": "code",
   "execution_count": 47,
   "id": "a344ee38-e6f8-4c6a-9629-b46d3c99c968",
   "metadata": {},
   "outputs": [
    {
     "name": "stdout",
     "output_type": "stream",
     "text": [
      "tuple1 == tuple2: False\n",
      "tuple1 != tuple2: True\n",
      "tuple1 < tuple2: True\n",
      "tuple1 <= tuple2: True\n",
      "tuple1 > tuple2: False\n",
      "tuple1 >= tuple2: False\n"
     ]
    }
   ],
   "source": [
    "#18. Compare two tuples.\n",
    "# Step 1: Create two tuples\n",
    "tuple1 = (1, 2, 3)\n",
    "tuple2 = (1, 2, 4)\n",
    "\n",
    "# Step 2: Compare the two tuples using comparison operators\n",
    "print(\"tuple1 == tuple2:\", tuple1 == tuple2)  # Equality check\n",
    "print(\"tuple1 != tuple2:\", tuple1 != tuple2)  # Inequality check\n",
    "print(\"tuple1 < tuple2:\", tuple1 < tuple2)    # Less than check\n",
    "print(\"tuple1 <= tuple2:\", tuple1 <= tuple2)  # Less than or equal to check\n",
    "print(\"tuple1 > tuple2:\", tuple1 > tuple2)    # Greater than check\n",
    "print(\"tuple1 >= tuple2:\", tuple1 >= tuple2)  # Greater than or equal to check"
   ]
  },
  {
   "cell_type": "code",
   "execution_count": 48,
   "id": "74e3d1f3-a935-47b4-be37-dc03376cf938",
   "metadata": {},
   "outputs": [
    {
     "ename": "NameError",
     "evalue": "name 'my_tuple' is not defined",
     "output_type": "error",
     "traceback": [
      "\u001b[0;31m---------------------------------------------------------------------------\u001b[0m",
      "\u001b[0;31mNameError\u001b[0m                                 Traceback (most recent call last)",
      "Cell \u001b[0;32mIn[48], line 9\u001b[0m\n\u001b[1;32m      6\u001b[0m \u001b[38;5;28;01mdel\u001b[39;00m my_tuple\n\u001b[1;32m      8\u001b[0m \u001b[38;5;66;03m# Step 3: Try to access the tuple (will raise a NameError)\u001b[39;00m\n\u001b[0;32m----> 9\u001b[0m \u001b[38;5;28mprint\u001b[39m(\u001b[43mmy_tuple\u001b[49m)\n",
      "\u001b[0;31mNameError\u001b[0m: name 'my_tuple' is not defined"
     ]
    }
   ],
   "source": [
    "#19. Delete a tuple.\n",
    "# Step 1: Create a tuple\n",
    "my_tuple = (1, 2, 3, 4, 5)\n",
    "\n",
    "# Step 2: Delete the tuple using the 'del' statement\n",
    "del my_tuple\n",
    "\n",
    "# Step 3: Try to access the tuple (will raise a NameError)\n",
    "print(my_tuple)"
   ]
  },
  {
   "cell_type": "code",
   "execution_count": 49,
   "id": "485a4bcb-9e3f-4803-9d90-297a7126a0e0",
   "metadata": {},
   "outputs": [
    {
     "name": "stdout",
     "output_type": "stream",
     "text": [
      "Sliced tuple: (3, 4, 5, 6)\n"
     ]
    }
   ],
   "source": [
    "#20. Slice a tuple.\n",
    "# Step 1: Create a tuple\n",
    "my_tuple = (1, 2, 3, 4, 5, 6, 7, 8, 9, 10)\n",
    "\n",
    "# Step 2: Slice the tuple to get a portion of it\n",
    "sliced_tuple = my_tuple[2:6]  # Elements from index 2 to 5 (end index is exclusive)\n",
    "\n",
    "# Step 3: Print the sliced tuple\n",
    "print(\"Sliced tuple:\", sliced_tuple)"
   ]
  },
  {
   "cell_type": "code",
   "execution_count": 50,
   "id": "b8f86796-b4c8-46a8-9079-8af5560f9d08",
   "metadata": {},
   "outputs": [
    {
     "name": "stdout",
     "output_type": "stream",
     "text": [
      "Maximum value: 45\n"
     ]
    }
   ],
   "source": [
    "#21. Find the maximum value in a tuple.\n",
    "# Step 1: Create a tuple\n",
    "my_tuple = (10, 20, 5, 45, 30)\n",
    "\n",
    "# Step 2: Find the maximum value in the tuple using the 'max()' function\n",
    "max_value = max(my_tuple)\n",
    "\n",
    "# Step 3: Print the maximum value\n",
    "print(\"Maximum value:\", max_value)\n",
    "\n",
    "\n"
   ]
  },
  {
   "cell_type": "code",
   "execution_count": null,
   "id": "c2492c48-df9d-469c-b6f0-29e720195873",
   "metadata": {},
   "outputs": [],
   "source": [
    "#22. Find the minimum value in a tuple.\n",
    "# Step 1: Create a tuple\n",
    "my_tuple = (10, 20, 5, 45, 30)\n",
    "\n",
    "# Step 2: Find the minimum value in the tuple using the 'min()' function\n",
    "min_value = min(my_tuple)\n",
    "\n",
    "# Step 3: Print the minimum value\n",
    "print(\"Minimum value:\", min_value)"
   ]
  },
  {
   "cell_type": "code",
   "execution_count": 51,
   "id": "5bce902d-422c-4dc0-9ae6-0a0a3a9d58c5",
   "metadata": {},
   "outputs": [
    {
     "name": "stdout",
     "output_type": "stream",
     "text": [
      "Tuple of characters: ('H', 'e', 'l', 'l', 'o', ',', ' ', 'W', 'o', 'r', 'l', 'd', '!')\n"
     ]
    }
   ],
   "source": [
    "#23. Convert a string to a tuple of characters.\n",
    "# Step 1: Create a string\n",
    "my_string = \"Hello, World!\"\n",
    "\n",
    "# Step 2: Convert the string to a tuple of characters\n",
    "tuple_of_characters = tuple(my_string)\n",
    "\n",
    "# Step 3: Print the tuple of characters\n",
    "print(\"Tuple of characters:\", tuple_of_characters)"
   ]
  },
  {
   "cell_type": "code",
   "execution_count": 52,
   "id": "f480316c-ac13-4a6c-9eb4-e028fcd2931d",
   "metadata": {},
   "outputs": [
    {
     "name": "stdout",
     "output_type": "stream",
     "text": [
      "String from tuple: Hello World!\n"
     ]
    }
   ],
   "source": [
    "#24. Convert a tuple of characters to a string.\n",
    "# Step 1: Create a tuple of characters\n",
    "tuple_of_characters = ('H', 'e', 'l', 'l', 'o', ' ', 'W', 'o', 'r', 'l', 'd', '!')\n",
    "\n",
    "# Step 2: Convert the tuple of characters to a string using the 'join()' method\n",
    "string_from_tuple = ''.join(tuple_of_characters)\n",
    "\n",
    "# Step 3: Print the resulting string\n",
    "print(\"String from tuple:\", string_from_tuple)"
   ]
  },
  {
   "cell_type": "code",
   "execution_count": 53,
   "id": "c8cd846e-b996-4e23-a79a-eea9cc1956cf",
   "metadata": {},
   "outputs": [
    {
     "name": "stdout",
     "output_type": "stream",
     "text": [
      "(1, 'hello', 3.14, True)\n"
     ]
    }
   ],
   "source": [
    "#25. Create a tuple from multiple data types.\n",
    "# Creating a tuple with elements of different data types\n",
    "mixed_tuple = (1, \"hello\", 3.14, True)\n",
    "\n",
    "# Printing the tuple\n",
    "print(mixed_tuple)"
   ]
  },
  {
   "cell_type": "code",
   "execution_count": null,
   "id": "b6f6e3a0-213d-48c9-850c-1dd284394853",
   "metadata": {},
   "outputs": [],
   "source": [
    "#26. Check if two tuples are identical.\n",
    "# Step 1: Create two tuples\n",
    "tuple1 = (1, 2, 3)\n",
    "tuple2 = (1, 2, 3)\n",
    "tuple3 = (4, 5, 6)\n",
    "\n",
    "# Step 2: Compare the tuples for identity using the equality operator\n",
    "are_identical1 = tuple1 == tuple2\n",
    "are_identical2 = tuple1 == tuple3\n",
    "\n",
    "# Step 3: Print the results\n",
    "print(\"tuple1 and tuple2 are identical:\", are_identical1)\n",
    "print(\"tuple1 and tuple3 are identical:\", are_identical2)"
   ]
  },
  {
   "cell_type": "code",
   "execution_count": 54,
   "id": "7564e248-08e7-45ba-95cb-faabf2944811",
   "metadata": {},
   "outputs": [
    {
     "name": "stdout",
     "output_type": "stream",
     "text": [
      "Sorted tuple: (1, 2, 3, 5, 8)\n"
     ]
    }
   ],
   "source": [
    "#27. Sort the elements of a tuple.\n",
    "# Step 1: Create a tuple\n",
    "my_tuple = (5, 2, 8, 1, 3)\n",
    "\n",
    "# Step 2: Convert the tuple to a list, sort the list, and convert it back to a tuple\n",
    "sorted_tuple = tuple(sorted(my_tuple))\n",
    "\n",
    "# Step 3: Print the sorted tuple\n",
    "print(\"Sorted tuple:\", sorted_tuple)\n"
   ]
  },
  {
   "cell_type": "code",
   "execution_count": 55,
   "id": "400b71e1-444b-4dde-af3c-f7bee2b06ae3",
   "metadata": {},
   "outputs": [
    {
     "name": "stdout",
     "output_type": "stream",
     "text": [
      "Tuple of strings: ('1', '2', '3', '4', '5')\n"
     ]
    }
   ],
   "source": [
    "#28. Convert a tuple of integers to a tuple of strings.\n",
    "# Step 1: Create a tuple of integers\n",
    "tuple_of_integers = (1, 2, 3, 4, 5)\n",
    "\n",
    "# Step 2: Convert the tuple of integers to a tuple of strings using a list comprehension\n",
    "tuple_of_strings = tuple(str(item) for item in tuple_of_integers)\n",
    "\n",
    "# Step 3: Print the tuple of strings\n",
    "print(\"Tuple of strings:\", tuple_of_strings)"
   ]
  },
  {
   "cell_type": "code",
   "execution_count": 56,
   "id": "bf23a1d8-fadb-42ea-bf7b-664fea3c816e",
   "metadata": {},
   "outputs": [
    {
     "name": "stdout",
     "output_type": "stream",
     "text": [
      "Tuple of integers: (10, 20, 30, 40, 50)\n"
     ]
    }
   ],
   "source": [
    "#29. Convert a tuple of strings to a tuple of integers.\n",
    "# Step 1: Create a tuple of strings\n",
    "tuple_of_strings = ('10', '20', '30', '40', '50')\n",
    "\n",
    "# Step 2: Convert the tuple of strings to a tuple of integers using a list comprehension\n",
    "tuple_of_integers = tuple(int(item) for item in tuple_of_strings)\n",
    "\n",
    "# Step 3: Print the tuple of integers\n",
    "print(\"Tuple of integers:\", tuple_of_integers)"
   ]
  },
  {
   "cell_type": "code",
   "execution_count": 57,
   "id": "a5dd6fb7-2dc1-443c-93a9-d8ed1fc19881",
   "metadata": {},
   "outputs": [
    {
     "name": "stdout",
     "output_type": "stream",
     "text": [
      "Merged tuple: (1, 2, 3, 4, 5, 6)\n"
     ]
    }
   ],
   "source": [
    "#30. Merge two tuples.\n",
    "tuple1 = (1, 2, 3)\n",
    "tuple2 = (4, 5, 6)\n",
    "\n",
    "# Step 2: Merge the two tuples using the '+' operator\n",
    "merged_tuple = tuple1 + tuple2\n",
    "\n",
    "# Step 3: Print the merged tuple\n",
    "print(\"Merged tuple:\", merged_tuple)"
   ]
  },
  {
   "cell_type": "code",
   "execution_count": 58,
   "id": "4fd6895c-df09-45b9-a3ae-02e1592c6d1f",
   "metadata": {},
   "outputs": [
    {
     "name": "stdout",
     "output_type": "stream",
     "text": [
      "Flattened tuple: (1, 2, 3, 4, 5, 6, 7, 8)\n"
     ]
    }
   ],
   "source": [
    "#31. Flatten a nested tuple.\n",
    "def flatten_tuple(nested_tuple):\n",
    "    flattened = []\n",
    "    for item in nested_tuple:\n",
    "        if isinstance(item, tuple):\n",
    "            flattened.extend(flatten_tuple(item))\n",
    "        else:\n",
    "            flattened.append(item)\n",
    "    return flattened\n",
    "\n",
    "# Step 1: Create a nested tuple\n",
    "nested_tuple = ((1, 2), (3, 4, 5), (6, (7, 8)))\n",
    "\n",
    "# Step 2: Flatten the nested tuple\n",
    "flattened_tuple = tuple(flatten_tuple(nested_tuple))\n",
    "\n",
    "# Step 3: Print the flattened tuple\n",
    "print(\"Flattened tuple:\", flattened_tuple)"
   ]
  },
  {
   "cell_type": "code",
   "execution_count": 60,
   "id": "723670d7-238a-4c80-8ce3-3eea2dba38f9",
   "metadata": {},
   "outputs": [
    {
     "name": "stdout",
     "output_type": "stream",
     "text": [
      "Tuple of the first 5 prime numbers: (2, 3, 5, 7, 11)\n"
     ]
    }
   ],
   "source": [
    "#32. Create a tuple of the first 5 prime numbers.\n",
    "# Function to check if a number is prime\n",
    "def is_prime(num):\n",
    "    if num <= 1:\n",
    "        return False\n",
    "    for i in range(2, int(num ** 0.5) + 1):\n",
    "        if num % i == 0:\n",
    "            return False\n",
    "    return True\n",
    "\n",
    "# Generate the first 5 prime numbers\n",
    "prime_numbers_list = [num for num in range(2, 100) if is_prime(num)][:5]\n",
    "\n",
    "# Convert the list to a tuple\n",
    "prime_numbers_tuple = tuple(prime_numbers_list)\n",
    "\n",
    "# Print the tuple of prime numbers\n",
    "print(\"Tuple of the first 5 prime numbers:\", prime_numbers_tuple)"
   ]
  },
  {
   "cell_type": "code",
   "execution_count": 59,
   "id": "12b898fc-c428-43ce-9e30-a8578ca56d23",
   "metadata": {},
   "outputs": [
    {
     "name": "stdout",
     "output_type": "stream",
     "text": [
      "palindrome_tuple is a palindrome: True\n",
      "non_palindrome_tuple is a palindrome: False\n"
     ]
    }
   ],
   "source": [
    "#33. Check if a tuple is a palindrome\n",
    "# Function to check if a tuple is a palindrome\n",
    "def is_palindrome(tup):\n",
    "    return tup == tup[::-1]\n",
    "\n",
    "# Create tuples for testing\n",
    "palindrome_tuple = (1, 2, 3, 2, 1)\n",
    "non_palindrome_tuple = (1, 2, 3, 4, 5)\n",
    "\n",
    "# Check if the tuples are palindromes\n",
    "is_palindrome1 = is_palindrome(palindrome_tuple)\n",
    "is_palindrome2 = is_palindrome(non_palindrome_tuple)\n",
    "\n",
    "# Print the results\n",
    "print(\"palindrome_tuple is a palindrome:\", is_palindrome1)\n",
    "print(\"non_palindrome_tuple is a palindrome:\", is_palindrome2)"
   ]
  },
  {
   "cell_type": "code",
   "execution_count": 61,
   "id": "c0469d75-3400-45d7-b7cd-7dea924808dd",
   "metadata": {},
   "outputs": [
    {
     "name": "stdout",
     "output_type": "stream",
     "text": [
      "Tuple of squares: (1, 4, 9, 16, 25)\n"
     ]
    }
   ],
   "source": [
    "#34. Create a tuple of squares of numbers from 1 to 5.\n",
    "squares_tuple = tuple(x ** 2 for x in range(1, 6))\n",
    "\n",
    "# Print the tuple of squares\n",
    "print(\"Tuple of squares:\", squares_tuple)"
   ]
  },
  {
   "cell_type": "code",
   "execution_count": 62,
   "id": "c2986c28-95f8-427e-b3ed-7d3cef1a2179",
   "metadata": {},
   "outputs": [
    {
     "name": "stdout",
     "output_type": "stream",
     "text": [
      "Filtered tuple: (1, 3, 5, 7, 9)\n"
     ]
    }
   ],
   "source": [
    "#35. Filter out all even numbers from a tuple.\n",
    "original_tuple = (1, 2, 3, 4, 5, 6, 7, 8, 9, 10)\n",
    "\n",
    "# Filter out even numbers using a list comprehension\n",
    "filtered_tuple = tuple(num for num in original_tuple if num % 2 != 0)\n",
    "\n",
    "# Print the filtered tuple\n",
    "print(\"Filtered tuple:\", filtered_tuple)"
   ]
  },
  {
   "cell_type": "code",
   "execution_count": 63,
   "id": "6049ced1-eeb5-4c88-a78c-47e494ed878a",
   "metadata": {},
   "outputs": [
    {
     "name": "stdout",
     "output_type": "stream",
     "text": [
      "Doubled tuple: (2, 4, 6, 8, 10)\n"
     ]
    }
   ],
   "source": [
    "#36. Multiply all elements in a tuple by 2.\n",
    "# Create a tuple\n",
    "original_tuple = (1, 2, 3, 4, 5)\n",
    "\n",
    "# Multiply all elements by 2 using a list comprehension and convert to a tuple\n",
    "doubled_tuple = tuple(num * 2 for num in original_tuple)\n",
    "\n",
    "# Print the doubled tuple\n",
    "print(\"Doubled tuple:\", doubled_tuple)"
   ]
  },
  {
   "cell_type": "code",
   "execution_count": 64,
   "id": "aeb821b6-0360-47cb-8580-7ac5aff45a8d",
   "metadata": {},
   "outputs": [
    {
     "name": "stdout",
     "output_type": "stream",
     "text": [
      "Random tuple: (49, 50, 47, 95, 74, 13, 32, 9, 46, 18)\n"
     ]
    }
   ],
   "source": [
    "#37. Create a tuple of random numbers.\n",
    "# Create a tuple of random numbers using a list comprehension\n",
    "random_tuple = tuple(random.randint(1, 100) for _ in range(10))  # Generating 10 random numbers between 1 and 100\n",
    "\n",
    "# Print the tuple of random numbers\n",
    "print(\"Random tuple:\", random_tuple)\n",
    "\n",
    "\n",
    "\n",
    "\n",
    "\n",
    "\n",
    "\n",
    "\n",
    "\n"
   ]
  },
  {
   "cell_type": "code",
   "execution_count": 65,
   "id": "16fcc7e4-1ca9-4473-bcaf-097f07d90151",
   "metadata": {},
   "outputs": [
    {
     "name": "stdout",
     "output_type": "stream",
     "text": [
      "sorted_tuple is sorted: True\n",
      "unsorted_tuple is sorted: False\n"
     ]
    }
   ],
   "source": [
    "#38. Check if a tuple is sorted.\n",
    "# Function to check if a tuple is sorted\n",
    "def is_sorted(tup):\n",
    "    for i in range(len(tup) - 1):\n",
    "        if tup[i] > tup[i + 1]:\n",
    "            return False\n",
    "    return True\n",
    "\n",
    "# Create tuples for testing\n",
    "sorted_tuple = (1, 2, 3, 4, 5)\n",
    "unsorted_tuple = (5, 3, 1, 4, 2)\n",
    "\n",
    "# Check if the tuples are sorted\n",
    "is_sorted1 = is_sorted(sorted_tuple)\n",
    "is_sorted2 = is_sorted(unsorted_tuple)\n",
    "\n",
    "# Print the results\n",
    "print(\"sorted_tuple is sorted:\", is_sorted1)\n",
    "print(\"unsorted_tuple is sorted:\", is_sorted2)"
   ]
  },
  {
   "cell_type": "code",
   "execution_count": 66,
   "id": "1a227775-1602-4181-adbc-9c816c7ff03d",
   "metadata": {},
   "outputs": [
    {
     "name": "stdout",
     "output_type": "stream",
     "text": [
      "(3, 4, 5, 1, 2)\n"
     ]
    }
   ],
   "source": [
    "#39. Rotate a tuple to the left by `n` positions.\n",
    "def rotate_tuple_left(tup, n):\n",
    "    n = n % len(tup)  # Ensure n is within the range of tuple length\n",
    "    rotated_tuple = tup[n:] + tup[:n]  # Rotate the tuple\n",
    "    return rotated_tuple\n",
    "\n",
    "# Example tuple\n",
    "my_tuple = (1, 2, 3, 4, 5)\n",
    "n_positions = 2\n",
    "result = rotate_tuple_left(my_tuple, n_positions)\n",
    "print(result)"
   ]
  },
  {
   "cell_type": "code",
   "execution_count": 67,
   "id": "39c7e60e-ec1d-4712-a4f0-7ddc673cce91",
   "metadata": {},
   "outputs": [
    {
     "name": "stdout",
     "output_type": "stream",
     "text": [
      "(4, 5, 1, 2, 3)\n"
     ]
    }
   ],
   "source": [
    "#40. Rotate a tuple to the right by `n` positions.\n",
    "def rotate_tuple_right(tup, n):\n",
    "    n = n % len(tup)  # Ensure n is within the range of tuple length\n",
    "    rotated_tuple = tup[-n:] + tup[:-n]  # Rotate the tuple\n",
    "    return rotated_tuple\n",
    "\n",
    "# Example tuple\n",
    "my_tuple = (1, 2, 3, 4, 5)\n",
    "n_positions = 2\n",
    "result = rotate_tuple_right(my_tuple, n_positions)\n",
    "print(result)"
   ]
  },
  {
   "cell_type": "code",
   "execution_count": 68,
   "id": "4d3e8889-a414-4a9f-9fa8-f81227458b17",
   "metadata": {},
   "outputs": [
    {
     "name": "stdout",
     "output_type": "stream",
     "text": [
      "(0, 1, 1, 2, 3)\n"
     ]
    }
   ],
   "source": [
    "#41. Create a tuple of the first 5 Fibonacci numbers.\n",
    "# Define a function to generate the first n Fibonacci numbers\n",
    "def generate_fibonacci(n):\n",
    "    fibonacci = [0, 1]  # Initialize the list with the first two Fibonacci numbers\n",
    "    while len(fibonacci) < n:  # Continue generating Fibonacci numbers until the list has n elements\n",
    "        next_number = fibonacci[-1] + fibonacci[-2]  # Calculate the next Fibonacci number\n",
    "        fibonacci.append(next_number)  # Add the next Fibonacci number to the list\n",
    "    return tuple(fibonacci)  # Convert the list to a tuple and return it\n",
    "\n",
    "# Call the generate_fibonacci function to create a tuple of the first 5 Fibonacci numbers\n",
    "fibonacci_tuple = generate_fibonacci(5)\n",
    "\n",
    "# Print the resulting tuple\n",
    "print(fibonacci_tuple)"
   ]
  },
  {
   "cell_type": "code",
   "execution_count": 69,
   "id": "405e4e18-9c4b-4517-9c94-8cc1f491afb1",
   "metadata": {},
   "outputs": [
    {
     "name": "stdin",
     "output_type": "stream",
     "text": [
      "Enter elements separated by commas:  fv\n"
     ]
    },
    {
     "name": "stdout",
     "output_type": "stream",
     "text": [
      "User input tuple: ('fv',)\n"
     ]
    }
   ],
   "source": [
    "#42. Create a tuple from user input.\n",
    "# Taking user input for creating a tuple\n",
    "input_str = input(\"Enter elements separated by commas: \")\n",
    "\n",
    "# Splitting the input string into a list of strings\n",
    "input_list = input_str.split(',')\n",
    "\n",
    "# Converting the list of strings to a tuple\n",
    "user_tuple = tuple(input_list)\n",
    "\n",
    "# Printing the created tuple\n",
    "print(\"User input tuple:\", user_tuple)"
   ]
  },
  {
   "cell_type": "code",
   "execution_count": 70,
   "id": "1e975fb6-2cf7-474d-9e5d-ebeb3de35c1c",
   "metadata": {},
   "outputs": [
    {
     "name": "stdout",
     "output_type": "stream",
     "text": [
      "Swapped tuple: (1, 4, 3, 2, 5)\n"
     ]
    }
   ],
   "source": [
    "#43. Swap two elements in a tuple.\n",
    "my_tuple = (1, 2, 3, 4, 5)\n",
    "\n",
    "# Swap elements at indices 1 and 3\n",
    "index1 = 1\n",
    "index2 = 3\n",
    "swapped_tuple = tuple(\n",
    "    my_tuple[i] if i not in (index1, index2) else\n",
    "    my_tuple[index2] if i == index1 else\n",
    "    my_tuple[index1]\n",
    "    for i in range(len(my_tuple))\n",
    ")\n",
    "\n",
    "# Print the swapped tuple\n",
    "print(\"Swapped tuple:\", swapped_tuple)"
   ]
  },
  {
   "cell_type": "code",
   "execution_count": 71,
   "id": "62863be2-56cd-49e0-88b8-402be2755db1",
   "metadata": {},
   "outputs": [
    {
     "name": "stdout",
     "output_type": "stream",
     "text": [
      "Reversed tuple: (5, 4, 3, 2, 1)\n"
     ]
    }
   ],
   "source": [
    "#44. Reverse the elements of a tuple.\n",
    "# Create a tuple\n",
    "my_tuple = (1, 2, 3, 4, 5)\n",
    "\n",
    "# Reverse the elements using slicing\n",
    "reversed_tuple = my_tuple[::-1]\n",
    "\n",
    "# Print the reversed tuple\n",
    "print(\"Reversed tuple:\", reversed_tuple)"
   ]
  },
  {
   "cell_type": "code",
   "execution_count": 72,
   "id": "902e9072-0d1f-44e4-aec6-900ef4b5711f",
   "metadata": {},
   "outputs": [
    {
     "name": "stdout",
     "output_type": "stream",
     "text": [
      "Tuple of the first 5 powers of 2: (1, 2, 4, 8, 16)\n"
     ]
    }
   ],
   "source": [
    "#45. Create a tuple of the first `n` powers of 2.\n",
    "# Define the value of n\n",
    "n = 5\n",
    "\n",
    "# Create a tuple of the first n powers of 2 using a list comprehension\n",
    "powers_of_2_tuple = tuple(2 ** i for i in range(n))\n",
    "\n",
    "# Print the tuple of powers of 2\n",
    "print(\"Tuple of the first\", n, \"powers of 2:\", powers_of_2_tuple)"
   ]
  },
  {
   "cell_type": "code",
   "execution_count": 73,
   "id": "84e547fd-b809-43df-9fb3-7e4aecca7e53",
   "metadata": {},
   "outputs": [
    {
     "name": "stdout",
     "output_type": "stream",
     "text": [
      "Longest string: watermelon\n"
     ]
    }
   ],
   "source": [
    "#46. Find the longest string in a tuple of strings.\n",
    "# Create a tuple of strings\n",
    "string_tuple = (\"apple\", \"banana\", \"grape\", \"kiwi\", \"watermelon\")\n",
    "\n",
    "# Find the longest string in the tuple\n",
    "longest_string = max(string_tuple, key=len)\n",
    "\n",
    "# Print the longest string\n",
    "print(\"Longest string:\", longest_string)"
   ]
  },
  {
   "cell_type": "code",
   "execution_count": 74,
   "id": "9b6cf358-e4cb-45f0-b295-3df274050ce8",
   "metadata": {},
   "outputs": [
    {
     "name": "stdout",
     "output_type": "stream",
     "text": [
      "Shortest string: kiwi\n"
     ]
    }
   ],
   "source": [
    "#47. Find the shortest string in a tuple of strings\n",
    "# Create a tuple of strings\n",
    "string_tuple = (\"apple\", \"banana\", \"grape\", \"kiwi\", \"watermelon\")\n",
    "\n",
    "# Find the shortest string in the tuple\n",
    "shortest_string = min(string_tuple, key=len)\n",
    "\n",
    "# Print the shortest string\n",
    "print(\"Shortest string:\", shortest_string)"
   ]
  },
  {
   "cell_type": "code",
   "execution_count": 75,
   "id": "6e996deb-00d5-4c12-aea0-2c19f111992e",
   "metadata": {},
   "outputs": [
    {
     "name": "stdout",
     "output_type": "stream",
     "text": [
      "Tuple of the first 5 triangular numbers: (1, 3, 6, 10, 15)\n"
     ]
    }
   ],
   "source": [
    "#48. Create a tuple of the first `n` triangular numbers.\n",
    "# Define the value of n\n",
    "n = 5\n",
    "\n",
    "# Create a tuple of the first n triangular numbers using a list comprehension\n",
    "triangular_numbers_tuple = tuple((i * (i + 1)) // 2 for i in range(1, n + 1))\n",
    "\n",
    "# Print the tuple of triangular numbers\n",
    "print(\"Tuple of the first\", n, \"triangular numbers:\", triangular_numbers_tuple)"
   ]
  },
  {
   "cell_type": "code",
   "execution_count": 76,
   "id": "be4a7f39-cca9-490b-b953-cd0240c59791",
   "metadata": {},
   "outputs": [
    {
     "name": "stdout",
     "output_type": "stream",
     "text": [
      "Main tuple contains subsequence tuple: True\n"
     ]
    }
   ],
   "source": [
    "#49. Check if a tuple contains another tuple as a subsequence.\n",
    "# Function to check if a tuple contains another tuple as a subsequence\n",
    "def contains_subsequence(main_tuple, sub_tuple):\n",
    "    sub_length = len(sub_tuple)\n",
    "    for i in range(len(main_tuple) - sub_length + 1):\n",
    "        if main_tuple[i:i+sub_length] == sub_tuple:\n",
    "            return True\n",
    "    return False\n",
    "\n",
    "# Main tuple\n",
    "main_tuple = (1, 2, 3, 4, 5, 6, 7, 8, 9)\n",
    "\n",
    "# Subsequence tuple\n",
    "sub_tuple = (3, 4, 5)\n",
    "\n",
    "# Check if the main tuple contains the subsequence tuple\n",
    "contains_subseq = contains_subsequence(main_tuple, sub_tuple)\n",
    "\n",
    "# Print the result\n",
    "print(\"Main tuple contains subsequence tuple:\", contains_subseq)"
   ]
  },
  {
   "cell_type": "code",
   "execution_count": 77,
   "id": "f5d27cb8-9cee-4a24-8054-cb342344c1aa",
   "metadata": {},
   "outputs": [
    {
     "name": "stdout",
     "output_type": "stream",
     "text": [
      "Tuple of alternating 1s and 0s: (0, 1, 0, 1, 0, 1, 0, 1, 0, 1)\n"
     ]
    }
   ],
   "source": [
    "#50. Create a tuple of alternating 1s and 0s of length `n`.\n",
    "# Define the value of n\n",
    "n = 10\n",
    "\n",
    "# Create a tuple of alternating 1s and 0s using a list comprehension\n",
    "alternating_tuple = tuple(i % 2 for i in range(n))\n",
    "\n",
    "# Print the tuple of alternating 1s and 0s\n",
    "print(\"Tuple of alternating 1s and 0s:\", alternating_tuple)"
   ]
  },
  {
   "cell_type": "code",
   "execution_count": 1,
   "id": "4e2fcbd8-ac09-4018-90b4-9439f9edcde3",
   "metadata": {},
   "outputs": [
    {
     "name": "stdout",
     "output_type": "stream",
     "text": [
      "{1, 2, 3, 4, 5}\n"
     ]
    }
   ],
   "source": [
    "#Set Based Practice Problem :\n",
    "#1. Create a set with integers from 1 to 5.\n",
    "\n",
    "# Step 1: Create an empty set\n",
    "my_set = set()\n",
    "\n",
    "# Step 2: Add integers from 1 to 5 to the set\n",
    "my_set.add(1)\n",
    "my_set.add(2)\n",
    "my_set.add(3)\n",
    "my_set.add(4)\n",
    "my_set.add(5)\n",
    "\n",
    "# Step 3: Print the final set\n",
    "print(my_set)## Set based problems:\n",
    "\n",
    "\n",
    "\n",
    "\n",
    "\n",
    "\n",
    "\n",
    "\n",
    "\n",
    "\n",
    "\n",
    "\n",
    "\n",
    "\n",
    "\n",
    "\n",
    "\n",
    "\n",
    "\n"
   ]
  },
  {
   "cell_type": "code",
   "execution_count": 2,
   "id": "dfebe23c-3ed2-434e-8587-57b5e2405bfe",
   "metadata": {},
   "outputs": [
    {
     "name": "stdout",
     "output_type": "stream",
     "text": [
      "Original set: {1, 2, 3, 4, 5}\n",
      "Set after adding element: {1, 2, 3, 4, 5, 6}\n"
     ]
    }
   ],
   "source": [
    "#2. Add an element to a set.\n",
    "# Step 1: Create a set\n",
    "my_set = {1, 2, 3, 4, 5}\n",
    "\n",
    "# Step 2: Display the original set\n",
    "print(\"Original set:\", my_set)\n",
    "\n",
    "# Step 3: Add an element to the set\n",
    "element_to_add = 6\n",
    "my_set.add(element_to_add)\n",
    "\n",
    "# Step 4: Display the modified set\n",
    "print(\"Set after adding element:\", my_set)"
   ]
  },
  {
   "cell_type": "code",
   "execution_count": 3,
   "id": "e7480d16-11d2-4cc5-9e00-fc9904cebaaf",
   "metadata": {},
   "outputs": [
    {
     "name": "stdout",
     "output_type": "stream",
     "text": [
      "Original Set: {1, 2, 3, 4, 5}\n",
      "Set after removing 3 : {1, 2, 4, 5}\n"
     ]
    }
   ],
   "source": [
    "#3. Remove an element from a set.\n",
    "my_set = {1, 2, 3, 4, 5}\n",
    "\n",
    "# Step 2: Print the original set\n",
    "print(\"Original Set:\", my_set)\n",
    "\n",
    "# Step 3: Choose an element to remove\n",
    "element_to_remove = 3\n",
    "\n",
    "# Step 4: Use the remove() method to remove the chosen element\n",
    "# Note: If the element is not present in the set, remove() raises a KeyError.\n",
    "my_set.remove(element_to_remove)\n",
    "\n",
    "# Step 5: Print the modified set after removal\n",
    "print(\"Set after removing\", element_to_remove, \":\", my_set)"
   ]
  },
  {
   "cell_type": "code",
   "execution_count": 5,
   "id": "0e3a2ea7-1b38-4e00-8a9e-2a96635811fb",
   "metadata": {},
   "outputs": [
    {
     "name": "stdin",
     "output_type": "stream",
     "text": [
      "Enter the element to check:  3\n"
     ]
    },
    {
     "name": "stdout",
     "output_type": "stream",
     "text": [
      "3 exists in the set.\n"
     ]
    }
   ],
   "source": [
    "#4. Check if an element exists in a set.\n",
    "# Step 1: Create a set with some elements\n",
    "my_set = {1, 3, 5, 7, 9}\n",
    "\n",
    "# Step 2: Ask the user for the element they want to check\n",
    "element_to_check = int(input(\"Enter the element to check: \"))\n",
    "\n",
    "# Step 3: Use the \"in\" keyword to check if the element exists in the set\n",
    "if element_to_check in my_set:\n",
    "    # Step 4: If the element exists in the set, print a message\n",
    "    print(f\"{element_to_check} exists in the set.\")\n",
    "else:\n",
    "    # Step 5: If the element does not exist in the set, print a message\n",
    "    print(f\"{element_to_check} does not exist in the set.\")"
   ]
  },
  {
   "cell_type": "code",
   "execution_count": 6,
   "id": "1db666c4-4ffe-4741-b447-f5b051f06a65",
   "metadata": {},
   "outputs": [
    {
     "name": "stdout",
     "output_type": "stream",
     "text": [
      "Length of the set: 5\n"
     ]
    }
   ],
   "source": [
    "#5. Find the length of a set without using the `len()` function.\n",
    "# Create a set with some elements\n",
    "my_set = {1, 2, 3, 4, 5}\n",
    "\n",
    "# Initialize a variable to count the elements in the set\n",
    "count = 0\n",
    "\n",
    "# Iterate through each element in the set\n",
    "for _ in my_set:\n",
    "    # Increase the count by 1 for each element\n",
    "    count += 1\n",
    "\n",
    "# Print the count, which is the length of the set\n",
    "print(\"Length of the set:\", count)"
   ]
  },
  {
   "cell_type": "code",
   "execution_count": 7,
   "id": "1a639566-78d2-415d-9166-4cea7d701135",
   "metadata": {},
   "outputs": [
    {
     "name": "stdout",
     "output_type": "stream",
     "text": [
      "Original set: {1, 2, 3, 4, 5}\n",
      "Set after clearing: set()\n"
     ]
    }
   ],
   "source": [
    "#6. Clear all elements from a set.\n",
    "my_set = {1, 2, 3, 4, 5}\n",
    "\n",
    "# Step 2: Display the original set\n",
    "print(\"Original set:\", my_set)\n",
    "\n",
    "# Step 3: Clear all elements from the set using the clear() method\n",
    "my_set.clear()\n",
    "\n",
    "# Step 4: Display the set after clearing\n",
    "print(\"Set after clearing:\", my_set)"
   ]
  },
  {
   "cell_type": "code",
   "execution_count": 8,
   "id": "836cd4de-63ab-49ac-af3c-4d6b3893c0f0",
   "metadata": {},
   "outputs": [
    {
     "name": "stdout",
     "output_type": "stream",
     "text": [
      "{2, 4, 6, 8, 10}\n"
     ]
    }
   ],
   "source": [
    "#7. Create a set of even numbers from 1 to 10.\n",
    "# Step 1: Initialize an empty set\n",
    "even_numbers_set = set()\n",
    "\n",
    "# Step 2: Iterate through numbers from 1 to 10\n",
    "for num in range(1, 11):\n",
    "    # Step 3: Check if the number is even\n",
    "    if num % 2 == 0:\n",
    "        # Step 4: Add the even number to the set\n",
    "        even_numbers_set.add(num)\n",
    "\n",
    "# Step 5: Print the set of even numbers\n",
    "print(even_numbers_set)"
   ]
  },
  {
   "cell_type": "code",
   "execution_count": 10,
   "id": "01cf38e2-09ce-4554-a286-1d98241f16ce",
   "metadata": {},
   "outputs": [
    {
     "name": "stdout",
     "output_type": "stream",
     "text": [
      "{1, 3, 5, 7, 9}\n"
     ]
    }
   ],
   "source": [
    "#8. Create a set of odd numbers from 1 to 10.\n",
    "# Step 1: Initialize an empty set to store odd numbers.\n",
    "odd_numbers_set = set()\n",
    "\n",
    "# Step 2: Iterate through numbers from 1 to 10.\n",
    "for num in range(1, 11):\n",
    "    # Step 3: Check if the current number is odd.\n",
    "    if num % 2 != 0:\n",
    "        # Step 4: If the number is odd, add it to the set.\n",
    "        odd_numbers_set.add(num)\n",
    "\n",
    "# Step 5: Print the final set of odd numbers.\n",
    "print(odd_numbers_set)\n"
   ]
  },
  {
   "cell_type": "code",
   "execution_count": 11,
   "id": "b69b7c4e-757a-4c58-859f-d27bee1d1d9c",
   "metadata": {},
   "outputs": [
    {
     "name": "stdout",
     "output_type": "stream",
     "text": [
      "Set 1: {1, 2, 3, 4, 5}\n",
      "Set 2: {4, 5, 6, 7, 8}\n",
      "Union of Set 1 and Set 2: {1, 2, 3, 4, 5, 6, 7, 8}\n"
     ]
    }
   ],
   "source": [
    "#9. Find the union of two sets.\n",
    "# Define two sets\n",
    "set1 = {1, 2, 3, 4, 5}\n",
    "set2 = {4, 5, 6, 7, 8}\n",
    "\n",
    "# Find the union of the two sets using the `union()` method\n",
    "union_result = set1.union(set2)\n",
    "\n",
    "# Print the original sets and their union\n",
    "print(\"Set 1:\", set1)\n",
    "print(\"Set 2:\", set2)\n",
    "print(\"Union of Set 1 and Set 2:\", union_result)"
   ]
  },
  {
   "cell_type": "code",
   "execution_count": 12,
   "id": "e4a59d9b-bdc6-4b6b-bead-604faa53c08f",
   "metadata": {},
   "outputs": [
    {
     "name": "stdout",
     "output_type": "stream",
     "text": [
      "Set 1: {1, 2, 3, 4, 5}\n",
      "Set 2: {3, 4, 5, 6, 7}\n",
      "Intersection: {3, 4, 5}\n"
     ]
    }
   ],
   "source": [
    "#10. Find the intersection of two sets.\n",
    "set1 = {1, 2, 3, 4, 5}\n",
    "set2 = {3, 4, 5, 6, 7}\n",
    "\n",
    "# Find the intersection using the intersection() method\n",
    "intersection_result = set1.intersection(set2)\n",
    "\n",
    "# Print the original sets and the intersection\n",
    "print(\"Set 1:\", set1)\n",
    "print(\"Set 2:\", set2)\n",
    "print(\"Intersection:\", intersection_result)"
   ]
  },
  {
   "cell_type": "code",
   "execution_count": 13,
   "id": "23b71399-52b0-4e3b-abdd-de030eee1757",
   "metadata": {},
   "outputs": [
    {
     "name": "stdout",
     "output_type": "stream",
     "text": [
      "Set 1: {1, 2, 3, 4, 5}\n",
      "Set 2: {3, 4, 5, 6, 7}\n",
      "Difference: {1, 2}\n"
     ]
    }
   ],
   "source": [
    "#11. Find the difference between two sets.\n",
    "# Create two sets\n",
    "set1 = {1, 2, 3, 4, 5}\n",
    "set2 = {3, 4, 5, 6, 7}\n",
    "\n",
    "# Find the difference between the sets using the difference() method\n",
    "difference_set = set1.difference(set2)\n",
    "\n",
    "# Print the original sets and the difference set\n",
    "print(\"Set 1:\", set1)\n",
    "print(\"Set 2:\", set2)\n",
    "print(\"Difference:\", difference_set)"
   ]
  },
  {
   "cell_type": "code",
   "execution_count": 14,
   "id": "deea634a-13bb-414f-9029-1e202d38d127",
   "metadata": {},
   "outputs": [
    {
     "name": "stdout",
     "output_type": "stream",
     "text": [
      "Is set1 a subset of set2: True\n"
     ]
    }
   ],
   "source": [
    "#12. Check if a set is a subset of another set.\n",
    "# Define the two sets\n",
    "set1 = {1, 2, 3}\n",
    "set2 = {1, 2, 3, 4, 5}\n",
    "\n",
    "# Use the \"issubset()\" method to check if set1 is a subset of set2\n",
    "is_subset = set1.issubset(set2)\n",
    "\n",
    "# Print the result\n",
    "print(\"Is set1 a subset of set2:\", is_subset)\n"
   ]
  },
  {
   "cell_type": "code",
   "execution_count": 15,
   "id": "1fc51667-dc80-4491-80af-c9e747325118",
   "metadata": {},
   "outputs": [
    {
     "name": "stdout",
     "output_type": "stream",
     "text": [
      "set1 is a superset of set2\n"
     ]
    }
   ],
   "source": [
    "#13. Check if a set is a superset of another set.\n",
    "# Create two sets\n",
    "set1 = {1, 2, 3, 4, 5, 6}\n",
    "set2 = {3, 4}\n",
    "\n",
    "# Check if set1 is a superset of set2\n",
    "is_superset = set1.issuperset(set2)\n",
    "\n",
    "# Print the result\n",
    "if is_superset:\n",
    "    print(\"set1 is a superset of set2\")\n",
    "else:\n",
    "    print(\"set1 is not a superset of set2\")"
   ]
  },
  {
   "cell_type": "code",
   "execution_count": 16,
   "id": "fee2450a-9df0-45e9-915a-fc293dd5f0a6",
   "metadata": {},
   "outputs": [
    {
     "name": "stdout",
     "output_type": "stream",
     "text": [
      "Original List: [2, 4, 1, 4, 3, 2, 5]\n",
      "Set from List: {1, 2, 3, 4, 5}\n"
     ]
    }
   ],
   "source": [
    "#14. Create a set from a list.\n",
    " #Step 1: Create a list of elements\n",
    "my_list = [2, 4, 1, 4, 3, 2, 5]\n",
    "\n",
    "# Step 2: Use the set() constructor to convert the list into a set\n",
    "# This automatically removes duplicates and creates a set with unique elements\n",
    "my_set = set(my_list)\n",
    "\n",
    "# Step 3: Print the original list and the resulting set\n",
    "print(\"Original List:\", my_list)\n",
    "print(\"Set from List:\", my_set)"
   ]
  },
  {
   "cell_type": "code",
   "execution_count": 17,
   "id": "2798bae0-4926-41aa-a028-3ff6d89aa7a2",
   "metadata": {},
   "outputs": [
    {
     "name": "stdout",
     "output_type": "stream",
     "text": [
      "Original Set: {1, 2, 3, 4, 5, 6, 9}\n",
      "Converted List: [1, 2, 3, 4, 5, 6, 9]\n"
     ]
    }
   ],
   "source": [
    "#15. Convert a set to a list.\n",
    "# Step 1: Create a set with some elements\n",
    "my_set = {3, 1, 4, 1, 5, 9, 2, 6, 5}\n",
    "\n",
    "# Step 2: Convert the set to a list using the list() function\n",
    "my_list = list(my_set)\n",
    "\n",
    "# Now, my_list contains the elements from my_set in list format\n",
    "\n",
    "# Step 3: Print the original set and the converted list\n",
    "print(\"Original Set:\", my_set)\n",
    "print(\"Converted List:\", my_list)"
   ]
  },
  {
   "cell_type": "code",
   "execution_count": 18,
   "id": "1b014336-ef5f-476d-b22a-55ccf3c9b278",
   "metadata": {},
   "outputs": [
    {
     "name": "stdout",
     "output_type": "stream",
     "text": [
      "Original set: {1, 2, 3, 4, 5}\n",
      "Updated set after removing 3 : {1, 2, 4, 5}\n"
     ]
    }
   ],
   "source": [
    "#16. Remove a random element from a set.\n",
    "\n",
    "import random  # Import the random module\n",
    "\n",
    "# Create a set with some elements\n",
    "my_set = {1, 2, 3, 4, 5}\n",
    "\n",
    "# Display the original set\n",
    "print(\"Original set:\", my_set)\n",
    "\n",
    "# Choose a random element from the set using the random.choice() function\n",
    "random_element = random.choice(list(my_set))\n",
    "\n",
    "# Remove the chosen random element from the set using the remove() method\n",
    "my_set.remove(random_element)\n",
    "\n",
    "# Display the updated set after removing the random element\n",
    "print(\"Updated set after removing\", random_element, \":\", my_set)\n",
    "\n",
    "\n",
    "\n",
    "\n"
   ]
  },
  {
   "cell_type": "code",
   "execution_count": 19,
   "id": "a678623a-f3f9-4b07-8ffb-f488851afcb1",
   "metadata": {},
   "outputs": [
    {
     "name": "stdout",
     "output_type": "stream",
     "text": [
      "Original set: {1, 2, 3, 4, 5}\n",
      "Popped element: 1\n",
      "Set after popping: {2, 3, 4, 5}\n"
     ]
    }
   ],
   "source": [
    "#17. Pop an element from a set.\n",
    "# Create a set with some elements\n",
    "my_set = {1, 2, 3, 4, 5}\n",
    "\n",
    "# Print the original set\n",
    "print(\"Original set:\", my_set)\n",
    "\n",
    "# Pop an element from the set using the pop() method\n",
    "popped_element = my_set.pop()\n",
    "\n",
    "# Print the element that was popped\n",
    "print(\"Popped element:\", popped_element)\n",
    "\n",
    "# Print the set after popping an element\n",
    "print(\"Set after popping:\", my_set)"
   ]
  },
  {
   "cell_type": "code",
   "execution_count": 20,
   "id": "aa2990f3-f9c2-472b-b274-4436d1c73d31",
   "metadata": {},
   "outputs": [
    {
     "name": "stdout",
     "output_type": "stream",
     "text": [
      "The two sets have no elements in common.\n"
     ]
    }
   ],
   "source": [
    "#18. Check if two sets have no elements in common.\n",
    "# Step 1: Define two sets\n",
    "set1 = {1, 2, 3, 4}\n",
    "set2 = {5, 6, 7, 8}\n",
    "\n",
    "# Step 2: Check if the intersection of the two sets is empty\n",
    "# The intersection is the set of elements that are common to both sets\n",
    "common_elements = set1.intersection(set2)\n",
    "\n",
    "# Step 3: Check if the common_elements set is empty\n",
    "if not common_elements:\n",
    "    print(\"The two sets have no elements in common.\")\n",
    "else:\n",
    "    print(\"The two sets have common elements:\", common_elements)"
   ]
  },
  {
   "cell_type": "code",
   "execution_count": 21,
   "id": "3cad57ab-9fb7-422c-aca3-1409bd2971f3",
   "metadata": {},
   "outputs": [
    {
     "name": "stdout",
     "output_type": "stream",
     "text": [
      "Symmetric Difference: {1, 2, 3, 6, 7, 8}\n"
     ]
    }
   ],
   "source": [
    "#19. Find the symmetric difference between two sets.\n",
    "# Define two sets\n",
    "set1 = {1, 2, 3, 4, 5}\n",
    "set2 = {4, 5, 6, 7, 8}\n",
    "\n",
    "# Calculate the symmetric difference using the ^ operator\n",
    "symmetric_difference = set1 ^ set2\n",
    "\n",
    "# Print the symmetric difference\n",
    "print(\"Symmetric Difference:\", symmetric_difference)"
   ]
  },
  {
   "cell_type": "code",
   "execution_count": 22,
   "id": "dfc32ab8-4c85-467a-b789-e5577e684e96",
   "metadata": {},
   "outputs": [
    {
     "name": "stdout",
     "output_type": "stream",
     "text": [
      "Set 1: {1, 2, 3}\n",
      "Set 2: {3, 4, 5}\n",
      "Updated Set 1: {1, 2, 3, 4, 5}\n"
     ]
    }
   ],
   "source": [
    "#20. Update a set with elements from another set.\n",
    "# Create the first set\n",
    "set1 = {1, 2, 3}\n",
    "print(\"Set 1:\", set1)\n",
    "\n",
    "# Create the second set\n",
    "set2 = {3, 4, 5}\n",
    "print(\"Set 2:\", set2)\n",
    "\n",
    "# Update set1 with elements from set2\n",
    "set1.update(set2)\n",
    "print(\"Updated Set 1:\", set1)"
   ]
  },
  {
   "cell_type": "code",
   "execution_count": 23,
   "id": "13489d90-5fbd-4db8-8d1d-e6874d4d4f22",
   "metadata": {},
   "outputs": [
    {
     "name": "stdout",
     "output_type": "stream",
     "text": [
      "Set of the first 5 prime numbers: {2, 3, 5, 7, 11}\n"
     ]
    }
   ],
   "source": [
    "#21. Create a set of the first 5 prime numbers.\n",
    "# Function to check if a number is prime\n",
    "def is_prime(num):\n",
    "    if num <= 1:\n",
    "        return False\n",
    "    for i in range(2, int(num ** 0.5) + 1):\n",
    "        if num % i == 0:\n",
    "            return False\n",
    "    return True\n",
    "\n",
    "# Create an empty set to store the prime numbers\n",
    "prime_set = set()\n",
    "\n",
    "# Initialize the number to start checking for primes\n",
    "num = 2\n",
    "\n",
    "# Loop until we have found the first 5 prime numbers\n",
    "while len(prime_set) < 5:\n",
    "    # Check if the current number is prime using the is_prime function\n",
    "    if is_prime(num):\n",
    "        # If the number is prime, add it to the prime_set\n",
    "        prime_set.add(num)\n",
    "\n",
    "    # Move on to the next number for the next iteration\n",
    "    num += 1\n",
    "\n",
    "# Print the set of prime numbers\n",
    "print(\"Set of the first 5 prime numbers:\", prime_set)"
   ]
  },
  {
   "cell_type": "code",
   "execution_count": 24,
   "id": "45f6c347-8d41-4243-a0da-ed14f8cc6e12",
   "metadata": {},
   "outputs": [
    {
     "name": "stdout",
     "output_type": "stream",
     "text": [
      "The sets are identical.\n"
     ]
    }
   ],
   "source": [
    "#22. Check if two sets are identical.\n",
    "# Step 1: Define two sets\n",
    "set1 = {1, 2, 3, 4, 5}\n",
    "set2 = {3, 1, 5, 2, 4}  # The order of elements doesn't matter in sets\n",
    "\n",
    "# Step 2: Check if the sets are identical using the `==` operator\n",
    "# Sets are unordered collections, so the order of elements doesn't matter.\n",
    "# The `==` operator compares the content of the sets.\n",
    "if set1 == set2:\n",
    "    print(\"The sets are identical.\")\n",
    "else:\n",
    "    print(\"The sets are not identical.\")"
   ]
  },
  {
   "cell_type": "code",
   "execution_count": 25,
   "id": "ffd9cd80-f1c4-4186-8ca1-b7a6c9ef17bd",
   "metadata": {},
   "outputs": [
    {
     "name": "stdout",
     "output_type": "stream",
     "text": [
      "Frozen Set: frozenset({1, 2, 3, 4, 5})\n"
     ]
    }
   ],
   "source": [
    "#23. Create a frozen set.\n",
    "# Step 2: Define a list of elements that you want to include in the frozen set\n",
    "elements = [1, 2, 3, 4, 5]\n",
    "\n",
    "# Step 3: Create a frozen set using the 'frozenset' constructor and passing the list of elements\n",
    "my_frozen_set = frozenset(elements)\n",
    "\n",
    "# Step 4: Print the frozen set\n",
    "print(\"Frozen Set:\", my_frozen_set)"
   ]
  },
  {
   "cell_type": "code",
   "execution_count": 26,
   "id": "7aa2e361-66cb-4478-96d3-1c6e1314ea2e",
   "metadata": {},
   "outputs": [
    {
     "name": "stdout",
     "output_type": "stream",
     "text": [
      "Are the sets disjoint? True\n"
     ]
    }
   ],
   "source": [
    "#24. Check if a set is disjoint with another set.\n",
    "# Step 1: Define the two sets you want to check for disjointness\n",
    "set1 = {1, 2, 3, 4}\n",
    "set2 = {5, 6, 7, 8}\n",
    "\n",
    "# Step 2: Use the `isdisjoint()` method to check if the sets are disjoint\n",
    "# The `isdisjoint()` method returns True if the sets have no common elements,\n",
    "# and False if they have at least one common element.\n",
    "disjoint_status = set1.isdisjoint(set2)\n",
    "\n",
    "# Step 3: Print the result\n",
    "print(\"Are the sets disjoint?\", disjoint_status)"
   ]
  },
  {
   "cell_type": "code",
   "execution_count": 27,
   "id": "0e10df70-1084-45a2-b09a-8b8ddff44558",
   "metadata": {},
   "outputs": [
    {
     "name": "stdout",
     "output_type": "stream",
     "text": [
      "{1, 4, 9, 16, 25}\n"
     ]
    }
   ],
   "source": [
    "#25. Create a set of squares of numbers from 1 to 5.\n",
    "# Step 1: Create an empty set to store the squares of numbers\n",
    "squares_set = set()\n",
    "\n",
    "# Step 2: Use a loop to iterate through numbers from 1 to 5\n",
    "for num in range(1, 6):\n",
    "    # Step 3: Calculate the square of the current number\n",
    "    square = num ** 2\n",
    "\n",
    "    # Step 4: Add the square to the set\n",
    "    squares_set.add(square)\n",
    "\n",
    "# Step 5: Print the set of squares\n",
    "print(squares_set)"
   ]
  },
  {
   "cell_type": "code",
   "execution_count": 28,
   "id": "08bc651d-8e5a-4ae4-a93a-1ae20b13a4ab",
   "metadata": {},
   "outputs": [
    {
     "name": "stdout",
     "output_type": "stream",
     "text": [
      "Original Set: {1, 2, 3, 4, 5}\n",
      "Even Numbers Set: {2, 4}\n"
     ]
    }
   ],
   "source": [
    "#26. Filter out all even numbers from a set.\n",
    "# Step 1: Create a set with integers from 1 to 5\n",
    "original_set = {1, 2, 3, 4, 5}\n",
    "\n",
    "# Step 2: Initialize an empty set to store the filtered even numbers\n",
    "even_numbers_set = set()\n",
    "\n",
    "# Step 3: Iterate through each element in the original set\n",
    "for num in original_set:\n",
    "    # Step 4: Check if the current number is even (divisible by 2)\n",
    "    if num % 2 == 0:\n",
    "        # Step 5: If even, add it to the even_numbers_set\n",
    "        even_numbers_set.add(num)\n",
    "\n",
    "# Step 6: Print the original set and the set containing even numbers\n",
    "print(\"Original Set:\", original_set)\n",
    "print(\"Even Numbers Set:\", even_numbers_set)"
   ]
  },
  {
   "cell_type": "code",
   "execution_count": 29,
   "id": "4f09b20c-d31b-4ec7-a4d7-5c7c22be4810",
   "metadata": {},
   "outputs": [
    {
     "name": "stdout",
     "output_type": "stream",
     "text": [
      "Original Set: {1, 2, 3, 4, 5}\n",
      "Multiplied Set: {2, 4, 6, 8, 10}\n"
     ]
    }
   ],
   "source": [
    "#27. Multiply all elements in a set by 2.\n",
    "# Create a set with integers from 1 to 5\n",
    "original_set = {1, 2, 3, 4, 5}\n",
    "\n",
    "# Initialize an empty set to store the multiplied elements\n",
    "multiplied_set = set()\n",
    "\n",
    "# Loop through each element in the original set\n",
    "for num in original_set:\n",
    "    # Multiply the current element by 2\n",
    "    multiplied_num = num * 2\n",
    "\n",
    "    # Add the multiplied element to the multiplied_set\n",
    "    multiplied_set.add(multiplied_num)\n",
    "\n",
    "# The original_set remains unchanged\n",
    "print(\"Original Set:\", original_set)\n",
    "\n",
    "# Display the set with elements multiplied by 2\n",
    "print(\"Multiplied Set:\", multiplied_set)"
   ]
  },
  {
   "cell_type": "code",
   "execution_count": 30,
   "id": "9bb939eb-08f3-450e-9d8d-2c98d0b9e88e",
   "metadata": {},
   "outputs": [
    {
     "name": "stdout",
     "output_type": "stream",
     "text": [
      "Generated set of random numbers: {36, 5, 42, 45, 83}\n"
     ]
    }
   ],
   "source": [
    "#28. Create a set of random numbers.\n",
    "# Step 1: Import the `random` module to generate random numbers\n",
    "import random\n",
    "\n",
    "# Step 2: Define the number of random numbers you want in the set\n",
    "num_random_numbers = 5\n",
    "\n",
    "# Step 3: Initialize an empty set to store the random numbers\n",
    "random_number_set = set()\n",
    "\n",
    "# Step 4: Use a loop to generate random numbers and add them to the set\n",
    "for _ in range(num_random_numbers):\n",
    "    # Generate a random integer using the `randint` function from the `random` module\n",
    "    random_num = random.randint(1, 100)  # Generate a random number between 1 and 100\n",
    "    # Add the random number to the set\n",
    "    random_number_set.add(random_num)\n",
    "\n",
    "# Step 5: Print the generated set of random numbers\n",
    "print(\"Generated set of random numbers:\", random_number_set)"
   ]
  },
  {
   "cell_type": "code",
   "execution_count": 31,
   "id": "7b77ccd5-5035-4f70-b5b7-91ab621bf07c",
   "metadata": {},
   "outputs": [
    {
     "name": "stdout",
     "output_type": "stream",
     "text": [
      "The set is empty.\n"
     ]
    }
   ],
   "source": [
    "#29. Check if a set is empty.\n",
    "# Step 1: Create a set (you can replace this with your own set)\n",
    "my_set = set()\n",
    "\n",
    "# Step 2: Check if the set is empty using the 'if' statement\n",
    "if not my_set:\n",
    "    print(\"The set is empty.\")\n",
    "else:\n",
    "    print(\"The set is not empty.\")"
   ]
  },
  {
   "cell_type": "code",
   "execution_count": 32,
   "id": "58755b9d-f126-4114-9a4f-596eb2e1db56",
   "metadata": {},
   "outputs": [
    {
     "name": "stdout",
     "output_type": "stream",
     "text": [
      "Nested Set: {frozenset({1, 2, 3, 4, 5}), frozenset({6, 7, 8, 9, 10})}\n"
     ]
    }
   ],
   "source": [
    "#30. Create a nested set (hint: use frozenset).\n",
    "# Step 1: Create the inner sets\n",
    "set1 = {1, 2, 3, 4, 5}\n",
    "set2 = {6, 7, 8, 9, 10}\n",
    "\n",
    "# Step 2: Create frozensets from the inner sets\n",
    "frozen_set1 = frozenset(set1)\n",
    "frozen_set2 = frozenset(set2)\n",
    "\n",
    "# Step 3: Create the nested set using the frozensets\n",
    "nested_set = {frozen_set1, frozen_set2}\n",
    "\n",
    "# Print the nested set\n",
    "print(\"Nested Set:\", nested_set)"
   ]
  },
  {
   "cell_type": "code",
   "execution_count": 33,
   "id": "27bd28d2-ba61-4bc4-85cc-ef125fa9ab05",
   "metadata": {},
   "outputs": [
    {
     "name": "stdout",
     "output_type": "stream",
     "text": [
      "Initial set: {1, 2, 3, 4, 5}\n",
      "Set after removing 3 : {1, 2, 4, 5}\n"
     ]
    }
   ],
   "source": [
    "#31. Remove an element from a set using the discard method.\n",
    "# Create a set with some elements\n",
    "my_set = {1, 2, 3, 4, 5}\n",
    "\n",
    "# Display the initial set\n",
    "print(\"Initial set:\", my_set)\n",
    "\n",
    "# Define the element to be removed\n",
    "element_to_remove = 3\n",
    "\n",
    "# Use the discard() method to remove the element from the set\n",
    "# If the element is not present in the set, discard() won't raise an error\n",
    "my_set.discard(element_to_remove)\n",
    "\n",
    "# Display the set after removing the element\n",
    "print(\"Set after removing\", element_to_remove, \":\", my_set)"
   ]
  },
  {
   "cell_type": "code",
   "execution_count": 34,
   "id": "12ed3cf4-70be-4c6c-a225-f187d5973232",
   "metadata": {},
   "outputs": [
    {
     "name": "stdout",
     "output_type": "stream",
     "text": [
      "Set 1: {1, 2, 3, 4, 5}\n",
      "Set 2: {4, 5, 6, 7, 8}\n",
      "Is set1 a subset of set2? False\n",
      "Is set2 a subset of set1? False\n",
      "Intersection: {4, 5}\n",
      "Union: {1, 2, 3, 4, 5, 6, 7, 8}\n",
      "Elements in set1 but not in set2: {1, 2, 3}\n",
      "Elements in set2 but not in set1: {8, 6, 7}\n"
     ]
    }
   ],
   "source": [
    "#32. Compare two sets.\n",
    "# Step 1: Define two sets\n",
    "set1 = {1, 2, 3, 4, 5}\n",
    "set2 = {4, 5, 6, 7, 8}\n",
    "\n",
    "# Step 2: Use set operations to compare the sets\n",
    "# Check if set1 is a subset of set2\n",
    "is_subset = set1.issubset(set2)\n",
    "\n",
    "# Check if set2 is a subset of set1\n",
    "is_superset = set1.issuperset(set2)\n",
    "\n",
    "# Find the intersection of the sets\n",
    "intersection = set1.intersection(set2)\n",
    "\n",
    "# Find the union of the sets\n",
    "union = set1.union(set2)\n",
    "\n",
    "# Find the elements that are in set1 but not in set2\n",
    "difference1 = set1.difference(set2)\n",
    "\n",
    "# Find the elements that are in set2 but not in set1\n",
    "difference2 = set2.difference(set1)\n",
    "\n",
    "# Step 3: Print the results\n",
    "print(\"Set 1:\", set1)\n",
    "print(\"Set 2:\", set2)\n",
    "print(\"Is set1 a subset of set2?\", is_subset)\n",
    "print(\"Is set2 a subset of set1?\", is_superset)\n",
    "print(\"Intersection:\", intersection)\n",
    "print(\"Union:\", union)\n",
    "print(\"Elements in set1 but not in set2:\", difference1)\n",
    "print(\"Elements in set2 but not in set1:\", difference2)\n"
   ]
  },
  {
   "cell_type": "code",
   "execution_count": 35,
   "id": "8498d710-5e1e-499d-a3a4-c7b0ba197a43",
   "metadata": {},
   "outputs": [
    {
     "name": "stdout",
     "output_type": "stream",
     "text": [
      "{'h', 'l', 'o', 'e'}\n"
     ]
    }
   ],
   "source": [
    "#33. Create a set from a string.\n",
    "# Step 1: Define the input string\n",
    "input_string = \"hello\"\n",
    "\n",
    "# Step 2: Use the set() constructor to create a set from the characters in the string\n",
    "char_set = set(input_string)\n",
    "\n",
    "# Step 3: Print the resulting set\n",
    "print(char_set)"
   ]
  },
  {
   "cell_type": "code",
   "execution_count": 36,
   "id": "84956864-63e6-4c63-9d44-071a5a129a72",
   "metadata": {},
   "outputs": [
    {
     "name": "stdout",
     "output_type": "stream",
     "text": [
      "Original String Set: {'456', '789', '123'}\n",
      "Converted Integer Set: {456, 123, 789}\n"
     ]
    }
   ],
   "source": [
    "#34. Convert a set of strings to a set of integers.\n",
    "# Step 1: Create a set of strings\n",
    "string_set = {\"123\", \"456\", \"789\"}\n",
    "\n",
    "# Step 2: Initialize an empty set to store integers\n",
    "integer_set = set()\n",
    "\n",
    "# Step 3: Iterate through each string in the string set\n",
    "for string in string_set:\n",
    "    # Step 4: Convert the string to an integer using the int() function\n",
    "    integer_value = int(string)\n",
    "\n",
    "    # Step 5: Add the integer to the integer set\n",
    "    integer_set.add(integer_value)\n",
    "\n",
    "# Step 6: Print the original string set and the converted integer set\n",
    "print(\"Original String Set:\", string_set)\n",
    "print(\"Converted Integer Set:\", integer_set)"
   ]
  },
  {
   "cell_type": "code",
   "execution_count": 37,
   "id": "460033f0-bb12-4925-97e2-b216b53e59fd",
   "metadata": {},
   "outputs": [
    {
     "name": "stdout",
     "output_type": "stream",
     "text": [
      "Original integers_set: {1, 2, 3, 4, 5}\n",
      "Converted strings_set: {'3', '2', '5', '1', '4'}\n"
     ]
    }
   ],
   "source": [
    "#35. Convert a set of integers to a set of strings.\n",
    "# Step 1: Create a set of integers\n",
    "integers_set = {1, 2, 3, 4, 5}\n",
    "\n",
    "# Step 2: Initialize an empty set to store the strings\n",
    "strings_set = set()\n",
    "\n",
    "# Step 3: Iterate through each integer in the integers_set\n",
    "for num in integers_set:\n",
    "    # Step 4: Convert the integer to a string using the str() function\n",
    "    num_str = str(num)\n",
    "\n",
    "    # Step 5: Add the string representation to the strings_set\n",
    "    strings_set.add(num_str)\n",
    "\n",
    "# Step 6: Print the original integers_set and the converted strings_set\n",
    "print(\"Original integers_set:\", integers_set)\n",
    "print(\"Converted strings_set:\", strings_set)"
   ]
  },
  {
   "cell_type": "code",
   "execution_count": 38,
   "id": "2a87b5b4-ec89-4550-8d66-7db190c5ad2b",
   "metadata": {},
   "outputs": [
    {
     "name": "stdout",
     "output_type": "stream",
     "text": [
      "{1, 2, 3, 4, 5}\n"
     ]
    }
   ],
   "source": [
    "#36. Create a set from a tuple.\n",
    "# Given tuple\n",
    "input_tuple = (1, 2, 3, 2, 4, 5, 1)\n",
    "\n",
    "# Step 1: Convert the tuple to a set\n",
    "output_set = set(input_tuple)\n",
    "# At this point, the set() function is used to convert the elements of the tuple into a set.\n",
    "# Since sets only contain unique elements, duplicate values are automatically removed.\n",
    "\n",
    "# Step 2: Print the resulting set\n",
    "print(output_set)\n",
    "# The set is now printed, and it will only contain the unique elements from the original tuple."
   ]
  },
  {
   "cell_type": "code",
   "execution_count": 39,
   "id": "78222fe7-ee02-4f87-b735-9fa6c49ba4ce",
   "metadata": {},
   "outputs": [
    {
     "name": "stdout",
     "output_type": "stream",
     "text": [
      "Original set: {1, 2, 3, 4, 5}\n",
      "Converted tuple: (1, 2, 3, 4, 5)\n"
     ]
    }
   ],
   "source": [
    "#37. Convert a set to a tuple.\n",
    "# Step 1: Create a set\n",
    "input_set = {1, 2, 3, 4, 5}\n",
    "\n",
    "# Step 2: Convert the set to a tuple\n",
    "output_tuple = tuple(input_set)\n",
    "\n",
    "# Step 3: Print the original set and the converted tuple\n",
    "print(\"Original set:\", input_set)\n",
    "print(\"Converted tuple:\", output_tuple)"
   ]
  },
  {
   "cell_type": "code",
   "execution_count": 40,
   "id": "4ac88f46-241f-40eb-82be-4603d1dcca92",
   "metadata": {},
   "outputs": [
    {
     "name": "stdout",
     "output_type": "stream",
     "text": [
      "Maximum value: 22\n"
     ]
    }
   ],
   "source": [
    "#38. Find the maximum value in a set.\n",
    "# Define a set with some values\n",
    "my_set = {15, 7, 22, 13, 8}\n",
    "\n",
    "# Initialize a variable to store the maximum value\n",
    "max_value = None\n",
    "\n",
    "# Iterate through each element in the set\n",
    "for num in my_set:\n",
    "    # Check if max_value is None (first iteration) or if the current number is greater than max_value\n",
    "    if max_value is None or num > max_value:\n",
    "        max_value = num  # Update max_value with the current number if it's greater\n",
    "\n",
    "# Print the maximum value\n",
    "print(\"Maximum value:\", max_value)"
   ]
  },
  {
   "cell_type": "code",
   "execution_count": 41,
   "id": "a11d1914-624b-4900-ac99-bcbe8ad839ca",
   "metadata": {},
   "outputs": [
    {
     "name": "stdout",
     "output_type": "stream",
     "text": [
      "The minimum value in the set is: 4\n"
     ]
    }
   ],
   "source": [
    "#39. Find the minimum value in a set.\n",
    "# Create a sample set of numbers\n",
    "number_set = {15, 8, 23, 4, 42, 11}\n",
    "\n",
    "# Initialize a variable to store the minimum value\n",
    "min_value = None\n",
    "\n",
    "# Iterate through each element in the set\n",
    "for num in number_set:\n",
    "    # Check if min_value is None (first iteration) or if num is smaller than the current min_value\n",
    "    if min_value is None or num < min_value:\n",
    "        # Update min_value to the current num since it's smaller\n",
    "        min_value = num\n",
    "\n",
    "# Print the minimum value found in the set\n",
    "print(\"The minimum value in the set is:\", min_value)"
   ]
  },
  {
   "cell_type": "code",
   "execution_count": 42,
   "id": "e45b5e8b-8e65-401b-885d-223bfb84233d",
   "metadata": {},
   "outputs": [
    {
     "name": "stdout",
     "output_type": "stream",
     "text": [
      "Enter elements for the set (type 'done' to finish):\n"
     ]
    },
    {
     "name": "stdin",
     "output_type": "stream",
     "text": [
      ">  done\n"
     ]
    },
    {
     "name": "stdout",
     "output_type": "stream",
     "text": [
      "Final set: set()\n"
     ]
    }
   ],
   "source": [
    "#40. Create a set from user input.\n",
    "# Step 1: Initialize an empty set\n",
    "user_set = set()\n",
    "\n",
    "# Step 2: Get input from the user\n",
    "print(\"Enter elements for the set (type 'done' to finish):\")\n",
    "while True:\n",
    "    user_input = input(\"> \")  # Get input from the user\n",
    "\n",
    "    if user_input.lower() == 'done':\n",
    "        break  # Exit the loop if the user enters 'done'\n",
    "\n",
    "    # Step 3: Add the user input to the set\n",
    "    user_set.add(user_input)\n",
    "\n",
    "# Step 4: Display the final set created from user input\n",
    "print(\"Final set:\", user_set)"
   ]
  },
  {
   "cell_type": "code",
   "execution_count": 43,
   "id": "9153f460-cc74-4b55-928a-ac0ab20b26f8",
   "metadata": {},
   "outputs": [
    {
     "name": "stdout",
     "output_type": "stream",
     "text": [
      "The intersection of the two sets is not empty.\n"
     ]
    }
   ],
   "source": [
    "#41. Check if the intersection of two sets is empty.\n",
    "# Step 1: Define two sets\n",
    "set1 = {1, 2, 3, 4, 5}\n",
    "set2 = {4, 5, 6, 7, 8}\n",
    "\n",
    "# Step 2: Find the intersection of the two sets using the `intersection()` method\n",
    "intersection_result = set1.intersection(set2)\n",
    "\n",
    "# Step 3: Check if the intersection result is empty\n",
    "if not intersection_result:\n",
    "    print(\"The intersection of the two sets is empty.\")\n",
    "else:\n",
    "    print(\"The intersection of the two sets is not empty.\")"
   ]
  },
  {
   "cell_type": "code",
   "execution_count": 44,
   "id": "0f87230e-564d-474e-9de2-d25fbe43c7b6",
   "metadata": {},
   "outputs": [
    {
     "name": "stdout",
     "output_type": "stream",
     "text": [
      "Set of the first 5 Fibonacci numbers: {0, 1, 2, 3, 5}\n"
     ]
    }
   ],
   "source": [
    "#42. Create a set of the first 5 Fibonacci numbers.\n",
    "# Create a set to store the first 5 Fibonacci numbers\n",
    "fibonacci_set = set()\n",
    "\n",
    "# Initialize the first two Fibonacci numbers\n",
    "a, b = 0, 1\n",
    "\n",
    "# Loop to generate the first 5 Fibonacci numbers\n",
    "for _ in range(6):\n",
    "    # Add the current Fibonacci number to the set\n",
    "    fibonacci_set.add(a)\n",
    "\n",
    "    # Calculate the next Fibonacci number\n",
    "    a, b = b, a + b\n",
    "\n",
    "# Print the set of Fibonacci numbers\n",
    "print(\"Set of the first 5 Fibonacci numbers:\", fibonacci_set)"
   ]
  },
  {
   "cell_type": "code",
   "execution_count": 45,
   "id": "ec445723-af2a-49a5-a668-1e80134525ed",
   "metadata": {},
   "outputs": [
    {
     "name": "stdout",
     "output_type": "stream",
     "text": [
      "Original List: [2, 4, 6, 8, 4, 10, 6, 12, 14, 8]\n",
      "List with Duplicates Removed: [2, 4, 6, 8, 10, 12, 14]\n"
     ]
    }
   ],
   "source": [
    "#43. Remove duplicates from a list using sets\n",
    "# Step 1: Define a list with duplicates\n",
    "original_list = [2, 4, 6, 8, 4, 10, 6, 12, 14, 8]\n",
    "\n",
    "# Step 2: Convert the list to a set\n",
    "unique_set = set(original_list)\n",
    "# Now, 'unique_set' contains only unique elements from 'original_list'\n",
    "\n",
    "# Step 3: Convert the set back to a list\n",
    "unique_list = list(unique_set)\n",
    "# Now, 'unique_list' is a list containing only unique elements\n",
    "\n",
    "# Step 4: Print the original list and the list with duplicates removed\n",
    "print(\"Original List:\", original_list)\n",
    "print(\"List with Duplicates Removed:\", unique_list)"
   ]
  },
  {
   "cell_type": "code",
   "execution_count": 46,
   "id": "dfe7a599-d8bc-403d-916e-9f97c0f38be6",
   "metadata": {},
   "outputs": [
    {
     "name": "stdout",
     "output_type": "stream",
     "text": [
      "The sets have the same elements.\n"
     ]
    }
   ],
   "source": [
    "#44. Check if two sets have the same elements, regardless of their count.\n",
    "def have_same_elements(set1, set2):\n",
    "    # Convert the sets to lists and sort them\n",
    "    sorted_list1 = sorted(list(set1))\n",
    "    sorted_list2 = sorted(list(set2))\n",
    "\n",
    "    # Compare the sorted lists to check if they are equal\n",
    "    return sorted_list1 == sorted_list2\n",
    "\n",
    "# Example sets\n",
    "set1 = {1, 2, 3, 2, 1}\n",
    "set2 = {3, 1, 2}\n",
    "\n",
    "# Check if the sets have the same elements\n",
    "result = have_same_elements(set1, set2)\n",
    "\n",
    "# Print the result\n",
    "if result:\n",
    "    print(\"The sets have the same elements.\")\n",
    "else:\n",
    "    print(\"The sets do not have the same elements.\")"
   ]
  },
  {
   "cell_type": "code",
   "execution_count": 47,
   "id": "3a942e6e-8c35-45f3-94ba-2a6df7a1998a",
   "metadata": {},
   "outputs": [
    {
     "name": "stdout",
     "output_type": "stream",
     "text": [
      "{1, 2, 4, 8, 16}\n"
     ]
    }
   ],
   "source": [
    "#45. Create a set of the first `n` powers of 2.\n",
    "def generate_powers_of_2(n):\n",
    "    # Initialize an empty set to store the powers of 2\n",
    "    powers_of_2 = set()\n",
    "\n",
    "    # Loop from 0 to n-1\n",
    "    for i in range(n):\n",
    "        # Calculate the current power of 2 using the exponentiation operator **\n",
    "        power = 2 ** i\n",
    "\n",
    "        # Add the current power of 2 to the set\n",
    "        powers_of_2.add(power)\n",
    "\n",
    "    # Return the set of powers of 2\n",
    "    return powers_of_2\n",
    "\n",
    "# Define the value of n\n",
    "n = 5\n",
    "\n",
    "# Call the function to generate the set of powers of 2\n",
    "powers_set = generate_powers_of_2(n)\n",
    "\n",
    "# Print the resulting set\n",
    "print(powers_set)"
   ]
  },
  {
   "cell_type": "code",
   "execution_count": 48,
   "id": "9ace18a5-bef9-4382-b151-1e40f69f0851",
   "metadata": {},
   "outputs": [
    {
     "name": "stdout",
     "output_type": "stream",
     "text": [
      "Common elements: [7, 9, 12]\n"
     ]
    }
   ],
   "source": [
    "#46. Find the common elements between a set and a list.\n",
    "# Step 1: Define a set and a list\n",
    "my_set = {3, 7, 9, 12, 15}\n",
    "my_list = [7, 12, 5, 9]\n",
    "\n",
    "# Step 2: Convert the list to a set for efficient comparison\n",
    "list_to_set = set(my_list)\n",
    "\n",
    "# Step 3: Initialize an empty list to store common elements\n",
    "common_elements = []\n",
    "\n",
    "# Step 4: Iterate through the elements in the set\n",
    "for element in my_set:\n",
    "    # Step 5: Check if the element is present in the converted set (list_to_set)\n",
    "    if element in list_to_set:\n",
    "        # Step 6: If the element is present in both the set and the list, add it to the common_elements list\n",
    "        common_elements.append(element)\n",
    "\n",
    "# Step 7: Print the common elements\n",
    "print(\"Common elements:\", common_elements)"
   ]
  },
  {
   "cell_type": "code",
   "execution_count": 49,
   "id": "132cb9d4-fc49-46c2-899b-d1e0e5bc8f44",
   "metadata": {},
   "outputs": [
    {
     "name": "stdin",
     "output_type": "stream",
     "text": [
      "Enter the value of n:  6\n"
     ]
    },
    {
     "name": "stdout",
     "output_type": "stream",
     "text": [
      "The set of the first 6 triangular numbers is: {1, 3, 6, 10, 15, 21}\n"
     ]
    }
   ],
   "source": [
    "#47. Create a set of the first `n` triangular numbers.\n",
    "def generate_triangular_numbers(n):\n",
    "    triangular_numbers = set()  # Create an empty set to store the triangular numbers\n",
    "    for i in range(1, n + 1):\n",
    "        triangular_number = i * (i + 1) // 2  # Calculate the ith triangular number using the formula\n",
    "        triangular_numbers.add(triangular_number)  # Add the calculated triangular number to the set\n",
    "    return triangular_numbers\n",
    "\n",
    "# Input the value of 'n'\n",
    "n = int(input(\"Enter the value of n: \"))\n",
    "\n",
    "# Call the function to generate the set of first 'n' triangular numbers\n",
    "triangular_set = generate_triangular_numbers(n)\n",
    "\n",
    "# Display the set of triangular numbers\n",
    "print(f\"The set of the first {n} triangular numbers is:\", triangular_set)"
   ]
  },
  {
   "cell_type": "code",
   "execution_count": 50,
   "id": "fc0ffd6a-cbf7-4515-96fc-cfc0052070b8",
   "metadata": {},
   "outputs": [
    {
     "name": "stdout",
     "output_type": "stream",
     "text": [
      "set2 is a subset of set1\n"
     ]
    }
   ],
   "source": [
    "#48. Check if a set contains another set as a subset.\n",
    "# Define two sets\n",
    "set1 = {1, 2, 3, 4, 5}\n",
    "set2 = {3, 4}\n",
    "\n",
    "# Check if set2 is a subset of set1\n",
    "is_subset = set2.issubset(set1)\n",
    "\n",
    "# Print the result\n",
    "if is_subset:\n",
    "    print(\"set2 is a subset of set1\")\n",
    "else:\n",
    "    print(\"set2 is not a subset of set1\")"
   ]
  },
  {
   "cell_type": "code",
   "execution_count": 51,
   "id": "60cdbf7b-2ccb-48e4-a4d2-924e64dd6480",
   "metadata": {},
   "outputs": [
    {
     "name": "stdout",
     "output_type": "stream",
     "text": [
      "{0, 1}\n"
     ]
    }
   ],
   "source": [
    "#49. Create a set of alternating 1s and 0s of length `n`.\n",
    "def create_alternating_set(n):\n",
    "    # Initialize an empty set to store the alternating sequence.\n",
    "    alternating_set = set()\n",
    "\n",
    "    # Loop to generate alternating 1s and 0s.\n",
    "    for i in range(n):\n",
    "        # Alternate between adding 1 and 0 to the set based on whether i is even or odd.\n",
    "        if i % 2 == 0:\n",
    "            alternating_set.add(1)  # Add 1 if i is even.\n",
    "        else:\n",
    "            alternating_set.add(0)  # Add 0 if i is odd.\n",
    "\n",
    "    return alternating_set\n",
    "\n",
    "# Define the desired length of the alternating set.\n",
    "length_n = 10\n",
    "\n",
    "# Call the function to create the alternating set of length 'length_n'.\n",
    "result = create_alternating_set(length_n)\n",
    "\n",
    "# Print the resulting set.\n",
    "print(result)"
   ]
  },
  {
   "cell_type": "code",
   "execution_count": 52,
   "id": "9093748a-1f3f-408f-b9d2-efa15f93618b",
   "metadata": {},
   "outputs": [
    {
     "name": "stdout",
     "output_type": "stream",
     "text": [
      "Merged Set: {1, 2, 3, 4, 5, 6, 7}\n"
     ]
    }
   ],
   "source": [
    "#50. Merge multiple sets into one.\n",
    "# Step 1: Create multiple sets\n",
    "set1 = {1, 2, 3}\n",
    "set2 = {3, 4, 5}\n",
    "set3 = {5, 6, 7}\n",
    "\n",
    "# Step 2: Use the union() method to merge sets\n",
    "merged_set = set1.union(set2, set3)\n",
    "\n",
    "# Alternatively, you can use the | operator\n",
    "# merged_set = set1 | set2 | set3\n",
    "\n",
    "# Step 3: Print the merged set\n",
    "print(\"Merged Set:\", merged_set)"
   ]
  },
  {
   "cell_type": "code",
   "execution_count": null,
   "id": "33cbde8d-868f-4928-af66-040dc3457917",
   "metadata": {},
   "outputs": [],
   "source": []
  }
 ],
 "metadata": {
  "kernelspec": {
   "display_name": "Python 3 (ipykernel)",
   "language": "python",
   "name": "python3"
  },
  "language_info": {
   "codemirror_mode": {
    "name": "ipython",
    "version": 3
   },
   "file_extension": ".py",
   "mimetype": "text/x-python",
   "name": "python",
   "nbconvert_exporter": "python",
   "pygments_lexer": "ipython3",
   "version": "3.10.8"
  }
 },
 "nbformat": 4,
 "nbformat_minor": 5
}
