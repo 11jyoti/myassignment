{
 "cells": [
  {
   "cell_type": "code",
   "execution_count": 1,
   "id": "104cf1d6-e04a-483a-b7c8-ed961661e97b",
   "metadata": {},
   "outputs": [
    {
     "name": "stdout",
     "output_type": "stream",
     "text": [
      "T(2) = 105\n"
     ]
    }
   ],
   "source": [
    "#1 Find the val%e of T(2) for the rec%rrence relation T(n) = 3T(n-1) + 12n, given that T(0)=5.\n",
    "def T(n, memo):\n",
    "    if n == 0:\n",
    "        return 5\n",
    "    if n in memo:\n",
    "        return memo[n]\n",
    "    memo[n] = 3 * T(n - 1, memo) + 12 * n\n",
    "    return memo[n]\n",
    "\n",
    "# Calculate T(2)\n",
    "n = 2\n",
    "memo = {}\n",
    "result = T(n, memo)\n",
    "print(\"T(2) =\", result)\n"
   ]
  },
  {
   "cell_type": "code",
   "execution_count": 2,
   "id": "26472bff-3937-499b-b037-ae9ba1c7bd7d",
   "metadata": {},
   "outputs": [
    {
     "name": "stdout",
     "output_type": "stream",
     "text": [
      "T(5) = 10\n"
     ]
    }
   ],
   "source": [
    "#2. Given a rec%rrence relation, solve it %sing the s%bstit%tion method:\n",
    "#a. T(n) = T(n-1) + c\n",
    "def T_a(n, c):\n",
    "    if n == 0:\n",
    "        return 0\n",
    "    return T_a(n - 1, c) + c\n",
    "\n",
    "# Example usage:\n",
    "n = 5\n",
    "c = 2\n",
    "result = T_a(n, c)\n",
    "print(\"T({}) =\".format(n), result)"
   ]
  },
  {
   "cell_type": "code",
   "execution_count": 3,
   "id": "e4cedf1f-c967-4271-bc5c-e9d6281ec2a6",
   "metadata": {},
   "outputs": [
    {
     "name": "stdout",
     "output_type": "stream",
     "text": [
      "T(8) = 32\n"
     ]
    }
   ],
   "source": [
    "#b. T(n) = 2T(n/2) + n\n",
    "def T_b(n):\n",
    "    if n == 1:\n",
    "        return 1\n",
    "    return 2 * T_b(n // 2) + n\n",
    "\n",
    "# Example usage:\n",
    "n = 8\n",
    "result = T_b(n)\n",
    "print(\"T({}) =\".format(n), result)"
   ]
  },
  {
   "cell_type": "code",
   "execution_count": 4,
   "id": "e64d68d0-f978-43e6-8f19-5a18d157d9d9",
   "metadata": {},
   "outputs": [
    {
     "name": "stdout",
     "output_type": "stream",
     "text": [
      "T(8) = 45\n"
     ]
    }
   ],
   "source": [
    "#c. T(n) = 2T(n/2) + c\n",
    "def T_c(n, c):\n",
    "    if n == 1:\n",
    "        return c\n",
    "    return 2 * T_c(n // 2, c) + c\n",
    "\n",
    "# Example usage:\n",
    "n = 8\n",
    "c = 3\n",
    "result = T_c(n, c)\n",
    "print(\"T({}) =\".format(n), result)\n"
   ]
  },
  {
   "cell_type": "code",
   "execution_count": 5,
   "id": "2f354a72-d183-491a-b583-c9995894dbd9",
   "metadata": {},
   "outputs": [
    {
     "name": "stdout",
     "output_type": "stream",
     "text": [
      "T(8) = 16\n"
     ]
    }
   ],
   "source": [
    "#d. T(n) = T(n/2) + c\n",
    "def T_d(n, c):\n",
    "    if n == 1:\n",
    "        return c\n",
    "    return T_d(n // 2, c) + c\n",
    "\n",
    "# Example usage:\n",
    "n = 8\n",
    "c = 4\n",
    "result = T_d(n, c)\n",
    "print(\"T({}) =\".format(n), result)"
   ]
  },
  {
   "cell_type": "code",
   "execution_count": 6,
   "id": "5b54d9bc-80d8-4221-9326-a5bf1fc26ba7",
   "metadata": {},
   "outputs": [
    {
     "name": "stdout",
     "output_type": "stream",
     "text": [
      "T(3) = 7\n"
     ]
    }
   ],
   "source": [
    "#3. Given a rec%rrence relation, solve it %sing the rec%rsive tree approach:\n",
    "#a. T(n) = 2T(n-1) +1\n",
    "def T_a(n):\n",
    "    if n == 0:\n",
    "        return 0\n",
    "    return 2 * T_a(n - 1) + 1\n",
    "\n",
    "# Example usage:\n",
    "n = 3\n",
    "result = T_a(n)\n",
    "print(\"T({}) =\".format(n), result)\n"
   ]
  },
  {
   "cell_type": "code",
   "execution_count": 7,
   "id": "5be2d856-950d-431d-b0a6-6dca4de336b6",
   "metadata": {},
   "outputs": [
    {
     "name": "stdout",
     "output_type": "stream",
     "text": [
      "T(8) = 32\n"
     ]
    }
   ],
   "source": [
    "#b. T(n) = 2T(n/2) + n\n",
    "import math\n",
    "\n",
    "def T_b(n):\n",
    "    if n == 1:\n",
    "        return 1\n",
    "    return 2 * T_b(n // 2) + n\n",
    "\n",
    "# Example usage:\n",
    "n = 8\n",
    "result = T_b(n)\n",
    "print(\"T({}) =\".format(n), result)"
   ]
  },
  {
   "cell_type": "code",
   "execution_count": null,
   "id": "65773afb-0c26-49df-bd58-73d78051f395",
   "metadata": {},
   "outputs": [],
   "source": []
  }
 ],
 "metadata": {
  "kernelspec": {
   "display_name": "Python 3 (ipykernel)",
   "language": "python",
   "name": "python3"
  },
  "language_info": {
   "codemirror_mode": {
    "name": "ipython",
    "version": 3
   },
   "file_extension": ".py",
   "mimetype": "text/x-python",
   "name": "python",
   "nbconvert_exporter": "python",
   "pygments_lexer": "ipython3",
   "version": "3.10.8"
  }
 },
 "nbformat": 4,
 "nbformat_minor": 5
}
