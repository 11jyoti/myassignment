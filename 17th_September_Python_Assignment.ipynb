{
 "cells": [
  {
   "cell_type": "code",
   "execution_count": 4,
   "id": "64f86c3b-3872-4719-b63f-a5fe80eba30d",
   "metadata": {},
   "outputs": [
    {
     "name": "stdout",
     "output_type": "stream",
     "text": [
      "1\n",
      "2\n",
      "3\n",
      "4\n",
      "5\n",
      "6\n",
      "7\n",
      "8\n",
      "9\n",
      "10\n"
     ]
    }
   ],
   "source": [
    "#1Write a Python program to print numbers from 1 to 10 using a for loop.\n",
    "for i in range(1,11):\n",
    "    print(i)\n",
    "\n",
    "\n"
   ]
  },
  {
   "cell_type": "code",
   "execution_count": null,
   "id": "3fa848ae-e55e-45ab-9c20-7cc1303cfee6",
   "metadata": {},
   "outputs": [],
   "source": [
    "#2Explain the difference between a for loop and a while loop in Python.\n",
    "\"\"\"Control Flow:\n",
    "\n",
    "In a for loop, the control flow is determined by the number of elements in the sequence.\n",
    "In a while loop, the control flow is determined by a condition that must be true for the loop to continue.\n",
    "Initialization:\n",
    "\n",
    "The for loop automatically iterates over the elements of a sequence.\n",
    "The while loop requires manual initialization of a variable and an explicit update of that variable within the loop.\n",
    "Use Cases:\n",
    "\n",
    "Use for loops when you know the number of iterations beforehand or when iterating over a sequence.\n",
    "Use while loops when the number of iterations is not known in advance, and you want to continue looping as long as a certain condition is true.\"\"\""
   ]
  },
  {
   "cell_type": "code",
   "execution_count": 5,
   "id": "c0b853b6-cd33-4921-8557-791d7a2d3578",
   "metadata": {},
   "outputs": [
    {
     "name": "stdout",
     "output_type": "stream",
     "text": [
      "5050\n"
     ]
    }
   ],
   "source": [
    "#3Write a Python program to calculate the sum of all numbers from 1 to 100 using a for loop.\n",
    "sum=0\n",
    "for i in range(1,101):\n",
    "    sum=sum+i\n",
    "print(sum)"
   ]
  },
  {
   "cell_type": "code",
   "execution_count": 6,
   "id": "1736fdce-1272-4045-8af0-cc795ec4e3fe",
   "metadata": {},
   "outputs": [
    {
     "name": "stdout",
     "output_type": "stream",
     "text": [
      "1\n",
      "2\n",
      "3\n",
      "4\n",
      "5\n"
     ]
    }
   ],
   "source": [
    "#4How do you iterate through a list using a for loop in Python?\n",
    "my_list = [1, 2, 3, 4, 5]\n",
    "\n",
    "for element in my_list:\n",
    "    # code to be executed for each element\n",
    "    print(element)\n"
   ]
  },
  {
   "cell_type": "code",
   "execution_count": 7,
   "id": "74b4c1d1-0a57-4b7b-bd74-87d2e2bb01e8",
   "metadata": {},
   "outputs": [
    {
     "name": "stdout",
     "output_type": "stream",
     "text": [
      "The product of all elements in the list is: 2310\n"
     ]
    }
   ],
   "source": [
    "#5Write a Python program to find the product of all elements in a list using a for loop.\n",
    "def find_product(my_list):\n",
    "    # Initialize the product to 1\n",
    "    product = 1\n",
    "\n",
    "    # Iterate through each element in the list\n",
    "    for element in my_list:\n",
    "        # Multiply the current element with the running product\n",
    "        product *= element\n",
    "\n",
    "    return product\n",
    "\n",
    "# Example list\n",
    "numbers = [2, 3, 5, 7, 11]\n",
    "\n",
    "# Find the product of all elements in the list\n",
    "result = find_product(numbers)\n",
    "\n",
    "# Print the result\n",
    "print(f\"The product of all elements in the list is: {result}\")\n"
   ]
  },
  {
   "cell_type": "code",
   "execution_count": 7,
   "id": "38120011-6d1e-4757-9203-a62ec92d4736",
   "metadata": {},
   "outputs": [
    {
     "name": "stdout",
     "output_type": "stream",
     "text": [
      "even= 2\n",
      "even= 4\n",
      "even= 6\n",
      "even= 8\n",
      "even= 10\n",
      "even= 12\n",
      "even= 14\n",
      "even= 16\n",
      "even= 18\n",
      "even= 20\n"
     ]
    }
   ],
   "source": [
    "#6Create a Python program that prints all even numbers from 1 to 20 using a for loop.\n",
    "\n",
    "for i in range(1,21):\n",
    "    if(i%2==0):\n",
    "        print(\"even=\",i)\n",
    "\n",
    "\n",
    "\n"
   ]
  },
  {
   "cell_type": "code",
   "execution_count": 16,
   "id": "0ddc1edc-3fc4-4e99-a69f-acf6ef51be74",
   "metadata": {},
   "outputs": [
    {
     "name": "stdout",
     "output_type": "stream",
     "text": [
      "120\n"
     ]
    }
   ],
   "source": [
    "#7Write a Python program that calculates the factorial of a number using a for loop.\n",
    "n=5\n",
    "fact=1\n",
    "for i in range(n,0,-1):\n",
    "    fact=fact*i\n",
    "print(fact)"
   ]
  },
  {
   "cell_type": "code",
   "execution_count": 17,
   "id": "6d58f391-e35c-45c5-8621-e0db21285b24",
   "metadata": {},
   "outputs": [
    {
     "name": "stdout",
     "output_type": "stream",
     "text": [
      "H\n",
      "e\n",
      "l\n",
      "l\n",
      "o\n",
      ",\n",
      " \n",
      "W\n",
      "o\n",
      "r\n",
      "l\n",
      "d\n",
      "!\n"
     ]
    }
   ],
   "source": [
    "#8How can you iterate through the characters of a string using a for loop in Python?\n",
    "my_string = \"Hello, World!\"\n",
    "\n",
    "# Iterate through each character in the string\n",
    "for char in my_string:\n",
    "    print(char)\n"
   ]
  },
  {
   "cell_type": "code",
   "execution_count": 20,
   "id": "bf3c2aeb-e38a-4804-a6c2-0b8dbd7ad8dd",
   "metadata": {},
   "outputs": [
    {
     "name": "stdout",
     "output_type": "stream",
     "text": [
      "The largest number in the list is: 24\n"
     ]
    }
   ],
   "source": [
    "#9Write a Python program to find the largest number in a list using a for loop.\n",
    "\n",
    "# Function to find the largest number in a list\n",
    "def find_largest_number(numbers):\n",
    "    # Check if the list is not empty\n",
    "    if not numbers:\n",
    "        return None  # Return None if the list is empty\n",
    "\n",
    "    # Assume the first number is the largest\n",
    "    largest = numbers[0]\n",
    "\n",
    "    # Iterate through the list to find the largest number\n",
    "    for number in numbers:\n",
    "        if number > largest:\n",
    "            largest = number\n",
    "\n",
    "    return largest\n",
    "\n",
    "# Example usage\n",
    "my_list = [5, 12, 8, 24, 10, 3]\n",
    "largest_number = find_largest_number(my_list)\n",
    "\n",
    "if largest_number is not None:\n",
    "    print(f\"The largest number in the list is: {largest_number}\")\n",
    "else:\n",
    "    print(\"The list is empty.\")"
   ]
  },
  {
   "cell_type": "code",
   "execution_count": 23,
   "id": "cb62ba55-c03f-4d80-9021-833567b0cec1",
   "metadata": {},
   "outputs": [
    {
     "name": "stdin",
     "output_type": "stream",
     "text": [
      "Enter the limit for the Fibonacci sequence:  9\n"
     ]
    },
    {
     "name": "stdout",
     "output_type": "stream",
     "text": [
      "Fibonacci sequence up to the specified limit:\n",
      "[0, 1, 1, 2, 3, 5, 8]\n"
     ]
    }
   ],
   "source": [
    "#10Create a Python program that prints the Fibonacci sequence up to a specified limit using a for loop.\n",
    "def fibonacci_sequence(limit):\n",
    "    fib_sequence = [0, 1]\n",
    "\n",
    "    while fib_sequence[-1] + fib_sequence[-2] <= limit:\n",
    "        next_term = fib_sequence[-1] + fib_sequence[-2]\n",
    "        fib_sequence.append(next_term)\n",
    "\n",
    "    return fib_sequence\n",
    "\n",
    "# Example usage\n",
    "limit = int(input(\"Enter the limit for the Fibonacci sequence: \"))\n",
    "\n",
    "if limit >= 0:\n",
    "    fib_sequence = fibonacci_sequence(limit)\n",
    "    print(\"Fibonacci sequence up to the specified limit:\")\n",
    "    print(fib_sequence)\n",
    "else:\n",
    "    print(\"Please enter a non-negative limit.\")"
   ]
  },
  {
   "cell_type": "code",
   "execution_count": 24,
   "id": "aff33bd0-b3bf-4ff4-882c-3975d987dd64",
   "metadata": {},
   "outputs": [
    {
     "name": "stdin",
     "output_type": "stream",
     "text": [
      "Enter a string:  jyoti is good girl\n"
     ]
    },
    {
     "name": "stdout",
     "output_type": "stream",
     "text": [
      "The number of vowels in the given string is: 6\n"
     ]
    }
   ],
   "source": [
    "#11Write a Python program to count the number of vowels in a given string using a for loop.\n",
    "def count_vowels(input_string):\n",
    "    vowels = \"aeiouAEIOU\"\n",
    "    vowel_count = 0\n",
    "\n",
    "    for char in input_string:\n",
    "        if char in vowels:\n",
    "            vowel_count += 1\n",
    "\n",
    "    return vowel_count\n",
    "\n",
    "# Example usage\n",
    "input_string = input(\"Enter a string: \")\n",
    "result = count_vowels(input_string)\n",
    "\n",
    "print(f\"The number of vowels in the given string is: {result}\")"
   ]
  },
  {
   "cell_type": "code",
   "execution_count": 33,
   "id": "21f5f246-e3bc-440c-a650-4fceedec4519",
   "metadata": {},
   "outputs": [
    {
     "name": "stdout",
     "output_type": "stream",
     "text": [
      "table of 1\n",
      "1 * 1 = 1\n",
      "1 * 2 = 2\n",
      "1 * 3 = 3\n",
      "1 * 4 = 4\n",
      "1 * 5 = 5\n",
      "1 * 6 = 6\n",
      "1 * 7 = 7\n",
      "1 * 8 = 8\n",
      "1 * 9 = 9\n",
      "1 * 10 = 10\n",
      "table of 2\n",
      "2 * 1 = 2\n",
      "2 * 2 = 4\n",
      "2 * 3 = 6\n",
      "2 * 4 = 8\n",
      "2 * 5 = 10\n",
      "2 * 6 = 12\n",
      "2 * 7 = 14\n",
      "2 * 8 = 16\n",
      "2 * 9 = 18\n",
      "2 * 10 = 20\n",
      "table of 3\n",
      "3 * 1 = 3\n",
      "3 * 2 = 6\n",
      "3 * 3 = 9\n",
      "3 * 4 = 12\n",
      "3 * 5 = 15\n",
      "3 * 6 = 18\n",
      "3 * 7 = 21\n",
      "3 * 8 = 24\n",
      "3 * 9 = 27\n",
      "3 * 10 = 30\n",
      "table of 4\n",
      "4 * 1 = 4\n",
      "4 * 2 = 8\n",
      "4 * 3 = 12\n",
      "4 * 4 = 16\n",
      "4 * 5 = 20\n",
      "4 * 6 = 24\n",
      "4 * 7 = 28\n",
      "4 * 8 = 32\n",
      "4 * 9 = 36\n",
      "4 * 10 = 40\n",
      "table of 5\n",
      "5 * 1 = 5\n",
      "5 * 2 = 10\n",
      "5 * 3 = 15\n",
      "5 * 4 = 20\n",
      "5 * 5 = 25\n",
      "5 * 6 = 30\n",
      "5 * 7 = 35\n",
      "5 * 8 = 40\n",
      "5 * 9 = 45\n",
      "5 * 10 = 50\n",
      "table of 6\n",
      "6 * 1 = 6\n",
      "6 * 2 = 12\n",
      "6 * 3 = 18\n",
      "6 * 4 = 24\n",
      "6 * 5 = 30\n",
      "6 * 6 = 36\n",
      "6 * 7 = 42\n",
      "6 * 8 = 48\n",
      "6 * 9 = 54\n",
      "6 * 10 = 60\n",
      "table of 7\n",
      "7 * 1 = 7\n",
      "7 * 2 = 14\n",
      "7 * 3 = 21\n",
      "7 * 4 = 28\n",
      "7 * 5 = 35\n",
      "7 * 6 = 42\n",
      "7 * 7 = 49\n",
      "7 * 8 = 56\n",
      "7 * 9 = 63\n",
      "7 * 10 = 70\n",
      "table of 8\n",
      "8 * 1 = 8\n",
      "8 * 2 = 16\n",
      "8 * 3 = 24\n",
      "8 * 4 = 32\n",
      "8 * 5 = 40\n",
      "8 * 6 = 48\n",
      "8 * 7 = 56\n",
      "8 * 8 = 64\n",
      "8 * 9 = 72\n",
      "8 * 10 = 80\n",
      "table of 9\n",
      "9 * 1 = 9\n",
      "9 * 2 = 18\n",
      "9 * 3 = 27\n",
      "9 * 4 = 36\n",
      "9 * 5 = 45\n",
      "9 * 6 = 54\n",
      "9 * 7 = 63\n",
      "9 * 8 = 72\n",
      "9 * 9 = 81\n",
      "9 * 10 = 90\n",
      "table of 10\n",
      "10 * 1 = 10\n",
      "10 * 2 = 20\n",
      "10 * 3 = 30\n",
      "10 * 4 = 40\n",
      "10 * 5 = 50\n",
      "10 * 6 = 60\n",
      "10 * 7 = 70\n",
      "10 * 8 = 80\n",
      "10 * 9 = 90\n",
      "10 * 10 = 100\n"
     ]
    }
   ],
   "source": [
    "#12Create a Python program that generates a multiplication table for a given number using a for loop.\n",
    "for i in range(1,11):\n",
    "    print(\"table of\",i)\n",
    "    for j in range(1,11):\n",
    "        print(i,\"*\",j,\"=\",i*j)\n",
    "        "
   ]
  },
  {
   "cell_type": "code",
   "execution_count": 39,
   "id": "dde7e261-41a4-44a4-ac45-715e926cb602",
   "metadata": {},
   "outputs": [
    {
     "name": "stdout",
     "output_type": "stream",
     "text": [
      "[3, 4, 3, 4, 2, 3, 43, 4, 32, 4, 22]\n"
     ]
    }
   ],
   "source": [
    "#13Write a Python program to reverse a list using a for loop.\n",
    "l=[22,4,32,4,43,3,2,4,3,4,3,]\n",
    "rev_l=[]\n",
    "for i in range(len(l)-1,-1,-1):\n",
    "    rev_l.append(l[i])\n",
    "print(rev_l)\n",
    "    \n"
   ]
  },
  {
   "cell_type": "code",
   "execution_count": 42,
   "id": "1af10ca3-91e7-45f5-b469-4ab4a74eef52",
   "metadata": {},
   "outputs": [
    {
     "name": "stdout",
     "output_type": "stream",
     "text": [
      "Common elements between the two lists are: [3, 4, 5]\n"
     ]
    }
   ],
   "source": [
    "#13Write a Python program to find the common elements between two lists using a for loop.\n",
    "def find_common_elements(list1, list2):\n",
    "    common_elements = []\n",
    "\n",
    "    for element in list1:\n",
    "        if element in list2:\n",
    "            common_elements.append(element)\n",
    "\n",
    "    return common_elements\n",
    "\n",
    "# Example usage\n",
    "list1 = [1, 2, 3, 4, 5]\n",
    "list2 = [3, 4, 5, 6, 7]\n",
    "\n",
    "result = find_common_elements(list1, list2)\n",
    "\n",
    "if result:\n",
    "    print(f\"Common elements between the two lists are: {result}\")\n",
    "else:\n",
    "    print(\"There are no common elements between the two lists.\")"
   ]
  },
  {
   "cell_type": "code",
   "execution_count": 1,
   "id": "d12cb489-63c2-46b5-b7dc-be812508a8ab",
   "metadata": {},
   "outputs": [
    {
     "name": "stdout",
     "output_type": "stream",
     "text": [
      "Key: a, Value: 1\n",
      "Key: b, Value: 2\n",
      "Key: c, Value: 3\n"
     ]
    }
   ],
   "source": [
    "#14Explain how to use a for loop to iterate through the keys and values of a dictionary in Python.\n",
    "my_dict = {'a': 1, 'b': 2, 'c': 3}\n",
    "\n",
    "# Iterating through keys and values using a for loop\n",
    "for key, value in my_dict.items():\n",
    "    print(f\"Key: {key}, Value: {value}\")"
   ]
  },
  {
   "cell_type": "code",
   "execution_count": 2,
   "id": "e37870f2-f980-4f1e-a68d-ba9c136d9cbe",
   "metadata": {},
   "outputs": [
    {
     "name": "stdin",
     "output_type": "stream",
     "text": [
      "Enter the first number:  6\n",
      "Enter the second number:  6\n"
     ]
    },
    {
     "name": "stdout",
     "output_type": "stream",
     "text": [
      "The GCD of 6 and 6 is: 6\n"
     ]
    }
   ],
   "source": [
    "#15Write a Python program to find the GCD (Greatest Common Divisor) of two numbers using a for loop.\n",
    "def find_gcd(a, b):\n",
    "    while b:\n",
    "        a, b = b, a % b\n",
    "    return a\n",
    "\n",
    "# Taking input from the user\n",
    "num1 = int(input(\"Enter the first number: \"))\n",
    "num2 = int(input(\"Enter the second number: \"))\n",
    "\n",
    "# Finding and printing the GCD\n",
    "gcd = find_gcd(num1, num2)\n",
    "print(f\"The GCD of {num1} and {num2} is: {gcd}\")"
   ]
  },
  {
   "cell_type": "code",
   "execution_count": 3,
   "id": "01c8c70e-f7d9-432e-b828-f22789d43c9e",
   "metadata": {},
   "outputs": [
    {
     "name": "stdin",
     "output_type": "stream",
     "text": [
      "Enter a string:  jyoti\n"
     ]
    },
    {
     "name": "stdout",
     "output_type": "stream",
     "text": [
      "jyoti is not a palindrome.\n"
     ]
    }
   ],
   "source": [
    "#16Create a Python program that checks if a string is a palindrome using a for loop.\n",
    "def is_palindrome(s):\n",
    "    # Convert the string to lowercase and remove spaces\n",
    "    s = s.lower().replace(\" \", \"\")\n",
    "\n",
    "    # Initialize indices for the start and end of the string\n",
    "    start = 0\n",
    "    end = len(s) - 1\n",
    "\n",
    "    # Use a for loop to check if the string is a palindrome\n",
    "    for _ in range(len(s) // 2):\n",
    "        if s[start] != s[end]:\n",
    "            return False\n",
    "        start += 1\n",
    "        end -= 1\n",
    "\n",
    "    return True\n",
    "\n",
    "# Taking input from the user\n",
    "user_input = input(\"Enter a string: \")\n",
    "\n",
    "# Checking if the string is a palindrome\n",
    "if is_palindrome(user_input):\n",
    "    print(f\"{user_input} is a palindrome.\")\n",
    "else:\n",
    "    print(f\"{user_input} is not a palindrome.\")"
   ]
  },
  {
   "cell_type": "code",
   "execution_count": 10,
   "id": "9efb6489-bb3a-4f8e-98ab-3f424dccecfb",
   "metadata": {},
   "outputs": [
    {
     "name": "stdout",
     "output_type": "stream",
     "text": [
      "Original List: [1, 2, 2, 3, 4, 4, 5, 6, 6, 7]\n",
      "List without Duplicates: [1, 2, 3, 4, 5, 6, 7]\n"
     ]
    }
   ],
   "source": [
    "#17Write a Python program to remove duplicates from a list using a for loop\n",
    "def remove_duplicates(input_list):\n",
    "    # Initialize an empty list to store unique elements\n",
    "    unique_list = []\n",
    "\n",
    "    # Use a for loop to iterate through the input list\n",
    "    for element in input_list:\n",
    "        # Check if the element is not already in the unique list\n",
    "        if element not in unique_list:\n",
    "            # If not, add it to the unique list\n",
    "            unique_list.append(element)\n",
    "\n",
    "    return unique_list\n",
    "\n",
    "# Example usage\n",
    "input_list = [1, 2, 2, 3, 4, 4, 5, 6, 6, 7]\n",
    "result_list = remove_duplicates(input_list)\n",
    "\n",
    "# Printing the list without duplicates\n",
    "print(f\"Original List: {input_list}\")\n",
    "print(f\"List without Duplicates: {result_list}\")\n"
   ]
  },
  {
   "cell_type": "code",
   "execution_count": 9,
   "id": "e6740fcd-a555-4762-b6ef-1cb7857457d4",
   "metadata": {},
   "outputs": [
    {
     "name": "stdin",
     "output_type": "stream",
     "text": [
      "Enter a sentence:  ddd ffgg fd gh\n"
     ]
    },
    {
     "name": "stdout",
     "output_type": "stream",
     "text": [
      "The number of words in the sentence is: 4\n"
     ]
    }
   ],
   "source": [
    "#18Create a Python program that counts the number of words in a sentence using a for loop.\n",
    "def count_words(sentence):\n",
    "    # Initialize the word count variable\n",
    "    word_count = 0\n",
    "\n",
    "    # Use a for loop to iterate through each character in the sentence\n",
    "    for char in sentence:\n",
    "        # Check if the character is a space or a newline character\n",
    "        if char.isspace() or char == '\\n':\n",
    "            # If yes, increment the word count\n",
    "            word_count += 1\n",
    "\n",
    "    # Increment the word count for the last word in the sentence\n",
    "    word_count += 1\n",
    "\n",
    "    return word_count\n",
    "\n",
    "# Taking input from the user\n",
    "user_sentence = input(\"Enter a sentence: \")\n",
    "\n",
    "# Counting and printing the number of words\n",
    "result = count_words(user_sentence)\n",
    "print(f\"The number of words in the sentence is: {result}\")\n"
   ]
  },
  {
   "cell_type": "code",
   "execution_count": 8,
   "id": "ca231b9e-9385-45c9-b621-aea712310950",
   "metadata": {},
   "outputs": [
    {
     "name": "stdout",
     "output_type": "stream",
     "text": [
      "The sum of odd numbers from 1 to 50 is: 625\n"
     ]
    }
   ],
   "source": [
    "#19Write a Python program to find the sum of all odd numbers from 1 to 50 using a for loop.\n",
    "# Initialize the sum variable\n",
    "sum_of_odd_numbers = 0\n",
    "\n",
    "# Use a for loop to iterate through numbers from 1 to 50\n",
    "for number in range(1, 51):\n",
    "    # Check if the number is odd\n",
    "    if number % 2 != 0:\n",
    "        # Add the odd number to the sum\n",
    "        sum_of_odd_numbers += number\n",
    "\n",
    "# Print the sum of odd numbers\n",
    "print(f\"The sum of odd numbers from 1 to 50 is: {sum_of_odd_numbers}\")\n",
    "\n"
   ]
  },
  {
   "cell_type": "code",
   "execution_count": 7,
   "id": "4ebdc07d-07f5-4a1f-a339-0b5a3285b605",
   "metadata": {},
   "outputs": [
    {
     "name": "stdin",
     "output_type": "stream",
     "text": [
      "Enter a year:  6000\n"
     ]
    },
    {
     "name": "stdout",
     "output_type": "stream",
     "text": [
      "6000 is a leap year.\n"
     ]
    }
   ],
   "source": [
    "#20Write a Python program that checks if a given year is a leap year using a for loop.\n",
    "def is_leap_year(year):\n",
    "    # Use a for loop to check the leap year conditions\n",
    "    for _ in range(1):  # A single iteration, just for the structure\n",
    "        if (year % 4 == 0 and year % 100 != 0) or (year % 400 == 0):\n",
    "            print(f\"{year} is a leap year.\")\n",
    "            break\n",
    "        else:\n",
    "            print(f\"{year} is not a leap year.\")\n",
    "\n",
    "# Taking input from the user\n",
    "user_year = int(input(\"Enter a year: \"))\n",
    "\n",
    "# Checking if the year is a leap year\n",
    "is_leap_year(user_year)\n"
   ]
  },
  {
   "cell_type": "code",
   "execution_count": 6,
   "id": "3b7afd17-27ea-491c-a6c8-487451ac02f2",
   "metadata": {},
   "outputs": [
    {
     "name": "stdin",
     "output_type": "stream",
     "text": [
      "Enter a number:  55\n"
     ]
    },
    {
     "name": "stdout",
     "output_type": "stream",
     "text": [
      "The square root of 55.0 is approximately 7.416198\n"
     ]
    }
   ],
   "source": [
    "#21Create a Python program that calculates the square root of a number using a for loop.\n",
    "def square_root(num, epsilon=1e-6, max_iterations=100):\n",
    "    # Initial guess for the square root\n",
    "    guess = num / 2.0\n",
    "\n",
    "    # Use a for loop for iteration\n",
    "    for _ in range(max_iterations):\n",
    "        # Update the guess using the Newton-Raphson formula\n",
    "        guess = 0.5 * (guess + num / guess)\n",
    "\n",
    "        # Check for convergence\n",
    "        if abs(guess**2 - num) < epsilon:\n",
    "            return guess\n",
    "\n",
    "    # If the loop completes without convergence, return the last guess\n",
    "    return guess\n",
    "\n",
    "# Taking input from the user\n",
    "user_input = float(input(\"Enter a number: \"))\n",
    "\n",
    "# Calculating and printing the square root\n",
    "result = square_root(user_input)\n",
    "print(f\"The square root of {user_input} is approximately {result:.6f}\")\n"
   ]
  },
  {
   "cell_type": "code",
   "execution_count": 5,
   "id": "3f6de83d-99e2-489b-a057-ab8ebbcbda8c",
   "metadata": {},
   "outputs": [
    {
     "name": "stdin",
     "output_type": "stream",
     "text": [
      "Enter the first number:  66\n",
      "Enter the second number:  44\n"
     ]
    },
    {
     "name": "stdout",
     "output_type": "stream",
     "text": [
      "The LCM of 66 and 44 is: 132\n"
     ]
    }
   ],
   "source": [
    "#22Write a Python program to find the LCM (Least Common Multiple) of two numbers using a for loop.\n",
    "def find_gcd(a, b):\n",
    "    while b:\n",
    "        a, b = b, a % b\n",
    "    return a\n",
    "\n",
    "def find_lcm(a, b):\n",
    "    # Calculate LCM using the formula\n",
    "    lcm = abs(a * b) // find_gcd(a, b)\n",
    "    return lcm\n",
    "\n",
    "# Taking input from the user\n",
    "num1 = int(input(\"Enter the first number: \"))\n",
    "num2 = int(input(\"Enter the second number: \"))\n",
    "\n",
    "# Finding and printing the LCM\n",
    "lcm = find_lcm(num1, num2)\n",
    "print(f\"The LCM of {num1} and {num2} is: {lcm}\")"
   ]
  },
  {
   "cell_type": "code",
   "execution_count": 11,
   "id": "74072a11-9827-477f-ae9e-590bea00aabf",
   "metadata": {},
   "outputs": [
    {
     "name": "stdin",
     "output_type": "stream",
     "text": [
      "Enter a number:  6\n"
     ]
    },
    {
     "name": "stdout",
     "output_type": "stream",
     "text": [
      "Positive number.\n"
     ]
    }
   ],
   "source": [
    "#if-else\n",
    "#1Write a Python program to check if a number is positive, negative, or zero using an if-else statement.\n",
    "num = float(input(\"Enter a number: \"))\n",
    "\n",
    "if num > 0:\n",
    "    print(\"Positive number.\")\n",
    "elif num < 0:\n",
    "    print(\"Negative number.\")\n",
    "else:\n",
    "    print(\"Zero.\")\n",
    "\n",
    "\n",
    "\n",
    "\n",
    "\n",
    "\n",
    "\n",
    "\n",
    "\n",
    "\n"
   ]
  },
  {
   "cell_type": "code",
   "execution_count": 12,
   "id": "8c2de760-93d6-449f-8804-c4d885eb93a1",
   "metadata": {},
   "outputs": [
    {
     "name": "stdin",
     "output_type": "stream",
     "text": [
      "Enter a number:  4\n"
     ]
    },
    {
     "name": "stdout",
     "output_type": "stream",
     "text": [
      "Even number.\n"
     ]
    }
   ],
   "source": [
    "#2Create a Python program that checks if a given number is even or odd using an if-else statement.\n",
    "num = int(input(\"Enter a number: \"))\n",
    "\n",
    "if num % 2 == 0:\n",
    "    print(\"Even number.\")\n",
    "else:\n",
    "    print(\"Odd number.\")\n"
   ]
  },
  {
   "cell_type": "code",
   "execution_count": 13,
   "id": "070fbc8c-c225-4f82-a925-f075a82cf700",
   "metadata": {},
   "outputs": [
    {
     "name": "stdin",
     "output_type": "stream",
     "text": [
      "Enter a number:  77\n"
     ]
    },
    {
     "name": "stdout",
     "output_type": "stream",
     "text": [
      "Positive number.\n",
      "Odd number.\n"
     ]
    }
   ],
   "source": [
    "#3How can you use nested if-else statements in Python, and provide an example?\n",
    "num = int(input(\"Enter a number: \"))\n",
    "\n",
    "if num > 0:\n",
    "    print(\"Positive number.\")\n",
    "    if num % 2 == 0:\n",
    "        print(\"Even number.\")\n",
    "    else:\n",
    "        print(\"Odd number.\")\n",
    "else:\n",
    "    print(\"Non-positive number.\")\n"
   ]
  },
  {
   "cell_type": "code",
   "execution_count": 14,
   "id": "46877f0c-4c81-478e-9927-af20105ccfaa",
   "metadata": {},
   "outputs": [
    {
     "name": "stdin",
     "output_type": "stream",
     "text": [
      "Enter the first number:  5656\n",
      "Enter the second number:  444\n",
      "Enter the third number:  322\n"
     ]
    },
    {
     "name": "stdout",
     "output_type": "stream",
     "text": [
      "5656.0 is the largest.\n"
     ]
    }
   ],
   "source": [
    "#4Write a Python program to determine the largest of three numbers using if-else.\n",
    "num1 = float(input(\"Enter the first number: \"))\n",
    "num2 = float(input(\"Enter the second number: \"))\n",
    "num3 = float(input(\"Enter the third number: \"))\n",
    "\n",
    "if num1 >= num2 and num1 >= num3:\n",
    "    print(f\"{num1} is the largest.\")\n",
    "elif num2 >= num1 and num2 >= num3:\n",
    "    print(f\"{num2} is the largest.\")\n",
    "else:\n",
    "    print(f\"{num3} is the largest.\")\n"
   ]
  },
  {
   "cell_type": "code",
   "execution_count": 15,
   "id": "fdcbd8c2-c26d-4b3a-ac9a-02b13bad5ede",
   "metadata": {},
   "outputs": [
    {
     "name": "stdin",
     "output_type": "stream",
     "text": [
      "Enter a number:  54\n"
     ]
    },
    {
     "name": "stdout",
     "output_type": "stream",
     "text": [
      "The absolute value of 54.0 is 54.0.\n"
     ]
    }
   ],
   "source": [
    "#5Write a Python program that calculates the absolute value of a number using if-else.\n",
    "num = float(input(\"Enter a number: \"))\n",
    "\n",
    "if num < 0:\n",
    "    absolute_value = -num\n",
    "else:\n",
    "    absolute_value = num\n",
    "\n",
    "print(f\"The absolute value of {num} is {absolute_value}.\")\n"
   ]
  },
  {
   "cell_type": "code",
   "execution_count": 1,
   "id": "6fd24fdd-e21c-4137-82d7-db376cc592c3",
   "metadata": {},
   "outputs": [
    {
     "name": "stdin",
     "output_type": "stream",
     "text": [
      "Enter a character:  fvbfd\n"
     ]
    },
    {
     "name": "stdout",
     "output_type": "stream",
     "text": [
      "fvbfd is a consonant.\n"
     ]
    }
   ],
   "source": [
    "#6Create a Python program that checks if a given character is a vowel or consonant using if-else.\n",
    "char = input(\"Enter a character: \").lower()\n",
    "\n",
    "if char.isalpha():\n",
    "    if char in 'aeiou':\n",
    "        print(f\"{char} is a vowel.\")\n",
    "    else:\n",
    "        print(f\"{char} is a consonant.\")\n",
    "else:\n",
    "    print(\"Invalid input. Please enter a valid character.\")\n"
   ]
  },
  {
   "cell_type": "code",
   "execution_count": 2,
   "id": "0277ec0b-675e-471d-b6f5-901eb1a6c56b",
   "metadata": {},
   "outputs": [
    {
     "name": "stdin",
     "output_type": "stream",
     "text": [
      "Enter your age:  22\n"
     ]
    },
    {
     "name": "stdout",
     "output_type": "stream",
     "text": [
      "You are eligible to vote.\n"
     ]
    }
   ],
   "source": [
    "#7Write a Python program to determine if a user is eligible to vote based on their age using if-else.\n",
    "age = int(input(\"Enter your age: \"))\n",
    "\n",
    "if age >= 18:\n",
    "    print(\"You are eligible to vote.\")\n",
    "else:\n",
    "    print(\"You are not eligible to vote yet.\")\n"
   ]
  },
  {
   "cell_type": "code",
   "execution_count": 3,
   "id": "b3206b25-a442-4273-8992-74cb42bcc401",
   "metadata": {},
   "outputs": [
    {
     "name": "stdin",
     "output_type": "stream",
     "text": [
      "Enter the purchase amount:  50000\n"
     ]
    },
    {
     "name": "stdout",
     "output_type": "stream",
     "text": [
      "The discount amount is: 5000.0\n"
     ]
    }
   ],
   "source": [
    "#8Create a Python program that calculates the discount amount based on the purchase amount using if-else.\n",
    "purchase_amount = float(input(\"Enter the purchase amount: \"))\n",
    "\n",
    "if purchase_amount > 1000:\n",
    "    discount = 0.1 * purchase_amount\n",
    "else:\n",
    "    discount = 0\n",
    "\n",
    "print(f\"The discount amount is: {discount}\")\n"
   ]
  },
  {
   "cell_type": "code",
   "execution_count": 4,
   "id": "fd87ae90-ba92-4e0c-bf14-43b0a1b07168",
   "metadata": {},
   "outputs": [
    {
     "name": "stdin",
     "output_type": "stream",
     "text": [
      "Enter a number:  44\n"
     ]
    },
    {
     "name": "stdout",
     "output_type": "stream",
     "text": [
      "44.0 is within the specified range.\n"
     ]
    }
   ],
   "source": [
    "#9Write a Python program to check if a number is within a specified range using if-else.\n",
    "num = float(input(\"Enter a number: \"))\n",
    "\n",
    "if 10 <= num <= 50:\n",
    "    print(f\"{num} is within the specified range.\")\n",
    "else:\n",
    "    print(f\"{num} is outside the specified range.\")\n",
    "\n"
   ]
  },
  {
   "cell_type": "code",
   "execution_count": 6,
   "id": "3aec760c-0936-4a8b-85a1-974c99ada12c",
   "metadata": {},
   "outputs": [
    {
     "name": "stdin",
     "output_type": "stream",
     "text": [
      "Enter the student's score:  78\n"
     ]
    },
    {
     "name": "stdout",
     "output_type": "stream",
     "text": [
      "The student's grade is: C\n"
     ]
    }
   ],
   "source": [
    "#10Create a Python program that determines the grade of a student based on their score using if-else.\n",
    "score = float(input(\"Enter the student's score: \"))\n",
    "\n",
    "if 90 <= score <= 100:\n",
    "    grade = 'A'\n",
    "elif 80 <= score < 90:\n",
    "    grade = 'B'\n",
    "elif 70 <= score < 80:\n",
    "    grade = 'C'\n",
    "elif 60 <= score < 70:\n",
    "    grade = 'D'\n",
    "else:\n",
    "    grade = 'F'\n",
    "\n",
    "print(f\"The student's grade is: {grade}\")\n"
   ]
  },
  {
   "cell_type": "code",
   "execution_count": 7,
   "id": "53004ec0-61cd-438e-afa6-ed754ef86cc9",
   "metadata": {},
   "outputs": [
    {
     "name": "stdin",
     "output_type": "stream",
     "text": [
      "Enter a string:  gbfg\n"
     ]
    },
    {
     "name": "stdout",
     "output_type": "stream",
     "text": [
      "The string is not empty.\n"
     ]
    }
   ],
   "source": [
    "#11Write a Python program to check if a string is empty or not using if-else.\n",
    "user_input = input(\"Enter a string: \")\n",
    "\n",
    "if user_input:\n",
    "    print(\"The string is not empty.\")\n",
    "else:\n",
    "    print(\"The string is empty.\")\n"
   ]
  },
  {
   "cell_type": "code",
   "execution_count": 8,
   "id": "e40286a1-da16-4b95-85e7-55a63828600c",
   "metadata": {},
   "outputs": [
    {
     "name": "stdin",
     "output_type": "stream",
     "text": [
      "Enter the length of side a:  4\n",
      "Enter the length of side b:  6\n",
      "Enter the length of side c:  7\n"
     ]
    },
    {
     "name": "stdout",
     "output_type": "stream",
     "text": [
      "Scalene triangle.\n"
     ]
    }
   ],
   "source": [
    "#12Create a Python program that identifies the type of a triangle (e.g., equilateral, isosceles, or scalene) based on input values using if-else\n",
    "a = float(input(\"Enter the length of side a: \"))\n",
    "b = float(input(\"Enter the length of side b: \"))\n",
    "c = float(input(\"Enter the length of side c: \"))\n",
    "\n",
    "if a == b == c:\n",
    "    print(\"Equilateral triangle.\")\n",
    "elif a == b or b == c or a == c:\n",
    "    print(\"Isosceles triangle.\")\n",
    "else:\n",
    "    print(\"Scalene triangle.\")\n"
   ]
  },
  {
   "cell_type": "code",
   "execution_count": 9,
   "id": "bce270b3-5478-436f-b123-e953c4bbff13",
   "metadata": {},
   "outputs": [
    {
     "name": "stdin",
     "output_type": "stream",
     "text": [
      "Enter a number (1-7) representing the day of the week:  7\n"
     ]
    },
    {
     "name": "stdout",
     "output_type": "stream",
     "text": [
      "The day is Sunday.\n"
     ]
    }
   ],
   "source": [
    "#13Write a Python program to determine the day of the week based on a user-provided number using if-else.\n",
    "day_number = int(input(\"Enter a number (1-7) representing the day of the week: \"))\n",
    "\n",
    "if 1 <= day_number <= 7:\n",
    "    days = [\"Monday\", \"Tuesday\", \"Wednesday\", \"Thursday\", \"Friday\", \"Saturday\", \"Sunday\"]\n",
    "    print(f\"The day is {days[day_number - 1]}.\")\n",
    "else:\n",
    "    print(\"Invalid input. Please enter a number between 1 and 7.\")\n"
   ]
  },
  {
   "cell_type": "code",
   "execution_count": 10,
   "id": "673868a3-0234-41de-9e07-525854cdf393",
   "metadata": {},
   "outputs": [
    {
     "name": "stdin",
     "output_type": "stream",
     "text": [
      "Enter a year:  7000\n"
     ]
    },
    {
     "name": "stdout",
     "output_type": "stream",
     "text": [
      "7000 is not a leap year.\n"
     ]
    }
   ],
   "source": [
    "#14Create a Python program that checks if a given year is a leap year using both if-else and a function.\n",
    "def is_leap_year(year):\n",
    "    if (year % 4 == 0 and year % 100 != 0) or (year % 400 == 0):\n",
    "        return True\n",
    "    else:\n",
    "        return False\n",
    "\n",
    "user_year = int(input(\"Enter a year: \"))\n",
    "\n",
    "if is_leap_year(user_year):\n",
    "    print(f\"{user_year} is a leap year.\")\n",
    "else:\n",
    "    print(f\"{user_year} is not a leap year.\")\n"
   ]
  },
  {
   "cell_type": "code",
   "execution_count": null,
   "id": "ff4aa60e-aa0b-4f64-ac2a-17a204721f45",
   "metadata": {},
   "outputs": [],
   "source": [
    "#15How do you use the \"assert\" statement in Python to add debugging checks within if-else blocks?\n",
    "num = int(input(\"Enter a number: \"))\n",
    "\n",
    "# Using assert to check if the number is positive\n",
    "assert num > 0, \"Number must be positive.\"\n",
    "\n",
    "if num % 2 == 0:\n",
    "    print(\"Even number.\")\n",
    "else:\n",
    "    print(\"Odd number.\")\n"
   ]
  },
  {
   "cell_type": "code",
   "execution_count": 11,
   "id": "e14a4950-0ab9-42ce-b5b8-6609bf7222af",
   "metadata": {},
   "outputs": [
    {
     "name": "stdin",
     "output_type": "stream",
     "text": [
      "Enter your age:  70\n"
     ]
    },
    {
     "name": "stdout",
     "output_type": "stream",
     "text": [
      "You are eligible for a senior citizen discount.\n"
     ]
    }
   ],
   "source": [
    "#16Create a Python program that determines the eligibility of a person for a senior citizen discount based on age using if-else.\n",
    "age = int(input(\"Enter your age: \"))\n",
    "\n",
    "if age >= 60:\n",
    "    print(\"You are eligible for a senior citizen discount.\")\n",
    "else:\n",
    "    print(\"You are not eligible for a senior citizen discount.\")\n"
   ]
  },
  {
   "cell_type": "code",
   "execution_count": 12,
   "id": "2b0726f2-8774-46a2-9192-55e318b25ab3",
   "metadata": {},
   "outputs": [
    {
     "name": "stdin",
     "output_type": "stream",
     "text": [
      "Enter a character:  bfbfd\n"
     ]
    },
    {
     "name": "stdout",
     "output_type": "stream",
     "text": [
      "bfbfd is a lowercase letter.\n"
     ]
    }
   ],
   "source": [
    "#17Write a Python program to categorize a given character as uppercase, lowercase, or neither using if-else.\n",
    "char = input(\"Enter a character: \")\n",
    "\n",
    "if char.isalpha():\n",
    "    if char.isupper():\n",
    "        print(f\"{char} is an uppercase letter.\")\n",
    "    elif char.islower():\n",
    "        print(f\"{char} is a lowercase letter.\")\n",
    "else:\n",
    "    print(f\"{char} is not a letter.\")\n",
    "\n"
   ]
  },
  {
   "cell_type": "code",
   "execution_count": 15,
   "id": "96418077-f0b1-424c-982f-b52320fb0341",
   "metadata": {},
   "outputs": [
    {
     "name": "stdin",
     "output_type": "stream",
     "text": [
      "Enter the coefficient of x^2:  6\n",
      "Enter the coefficient of x:  7\n",
      "Enter the constant term:  8\n"
     ]
    },
    {
     "name": "stdout",
     "output_type": "stream",
     "text": [
      "The roots are complex conjugates: -0.5833333333333334 + 0.9965217285917832i and -0.5833333333333334 - 0.9965217285917832i\n"
     ]
    }
   ],
   "source": [
    "#18Write a Python program to determine the roots of a quadratic equation using if-else.\n",
    "import math\n",
    "import math\n",
    "\n",
    "a = float(input(\"Enter the coefficient of x^2: \"))\n",
    "b = float(input(\"Enter the coefficient of x: \"))\n",
    "c = float(input(\"Enter the constant term: \"))\n",
    "\n",
    "# Calculate the discriminant\n",
    "discriminant = b**2 - 4*a*c\n",
    "\n",
    "if discriminant > 0:\n",
    "    root1 = (-b + math.sqrt(discriminant)) / (2*a)\n",
    "    root2 = (-b - math.sqrt(discriminant)) / (2*a)\n",
    "    print(f\"The roots are real and distinct: {root1} and {root2}\")\n",
    "elif discriminant == 0:\n",
    "    root = -b / (2*a)\n",
    "    print(f\"The root is real and equal: {root}\")\n",
    "else:\n",
    "    real_part = -b / (2*a)\n",
    "    imaginary_part = math.sqrt(abs(discriminant)) / (2*a)\n",
    "    print(f\"The roots are complex conjugates: {real_part} + {imaginary_part}i and {real_part} - {imaginary_part}i\")\n",
    "\n"
   ]
  },
  {
   "cell_type": "code",
   "execution_count": 16,
   "id": "6a71117d-9ce5-4e91-a1f3-55b94ea54289",
   "metadata": {},
   "outputs": [
    {
     "name": "stdin",
     "output_type": "stream",
     "text": [
      "Enter a year:  787675\n"
     ]
    },
    {
     "name": "stdout",
     "output_type": "stream",
     "text": [
      "787675 is not a century year.\n"
     ]
    }
   ],
   "source": [
    "#19Create a Python program that checks if a given year is a century year or not using if-else.\n",
    "year = int(input(\"Enter a year: \"))\n",
    "\n",
    "if year % 100 == 0:\n",
    "    print(f\"{year} is a century year.\")\n",
    "else:\n",
    "    print(f\"{year} is not a century year.\")\n",
    "\n"
   ]
  },
  {
   "cell_type": "code",
   "execution_count": 17,
   "id": "4fb562b8-f4e3-4eb7-87cb-74e4d9be6976",
   "metadata": {},
   "outputs": [
    {
     "name": "stdin",
     "output_type": "stream",
     "text": [
      "Enter a number:  78\n"
     ]
    },
    {
     "name": "stdout",
     "output_type": "stream",
     "text": [
      "78 is not a perfect square.\n"
     ]
    }
   ],
   "source": [
    "#20Write a Python program to determine if a given number is a perfect square using if-else.\n",
    "num = int(input(\"Enter a number: \"))\n",
    "\n",
    "if num > 0 and (int(num**0.5))**2 == num:\n",
    "    print(f\"{num} is a perfect square.\")\n",
    "else:\n",
    "    print(f\"{num} is not a perfect square.\")\n"
   ]
  },
  {
   "cell_type": "code",
   "execution_count": 18,
   "id": "e2e4f5d3-0603-43cc-82cd-d5db77246851",
   "metadata": {},
   "outputs": [
    {
     "name": "stdout",
     "output_type": "stream",
     "text": [
      "1\n",
      "3\n",
      "5\n"
     ]
    }
   ],
   "source": [
    "#21Explain the purpose of the \"continue\" and \"break\" statements within if-else loops.\n",
    "\n",
    "for i in range(1, 11):\n",
    "    if i % 2 == 0:\n",
    "        continue  # Skip even numbers\n",
    "    print(i)\n",
    "    if i == 5:\n",
    "        break  # Stop the loop when i equals 5\n",
    "\n",
    "\n",
    "\n"
   ]
  },
  {
   "cell_type": "code",
   "execution_count": 19,
   "id": "25964636-5fb8-42d8-9334-0265043e49e3",
   "metadata": {},
   "outputs": [
    {
     "name": "stdin",
     "output_type": "stream",
     "text": [
      "Enter your weight in kilograms:  80\n",
      "Enter your height in meters:  23\n"
     ]
    },
    {
     "name": "stdout",
     "output_type": "stream",
     "text": [
      "Your BMI is 0.15, and you are in the Underweight category.\n"
     ]
    }
   ],
   "source": [
    "#22Create a Python program that calculates the BMI (Body Mass Index) of a person based on their weight and height using if-else.\n",
    "weight = float(input(\"Enter your weight in kilograms: \"))\n",
    "height = float(input(\"Enter your height in meters: \"))\n",
    "\n",
    "bmi = weight / (height**2)\n",
    "\n",
    "if 18.5 <= bmi <= 24.9:\n",
    "    category = \"Normal weight\"\n",
    "elif bmi < 18.5:\n",
    "    category = \"Underweight\"\n",
    "else:\n",
    "    category = \"Overweight\"\n",
    "\n",
    "print(f\"Your BMI is {bmi:.2f}, and you are in the {category} category.\")\n"
   ]
  },
  {
   "cell_type": "code",
   "execution_count": 20,
   "id": "65af3b70-30df-42ee-80d2-a8d7c6074461",
   "metadata": {},
   "outputs": [
    {
     "name": "stdout",
     "output_type": "stream",
     "text": [
      "Original list: [1, 2, 3, 4, 5, 6, 7, 8, 9, 10]\n",
      "Filtered list of even numbers: [2, 4, 6, 8, 10]\n"
     ]
    }
   ],
   "source": [
    "#23How can you use the \"filter()\" function with if-else statements to filter elements from a list?\n",
    "numbers = [1, 2, 3, 4, 5, 6, 7, 8, 9, 10]\n",
    "\n",
    "filtered_numbers = filter(lambda x: x % 2 == 0, numbers)\n",
    "\n",
    "print(f\"Original list: {numbers}\")\n",
    "print(f\"Filtered list of even numbers: {list(filtered_numbers)}\")\n"
   ]
  },
  {
   "cell_type": "code",
   "execution_count": 21,
   "id": "c89498ef-cf7e-460a-8421-0a438fe2d4bc",
   "metadata": {},
   "outputs": [
    {
     "name": "stdin",
     "output_type": "stream",
     "text": [
      "Enter a number:  45\n"
     ]
    },
    {
     "name": "stdout",
     "output_type": "stream",
     "text": [
      "45 is not a prime number.\n"
     ]
    }
   ],
   "source": [
    "#24Write a Python program to determine if a given number is prime or not using if-else.\n",
    "num = int(input(\"Enter a number: \"))\n",
    "\n",
    "if num > 1:\n",
    "    for i in range(2, int(num**0.5) + 1):\n",
    "        if num % i == 0:\n",
    "            print(f\"{num} is not a prime number.\")\n",
    "            break\n",
    "    else:\n",
    "        print(f\"{num} is a prime number.\")\n",
    "else:\n",
    "    print(f\"{num} is not a prime number.\")\n"
   ]
  },
  {
   "cell_type": "code",
   "execution_count": 28,
   "id": "e1f0b38b-7e35-41ca-92fa-e470e84e5156",
   "metadata": {},
   "outputs": [
    {
     "name": "stdout",
     "output_type": "stream",
     "text": [
      "Original numbers: [1, 2, 3, 4, 5]\n",
      "Squared numbers: [1, 4, 9, 16, 25]\n"
     ]
    }
   ],
   "source": [
    "#map\n",
    "#1Explain the purpose of the `map()` function in Python and provide an example of how it can be used to apply a function to each element of an iterable.\n",
    "'''The map() function in Python is used to apply a specified function to every item in an iterable (such as a list) and returns a new iterable with the results. It takes two arguments: the function to apply and the iterable.'''\n",
    "def square(x):\n",
    "    return x ** 2\n",
    "\n",
    "# List of numbers\n",
    "numbers = [1, 2, 3, 4, 5]\n",
    "\n",
    "# Using map() to square each element\n",
    "squared_numbers = map(square, numbers)\n",
    "\n",
    "# Converting the result to a list for printing\n",
    "squared_numbers_list = list(squared_numbers)\n",
    "\n",
    "# Displaying the results\n",
    "print(f\"Original numbers: {numbers}\")\n",
    "print(f\"Squared numbers: {squared_numbers_list}\")\n",
    "\n",
    "\n",
    "\n",
    "\n",
    "\n",
    "\n"
   ]
  },
  {
   "cell_type": "code",
   "execution_count": null,
   "id": "7612c258-8d63-4989-86a2-819e53f37734",
   "metadata": {},
   "outputs": [],
   "source": [
    "#2Write a Python program that uses the `map()` function to square each element of a list of numbers\n",
    "# Function to square a number\n",
    "def square(x):\n",
    "    return x ** 2\n",
    "\n",
    "# List of numbers\n",
    "numbers = [1, 2, 3, 4, 5]\n",
    "\n",
    "# Using map() to square each element\n",
    "squared_numbers = map(square, numbers)\n",
    "\n",
    "# Converting the result to a list for printing\n",
    "squared_numbers_list = list(squared_numbers)\n",
    "\n",
    "print(f\"Original numbers: {numbers}\")\n",
    "print(f\"Squared numbers: {squared_numbers_list}\")\n"
   ]
  },
  {
   "cell_type": "code",
   "execution_count": 29,
   "id": "0f689185-eb6f-4883-8983-b7bc2946a4ea",
   "metadata": {},
   "outputs": [
    {
     "name": "stdout",
     "output_type": "stream",
     "text": [
      "Squared numbers using list comprehension: [1, 4, 9, 16, 25]\n"
     ]
    }
   ],
   "source": [
    "#3How does the `map()` function differ from a list comprehension in Python, and when would you choose one over the other?\n",
    "\"\"\" map() is a built-in function that applies a function to each element of an iterable and returns an iterator. It's often used when the transformation logic is more complex.\n",
    "\n",
    "List comprehension is a concise way to create lists. It can also be used to apply transformations to each element of an iterable, but it often results in more readable and concise code.\n",
    "\n",
    "Choose map() when you have a specific transformation function and you want to apply it to every element in an iterable. Choose list comprehension when the transformation is simple, and you want a concise and readable syntax.\"\"\"\n",
    "# List of numbers\n",
    "numbers = [1, 2, 3, 4, 5]\n",
    "\n",
    "# List comprehension to square each element\n",
    "squared_numbers = [x ** 2 for x in numbers]\n",
    "\n",
    "# Displaying the results\n",
    "print(f\"Squared numbers using list comprehension: {squared_numbers}\")\n"
   ]
  },
  {
   "cell_type": "code",
   "execution_count": 26,
   "id": "6dd9c007-9749-439b-b78c-01387e80a39f",
   "metadata": {},
   "outputs": [
    {
     "name": "stdout",
     "output_type": "stream",
     "text": [
      "Original names: ['Alice', 'Bob', 'Charlie', 'David']\n",
      "Uppercase names: ['ALICE', 'BOB', 'CHARLIE', 'DAVID']\n"
     ]
    }
   ],
   "source": [
    "#4Create a Python program that uses the `map()` function to convert a list of names to uppercase.\n",
    "# List of names\n",
    "names = [\"Alice\", \"Bob\", \"Charlie\", \"David\"]\n",
    "\n",
    "# Using map() to convert names to uppercase\n",
    "uppercase_names = map(str.upper, names)\n",
    "\n",
    "# Converting the result to a list for printing\n",
    "uppercase_names_list = list(uppercase_names)\n",
    "\n",
    "print(f\"Original names: {names}\")\n",
    "print(f\"Uppercase names: {uppercase_names_list}\")\n"
   ]
  },
  {
   "cell_type": "code",
   "execution_count": 25,
   "id": "accfae78-2262-440a-91b1-9c2a33a20e56",
   "metadata": {},
   "outputs": [
    {
     "name": "stdout",
     "output_type": "stream",
     "text": [
      "Original words: ['apple', 'banana', 'orange', 'kiwi']\n",
      "Word lengths: [5, 6, 6, 4]\n"
     ]
    }
   ],
   "source": [
    "#5Write a Python program that uses the `map()` function to calculate the length of each word in a list of strings.\n",
    "# List of strings\n",
    "words = [\"apple\", \"banana\", \"orange\", \"kiwi\"]\n",
    "\n",
    "# Using map() to calculate the length of each word\n",
    "word_lengths = map(len, words)\n",
    "\n",
    "# Converting the result to a list for printing\n",
    "word_lengths_list = list(word_lengths)\n",
    "\n",
    "print(f\"Original words: {words}\")\n",
    "print(f\"Word lengths: {word_lengths_list}\")\n"
   ]
  },
  {
   "cell_type": "code",
   "execution_count": 24,
   "id": "1baa3659-a7e8-43dc-a32f-ad4e043e3436",
   "metadata": {},
   "outputs": [
    {
     "name": "stdout",
     "output_type": "stream",
     "text": [
      "First names: ['John', 'Alice', 'Bob']\n",
      "Last names: ['Doe', 'Smith', 'Johnson']\n",
      "Full names: ['John Doe', 'Alice Smith', 'Bob Johnson']\n"
     ]
    }
   ],
   "source": [
    "#6How can you use the `map()` function to apply a custom function to elements of multiple lists simultaneously in Python?\n",
    "# Custom function to concatenate elements from two lists\n",
    "def concatenate_names(first_name, last_name):\n",
    "    return f\"{first_name} {last_name}\"\n",
    "\n",
    "# Lists of first and last names\n",
    "first_names = [\"John\", \"Alice\", \"Bob\"]\n",
    "last_names = [\"Doe\", \"Smith\", \"Johnson\"]\n",
    "\n",
    "# Using map() to apply the custom function to elements of both lists\n",
    "full_names = map(concatenate_names, first_names, last_names)\n",
    "\n",
    "# Converting the result to a list for printing\n",
    "full_names_list = list(full_names)\n",
    "\n",
    "print(f\"First names: {first_names}\")\n",
    "print(f\"Last names: {last_names}\")\n",
    "print(f\"Full names: {full_names_list}\")\n"
   ]
  },
  {
   "cell_type": "code",
   "execution_count": 23,
   "id": "3686f9cf-08a8-440f-9fe0-a8f5c05b422e",
   "metadata": {},
   "outputs": [
    {
     "name": "stdout",
     "output_type": "stream",
     "text": [
      "Temperatures in Celsius: [0, 25, 100]\n",
      "Temperatures in Fahrenheit: [32.0, 77.0, 212.0]\n"
     ]
    }
   ],
   "source": [
    "#7Create a Python program that uses `map()` to convert a list of temperatures from Celsius to Fahrenheit.\n",
    "# Function to convert Celsius to Fahrenheit\n",
    "def celsius_to_fahrenheit(celsius):\n",
    "    return (celsius * 9/5) + 32\n",
    "\n",
    "# List of temperatures in Celsius\n",
    "temperatures_celsius = [0, 25, 100]\n",
    "\n",
    "# Using map() to convert temperatures to Fahrenheit\n",
    "temperatures_fahrenheit = map(celsius_to_fahrenheit, temperatures_celsius)\n",
    "\n",
    "# Converting the result to a list for printing\n",
    "temperatures_fahrenheit_list = list(temperatures_fahrenheit)\n",
    "\n",
    "print(f\"Temperatures in Celsius: {temperatures_celsius}\")\n",
    "print(f\"Temperatures in Fahrenheit: {temperatures_fahrenheit_list}\")\n"
   ]
  },
  {
   "cell_type": "code",
   "execution_count": 22,
   "id": "dadf8e6d-b733-495e-a1ef-2862eab6d071",
   "metadata": {},
   "outputs": [
    {
     "name": "stdout",
     "output_type": "stream",
     "text": [
      "Original numbers: [3.14, 2.718, 1.5, 4.9]\n",
      "Rounded numbers: [3, 3, 2, 5]\n"
     ]
    }
   ],
   "source": [
    "#8Write a Python program that uses the `map()` function to round each element of a list of floating-point numbers to the nearest integer.\n",
    "# List of floating-point numbers\n",
    "float_numbers = [3.14, 2.718, 1.5, 4.9]\n",
    "\n",
    "# Using map() to round each element to the nearest integer\n",
    "rounded_numbers = map(round, float_numbers)\n",
    "\n",
    "# Converting the result to a list for printing\n",
    "rounded_numbers_list = list(rounded_numbers)\n",
    "\n",
    "print(f\"Original numbers: {float_numbers}\")\n",
    "print(f\"Rounded numbers: {rounded_numbers_list}\")"
   ]
  },
  {
   "cell_type": "code",
   "execution_count": 40,
   "id": "3db54914-c00d-4540-9d38-654b4b4375d9",
   "metadata": {},
   "outputs": [
    {
     "name": "stdout",
     "output_type": "stream",
     "text": [
      "The product of all elements: 120\n"
     ]
    }
   ],
   "source": [
    "#reduse\n",
    "#1What is the `reduce()` function in Python, and what module should you import to use it? Provide an example of its basic usage.\n",
    "from functools import reduce\n",
    "\n",
    "# Example binary function: multiply two numbers\n",
    "def multiply(x, y):\n",
    "    return x * y\n",
    "\n",
    "# List of numbers\n",
    "numbers = [1, 2, 3, 4, 5]\n",
    "\n",
    "# Using reduce() to find the product of all elements\n",
    "product = reduce(multiply, numbers)\n",
    "\n",
    "# Displaying the result\n",
    "print(f\"The product of all elements: {product}\")\n",
    "\n",
    "\n",
    "\n",
    "\n",
    "\n",
    "\n"
   ]
  },
  {
   "cell_type": "code",
   "execution_count": 38,
   "id": "92263fda-8181-4a67-ac65-221f552e1506",
   "metadata": {},
   "outputs": [
    {
     "name": "stdout",
     "output_type": "stream",
     "text": [
      "The product of all elements: 120\n"
     ]
    }
   ],
   "source": [
    "#2Write a Python program that uses the `reduce()` function to find the product of all elements in a list.\n",
    "from functools import reduce\n",
    "\n",
    "# Example binary function: multiply two numbers\n",
    "def multiply(x, y):\n",
    "    return x * y\n",
    "\n",
    "# List of numbers\n",
    "numbers = [1, 2, 3, 4, 5]\n",
    "\n",
    "# Using reduce() to find the product of all elements\n",
    "product = reduce(multiply, numbers)\n",
    "\n",
    "# Displaying the result\n",
    "print(f\"The product of all elements: {product}\")\n"
   ]
  },
  {
   "cell_type": "code",
   "execution_count": 37,
   "id": "a4f70611-8127-43e4-94fa-51c5c1a4a7bf",
   "metadata": {},
   "outputs": [
    {
     "name": "stdout",
     "output_type": "stream",
     "text": [
      "The maximum element: 15\n"
     ]
    }
   ],
   "source": [
    "#3Create a Python program that uses `reduce()` to find the maximum element in a list of numbers.\n",
    "\n",
    "\n",
    "from functools import reduce\n",
    "\n",
    "# Example binary function: find the maximum of two numbers\n",
    "def find_max(x, y):\n",
    "    return max(x, y)\n",
    "\n",
    "# List of numbers\n",
    "numbers = [12, 4, 8, 15, 6]\n",
    "\n",
    "# Using reduce() to find the maximum element\n",
    "max_element = reduce(find_max, numbers)\n",
    "\n",
    "# Displaying the result\n",
    "print(f\"The maximum element: {max_element}\")"
   ]
  },
  {
   "cell_type": "code",
   "execution_count": 33,
   "id": "95eeb87d-40c3-4495-b877-b9ea861dd50c",
   "metadata": {},
   "outputs": [
    {
     "name": "stdout",
     "output_type": "stream",
     "text": [
      "The concatenated string: Hello, world!\n"
     ]
    }
   ],
   "source": [
    "#4How can you use the `reduce()` function to concatenate a list of strings into a single string?\n",
    "from functools import reduce\n",
    "\n",
    "# Example binary function: concatenate two strings\n",
    "def concatenate_strings(x, y):\n",
    "    return x + y\n",
    "\n",
    "# List of strings\n",
    "strings = [\"Hello\", \", \", \"world\", \"!\"]\n",
    "\n",
    "# Using reduce() to concatenate the strings\n",
    "concatenated_string = reduce(concatenate_strings, strings)\n",
    "\n",
    "# Displaying the result\n",
    "print(f\"The concatenated string: {concatenated_string}\")"
   ]
  },
  {
   "cell_type": "code",
   "execution_count": 32,
   "id": "ade2e766-8909-49af-b404-4800e4f76a61",
   "metadata": {},
   "outputs": [
    {
     "name": "stdout",
     "output_type": "stream",
     "text": [
      "The factorial of 5 is: 120\n"
     ]
    }
   ],
   "source": [
    "#5Write a Python program that calculates the factorial of a number using the `reduce()` function.\n",
    "from functools import reduce\n",
    "\n",
    "# Example binary function: multiply two numbers\n",
    "def multiply(x, y):\n",
    "    return x * y\n",
    "\n",
    "# Function to calculate the factorial of a number\n",
    "def factorial(n):\n",
    "    return reduce(multiply, range(1, n + 1))\n",
    "\n",
    "# Input: Factorial of 5\n",
    "result = factorial(5)\n",
    "\n",
    "# Displaying the result\n",
    "print(f\"The factorial of 5 is: {result}\")"
   ]
  },
  {
   "cell_type": "code",
   "execution_count": 31,
   "id": "152d1dcf-f0f7-4a77-9fbb-09aa2dfc71ba",
   "metadata": {},
   "outputs": [
    {
     "name": "stdout",
     "output_type": "stream",
     "text": [
      "The GCD of the numbers: 6\n"
     ]
    }
   ],
   "source": [
    "#6Create a Python program that uses `reduce()` to find the GCD (Greatest Common Divisor) of a list of numbers.\n",
    "from functools import reduce\n",
    "from math import gcd\n",
    "\n",
    "# List of numbers\n",
    "numbers = [12, 18, 24, 36]\n",
    "\n",
    "# Using reduce() to find the GCD\n",
    "gcd_result = reduce(gcd, numbers)\n",
    "\n",
    "# Displaying the result\n",
    "print(f\"The GCD of the numbers: {gcd_result}\")\n"
   ]
  },
  {
   "cell_type": "code",
   "execution_count": 30,
   "id": "39dd8cdb-13ee-495e-b73c-161d8eaf49bc",
   "metadata": {},
   "outputs": [
    {
     "name": "stdout",
     "output_type": "stream",
     "text": [
      "The sum of digits: 15\n"
     ]
    }
   ],
   "source": [
    "#7Write a Python program that uses the `reduce()` function to find the sum of the digits of a given number.\n",
    "from functools import reduce\n",
    "\n",
    "# Example binary function: add two numbers\n",
    "def add_digits(x, y):\n",
    "    return x + y\n",
    "\n",
    "# Function to find the sum of digits in a number\n",
    "def sum_of_digits(number):\n",
    "    digits = [int(digit) for digit in str(number)]\n",
    "    return reduce(add_digits, digits)\n",
    "\n",
    "# Input: Sum of digits of 12345\n",
    "result = sum_of_digits(12345)\n",
    "\n",
    "# Displaying the result\n",
    "print(f\"The sum of digits: {result}\")\n",
    "\n"
   ]
  },
  {
   "cell_type": "code",
   "execution_count": 48,
   "id": "16a90ffa-a342-4717-b9dd-a50835a589f6",
   "metadata": {},
   "outputs": [
    {
     "name": "stdout",
     "output_type": "stream",
     "text": [
      "Original numbers: [1, 2, 3, 4, 5, 6, 7, 8, 9, 10]\n",
      "Even numbers: [2, 4, 6, 8, 10]\n"
     ]
    }
   ],
   "source": [
    "#filter\n",
    "#1Explain the purpose of the `filter()` function in Python and provide an example of how it can be used to filter elements from an iterable.\n",
    "\"\"\"The filter() function is used to filter elements from an iterable based on a specified function (predicate). It creates an iterator of elements for which the function returns True.\n",
    "\"\"\"\n",
    "# Function to check if a number is even\n",
    "def is_even(num):\n",
    "    return num % 2 == 0\n",
    "\n",
    "# List of numbers\n",
    "numbers = [1, 2, 3, 4, 5, 6, 7, 8, 9, 10]\n",
    "\n",
    "# Using filter() to select even numbers\n",
    "even_numbers = filter(is_even, numbers)\n",
    "\n",
    "# Converting the result to a list for printing\n",
    "even_numbers_list = list(even_numbers)\n",
    "\n",
    "# Displaying the result\n",
    "print(f\"Original numbers: {numbers}\")\n",
    "print(f\"Even numbers: {even_numbers_list}\")\n",
    "\n",
    "\n",
    "\n",
    "\n"
   ]
  },
  {
   "cell_type": "code",
   "execution_count": 47,
   "id": "57c84046-2c58-41b8-8cc0-e77fd19ceba3",
   "metadata": {},
   "outputs": [
    {
     "name": "stdout",
     "output_type": "stream",
     "text": [
      "Original numbers: [1, 2, 3, 4, 5, 6, 7, 8, 9, 10]\n",
      "Even numbers: [2, 4, 6, 8, 10]\n"
     ]
    }
   ],
   "source": [
    "#2Write a Python program that uses the `filter()` function to select even numbers from a list of integers.\n",
    "# Function to check if a number is even\n",
    "def is_even(num):\n",
    "    return num % 2 == 0\n",
    "\n",
    "# List of integers\n",
    "numbers = [1, 2, 3, 4, 5, 6, 7, 8, 9, 10]\n",
    "\n",
    "# Using filter() to select even numbers\n",
    "even_numbers = filter(is_even, numbers)\n",
    "\n",
    "# Converting the result to a list for printing\n",
    "even_numbers_list = list(even_numbers)\n",
    "\n",
    "# Displaying the result\n",
    "print(f\"Original numbers: {numbers}\")\n",
    "print(f\"Even numbers: {even_numbers_list}\")\n"
   ]
  },
  {
   "cell_type": "code",
   "execution_count": 45,
   "id": "46f6792d-2635-4cdb-b9ad-fd4e647232ce",
   "metadata": {},
   "outputs": [
    {
     "name": "stdout",
     "output_type": "stream",
     "text": [
      "Original names: ['Alice', 'Bob', 'Charlie', 'David', 'Eva']\n",
      "Names starting with 'D': ['David']\n"
     ]
    }
   ],
   "source": [
    "#3Create a Python program that uses the `filter()` function to select names that start with a specific letter from a list of strings.\n",
    "# Function to check if a name starts with a specific letter\n",
    "def starts_with_letter(name, letter):\n",
    "    return name.startswith(letter)\n",
    "\n",
    "# List of names\n",
    "names = [\"Alice\", \"Bob\", \"Charlie\", \"David\", \"Eva\"]\n",
    "\n",
    "# Using filter() to select names starting with the letter 'D'\n",
    "selected_names = filter(lambda x: starts_with_letter(x, 'D'), names)\n",
    "\n",
    "# Converting the result to a list for printing\n",
    "selected_names_list = list(selected_names)\n",
    "\n",
    "# Displaying the result\n",
    "print(f\"Original names: {names}\")\n",
    "print(f\"Names starting with 'D': {selected_names_list}\")\n"
   ]
  },
  {
   "cell_type": "code",
   "execution_count": 44,
   "id": "a5c6f6ce-a4fe-4d5e-b86f-e69fa4f151c0",
   "metadata": {},
   "outputs": [
    {
     "name": "stdout",
     "output_type": "stream",
     "text": [
      "Original numbers: [1, 2, 3, 4, 5, 6, 7, 8, 9, 10]\n",
      "Prime numbers: [2, 3, 5, 7]\n"
     ]
    }
   ],
   "source": [
    "#4Write a Python program that uses the `filter()` function to select prime numbers from a list of integers.\n",
    "# Function to check if a number is prime\n",
    "def is_prime(num):\n",
    "    if num < 2:\n",
    "        return False\n",
    "    for i in range(2, int(num**0.5) + 1):\n",
    "        if num % i == 0:\n",
    "            return False\n",
    "    return True\n",
    "\n",
    "# List of integers\n",
    "numbers = [1, 2, 3, 4, 5, 6, 7, 8, 9, 10]\n",
    "\n",
    "# Using filter() to select prime numbers\n",
    "prime_numbers = filter(is_prime, numbers)\n",
    "\n",
    "# Converting the result to a list for printing\n",
    "prime_numbers_list = list(prime_numbers)\n",
    "\n",
    "# Displaying the result\n",
    "print(f\"Original numbers: {numbers}\")\n",
    "print(f\"Prime numbers: {prime_numbers_list}\")\n"
   ]
  },
  {
   "cell_type": "code",
   "execution_count": 43,
   "id": "61ec4d12-b4bb-414f-bb0d-7cc3bfcf7690",
   "metadata": {},
   "outputs": [
    {
     "name": "stdout",
     "output_type": "stream",
     "text": [
      "Original values: [1, None, 'apple', None, 5, 'orange', None, 8]\n",
      "Filtered values (None removed): [1, 'apple', 5, 'orange', 8]\n"
     ]
    }
   ],
   "source": [
    "#5How can you use the `filter()` function to remove None values from a list in Python?\n",
    "# List with None values\n",
    "mixed_values = [1, None, \"apple\", None, 5, \"orange\", None, 8]\n",
    "\n",
    "# Using filter() to remove None values\n",
    "filtered_values = filter(lambda x: x is not None, mixed_values)\n",
    "\n",
    "# Converting the result to a list for printing\n",
    "filtered_values_list = list(filtered_values)\n",
    "\n",
    "# Displaying the result\n",
    "print(f\"Original values: {mixed_values}\")\n",
    "print(f\"Filtered values (None removed): {filtered_values_list}\")\n"
   ]
  },
  {
   "cell_type": "code",
   "execution_count": 42,
   "id": "4d8b20a7-39a2-48dd-a88a-26930490310f",
   "metadata": {},
   "outputs": [
    {
     "name": "stdout",
     "output_type": "stream",
     "text": [
      "Original words: ['apple', 'banana', 'kiwi', 'orange', 'grape']\n",
      "Words longer than 5 characters: ['banana', 'orange']\n"
     ]
    }
   ],
   "source": [
    "#6Create a Python program that uses `filter()` to select words longer than a certain length from a list of strings.\n",
    "# Function to check if a word is longer than a certain length\n",
    "def is_long_word(word, length):\n",
    "    return len(word) > length\n",
    "\n",
    "# List of strings\n",
    "words = [\"apple\", \"banana\", \"kiwi\", \"orange\", \"grape\"]\n",
    "\n",
    "# Using filter() to select words longer than 5 characters\n",
    "long_words = filter(lambda x: is_long_word(x, 5), words)\n",
    "\n",
    "# Converting the result to a list for printing\n",
    "long_words_list = list(long_words)\n",
    "\n",
    "# Displaying the result\n",
    "print(f\"Original words: {words}\")\n",
    "print(f\"Words longer than 5 characters: {long_words_list}\")\n"
   ]
  },
  {
   "cell_type": "code",
   "execution_count": 41,
   "id": "5605f883-f307-4cfb-a271-428844eeda21",
   "metadata": {},
   "outputs": [
    {
     "name": "stdout",
     "output_type": "stream",
     "text": [
      "Original values: [10, 25, 5, 30, 15, 40]\n",
      "Values greater than 20: [25, 30, 40]\n"
     ]
    }
   ],
   "source": [
    "#7Write a Python program that uses the `filter()` function to select elements greater than a specified threshold from a list of values.\n",
    "# Function to check if a value is greater than a threshold\n",
    "def is_greater_than_threshold(value, threshold):\n",
    "    return value > threshold\n",
    "\n",
    "# List of values\n",
    "values = [10, 25, 5, 30, 15, 40]\n",
    "\n",
    "# Using filter() to select values greater than 20\n",
    "selected_values = filter(lambda x: is_greater_than_threshold(x, 20), values)\n",
    "\n",
    "# Converting the result to a list for printing\n",
    "selected_values_list = list(selected_values)\n",
    "\n",
    "# Displaying the result\n",
    "print(f\"Original values: {values}\")\n",
    "print(f\"Values greater than 20: {selected_values_list}\")\n"
   ]
  },
  {
   "cell_type": "code",
   "execution_count": null,
   "id": "25b751cf-56a0-4b96-a01f-fce76f951a01",
   "metadata": {},
   "outputs": [],
   "source": [
    "Recursion\n",
    "#1Explain the concept of recursion in Python. How does it differ from iteration?\n",
    "\"\"\"1. Concept of Recursion in Python:\n",
    "Recursion is a programming concept where a function calls itself in its own definition. In Python, a recursive function is a function that solves a problem by solving smaller instances of the same problem. Each recursive call reduces the problem to a simpler or more basic case until it reaches a base case, where the solution is known without further recursion.\n",
    "\n",
    "2. Difference from Iteration:\n",
    "Recursion: A function calls itself to solve a problem.\n",
    "Iteration: A loop repeats a set of instructions until a condition is met.\n",
    "Recursion often leads to more concise and elegant code, while iteration is generally more efficient in terms of space complexity.\"\"\"\n",
    "\n",
    "\n",
    "\n",
    "\n",
    "\n",
    "\n",
    "\n",
    "\n",
    "\n",
    "\n",
    "\n"
   ]
  },
  {
   "cell_type": "code",
   "execution_count": 49,
   "id": "be97494f-e280-41e0-b061-4464fc27185c",
   "metadata": {},
   "outputs": [
    {
     "name": "stdout",
     "output_type": "stream",
     "text": [
      "The factorial of 5 is: 120\n"
     ]
    }
   ],
   "source": [
    "#2Write a Python program to calculate the factorial of a number using recursion.\n",
    "def factorial(n):\n",
    "    if n == 0 or n == 1:\n",
    "        return 1\n",
    "    else:\n",
    "        return n * factorial(n - 1)\n",
    "\n",
    "# Example usage\n",
    "result = factorial(5)\n",
    "print(f\"The factorial of 5 is: {result}\")\n"
   ]
  },
  {
   "cell_type": "code",
   "execution_count": 50,
   "id": "fe3f8198-a2bf-4ff5-a1bb-a22ade58d81f",
   "metadata": {},
   "outputs": [
    {
     "name": "stdout",
     "output_type": "stream",
     "text": [
      "The 5th Fibonacci number is: 5\n"
     ]
    }
   ],
   "source": [
    "#3Create a recursive Python function to find the nth Fibonacci number.\n",
    "def fibonacci(n):\n",
    "    if n <= 1:\n",
    "        return n\n",
    "    else:\n",
    "        return fibonacci(n - 1) + fibonacci(n - 2)\n",
    "\n",
    "# Example usage\n",
    "result = fibonacci(5)\n",
    "print(f\"The 5th Fibonacci number is: {result}\")\n"
   ]
  },
  {
   "cell_type": "code",
   "execution_count": 51,
   "id": "bba6c18d-4efb-4a22-b908-c139b6719e8a",
   "metadata": {},
   "outputs": [
    {
     "name": "stdout",
     "output_type": "stream",
     "text": [
      "The sum of the list is: 15\n"
     ]
    }
   ],
   "source": [
    "#4Write a recursive Python function to calculate the sum of all elements in a list.\n",
    "def list_sum(lst):\n",
    "    if not lst:\n",
    "        return 0\n",
    "    else:\n",
    "        return lst[0] + list_sum(lst[1:])\n",
    "\n",
    "# Example usage\n",
    "result = list_sum([1, 2, 3, 4, 5])\n",
    "print(f\"The sum of the list is: {result}\")\n"
   ]
  },
  {
   "cell_type": "code",
   "execution_count": null,
   "id": "00889fbc-d268-4da5-b933-8e6f93d91fc6",
   "metadata": {},
   "outputs": [],
   "source": [
    "#5how can you prevent a recursive function from running indefinitely, causing a stack overflow error?\n"
   ]
  },
  {
   "cell_type": "code",
   "execution_count": 52,
   "id": "2aac3ec7-ccc1-4bf8-8658-ac563050bc4a",
   "metadata": {},
   "outputs": [
    {
     "name": "stdout",
     "output_type": "stream",
     "text": [
      "The GCD is: 6\n"
     ]
    }
   ],
   "source": [
    "#6Create a recursive Python function to find the greatest common divisor (GCD) of two numbers using the Euclidean algorithm.\n",
    "def gcd(a, b):\n",
    "    if b == 0:\n",
    "        return a\n",
    "    else:\n",
    "        return gcd(b, a % b)\n",
    "\n",
    "# Example usage\n",
    "result = gcd(48, 18)\n",
    "print(f\"The GCD is: {result}\")\n"
   ]
  },
  {
   "cell_type": "code",
   "execution_count": 53,
   "id": "b204b5fc-0ef2-4c7b-b956-329badf6f65f",
   "metadata": {},
   "outputs": [
    {
     "name": "stdout",
     "output_type": "stream",
     "text": [
      "The reversed string is: olleh\n"
     ]
    }
   ],
   "source": [
    "#7Write a recursive Python function to reverse a string.\n",
    "def reverse_string(s):\n",
    "    if not s:\n",
    "        return s\n",
    "    else:\n",
    "        return reverse_string(s[1:]) + s[0]\n",
    "\n",
    "# Example usage\n",
    "result = reverse_string(\"hello\")\n",
    "print(f\"The reversed string is: {result}\")\n"
   ]
  },
  {
   "cell_type": "code",
   "execution_count": 54,
   "id": "c93951fd-2cae-49a1-acd2-54ccf2720864",
   "metadata": {},
   "outputs": [
    {
     "name": "stdout",
     "output_type": "stream",
     "text": [
      "2^3 is: 8\n"
     ]
    }
   ],
   "source": [
    "#8Create a recursive Python function to calculate the power of a number (x^n).\n",
    "def power(x, n):\n",
    "    if n == 0:\n",
    "        return 1\n",
    "    else:\n",
    "        return x * power(x, n - 1)\n",
    "\n",
    "# Example usage\n",
    "result = power(2, 3)\n",
    "print(f\"2^3 is: {result}\")\n"
   ]
  },
  {
   "cell_type": "code",
   "execution_count": 58,
   "id": "fdb7e95d-0648-4fa4-a7e4-bbb0dff29bc5",
   "metadata": {},
   "outputs": [
    {
     "name": "stdout",
     "output_type": "stream",
     "text": [
      "All permutations are: [['a', 'b', 'c'], ['a', 'c', 'b'], ['b', 'a', 'c'], ['b', 'c', 'a'], ['c', 'a', 'b'], ['c', 'b', 'a']]\n"
     ]
    }
   ],
   "source": [
    "#9Write a recursive Python function to find all permutations of a given string.\n",
    "def permutations(s):\n",
    "    if len(s) == 1:\n",
    "        return [s]\n",
    "    else:\n",
    "        perms = []\n",
    "        for char in s:\n",
    "            remaining_chars = [c for c in s if c != char]\n",
    "            subperms = permutations(remaining_chars)\n",
    "            perms.extend([list(char) +p for p in subperms])\n",
    "        return perms\n",
    "\n",
    "# Example usage\n",
    "result = permutations(\"abc\")\n",
    "print(f\"All permutations are: {result}\")\n"
   ]
  },
  {
   "cell_type": "code",
   "execution_count": 59,
   "id": "cb9eda7c-cfe5-4caa-a12e-5ed860dd4525",
   "metadata": {},
   "outputs": [
    {
     "name": "stdout",
     "output_type": "stream",
     "text": [
      "Is 'radar' a palindrome? True\n"
     ]
    }
   ],
   "source": [
    "#10Write a recursive Python function to check if a string is a palindrome.\n",
    "def is_palindrome(s):\n",
    "    s = s.lower()  # Convert to lowercase for case-insensitivity\n",
    "    if len(s) <= 1:\n",
    "        return True\n",
    "    else:\n",
    "        return s[0] == s[-1] and is_palindrome(s[1:-1])\n",
    "\n",
    "# Example usage\n",
    "result = is_palindrome(\"radar\")\n",
    "print(f\"Is 'radar' a palindrome? {result}\")\n"
   ]
  },
  {
   "cell_type": "code",
   "execution_count": 60,
   "id": "0a6afda1-df26-4819-a0f4-f166732f31b5",
   "metadata": {},
   "outputs": [
    {
     "name": "stdout",
     "output_type": "stream",
     "text": [
      "All combinations are: [[], [3], [2], [2, 3], [1], [1, 3], [1, 2], [1, 2, 3]]\n"
     ]
    }
   ],
   "source": [
    "#11Create a recursive Python function to generate all possible combinations of a list of elements.\n",
    "def combinations(lst):\n",
    "    if not lst:\n",
    "        return [[]]\n",
    "    else:\n",
    "        head, tail = lst[0], lst[1:]\n",
    "        tail_combinations = combinations(tail)\n",
    "        return tail_combinations + [ [head] + combo for combo in tail_combinations]\n",
    "\n",
    "# Example usage\n",
    "result = combinations([1, 2, 3])\n",
    "print(f\"All combinations are: {result}\")\n"
   ]
  },
  {
   "cell_type": "code",
   "execution_count": 61,
   "id": "343014de-e087-4666-bb55-ed891e84ced9",
   "metadata": {},
   "outputs": [
    {
     "name": "stdout",
     "output_type": "stream",
     "text": [
      "Hello, Alice!\n"
     ]
    }
   ],
   "source": [
    "#Basics of Functions:\n",
    "\n",
    "#1What is a function in Python, and why is it used?\n",
    "\"\"\"In Python, a function is a block of reusable code that performs a specific task. Functions are used to organize code into logical and modular units, making it easier to understand, maintain, and reuse. Functions help in avoiding code duplication, improving code readability, and enhancing the overall structure of a progra\n",
    "\"\"\"\n",
    "def greet(name):\n",
    "    \"\"\"This function prints a simple greeting.\"\"\"\n",
    "    print(f\"Hello, {name}!\")\n",
    "\n",
    "# Example usage\n",
    "greet(\"Alice\")\n",
    "\n",
    "\n",
    "\n",
    "\n",
    "\n"
   ]
  },
  {
   "cell_type": "code",
   "execution_count": 62,
   "id": "394f4b91-13c9-4186-8890-3e75e69deb18",
   "metadata": {},
   "outputs": [
    {
     "name": "stdout",
     "output_type": "stream",
     "text": [
      "Hello, Alice!\n"
     ]
    }
   ],
   "source": [
    "#2How do you define a function in Python? Provide an example.\n",
    "def greet(name):\n",
    "    \"\"\"This function prints a simple greeting.\"\"\"\n",
    "    print(f\"Hello, {name}!\")\n",
    "\n",
    "# Example usage\n",
    "greet(\"Alice\")"
   ]
  },
  {
   "cell_type": "code",
   "execution_count": 63,
   "id": "fdbfcf94-7cb8-4749-b816-6e8393239a45",
   "metadata": {},
   "outputs": [
    {
     "name": "stdout",
     "output_type": "stream",
     "text": [
      "Hello, Bob!\n"
     ]
    }
   ],
   "source": [
    "#3Explain the difference between a function definition and a function call.\n",
    "#function definition\n",
    "def greet(name):\n",
    "    print(f\"Hello, {name}!\")\n",
    "#function calling\n",
    "greet(\"Bob\")"
   ]
  },
  {
   "cell_type": "code",
   "execution_count": 64,
   "id": "12c3b618-e659-4a8e-b63e-33a3158b86af",
   "metadata": {},
   "outputs": [
    {
     "name": "stdout",
     "output_type": "stream",
     "text": [
      "The sum of 3 and 5 is: 8\n"
     ]
    }
   ],
   "source": [
    "#4Write a Python program that defines a function to calculate the sum of two numbers and then calls the function.\n",
    "def add_numbers(a, b):\n",
    "    \"\"\"This function calculates the sum of two numbers.\"\"\"\n",
    "    return a + b\n",
    "\n",
    "# Example usage\n",
    "result = add_numbers(3, 5)\n",
    "print(f\"The sum of 3 and 5 is: {result}\")"
   ]
  },
  {
   "cell_type": "code",
   "execution_count": 66,
   "id": "77005597-5560-4955-8693-a098d1d06b3b",
   "metadata": {},
   "outputs": [
    {
     "data": {
      "text/plain": [
       "40"
      ]
     },
     "execution_count": 66,
     "metadata": {},
     "output_type": "execute_result"
    }
   ],
   "source": [
    "#5What is a function signature, and what information does it typically include?\n",
    "def multiply(x: int, y: int) -> int:\n",
    "    \"\"\"This function returns the product of two numbers.\"\"\"\n",
    "    return x * y\n",
    "multiply(5,8)"
   ]
  },
  {
   "cell_type": "code",
   "execution_count": 67,
   "id": "7a10703f-289e-4a28-a97b-416e8a7b8c7d",
   "metadata": {},
   "outputs": [
    {
     "name": "stdout",
     "output_type": "stream",
     "text": [
      "The product of 4 and 7 is: 28\n"
     ]
    }
   ],
   "source": [
    "#6Create a Python function that takes two arguments and returns their product.\n",
    "def product(x, y):\n",
    "    \"\"\"This function returns the product of two numbers.\"\"\"\n",
    "    return x * y\n",
    "\n",
    "# Example usage\n",
    "result = product(4, 7)\n",
    "print(f\"The product of 4 and 7 is: {result}\")"
   ]
  },
  {
   "cell_type": "code",
   "execution_count": 70,
   "id": "aaf39d51-4ae0-423c-98b0-482b5f2a3ed4",
   "metadata": {},
   "outputs": [
    {
     "name": "stdout",
     "output_type": "stream",
     "text": [
      "8\n"
     ]
    }
   ],
   "source": [
    "#Function Parameters and Arguments:\n",
    "\n",
    "#1Explain the concepts of formal parameters and actual arguments in Python functions.\n",
    "#Formal Parameters: These are the parameters defined in the function signature or declaration. They act as placeholders for the values that will be passed during the function call.\n",
    "\n",
    "def add(x, y):  # x and y are formal parameters\n",
    "    return x + y\n",
    "\n",
    "#Actual Arguments: These are the values passed to the function during a function call. They take the place of formal parameters and provide concrete values for the function to work with.\n",
    "\n",
    "result = add(3, 5)  # 3 and 5 are actual arguments\n",
    "print(result)\n",
    "\n",
    "\n"
   ]
  },
  {
   "cell_type": "code",
   "execution_count": 71,
   "id": "cf0d9d3a-82fc-4ff9-b1d4-6a813068a94a",
   "metadata": {},
   "outputs": [
    {
     "name": "stdout",
     "output_type": "stream",
     "text": [
      "Hello, Alice!\n",
      "Hi, Bob!\n"
     ]
    }
   ],
   "source": [
    "#2Write a Python program that defines a function with default argument values.\n",
    "def greet(name, greeting=\"Hello\"):\n",
    "    \"\"\"This function greets a person with a default greeting.\"\"\"\n",
    "    print(f\"{greeting}, {name}!\")\n",
    "\n",
    "# Example usage\n",
    "greet(\"Alice\")\n",
    "greet(\"Bob\", greeting=\"Hi\")"
   ]
  },
  {
   "cell_type": "code",
   "execution_count": 72,
   "id": "81dce1a3-3bf8-49da-b40d-d7db472d4573",
   "metadata": {},
   "outputs": [
    {
     "name": "stdout",
     "output_type": "stream",
     "text": [
      "Name: Alice, Age: 25, Gender: Female\n",
      "Name: Bob, Age: 30, Gender: Male\n"
     ]
    }
   ],
   "source": [
    "#3How do you use keyword arguments in Python function calls? Provide an example.\n",
    "def describe_person(name, age, gender):\n",
    "    \"\"\"This function describes a person.\"\"\"\n",
    "    print(f\"Name: {name}, Age: {age}, Gender: {gender}\")\n",
    "\n",
    "# Example usage with keyword arguments\n",
    "describe_person(name=\"Alice\", age=25, gender=\"Female\")\n",
    "describe_person(gender=\"Male\", age=30, name=\"Bob\")"
   ]
  },
  {
   "cell_type": "code",
   "execution_count": 73,
   "id": "b1e89d1d-29e8-4b57-85ad-37c9353957bc",
   "metadata": {},
   "outputs": [
    {
     "name": "stdout",
     "output_type": "stream",
     "text": [
      "The sum is: 15\n"
     ]
    }
   ],
   "source": [
    "#4Create a Python function that accepts a variable number of arguments and calculates their sum.\n",
    "def calculate_sum(*args):\n",
    "    \"\"\"This function calculates the sum of variable arguments.\"\"\"\n",
    "    return sum(args)\n",
    "\n",
    "# Example usage\n",
    "result = calculate_sum(1, 2, 3, 4, 5)\n",
    "print(f\"The sum is: {result}\")"
   ]
  },
  {
   "cell_type": "code",
   "execution_count": 74,
   "id": "7250b4af-4948-423f-a1c4-ecf4fbd12fb4",
   "metadata": {},
   "outputs": [
    {
     "name": "stdout",
     "output_type": "stream",
     "text": [
      "1\n",
      "2\n",
      "apple\n",
      "a: apple\n",
      "b: banana\n"
     ]
    }
   ],
   "source": [
    "#5What is the purpose of the `*args` and `**kwargs` syntax in function parameter lists?\n",
    "def print_values_and_pairs(*args, **kwargs):\n",
    "    for arg in args:\n",
    "        print(arg)\n",
    "    for key, value in kwargs.items():\n",
    "        print(f\"{key}: {value}\")\n",
    "\n",
    "print_values_and_pairs(1, 2, 'apple', a='apple', b='banana')"
   ]
  },
  {
   "cell_type": "code",
   "execution_count": 75,
   "id": "dd5151d0-f930-4049-8683-47e1167cf8c5",
   "metadata": {},
   "outputs": [
    {
     "name": "stdout",
     "output_type": "stream",
     "text": [
      "The sum is: 8\n"
     ]
    }
   ],
   "source": [
    "#Return Values and Scoping:\n",
    "\n",
    "#1Describe the role of the `return` statement in Python functions and provide examples.\n",
    "def add_numbers(x, y):\n",
    "    \"\"\"This function adds two numbers and returns the result.\"\"\"\n",
    "    result = x + y\n",
    "    return result\n",
    "\n",
    "# Example usage\n",
    "sum_result = add_numbers(3, 5)\n",
    "print(f\"The sum is: {sum_result}\")\n",
    "\n",
    "\n"
   ]
  },
  {
   "cell_type": "code",
   "execution_count": 76,
   "id": "af48cdb9-d872-46d7-b597-293ce85a89c1",
   "metadata": {},
   "outputs": [
    {
     "name": "stdout",
     "output_type": "stream",
     "text": [
      "The result is: 50\n"
     ]
    }
   ],
   "source": [
    "#2Explain the concept of variable scope in Python, including local and global variables.\n",
    "# Global variable\n",
    "global_variable = 10\n",
    "\n",
    "def multiply_by_global(num):\n",
    "    \"\"\"This function multiplies a number by a global variable.\"\"\"\n",
    "    return num * global_variable\n",
    "\n",
    "# Example usage\n",
    "result = multiply_by_global(5)\n",
    "print(f\"The result is: {result}\")"
   ]
  },
  {
   "cell_type": "code",
   "execution_count": 84,
   "id": "6119e08a-494c-46b9-9371-07d90e1b09f0",
   "metadata": {},
   "outputs": [
    {
     "name": "stdout",
     "output_type": "stream",
     "text": [
      "Inside the function: 20\n"
     ]
    }
   ],
   "source": [
    "def example_function():\n",
    "    # Local variable\n",
    "    local_variable = 20\n",
    "    print(f\"Inside the function: {local_variable}\")\n",
    "\n",
    "# Calling the function\n",
    "example_function()"
   ]
  },
  {
   "cell_type": "code",
   "execution_count": 77,
   "id": "866b295a-4de8-44f2-baf4-6feed82c0933",
   "metadata": {},
   "outputs": [
    {
     "name": "stdout",
     "output_type": "stream",
     "text": [
      "The result is: 50\n"
     ]
    }
   ],
   "source": [
    "#3Write a Python program that demonstrates the use of global variables within functions\n",
    "global_variable = 10\n",
    "\n",
    "def multiply_by_global(num):\n",
    "    \"\"\"This function multiplies a number by a global variable.\"\"\"\n",
    "    return num * global_variable\n",
    "\n",
    "# Example usage\n",
    "result = multiply_by_global(5)\n",
    "print(f\"The result is: {result}\")"
   ]
  },
  {
   "cell_type": "code",
   "execution_count": 78,
   "id": "1189705d-5bb8-4fa5-9b82-239e15eda962",
   "metadata": {},
   "outputs": [
    {
     "name": "stdout",
     "output_type": "stream",
     "text": [
      "The factorial of 5 is: 120\n"
     ]
    }
   ],
   "source": [
    "#4Create a Python function that calculates the factorial of a number and returns it.\n",
    "def factorial(n):\n",
    "    \"\"\"This function calculates the factorial of a number.\"\"\"\n",
    "    if n == 0 or n == 1:\n",
    "        return 1\n",
    "    else:\n",
    "        return n * factorial(n - 1)\n",
    "\n",
    "# Example usage\n",
    "result = factorial(5)\n",
    "print(f\"The factorial of 5 is: {result}\")\n"
   ]
  },
  {
   "cell_type": "code",
   "execution_count": 82,
   "id": "a655caaf-5695-4cc3-bd9f-8977ed612d6e",
   "metadata": {},
   "outputs": [
    {
     "name": "stdout",
     "output_type": "stream",
     "text": [
      "Global variable value: 10\n"
     ]
    }
   ],
   "source": [
    "#5How can you access variables defined outside a function from within the function?\n",
    "global_variable = 10\n",
    "\n",
    "def use_global_variable():\n",
    "    print(f\"Global variable value: {global_variable}\")\n",
    "\n",
    "use_global_variable()"
   ]
  },
  {
   "cell_type": "code",
   "execution_count": 83,
   "id": "98c0ed11-b320-42ad-9086-f96a0d3ec75f",
   "metadata": {},
   "outputs": [
    {
     "name": "stdout",
     "output_type": "stream",
     "text": [
      "Modified global variable value: 15\n"
     ]
    }
   ],
   "source": [
    "global_variable = 10\n",
    "\n",
    "def modify_global_variable():\n",
    "    global global_variable\n",
    "    global_variable += 5\n",
    "\n",
    "modify_global_variable()\n",
    "print(f\"Modified global variable value: {global_variable}\")"
   ]
  },
  {
   "cell_type": "code",
   "execution_count": 85,
   "id": "8189910b-7606-452a-9883-9a29cb14bb56",
   "metadata": {},
   "outputs": [
    {
     "name": "stdout",
     "output_type": "stream",
     "text": [
      "8\n",
      "8\n"
     ]
    }
   ],
   "source": [
    "#Lambda Functions and Higher-Order Functions:\n",
    "\n",
    "#1What are lambda functions in Python, and when are they typically used?\n",
    "# Regular function\n",
    "def add(x, y):\n",
    "    return x + y\n",
    "\n",
    "# Equivalent lambda function\n",
    "add_lambda = lambda x, y: x + y\n",
    "\n",
    "result = add(3, 5)\n",
    "print(result)  # Output: 8\n",
    "\n",
    "result_lambda = add_lambda(3, 5)\n",
    "print(result_lambda)  # Output: 8\n",
    "\n"
   ]
  },
  {
   "cell_type": "code",
   "execution_count": 86,
   "id": "3c71c227-1a3d-493a-87df-766160b1ceb5",
   "metadata": {},
   "outputs": [
    {
     "name": "stdout",
     "output_type": "stream",
     "text": [
      "Sorted List of Tuples: [(7, 1), (3, 2), (1, 5), (2, 8)]\n"
     ]
    }
   ],
   "source": [
    "#2Write a Python program that uses lambda functions to sort a list of tuples based on the second element.\n",
    "# List of tuples\n",
    "tuple_list = [(1, 5), (3, 2), (7, 1), (2, 8)]\n",
    "\n",
    "# Sorting based on the second element using a lambda function\n",
    "sorted_tuples = sorted(tuple_list, key=lambda x: x[1])\n",
    "\n",
    "print(\"Sorted List of Tuples:\", sorted_tuples)\n",
    "\n"
   ]
  },
  {
   "cell_type": "code",
   "execution_count": 87,
   "id": "fc021de8-1b8f-4427-aa5b-714210261e5a",
   "metadata": {},
   "outputs": [
    {
     "name": "stdout",
     "output_type": "stream",
     "text": [
      "25\n",
      "27\n"
     ]
    }
   ],
   "source": [
    "#3Explain the concept of higher-order functions in Python, and provide an example.\n",
    "def square(x):\n",
    "    return x ** 2\n",
    "\n",
    "def cube(x):\n",
    "    return x ** 3\n",
    "\n",
    "def apply_operation(func, value):\n",
    "    return func(value)\n",
    "\n",
    "result_square = apply_operation(square, 5)\n",
    "print(result_square)  # Output: 25\n",
    "\n",
    "result_cube = apply_operation(cube, 3)\n",
    "print(result_cube)  # Output: 27\n",
    "\n"
   ]
  },
  {
   "cell_type": "code",
   "execution_count": 88,
   "id": "4dd9c488-9de7-4c00-9d3e-c0e359bf1b3b",
   "metadata": {},
   "outputs": [
    {
     "name": "stdout",
     "output_type": "stream",
     "text": [
      "Original List: [1, 2, 3, 4, 5]\n",
      "Squared Numbers: [1, 4, 9, 16, 25]\n",
      "Cubed Numbers: [1, 8, 27, 64, 125]\n"
     ]
    }
   ],
   "source": [
    "#4Create a Python function that takes a list of numbers and a function as arguments, applying the function to each element in the list.\n",
    "def apply_function_to_list(func, num_list):\n",
    "    \"\"\"Applies the given function to each element in the list.\"\"\"\n",
    "    return [func(num) for num in num_list]\n",
    "\n",
    "# Example usage\n",
    "numbers = [1, 2, 3, 4, 5]\n",
    "squared_numbers = apply_function_to_list(lambda x: x**2, numbers)\n",
    "cubed_numbers = apply_function_to_list(lambda x: x**3, numbers)\n",
    "\n",
    "print(\"Original List:\", numbers)\n",
    "print(\"Squared Numbers:\", squared_numbers)\n",
    "print(\"Cubed Numbers:\", cubed_numbers)\n"
   ]
  },
  {
   "cell_type": "code",
   "execution_count": 89,
   "id": "9865d419-4c59-4c02-a327-d24727f63e40",
   "metadata": {},
   "outputs": [
    {
     "name": "stdout",
     "output_type": "stream",
     "text": [
      "13\n",
      "9\n",
      "1\n"
     ]
    }
   ],
   "source": [
    "#Built-in Functions:\n",
    "\n",
    "#1Describe the role of built-in functions like `len()`, `max()`, and `min()` in Python.\n",
    "#len() is use for get the length of the data\n",
    "string_length = len(\"Hello, World!\")\n",
    "print(string_length)\n",
    "#max print the maximum value\n",
    "max_value = max(3, 7, 1, 9, 5)\n",
    "print(max_value)  \n",
    "#min is use for print the minimum value to the data set\n",
    "min_value = min(3, 7, 1, 9, 5)\n",
    "print(min_value)  \n",
    "\n",
    "\n",
    "\n",
    "\n",
    "\n",
    "\n",
    "\n"
   ]
  },
  {
   "cell_type": "code",
   "execution_count": 90,
   "id": "05fc5c1d-902e-4101-b0f1-8b911b83d466",
   "metadata": {},
   "outputs": [
    {
     "name": "stdout",
     "output_type": "stream",
     "text": [
      "Original List: [1, 2, 3, 4, 5]\n",
      "Squared Numbers: [1, 4, 9, 16, 25]\n"
     ]
    }
   ],
   "source": [
    "#2Write a Python program that uses the `map()` function to apply a function to each element of a list.\n",
    "# Example: Squaring each element in a list using map()\n",
    "numbers = [1, 2, 3, 4, 5]\n",
    "\n",
    "squared_numbers = map(lambda x: x**2, numbers)\n",
    "squared_numbers_list = list(squared_numbers)\n",
    "\n",
    "print(\"Original List:\", numbers)\n",
    "print(\"Squared Numbers:\", squared_numbers_list)"
   ]
  },
  {
   "cell_type": "code",
   "execution_count": 91,
   "id": "7150c30d-a915-4e39-9bed-794f524b7ae1",
   "metadata": {},
   "outputs": [
    {
     "name": "stdout",
     "output_type": "stream",
     "text": [
      "Original List: [1, 2, 3, 4, 5, 6, 7, 8, 9, 10]\n",
      "Even Numbers: [2, 4, 6, 8, 10]\n"
     ]
    }
   ],
   "source": [
    "#3How does the `filter()` function work in Python, and when would you use it?\n",
    "# Example: Filtering even numbers from a list using filter()\n",
    "numbers = [1, 2, 3, 4, 5, 6, 7, 8, 9, 10]\n",
    "\n",
    "even_numbers = filter(lambda x: x % 2 == 0, numbers)\n",
    "even_numbers_list = list(even_numbers)\n",
    "\n",
    "print(\"Original List:\", numbers)\n",
    "print(\"Even Numbers:\", even_numbers_list)"
   ]
  },
  {
   "cell_type": "code",
   "execution_count": 92,
   "id": "e46f7151-10fd-472c-a3bb-00b165a78a3a",
   "metadata": {},
   "outputs": [
    {
     "name": "stdout",
     "output_type": "stream",
     "text": [
      "Original List: [1, 2, 3, 4, 5]\n",
      "Product of Elements: 120\n"
     ]
    }
   ],
   "source": [
    "#4Create a Python program that uses the `reduce()` function to find the product of all elements in a list.\n",
    "from functools import reduce\n",
    "\n",
    "# Example: Finding the product of elements in a list using reduce()\n",
    "numbers = [1, 2, 3, 4, 5]\n",
    "\n",
    "product = reduce(lambda x, y: x * y, numbers)\n",
    "\n",
    "print(\"Original List:\", numbers)\n",
    "print(\"Product of Elements:\", product)"
   ]
  },
  {
   "cell_type": "code",
   "execution_count": 95,
   "id": "bd34e7de-e475-4e21-a2ec-f0e760c038ed",
   "metadata": {},
   "outputs": [
    {
     "data": {
      "text/plain": [
       "12"
      ]
     },
     "execution_count": 95,
     "metadata": {},
     "output_type": "execute_result"
    }
   ],
   "source": [
    "#Function Documentation and Best Practices:\n",
    "\n",
    "#1Explain the purpose of docstrings in Python functions and how to write them.\n",
    "\"\"\"Docstrings in Python are used to document functions, modules, classes, or methods. They serve the following purposes:\n",
    "\n",
    "Documentation: Provide a concise explanation of what a function does, its parameters, return values, and any other relevant information.\n",
    "\n",
    "Readability: Help other developers (or even yourself) understand the purpose and usage of the function without examining the implementation.\n",
    "\n",
    "Automatic Generation: Tools like Sphinx or IDEs can automatically generate documentation based on docstrings.\"\"\"\n",
    "def calculate_sum(a, b):\n",
    "    \"\"\"\n",
    "    Calculate the sum of two numbers.\n",
    "\n",
    "    Parameters:\n",
    "    a (int): The first number.\n",
    "    b (int): The second number.\n",
    "\n",
    "    Returns:\n",
    "    int: The sum of a and b.\n",
    "    \"\"\"\n",
    "    return a + b\n",
    "\"\"\"\n",
    "Module: math_operations\n",
    "\n",
    "This module provides functions for basic math operations.\n",
    "\"\"\"\n",
    "\n",
    "def add(a, b):\n",
    "    \"\"\"Add two numbers.\"\"\"\n",
    "    return a + b\n",
    "\n",
    "add(3,5)\n",
    "\n",
    "def multiply(a, b):\n",
    "    \"\"\"Multiply two numbers.\"\"\"\n",
    "    return a * b\n",
    "\n",
    "multiply(3,4)\n"
   ]
  },
  {
   "cell_type": "code",
   "execution_count": 96,
   "id": "472595b7-cf08-4483-8368-af30cf9063a2",
   "metadata": {},
   "outputs": [
    {
     "data": {
      "text/plain": [
       "4000000.0"
      ]
     },
     "execution_count": 96,
     "metadata": {},
     "output_type": "execute_result"
    }
   ],
   "source": [
    "#2Describe some best practices for naming functions and variables in Python, including naming conventions and guidelines.\n",
    "\"\"\"Use lowercase letters.\n",
    "Separate words with underscores for readability (calculate_sum, not calculateSum).\n",
    "Choose descriptive and meaningful names.\n",
    "Follow the PEP 8 naming conventions.\n",
    "Variables:\n",
    "\n",
    "Use lowercase letters.\n",
    "Separate words with underscores (total_amount, not totalAmount).\n",
    "Choose descriptive and meaningful names.\n",
    "Avoid single-character variable names unless used as loop counters.\n",
    "Constants:\n",
    "\n",
    "Use uppercase letters.\n",
    "Separate words with underscores (MAX_VALUE, not maxValue).\n",
    "Classes:\n",
    "\n",
    "Use CamelCase (CapWords) convention.\n",
    "Choose descriptive and meaningful names.\n",
    "Follow the PEP 8 naming conventions for methods and attributes.\n",
    "Guidelines:\n",
    "\n",
    "Be consistent within your codebase.\n",
    "Favor clarity over brevity.\n",
    "Avoid using reserved words as names (e.g., don't name a variable class).\"\"\"\n",
    "def calculate_discount_amount(total_price, discount_percentage):\n",
    "    \"\"\"Calculate the discount amount.\"\"\"\n",
    "    return total_price * (discount_percentage / 100)\n",
    "calculate_discount_amount(8000000, 50)"
   ]
  },
  {
   "cell_type": "code",
   "execution_count": null,
   "id": "c672dca7-cf60-4333-b190-0a6ebd5bc0e7",
   "metadata": {},
   "outputs": [],
   "source": []
  }
 ],
 "metadata": {
  "kernelspec": {
   "display_name": "Python 3 (ipykernel)",
   "language": "python",
   "name": "python3"
  },
  "language_info": {
   "codemirror_mode": {
    "name": "ipython",
    "version": 3
   },
   "file_extension": ".py",
   "mimetype": "text/x-python",
   "name": "python",
   "nbconvert_exporter": "python",
   "pygments_lexer": "ipython3",
   "version": "3.10.8"
  }
 },
 "nbformat": 4,
 "nbformat_minor": 5
}
